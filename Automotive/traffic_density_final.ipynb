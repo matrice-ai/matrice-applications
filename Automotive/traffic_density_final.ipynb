{
 "cells": [
  {
   "cell_type": "code",
   "execution_count": 1,
   "id": "81182ad2-f05e-4d7d-b4f7-0caa16f376fd",
   "metadata": {},
   "outputs": [],
   "source": [
    "import yaml\n",
    "import os\n",
    "\n",
    "class Vars:\n",
    "    _data = {}\n",
    "    _path = None\n",
    "\n",
    "    @classmethod\n",
    "    def initialize(cls, path):\n",
    "        cls._path = path\n",
    "        cls._data = cls.load()\n",
    "\n",
    "    @classmethod\n",
    "    def load(cls):\n",
    "        if cls._path and os.path.exists(cls._path):\n",
    "            with open(cls._path, 'r') as f:\n",
    "                return yaml.safe_load(f)\n",
    "        return {}\n",
    "\n",
    "    @classmethod\n",
    "    def get(cls, key):\n",
    "        if key not in cls._data:\n",
    "            raise KeyError(f\"Variable {key} not found\")\n",
    "        return cls._data[key]\n",
    "\n",
    "    @classmethod\n",
    "    def set(cls, key, value):\n",
    "        cls._data[key] = value\n",
    "        with open(cls._path, 'w') as f:\n",
    "            yaml.safe_dump(cls._data, f, default_flow_style=False)"
   ]
  },
  {
   "cell_type": "code",
   "execution_count": 2,
   "id": "a3da8b0f-26d9-4f03-96f0-f58262f50d06",
   "metadata": {},
   "outputs": [],
   "source": [
    "Vars.initialize('vars.yaml')"
   ]
  },
  {
   "cell_type": "code",
   "execution_count": 3,
   "id": "a1792761-0b03-4717-a473-e1a0e732c849",
   "metadata": {},
   "outputs": [],
   "source": [
    "Vars.set(\"ENV\", \"prod\")\n",
    "Vars.set(\"MATRICE_ACCESS_KEY_ID\", \"CL0F6ORVHBJHATJ047TZ7\")\n",
    "Vars.set(\"MATRICE_SECRET_ACCESS_KEY\", \"XFKI2KM8POMGRVUTXJSPP\")\n",
    "Vars.set(\"MATRICE_ACCOUNT_NUMBER\", \"9782886768719887307619115\")"
   ]
  },
  {
   "cell_type": "code",
   "execution_count": 4,
   "id": "49e9fd60-42d6-4291-93c0-656684e7aaf1",
   "metadata": {},
   "outputs": [],
   "source": [
    "import os\n",
    "os.environ['ENV'] = Vars.get('ENV')\n",
    "access_key = Vars.get('MATRICE_ACCESS_KEY_ID')\n",
    "secret_key = Vars.get('MATRICE_SECRET_ACCESS_KEY')\n",
    "account_number = Vars.get('MATRICE_ACCOUNT_NUMBER')"
   ]
  },
  {
   "cell_type": "code",
   "execution_count": 5,
   "id": "008ddb34-acd2-45ae-b07d-2207a2fc7cf1",
   "metadata": {},
   "outputs": [],
   "source": [
    "from matrice.session import Session\n",
    "from matrice.projects import Projects\n",
    "from matrice.dataset import Dataset\n",
    "from matrice.models import Model\n",
    "from matrice.deployment import Deployment\n",
    "from matrice.exported_model import ExportedModel\n",
    "import sys\n",
    "import os"
   ]
  },
  {
   "cell_type": "code",
   "execution_count": 6,
   "id": "140fbf73-958a-4a04-a6d9-f27d62c0d4d5",
   "metadata": {},
   "outputs": [
    {
     "name": "stdout",
     "output_type": "stream",
     "text": [
      "A Session has been initialized: <matrice.session.Session object at 0x000001B318873850>\n"
     ]
    }
   ],
   "source": [
    "session_instance = Session(account_number=account_number, access_key=access_key, secret_key=secret_key)\n",
    "print(\"A Session has been initialized:\", session_instance)"
   ]
  },
  {
   "cell_type": "code",
   "execution_count": 7,
   "id": "cc592b1b-8852-4688-96b1-e8d738521fc4",
   "metadata": {},
   "outputs": [
    {
     "name": "stdout",
     "output_type": "stream",
     "text": [
      "Message: Projects fetched successfully\n",
      "Project Name: intrusion_fencing | Project ID: 682da07c0a1d0e31e05feb85\n",
      "Project Name: traffic_density | Project ID: 682ad0870a1d0e31e05fdec9\n",
      "Project Name: pothole_segmentation | Project ID: 682c34770a1d0e31e05fe361\n",
      "Project Name: final_theft | Project ID: 68231ab80a1d0e31e05fbded\n",
      "Project Name: liver_tum | Project ID: 682c3e5b0a1d0e31e05fe3af\n",
      "Project Name: field_water_segmentation | Project ID: 6826f0240a1d0e31e05fce17\n",
      "Project Name: Brain_tumor_sef_final | Project ID: 6825a95f0a1d0e31e05fc731\n",
      "Project Name: road_view_seg | Project ID: 6826e9b90a1d0e31e05fcdcf\n",
      "Project Name: kidney_tumor | Project ID: 6825ba920a1d0e31e05fc7a6\n",
      "Project Name: brain tumor segmentation | Project ID: 682556ce0a1d0e31e05fc59d\n"
     ]
    }
   ],
   "source": [
    "projects_list, msg = session_instance.list_projects(project_type=\"detection\")\n",
    "\n",
    "# Check if there is a message or error\n",
    "if msg:\n",
    "    print(f\"Message: {msg}\")\n",
    "\n",
    "# Print the projects in a formatted manner\n",
    "for project_name, project_instance in projects_list.items():\n",
    "    print(f\"Project Name: {project_name} | Project ID: {project_instance.project_id}\") #To fix: ERROR: May return none and give error if proj is empty list"
   ]
  },
  {
   "cell_type": "code",
   "execution_count": 8,
   "id": "036dea44-c315-467b-9ec7-44d89cac13c0",
   "metadata": {},
   "outputs": [
    {
     "name": "stdout",
     "output_type": "stream",
     "text": [
      "Project 'traffic_density' already exists. Initialized Projects instance.\n"
     ]
    }
   ],
   "source": [
    "project_name = \"traffic_density\"\n",
    "for name, project_instance in projects_list.items():\n",
    "    if name == project_name:\n",
    "        projects_instance = Projects(session_instance, project_name=project_name)\n",
    "        session_instance.update(projects_instance.project_id)\n",
    "        print(f\"Project '{project_name}' already exists. Initialized Projects instance.\")\n",
    "        project_exists = True\n",
    "        break\n",
    "    else:\n",
    "        project_exists = False\n",
    "\n",
    "if project_exists == False:\n",
    "    print(f\"Creating a new project: {project_name}\")"
   ]
  },
  {
   "cell_type": "code",
   "execution_count": 9,
   "id": "c97e0103-a9d3-407b-bcb7-bef30ba30811",
   "metadata": {},
   "outputs": [
    {
     "name": "stdout",
     "output_type": "stream",
     "text": [
      "Project already exists with ID: 682ad0870a1d0e31e05fdec9 and Name: traffic_density\n",
      "----------------------------\n",
      "Project ID: 682ad0870a1d0e31e05fdec9\n",
      "Project Name: traffic_density\n",
      "----------------------------\n"
     ]
    }
   ],
   "source": [
    "import pprint\n",
    "\n",
    "name = project_name\n",
    "\n",
    "# Function to create a project\n",
    "def create_project():\n",
    "    project_name = name\n",
    "    input_type = \"image\"\n",
    "    output_type = \"detection\"\n",
    "\n",
    "    enabled_platforms = {\n",
    "        \"matrice\": True,\n",
    "        \"android\": False,\n",
    "        \"ios\": False,\n",
    "        \"tpu\": False,\n",
    "        \"intelCPU\": False,\n",
    "        \"gcloudGPU\": False\n",
    "    }\n",
    "\n",
    "    resp, error = session_instance._create_project(project_name, input_type, output_type)\n",
    "    if error:\n",
    "        print(f\"Error: {error}\")\n",
    "        return None, None\n",
    "    else:\n",
    "        print(f\"Project created with ID: {resp['_id']}\")\n",
    "        return resp['_id'], resp['name']\n",
    "\n",
    "# Check if project_id and project_name exist\n",
    "project_id = None\n",
    "project_name = None\n",
    "\n",
    "if not project_exists:\n",
    "    project_id, project_name = create_project()\n",
    "else:\n",
    "    project_id = projects_instance.project_id\n",
    "    project_name = projects_instance.project_name\n",
    "    print(f\"Project already exists with ID: {project_id} and Name: {project_name}\")\n",
    "\n",
    "\n",
    "print(\"----------------------------\")\n",
    "print(f\"Project ID: {project_id}\")\n",
    "print(f\"Project Name: {project_name}\")\n",
    "print(\"----------------------------\")\n"
   ]
  },
  {
   "cell_type": "code",
   "execution_count": 10,
   "id": "80afa048-4e97-45ee-9ea5-ee5d13b2cb4c",
   "metadata": {},
   "outputs": [],
   "source": [
    "Vars.set(\"project_name\",project_name)\n",
    "Vars.set(\"project_id\", project_id)"
   ]
  },
  {
   "cell_type": "code",
   "execution_count": 11,
   "id": "8ed7a53d-118c-4e9f-8096-420257a1cc02",
   "metadata": {},
   "outputs": [
    {
     "name": "stdout",
     "output_type": "stream",
     "text": [
      "A Project class has been initialized <matrice.projects.Projects object at 0x000001B318872BC0>\n"
     ]
    }
   ],
   "source": [
    "session_instance.update(project_id)\n",
    "project_instance = Projects(session_instance, project_name=project_name)\n",
    "print(\"A Project class has been initialized\",project_instance)"
   ]
  },
  {
   "cell_type": "code",
   "execution_count": 12,
   "id": "6bce8894-9b2a-4b83-a9ec-0c98739ec618",
   "metadata": {},
   "outputs": [],
   "source": [
    "dataset=Dataset(session_instance, dataset_id='682cd0b077c12201804f0b4f')"
   ]
  },
  {
   "cell_type": "code",
   "execution_count": 13,
   "id": "e5b3c4f6-a3bf-40de-8798-1d76cb67b3e7",
   "metadata": {},
   "outputs": [
    {
     "name": "stdout",
     "output_type": "stream",
     "text": [
      "Dataset ID: 682cd0b077c12201804f0b4f\n"
     ]
    }
   ],
   "source": [
    "dataset_id = dataset.dataset_id\n",
    "# action_id = dataset_action.action_id\n",
    "\n",
    "print(f\"Dataset ID: {dataset_id}\")\n",
    "# print(f\"Action ID: {action_id}\")"
   ]
  },
  {
   "cell_type": "code",
   "execution_count": 14,
   "id": "d1799aa8-6af7-47f8-83cd-e8b9f94d36b4",
   "metadata": {},
   "outputs": [],
   "source": [
    "Vars.set(\"dataset_id\", dataset.dataset_id)\n",
    "# Vars.set(\"dataset_action_id\", dataset_action.action_id)"
   ]
  },
  {
   "cell_type": "code",
   "execution_count": 15,
   "id": "47efea90-6bf3-492e-8128-7845d2283446",
   "metadata": {},
   "outputs": [
    {
     "name": "stdout",
     "output_type": "stream",
     "text": [
      "Dataset ID: 682cd0b077c12201804f0b4f\n",
      "Dataset Name: Untitled Dataset 2025-05-21 00:26:21\n",
      "Version Status: processed\n",
      "Latest Version: v1.0\n",
      "Number of Samples: 12451\n",
      "Number of Classes: 6\n",
      "Number of Versions: 1\n",
      "Last Updated At: 2025-05-20T19:04:52.709Z\n"
     ]
    }
   ],
   "source": [
    "def print_dataset_info(dataset):\n",
    "   \n",
    "    dataset_id = dataset.dataset_details['_id']\n",
    "    dataset_name = dataset.dataset_details['name']\n",
    "    version_status = dataset.dataset_details.get(\"stats\", [{}])[0].get(\"versionStatus\")\n",
    "    latest_version = dataset.dataset_details['latestVersion']\n",
    "    no_of_samples = sum(version['versionStats']['total'] for version in dataset.dataset_details.get('stats', []))\n",
    "    no_of_classes = len(dataset.dataset_details.get('stats', [{}])[0].get('classStat', {}))\n",
    "    no_of_versions = len(dataset.dataset_details.get('allVersions', []))\n",
    "    last_updated_at = dataset.dataset_details.get('updatedAt')\n",
    "\n",
    "    print(f\"Dataset ID: {dataset_id}\")\n",
    "    print(f\"Dataset Name: {dataset_name}\")\n",
    "    print(f\"Version Status: {version_status}\")\n",
    "    print(f\"Latest Version: {latest_version}\")\n",
    "    print(f\"Number of Samples: {no_of_samples}\")\n",
    "    print(f\"Number of Classes: {no_of_classes}\")\n",
    "    print(f\"Number of Versions: {no_of_versions}\")\n",
    "    print(f\"Last Updated At: {last_updated_at}\")\n",
    "\n",
    "# dataset.refresh()   \n",
    "print_dataset_info(dataset)"
   ]
  },
  {
   "cell_type": "code",
   "execution_count": 16,
   "id": "cca349e0-a890-4a5d-b247-edfaf7bf98c9",
   "metadata": {},
   "outputs": [
    {
     "name": "stdout",
     "output_type": "stream",
     "text": [
      "----List of available Detection models on platform----\n",
      "ID: 675fea73ab963894d8458c2f, Model Family Name: YOLOv8\n",
      "ID: 6760387eab963894d8458df1, Model Family Name: YOLOv10\n",
      "ID: 6762604ed6db1ef9132e84e8, Model Family Name: D-FINE\n",
      "ID: 676adcc77c6d00452fe89859, Model Family Name: RT-DETR\n",
      "ID: 67c8441e50c1cabe4d0991c3, Model Family Name: YOLOv9\n"
     ]
    }
   ],
   "source": [
    "from matrice.model_store import get_all_model_families \n",
    "\n",
    "resp , error , mesage = get_all_model_families( session_instance , project_id , project_type=\"detection\" )\n",
    "print(\"----List of available Detection models on platform----\")\n",
    "# Iterate through each model family in the response\n",
    "for model_family in resp:\n",
    "    # Extract _id and modelFamily (model family name)\n",
    "    model_family_id = model_family.get('_id')\n",
    "    name = model_family.get('modelFamily')\n",
    "    \n",
    "    # Print in formatted manner\n",
    "    print(f\"ID: {model_family_id}, Model Family Name: {name}\")"
   ]
  },
  {
   "cell_type": "code",
   "execution_count": 17,
   "id": "ee4c9e77-44b1-459b-851b-4613b5fe419b",
   "metadata": {},
   "outputs": [
    {
     "name": "stdout",
     "output_type": "stream",
     "text": [
      "A ModelFamily instance has been initialized <matrice.model_store.ModelFamily object at 0x000001B319BA6CB0>\n"
     ]
    }
   ],
   "source": [
    "from matrice.model_store import ModelFamily\n",
    "\n",
    "model_family_id = \"67c8441e50c1cabe4d0991c3\"\n",
    "# Initialize the ModelFamily instance after choosing a Model Family\n",
    "model_family_instance = ModelFamily(session_instance, model_family_id=model_family_id) # Update with the model family ID of your choice\n",
    "print(\"A ModelFamily instance has been initialized\",model_family_instance)"
   ]
  },
  {
   "cell_type": "code",
   "execution_count": 18,
   "id": "590ed282-f05c-4fe7-b029-db35b900ebad",
   "metadata": {},
   "outputs": [
    {
     "name": "stdout",
     "output_type": "stream",
     "text": [
      "{'yolov9c': <matrice.model_store.ModelArch object at 0x000001B319BA6C50>,\n",
      " 'yolov9e': <matrice.model_store.ModelArch object at 0x000001B319BA52A0>,\n",
      " 'yolov9m': <matrice.model_store.ModelArch object at 0x000001B319BA4B50>,\n",
      " 'yolov9s': <matrice.model_store.ModelArch object at 0x000001B319BA6860>,\n",
      " 'yolov9t': <matrice.model_store.ModelArch object at 0x000001B319BA6020>}\n",
      "ID: 67c8441e50c1cabe4d0991c4 | Model Name: YOLOv9-Tiny | Model Key: yolov9t | Params in Millions: 2\n",
      "ID: 67c8441e50c1cabe4d0991c5 | Model Name: YOLOv9-Small | Model Key: yolov9s | Params in Millions: 7.2\n",
      "ID: 67c8441e50c1cabe4d0991c6 | Model Name: YOLOv9-Medium | Model Key: yolov9m | Params in Millions: 20.1\n",
      "ID: 67c8441e50c1cabe4d0991c7 | Model Name: YOLOv9-Compact | Model Key: yolov9c | Params in Millions: 25.5\n",
      "ID: 67c8441e50c1cabe4d0991c8 | Model Name: YOLOv9-Xtra | Model Key: yolov9e | Params in Millions: 58.1\n"
     ]
    }
   ],
   "source": [
    "# Fetch model architectures\n",
    "import pprint\n",
    "arch_resp, error, message = model_family_instance.get_model_archs()\n",
    "if error:\n",
    "    print(f\"Error: {error}\")\n",
    "else:\n",
    "    pprint.pprint(arch_resp)\n",
    "    # Check if resp is a list or a dictionary\n",
    "    if isinstance(arch_resp, list):\n",
    "        # Iterate through each model info in the list\n",
    "        for model_info in arch_resp:\n",
    "            model_key = model_info[\"model_key\"]\n",
    "            model_arch_instance = model_info[\"model_arch_instance\"]\n",
    "            \n",
    "            # Extract model information\n",
    "            model_info_id = model_arch_instance.model_arch_id\n",
    "            name = model_arch_instance.model_name\n",
    "            key = model_arch_instance.model_key\n",
    "            params = model_arch_instance.params_millions\n",
    "\n",
    "            # Print in formatted manner\n",
    "            print(f\"ID: {model_info_id} |  Model Name: {name} | Model Key: {key} | Params in Millions: {params}\")\n",
    "            \n",
    "    elif isinstance(arch_resp, dict):\n",
    "        # Iterate through each model key in the dictionary\n",
    "        for model_key, model_arch_instance in arch_resp.items():\n",
    "            # Extract model information\n",
    "            model_info_id = model_arch_instance.model_arch_id\n",
    "            name = model_arch_instance.model_name\n",
    "            key = model_arch_instance.model_key\n",
    "            params = model_arch_instance.params_millions\n",
    "\n",
    "            # Print in formatted manner\n",
    "            print(f\"ID: {model_info_id} | Model Name: {name} | Model Key: {key} | Params in Millions: {params}\")"
   ]
  },
  {
   "cell_type": "code",
   "execution_count": 20,
   "id": "d23d9678-8ce5-4e94-8c13-b108774881fc",
   "metadata": {},
   "outputs": [
    {
     "name": "stdout",
     "output_type": "stream",
     "text": [
      "Chosen Training Architecture : yolov9c\n",
      "Model Architecture instance initialized for chosen training architecture : <matrice.model_store.ModelArch object at 0x000001B319BA6C50>\n"
     ]
    }
   ],
   "source": [
    "from matrice.model_store import ModelArch\n",
    "train_arch = 'yolov9c' \n",
    "print(\"Chosen Training Architecture :\" ,train_arch)\n",
    "model_arch_instance = arch_resp.get(train_arch)\n",
    "print(\"Model Architecture instance initialized for chosen training architecture :\", model_arch_instance)"
   ]
  },
  {
   "cell_type": "code",
   "execution_count": 21,
   "id": "3ab9f937-b1f7-44c9-977a-1a26693c3cf1",
   "metadata": {},
   "outputs": [
    {
     "name": "stdout",
     "output_type": "stream",
     "text": [
      "-----Default Train Config------\n",
      "{'action_config': {},\n",
      " 'checkpoint_type': 'predefined',\n",
      " 'is_autoML': False,\n",
      " 'model_arch_id': '67c8441e50c1cabe4d0991c7',\n",
      " 'model_checkpoint': 'auto',\n",
      " 'model_config': {'batch_size': [16],\n",
      "                  'cos_lr': [False],\n",
      "                  'epochs': [50],\n",
      "                  'learning_rate': [0.001],\n",
      "                  'momentum': [0.95],\n",
      "                  'optimizer': ['auto'],\n",
      "                  'weight_decay': [0.0005]},\n",
      " 'model_family_name': 'YOLOv9',\n",
      " 'model_inputs': ['image'],\n",
      " 'model_key': 'yolov9c',\n",
      " 'model_name': 'YOLOv9-Compact',\n",
      " 'model_outputs': ['detection'],\n",
      " 'params_millions': 25.5,\n",
      " 'tuning_type': 'default'}\n",
      "--------------------------------\n",
      "-------Training instance initialized--------\n"
     ]
    }
   ],
   "source": [
    "import pprint\n",
    "train_config = model_arch_instance.get_train_config()\n",
    "print(\"-----Default Train Config------\")\n",
    "pprint.pprint(train_config)\n",
    "print(\"--------------------------------\")\n",
    "print(\"-------Training instance initialized--------\")\n",
    "# print(train_instance)"
   ]
  },
  {
   "cell_type": "code",
   "execution_count": null,
   "id": "d69dffda-b4da-42ec-9869-15c07fd7d355",
   "metadata": {},
   "outputs": [],
   "source": [
    "model_config = train_config['model_config']\n",
    "\n",
    "# Modify the model_config as needed\n",
    "# modifications:\n",
    "model_config['batch_size'] = [4]\n",
    "model_config['epochs'] = [70]  #These are hyper-parameters and can be changed\n",
    "model_config['learning_rate'] = [0.0001]\n",
    "model_config['momentum'] = [0.99]\n",
    "model_config['weight_decay'] = [0.0005]\n",
    "model_config['optimizer']=['AdamW']\n",
    "model_config['cos_lr']=[True]\n",
    "'optimizer'\n",
    "\n",
    "\n",
    "# Repass the modified model_config into the train_config\n",
    "train_config['model_config'] = model_config\n",
    "\n",
    "# Print the updated train_config\n",
    "print(\"-----Updated Model Config------\")\n",
    "pprint.pprint(train_config['model_config'])\n",
    "print(\"--------------------------------\")\n",
    "\n",
    "# Print the updated train_config\n",
    "print(\"-----Updated Train Config------\")\n",
    "pprint.pprint(train_config)\n",
    "print(\"--------------------------------\")"
   ]
  },
  {
   "cell_type": "code",
   "execution_count": null,
   "id": "b3b08543-48bf-4b31-820c-47b6c41c5c25",
   "metadata": {},
   "outputs": [],
   "source": [
    "train_resp, msg, err = project_instance.add_models_for_training(\n",
    "    train_config,\n",
    "    primary_metric='precision',   # or use 'IoU'\n",
    "    dataset_id=dataset.dataset_id,\n",
    "    dataset_name=dataset.dataset_name,\n",
    ")\n",
    "print(\"------------Model added for training----------\")\n",
    "pprint.pprint(train_resp)"
   ]
  },
  {
   "cell_type": "code",
   "execution_count": null,
   "id": "4d83077c-bc9f-4dc6-84d3-293c8eec62c7",
   "metadata": {},
   "outputs": [],
   "source": [
    "import time\n",
    "from matrice.action import Action\n",
    "\n",
    "# Define the action ID and the status you want to check\n",
    "action_id = train_resp[0]['_idActionStatus']\n",
    "success_status = 'SUCCESS'\n",
    "error_status = 'ERROR'  # Add more statuses if needed\n",
    "\n",
    "# Function to check the status of the action\n",
    "def check_action_status(S, action_id):\n",
    "    action_instance = Action(S, action_id)\n",
    "    print(\"---------------------\")\n",
    "    print(f\"Action ID       : {action_id}\")\n",
    "    print(f\"Current Status  : {action_instance.status}\")\n",
    "    print(f\"Step Code       : {action_instance.step_code}\")\n",
    "    print(f\"Service Name    : {action_instance.service_name}\")\n",
    "    print(\"---------------------\")\n",
    "    return action_instance.status\n",
    "\n",
    "# Loop to check status every few minutes until success or error\n",
    "while True:\n",
    "    status = check_action_status(session_instance, action_id)\n",
    "    \n",
    "    if status == success_status:\n",
    "        print(\"✅ Action status is 'SUCCESS'. Model is successfully trained.\")\n",
    "        break\n",
    "    elif status == error_status:\n",
    "        print(\"❌ Action status is 'ERROR'. Stopping monitoring.\")\n",
    "        break\n",
    "    else:\n",
    "        print(\"⏳ Model is still training. Waiting 10 minutes before checking again.\")\n",
    "        time.sleep(200)  # Wait for 3 minutes"
   ]
  },
  {
   "cell_type": "code",
   "execution_count": null,
   "id": "e2c7c269-96bf-4147-a8d2-200adb5f9209",
   "metadata": {},
   "outputs": [],
   "source": [
    "#model_id = train_resp[0]['_id']\n",
    "#print(f\"Model ID from response data: {model_id}\")\n",
    "model_id = \n",
    "\n",
    "# Initialize the Model class with the model_id\n",
    "model_instance = Model(session_instance, model_id)\n",
    "print(\"A Model instance has been initialized : \", model_instance)"
   ]
  }
 ],
 "metadata": {
  "kernelspec": {
   "display_name": "Python 3 (ipykernel)",
   "language": "python",
   "name": "python3"
  },
  "language_info": {
   "codemirror_mode": {
    "name": "ipython",
    "version": 3
   },
   "file_extension": ".py",
   "mimetype": "text/x-python",
   "name": "python",
   "nbconvert_exporter": "python",
   "pygments_lexer": "ipython3",
   "version": "3.10.11"
  }
 },
 "nbformat": 4,
 "nbformat_minor": 5
}

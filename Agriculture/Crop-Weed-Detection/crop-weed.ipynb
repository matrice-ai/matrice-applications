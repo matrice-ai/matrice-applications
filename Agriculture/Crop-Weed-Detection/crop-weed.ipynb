{
 "cells": [
  {
   "cell_type": "code",
   "execution_count": 1,
   "metadata": {},
   "outputs": [
    {
     "name": "stdout",
     "output_type": "stream",
     "text": [
      "Requirement already satisfied: matrice in c:\\users\\pathi\\anaconda3\\lib\\site-packages (1.0.3)\n",
      "Requirement already satisfied: requests in c:\\users\\pathi\\anaconda3\\lib\\site-packages (from matrice) (2.32.3)\n",
      "Requirement already satisfied: charset-normalizer<4,>=2 in c:\\users\\pathi\\anaconda3\\lib\\site-packages (from requests->matrice) (3.3.2)\n",
      "Requirement already satisfied: idna<4,>=2.5 in c:\\users\\pathi\\anaconda3\\lib\\site-packages (from requests->matrice) (3.7)\n",
      "Requirement already satisfied: urllib3<3,>=1.21.1 in c:\\users\\pathi\\anaconda3\\lib\\site-packages (from requests->matrice) (2.2.2)\n",
      "Requirement already satisfied: certifi>=2017.4.17 in c:\\users\\pathi\\anaconda3\\lib\\site-packages (from requests->matrice) (2024.8.30)\n"
     ]
    }
   ],
   "source": [
    "!python -m pip install --upgrade matrice"
   ]
  },
  {
   "cell_type": "code",
   "execution_count": 2,
   "metadata": {},
   "outputs": [],
   "source": [
    "import yaml\n",
    "import os\n",
    "\n",
    "class Vars:\n",
    "    _data = {}\n",
    "    _path = None\n",
    "\n",
    "    @classmethod\n",
    "    def initialize(cls, path):\n",
    "        cls._path = path\n",
    "        cls._data = cls.load()\n",
    "\n",
    "    @classmethod\n",
    "    def load(cls):\n",
    "        if cls._path and os.path.exists(cls._path):\n",
    "            with open(cls._path, 'r') as f:\n",
    "                return yaml.safe_load(f)\n",
    "        return {}\n",
    "\n",
    "    @classmethod\n",
    "    def get(cls, key):\n",
    "        if key not in cls._data:\n",
    "            raise KeyError(f\"Variable {key} not found\")\n",
    "        return cls._data[key]\n",
    "\n",
    "    @classmethod\n",
    "    def set(cls, key, value):\n",
    "        cls._data[key] = value\n",
    "        with open(cls._path, 'w') as f:\n",
    "            yaml.safe_dump(cls._data, f, default_flow_style=False)\n"
   ]
  },
  {
   "cell_type": "code",
   "execution_count": 3,
   "metadata": {},
   "outputs": [],
   "source": [
    "Vars.initialize('vars.yaml')"
   ]
  },
  {
   "cell_type": "code",
   "execution_count": null,
   "metadata": {},
   "outputs": [],
   "source": [
    "Vars.set(\"ENV\", \"dev\")\n",
    "Vars.set(\"MATRICE_ACCESS_KEY_ID\", \"IDAZ************MQO6\")\n",
    "Vars.set(\"MATRICE_SECRET_ACCESS_KEY\", \"52VR************ZY5N8\")\n",
    "Vars.set(\"MATRICE_ACCOUNT_NUMBER\", \"227684************7135\")"
   ]
  },
  {
   "cell_type": "code",
   "execution_count": 5,
   "metadata": {},
   "outputs": [],
   "source": [
    "import os\n",
    "os.environ['ENV'] = Vars.get('ENV')\n",
    "access_key = Vars.get('MATRICE_ACCESS_KEY_ID')\n",
    "secret_key = Vars.get('MATRICE_SECRET_ACCESS_KEY')\n",
    "account_number = Vars.get('MATRICE_ACCOUNT_NUMBER')"
   ]
  },
  {
   "cell_type": "code",
   "execution_count": 6,
   "metadata": {},
   "outputs": [],
   "source": [
    "from matrice.session import Session\n",
    "from matrice.projects import Projects\n",
    "from matrice.dataset import Dataset\n",
    "from matrice.models import Model\n",
    "from matrice.deployment import Deployment\n",
    "from matrice.exported_model import ExportedModel\n",
    "import sys\n",
    "import os"
   ]
  },
  {
   "cell_type": "code",
   "execution_count": 7,
   "metadata": {},
   "outputs": [
    {
     "name": "stdout",
     "output_type": "stream",
     "text": [
      "A Session has been initialized: <matrice.session.Session object at 0x0000015C5E4D3950>\n"
     ]
    }
   ],
   "source": [
    "S = Session.create_session(account_number=account_number, access_key=access_key, secret_key=secret_key)\n",
    "print(\"A Session has been initialized:\", S)"
   ]
  },
  {
   "cell_type": "code",
   "execution_count": 8,
   "metadata": {},
   "outputs": [
    {
     "name": "stdout",
     "output_type": "stream",
     "text": [
      "Message: Projects fetched successfully\n",
      "Project Name: Drone-Windmill-Maintainence | Project ID: 672251b73f122d1d31ac85df\n",
      "Project Name: Test-Project-1 | Project ID: 67221278e444a8664263f806\n",
      "Project Name: test-det | Project ID: 671f7af124f52600d8b27df2\n",
      "Project Name: Drone Detection Use Case 1 | Project ID: 66c6fa777668fd51f7b98c74\n",
      "Project Name: Crop Detection Use Case Final-4 | Project ID: 66c5cffd2dca8efe8f2562ec\n",
      "Project Name: instance_segmentation | Project ID: 66a08a0ea6b455cdb12a5d59\n",
      "Project Name: Demo1 | Project ID: 668b2bac4f0265d79523f23d\n",
      "Project Name: kaggle_demo | Project ID: 66416ab972f6cd7a92435408\n"
     ]
    }
   ],
   "source": [
    "projects_list, msg = S.list_projects(project_type=\"detection\")\n",
    "\n",
    "# Check if there is a message or error\n",
    "if msg:\n",
    "    print(f\"Message: {msg}\")\n",
    "\n",
    "# Print the projects in a formatted manner\n",
    "for project_name, project_instance in projects_list.items():\n",
    "    print(f\"Project Name: {project_name} | Project ID: {project_instance.project_id}\")"
   ]
  },
  {
   "cell_type": "code",
   "execution_count": 9,
   "metadata": {},
   "outputs": [
    {
     "name": "stdout",
     "output_type": "stream",
     "text": [
      "Project created with ID: 6728bd804e370c5e10793517\n",
      "----------------------------\n",
      "Project ID: 6728bd804e370c5e10793517\n",
      "Project Name: Crop-Weed-Detection\n",
      "----------------------------\n"
     ]
    }
   ],
   "source": [
    "import pprint\n",
    "\n",
    "# Function to create a project\n",
    "def create_project():\n",
    "    project_name = \"Crop-Weed-Detection\"\n",
    "    input_type = \"image\"\n",
    "    output_type = \"detection\"\n",
    "    \n",
    "    enabled_platforms = {\n",
    "        \"matrice\": True,\n",
    "        \"android\": False,\n",
    "        \"ios\": False,\n",
    "        \"tpu\": False,\n",
    "        \"intelCPU\": False,\n",
    "        \"gcloudGPU\": False\n",
    "    }\n",
    "\n",
    "    resp, error = S._create_project(project_name, input_type, output_type)\n",
    "    if error:\n",
    "        print(f\"Error: {error}\")\n",
    "        return None, None\n",
    "    else:\n",
    "        print(f\"Project created with ID: {resp['_id']}\")\n",
    "        return resp['_id'], resp['name']\n",
    "\n",
    "# Check if project_id and project_name exist\n",
    "project_id = None\n",
    "project_name = None\n",
    "\n",
    "project_id, project_name = create_project()\n",
    "\n",
    "print(\"----------------------------\")\n",
    "print(f\"Project ID: {project_id}\")\n",
    "print(f\"Project Name: {project_name}\")\n",
    "print(\"----------------------------\")\n"
   ]
  },
  {
   "cell_type": "code",
   "execution_count": 10,
   "metadata": {},
   "outputs": [],
   "source": [
    "Vars.set(\"project_name\",project_name)\n",
    "Vars.set(\"project_id\", project_id)"
   ]
  },
  {
   "cell_type": "code",
   "execution_count": 11,
   "metadata": {},
   "outputs": [
    {
     "name": "stdout",
     "output_type": "stream",
     "text": [
      "A Project class has been initialized <matrice.projects.Projects object at 0x0000015C59E2F010>\n"
     ]
    }
   ],
   "source": [
    "S.update(project_id)\n",
    "P = Projects(S, project_name=project_name)\n",
    "print(\"A Project class has been initialized\",P)"
   ]
  },
  {
   "cell_type": "code",
   "execution_count": 12,
   "metadata": {},
   "outputs": [],
   "source": [
    "import os\n",
    "import json\n",
    "import cv2\n",
    "import shutil\n",
    "from tqdm import tqdm\n",
    "\n",
    "def convert_yolo_to_coco(dataset_dir, output_dir, class_names):\n",
    "    # Prepare directories for the COCO dataset structure\n",
    "    os.makedirs(os.path.join(output_dir, 'images/train'), exist_ok=True)\n",
    "    os.makedirs(os.path.join(output_dir, 'images/test'), exist_ok=True)\n",
    "    os.makedirs(os.path.join(output_dir, 'images/val'), exist_ok=True)\n",
    "    os.makedirs(os.path.join(output_dir, 'annotations'), exist_ok=True)\n",
    "    \n",
    "    # Define dataset parts\n",
    "    parts = ['train', 'test', 'val']\n",
    "    \n",
    "    annotation_id = 1\n",
    "    \n",
    "    # Iterate over each part (train, test, val)\n",
    "    for part in parts:\n",
    "        yolo_images_dir = os.path.join(dataset_dir, part, 'images')\n",
    "        yolo_labels_dir = os.path.join(dataset_dir, part, 'labels')\n",
    "        coco_json = {\n",
    "            \"images\": [],\n",
    "            \"annotations\": [],\n",
    "            \"categories\": []\n",
    "        }\n",
    "        \n",
    "        class_ids = set()\n",
    "\n",
    "        # Process images and annotations\n",
    "        for filename in tqdm(os.listdir(yolo_labels_dir)):\n",
    "            if filename.endswith(\".txt\"):\n",
    "                image_id = filename[:-4]  # Remove the '.txt' extension to get the full image_id\n",
    "                \n",
    "                # Construct the image path using the full image_id\n",
    "                image_path = os.path.join(yolo_images_dir, f\"{image_id}.jpg\")\n",
    "                try:\n",
    "                    # Check if the corresponding image exists\n",
    "                    if not os.path.exists(image_path):\n",
    "                        print(f\"Warning: Image file {image_path} not found, skipping.\")\n",
    "                        continue\n",
    "                    \n",
    "                    # Open the image to get its dimensions\n",
    "                    img = cv2.imread(image_path)\n",
    "                    height, width, _ = img.shape\n",
    "                    \n",
    "                    # Copy image to COCO images directory\n",
    "                    shutil.copy(image_path, os.path.join(output_dir, f'images/{part}/{image_id}.jpg'))\n",
    "                    \n",
    "                    # Add image information to COCO format\n",
    "                    coco_json[\"images\"].append({\n",
    "                        \"id\": image_id,\n",
    "                        \"file_name\": f\"{image_id}.jpg\",\n",
    "                        \"width\": width,\n",
    "                        \"height\": height\n",
    "                    })\n",
    "                    \n",
    "                    # Read YOLO annotations\n",
    "                    with open(os.path.join(yolo_labels_dir, filename), 'r') as f:\n",
    "                        for line in f.readlines():\n",
    "                            class_id, x_center, y_center, box_width, box_height = map(float, line.split())\n",
    "                            \n",
    "                            # Convert YOLO format to COCO format\n",
    "                            x_min = int((x_center - box_width / 2) * width)\n",
    "                            y_min = int((y_center - box_height / 2) * height)\n",
    "                            box_width = int(box_width * width)\n",
    "                            box_height = int(box_height * height)\n",
    "                            \n",
    "                            # Adjust class_id to start from 1 instead of 0\n",
    "                            coco_class_id = int(class_id) + 1\n",
    "                            \n",
    "                            # Add annotation to COCO format\n",
    "                            coco_json[\"annotations\"].append({\n",
    "                                \"id\": annotation_id,\n",
    "                                \"image_id\": image_id,\n",
    "                                \"category_id\": coco_class_id,\n",
    "                                \"bbox\": [x_min, y_min, box_width, box_height],\n",
    "                                \"area\": box_width * box_height,\n",
    "                                \"iscrowd\": 0\n",
    "                            })\n",
    "                            \n",
    "                            annotation_id += 1\n",
    "                            class_ids.add(coco_class_id)\n",
    "                            \n",
    "                except FileNotFoundError as e:\n",
    "                    print(f\"Warning: {e}. Skipping this file and moving on to the next.\")\n",
    "                    continue\n",
    "                \n",
    "                except Exception as e:\n",
    "                    print(f\"Warning: An unexpected error occurred: {e}. Skipping this file and moving on to the next.\")\n",
    "                    continue\n",
    "                \n",
    "        # Add categories to COCO format\n",
    "        for class_id in sorted(class_ids):\n",
    "            coco_json[\"categories\"].append({\n",
    "                \"id\": class_id,\n",
    "                \"name\": class_names[class_id - 1],  # class_names is a list of class names indexed from 0\n",
    "                \"supercategory\": \"object\"\n",
    "            })\n",
    "        \n",
    "        # Save the COCO formatted annotations to a JSON file\n",
    "        output_json = os.path.join(output_dir, f'annotations/{part}.json')\n",
    "        with open(output_json, 'w') as f:\n",
    "            json.dump(coco_json, f, indent=4)\n",
    "        \n",
    "        print(f\"Conversion completed for {part}! COCO format saved to {output_json}\")\n",
    "\n",
    "\n"
   ]
  },
  {
   "cell_type": "code",
   "execution_count": 13,
   "metadata": {},
   "outputs": [
    {
     "name": "stderr",
     "output_type": "stream",
     "text": [
      "100%|██████████| 2469/2469 [01:32<00:00, 26.79it/s]\n"
     ]
    },
    {
     "name": "stdout",
     "output_type": "stream",
     "text": [
      "Conversion completed for train! COCO format saved to C:\\Users\\pathi\\OneDrive\\Desktop\\matriceai\\matrice_usecases_local\\datasets\\WeedCrop_mscoco\\annotations/train.json\n"
     ]
    },
    {
     "name": "stderr",
     "output_type": "stream",
     "text": [
      "100%|██████████| 118/118 [00:04<00:00, 25.04it/s]\n"
     ]
    },
    {
     "name": "stdout",
     "output_type": "stream",
     "text": [
      "Conversion completed for test! COCO format saved to C:\\Users\\pathi\\OneDrive\\Desktop\\matriceai\\matrice_usecases_local\\datasets\\WeedCrop_mscoco\\annotations/test.json\n"
     ]
    },
    {
     "name": "stderr",
     "output_type": "stream",
     "text": [
      "100%|██████████| 235/235 [00:08<00:00, 26.78it/s]"
     ]
    },
    {
     "name": "stdout",
     "output_type": "stream",
     "text": [
      "Conversion completed for val! COCO format saved to C:\\Users\\pathi\\OneDrive\\Desktop\\matriceai\\matrice_usecases_local\\datasets\\WeedCrop_mscoco\\annotations/val.json\n"
     ]
    },
    {
     "name": "stderr",
     "output_type": "stream",
     "text": [
      "\n"
     ]
    }
   ],
   "source": [
    "import os\n",
    "\n",
    "# Example usage:\n",
    "dataset_dir = r\"C:\\Users\\pathi\\OneDrive\\Desktop\\matriceai\\matrice_usecases_local\\datasets\\WeedCrop\"\n",
    "output_dir = r\"C:\\Users\\pathi\\OneDrive\\Desktop\\matriceai\\matrice_usecases_local\\datasets\\WeedCrop_mscoco\"\n",
    "class_names = ['crop', 'weed'] \n",
    "\n",
    "def convert_yolo_to_coco_safe(dataset_dir, output_dir, class_names):\n",
    "    try:\n",
    "        convert_yolo_to_coco(dataset_dir, output_dir, class_names)\n",
    "    except FileNotFoundError as e:\n",
    "        print(f\"Warning: {e}. Skipping this file and moving on to the next.\")\n",
    "        \n",
    "    \n",
    "convert_yolo_to_coco_safe(dataset_dir, output_dir, class_names)"
   ]
  },
  {
   "cell_type": "code",
   "execution_count": 14,
   "metadata": {},
   "outputs": [
    {
     "name": "stdout",
     "output_type": "stream",
     "text": [
      "Output directory C:\\Users\\pathi\\OneDrive\\Desktop\\matriceai\\matrice_usecases_local\\datasets\\WeedCrop_mscoco has been zipped into C:\\Users\\pathi\\OneDrive\\Desktop\\matriceai\\matrice_usecases_local\\datasets\\WeedCrop_mscoco.zip\n"
     ]
    }
   ],
   "source": [
    "import shutil\n",
    "\n",
    "# Define the name of the zip file\n",
    "zip_file_name = output_dir + '.zip'\n",
    "\n",
    "# Create a zip file\n",
    "shutil.make_archive(output_dir, 'zip', output_dir)\n",
    "\n",
    "print(f\"Output directory {output_dir} has been zipped into {zip_file_name}\")"
   ]
  },
  {
   "cell_type": "code",
   "execution_count": 15,
   "metadata": {},
   "outputs": [
    {
     "name": "stdout",
     "output_type": "stream",
     "text": [
      "C:\\Users\\pathi\\OneDrive\\Desktop\\matriceai\\matrice_usecases_local\\datasets\\WeedCrop_mscoco.zip\n"
     ]
    }
   ],
   "source": [
    "print(zip_file_name)"
   ]
  },
  {
   "cell_type": "code",
   "execution_count": 21,
   "metadata": {},
   "outputs": [],
   "source": [
    "dataset, dataset_action = P.import_local_dataset(\n",
    "    dataset_name='Crop-Weed-Detection-Dataset-1',\n",
    "    file_path = r\"C:\\Users\\pathi\\OneDrive\\Desktop\\matriceai\\matrice_usecases_local\\datasets\\WeedCrop_mscoco.zip\",\n",
    "    dataset_type = \"detection\",\n",
    "    dataset_description = \"uploading dataset for Crop-Weed-Detection\",\n",
    "    version_description = \"1st version\",\n",
    "    input_type = \"image\"\n",
    ")\n"
   ]
  },
  {
   "cell_type": "code",
   "execution_count": 22,
   "metadata": {},
   "outputs": [
    {
     "name": "stdout",
     "output_type": "stream",
     "text": [
      "Dataset ID: 6728cacb0623cf13c1a4574b\n",
      "Action ID: 6728cacb1478c8033c877535\n"
     ]
    }
   ],
   "source": [
    "dataset_id = dataset.dataset_id\n",
    "action_id = dataset_action.action_id\n",
    "\n",
    "print(f\"Dataset ID: {dataset_id}\")\n",
    "print(f\"Action ID: {action_id}\")"
   ]
  },
  {
   "cell_type": "code",
   "execution_count": 23,
   "metadata": {},
   "outputs": [],
   "source": [
    "Vars.set(\"dataset_id\", dataset.dataset_id)\n",
    "Vars.set(\"dataset_action_id\", dataset_action.action_id)"
   ]
  },
  {
   "cell_type": "code",
   "execution_count": 24,
   "metadata": {},
   "outputs": [
    {
     "name": "stdout",
     "output_type": "stream",
     "text": [
      " \n",
      "-------Status------\n",
      "Status of dataset: queued\n",
      "-------------------\n",
      " \n",
      "-------Status------\n",
      "Status of dataset: queued\n",
      "-------------------\n",
      " \n",
      "-------Status------\n",
      "Status of dataset: processing\n",
      "-------------------\n",
      " \n",
      "-------Status------\n",
      "Status of dataset: processing\n",
      "-------------------\n",
      " \n",
      "-------Status------\n",
      "Status of dataset: processing\n",
      "-------------------\n",
      " \n",
      "-------Status------\n",
      "Status of dataset: processing\n",
      "-------------------\n",
      " \n",
      "-------Status------\n",
      "Status of dataset: processing\n",
      "-------------------\n",
      " \n",
      "-------Status------\n",
      "Status of dataset: processed\n",
      "-------------------\n",
      "---------Preprocesing Complete---------\n",
      "Dataset processed, proceed with experiment creation.\n",
      "---------------------------------------\n"
     ]
    }
   ],
   "source": [
    "import time\n",
    "import pprint\n",
    "\n",
    "action_id = dataset_action.action_id\n",
    "def check_dataset_status():\n",
    "    while True:\n",
    "        print(\" \")\n",
    "        print(\"-------Status------\")\n",
    "        D = Dataset(S, dataset_id=dataset_id)\n",
    "        status = D.version_status\n",
    "        print(\"Status of dataset:\", status)\n",
    "        print(\"-------------------\")\n",
    "        if status == 'processed':\n",
    "            print(\"---------Preprocesing Complete---------\")\n",
    "            print(\"Dataset processed, proceed with experiment creation.\")\n",
    "            print(\"---------------------------------------\")\n",
    "            break\n",
    "        \n",
    "        time.sleep(90)  # Wait for 90 seconds before checking again\n",
    "\n",
    "# Run the function to check dataset status\n",
    "check_dataset_status()\n"
   ]
  },
  {
   "cell_type": "code",
   "execution_count": 25,
   "metadata": {},
   "outputs": [
    {
     "name": "stdout",
     "output_type": "stream",
     "text": [
      "Dataset ID: 6728cacb0623cf13c1a4574b\n",
      "Dataset Name: Crop-Weed-Detection-Dataset-1\n",
      "Version Status: processed\n",
      "Latest Version: v1.0\n",
      "Number of Samples: 2822\n",
      "Number of Classes: 2\n",
      "Number of Versions: 1\n",
      "Last Updated At: 2024-11-04T13:35:01.784Z\n"
     ]
    }
   ],
   "source": [
    "def print_dataset_info(dataset):\n",
    "   \n",
    "    dataset_id = dataset.dataset_details['_id']\n",
    "    dataset_name = dataset.dataset_details['name']\n",
    "    version_status = dataset.dataset_details.get(\"stats\", [{}])[0].get(\"versionStatus\")\n",
    "    latest_version = dataset.dataset_details['latestVersion']\n",
    "    no_of_samples = sum(version['versionStats']['total'] for version in dataset.dataset_details.get('stats', []))\n",
    "    no_of_classes = len(dataset.dataset_details.get('stats', [{}])[0].get('classStat', {}))\n",
    "    no_of_versions = len(dataset.dataset_details.get('allVersions', []))\n",
    "    last_updated_at = dataset.dataset_details.get('updatedAt')\n",
    "\n",
    "    print(f\"Dataset ID: {dataset_id}\")\n",
    "    print(f\"Dataset Name: {dataset_name}\")\n",
    "    print(f\"Version Status: {version_status}\")\n",
    "    print(f\"Latest Version: {latest_version}\")\n",
    "    print(f\"Number of Samples: {no_of_samples}\")\n",
    "    print(f\"Number of Classes: {no_of_classes}\")\n",
    "    print(f\"Number of Versions: {no_of_versions}\")\n",
    "    print(f\"Last Updated At: {last_updated_at}\")\n",
    "\n",
    "dataset.refresh()   \n",
    "print_dataset_info(dataset)"
   ]
  },
  {
   "cell_type": "code",
   "execution_count": 26,
   "metadata": {},
   "outputs": [],
   "source": [
    "import pprint\n",
    "dataset_summary = dataset.summary"
   ]
  },
  {
   "cell_type": "code",
   "execution_count": 27,
   "metadata": {},
   "outputs": [
    {
     "data": {
      "application/vnd.plotly.v1+json": {
       "config": {
        "plotlyServerURL": "https://plot.ly"
       },
       "data": [
        {
         "type": "bar",
         "x": [
          "weed",
          "crop"
         ],
         "y": [
          14025,
          894
         ]
        }
       ],
       "layout": {
        "template": {
         "data": {
          "bar": [
           {
            "error_x": {
             "color": "#2a3f5f"
            },
            "error_y": {
             "color": "#2a3f5f"
            },
            "marker": {
             "line": {
              "color": "#E5ECF6",
              "width": 0.5
             },
             "pattern": {
              "fillmode": "overlay",
              "size": 10,
              "solidity": 0.2
             }
            },
            "type": "bar"
           }
          ],
          "barpolar": [
           {
            "marker": {
             "line": {
              "color": "#E5ECF6",
              "width": 0.5
             },
             "pattern": {
              "fillmode": "overlay",
              "size": 10,
              "solidity": 0.2
             }
            },
            "type": "barpolar"
           }
          ],
          "carpet": [
           {
            "aaxis": {
             "endlinecolor": "#2a3f5f",
             "gridcolor": "white",
             "linecolor": "white",
             "minorgridcolor": "white",
             "startlinecolor": "#2a3f5f"
            },
            "baxis": {
             "endlinecolor": "#2a3f5f",
             "gridcolor": "white",
             "linecolor": "white",
             "minorgridcolor": "white",
             "startlinecolor": "#2a3f5f"
            },
            "type": "carpet"
           }
          ],
          "choropleth": [
           {
            "colorbar": {
             "outlinewidth": 0,
             "ticks": ""
            },
            "type": "choropleth"
           }
          ],
          "contour": [
           {
            "colorbar": {
             "outlinewidth": 0,
             "ticks": ""
            },
            "colorscale": [
             [
              0,
              "#0d0887"
             ],
             [
              0.1111111111111111,
              "#46039f"
             ],
             [
              0.2222222222222222,
              "#7201a8"
             ],
             [
              0.3333333333333333,
              "#9c179e"
             ],
             [
              0.4444444444444444,
              "#bd3786"
             ],
             [
              0.5555555555555556,
              "#d8576b"
             ],
             [
              0.6666666666666666,
              "#ed7953"
             ],
             [
              0.7777777777777778,
              "#fb9f3a"
             ],
             [
              0.8888888888888888,
              "#fdca26"
             ],
             [
              1,
              "#f0f921"
             ]
            ],
            "type": "contour"
           }
          ],
          "contourcarpet": [
           {
            "colorbar": {
             "outlinewidth": 0,
             "ticks": ""
            },
            "type": "contourcarpet"
           }
          ],
          "heatmap": [
           {
            "colorbar": {
             "outlinewidth": 0,
             "ticks": ""
            },
            "colorscale": [
             [
              0,
              "#0d0887"
             ],
             [
              0.1111111111111111,
              "#46039f"
             ],
             [
              0.2222222222222222,
              "#7201a8"
             ],
             [
              0.3333333333333333,
              "#9c179e"
             ],
             [
              0.4444444444444444,
              "#bd3786"
             ],
             [
              0.5555555555555556,
              "#d8576b"
             ],
             [
              0.6666666666666666,
              "#ed7953"
             ],
             [
              0.7777777777777778,
              "#fb9f3a"
             ],
             [
              0.8888888888888888,
              "#fdca26"
             ],
             [
              1,
              "#f0f921"
             ]
            ],
            "type": "heatmap"
           }
          ],
          "heatmapgl": [
           {
            "colorbar": {
             "outlinewidth": 0,
             "ticks": ""
            },
            "colorscale": [
             [
              0,
              "#0d0887"
             ],
             [
              0.1111111111111111,
              "#46039f"
             ],
             [
              0.2222222222222222,
              "#7201a8"
             ],
             [
              0.3333333333333333,
              "#9c179e"
             ],
             [
              0.4444444444444444,
              "#bd3786"
             ],
             [
              0.5555555555555556,
              "#d8576b"
             ],
             [
              0.6666666666666666,
              "#ed7953"
             ],
             [
              0.7777777777777778,
              "#fb9f3a"
             ],
             [
              0.8888888888888888,
              "#fdca26"
             ],
             [
              1,
              "#f0f921"
             ]
            ],
            "type": "heatmapgl"
           }
          ],
          "histogram": [
           {
            "marker": {
             "pattern": {
              "fillmode": "overlay",
              "size": 10,
              "solidity": 0.2
             }
            },
            "type": "histogram"
           }
          ],
          "histogram2d": [
           {
            "colorbar": {
             "outlinewidth": 0,
             "ticks": ""
            },
            "colorscale": [
             [
              0,
              "#0d0887"
             ],
             [
              0.1111111111111111,
              "#46039f"
             ],
             [
              0.2222222222222222,
              "#7201a8"
             ],
             [
              0.3333333333333333,
              "#9c179e"
             ],
             [
              0.4444444444444444,
              "#bd3786"
             ],
             [
              0.5555555555555556,
              "#d8576b"
             ],
             [
              0.6666666666666666,
              "#ed7953"
             ],
             [
              0.7777777777777778,
              "#fb9f3a"
             ],
             [
              0.8888888888888888,
              "#fdca26"
             ],
             [
              1,
              "#f0f921"
             ]
            ],
            "type": "histogram2d"
           }
          ],
          "histogram2dcontour": [
           {
            "colorbar": {
             "outlinewidth": 0,
             "ticks": ""
            },
            "colorscale": [
             [
              0,
              "#0d0887"
             ],
             [
              0.1111111111111111,
              "#46039f"
             ],
             [
              0.2222222222222222,
              "#7201a8"
             ],
             [
              0.3333333333333333,
              "#9c179e"
             ],
             [
              0.4444444444444444,
              "#bd3786"
             ],
             [
              0.5555555555555556,
              "#d8576b"
             ],
             [
              0.6666666666666666,
              "#ed7953"
             ],
             [
              0.7777777777777778,
              "#fb9f3a"
             ],
             [
              0.8888888888888888,
              "#fdca26"
             ],
             [
              1,
              "#f0f921"
             ]
            ],
            "type": "histogram2dcontour"
           }
          ],
          "mesh3d": [
           {
            "colorbar": {
             "outlinewidth": 0,
             "ticks": ""
            },
            "type": "mesh3d"
           }
          ],
          "parcoords": [
           {
            "line": {
             "colorbar": {
              "outlinewidth": 0,
              "ticks": ""
             }
            },
            "type": "parcoords"
           }
          ],
          "pie": [
           {
            "automargin": true,
            "type": "pie"
           }
          ],
          "scatter": [
           {
            "fillpattern": {
             "fillmode": "overlay",
             "size": 10,
             "solidity": 0.2
            },
            "type": "scatter"
           }
          ],
          "scatter3d": [
           {
            "line": {
             "colorbar": {
              "outlinewidth": 0,
              "ticks": ""
             }
            },
            "marker": {
             "colorbar": {
              "outlinewidth": 0,
              "ticks": ""
             }
            },
            "type": "scatter3d"
           }
          ],
          "scattercarpet": [
           {
            "marker": {
             "colorbar": {
              "outlinewidth": 0,
              "ticks": ""
             }
            },
            "type": "scattercarpet"
           }
          ],
          "scattergeo": [
           {
            "marker": {
             "colorbar": {
              "outlinewidth": 0,
              "ticks": ""
             }
            },
            "type": "scattergeo"
           }
          ],
          "scattergl": [
           {
            "marker": {
             "colorbar": {
              "outlinewidth": 0,
              "ticks": ""
             }
            },
            "type": "scattergl"
           }
          ],
          "scattermapbox": [
           {
            "marker": {
             "colorbar": {
              "outlinewidth": 0,
              "ticks": ""
             }
            },
            "type": "scattermapbox"
           }
          ],
          "scatterpolar": [
           {
            "marker": {
             "colorbar": {
              "outlinewidth": 0,
              "ticks": ""
             }
            },
            "type": "scatterpolar"
           }
          ],
          "scatterpolargl": [
           {
            "marker": {
             "colorbar": {
              "outlinewidth": 0,
              "ticks": ""
             }
            },
            "type": "scatterpolargl"
           }
          ],
          "scatterternary": [
           {
            "marker": {
             "colorbar": {
              "outlinewidth": 0,
              "ticks": ""
             }
            },
            "type": "scatterternary"
           }
          ],
          "surface": [
           {
            "colorbar": {
             "outlinewidth": 0,
             "ticks": ""
            },
            "colorscale": [
             [
              0,
              "#0d0887"
             ],
             [
              0.1111111111111111,
              "#46039f"
             ],
             [
              0.2222222222222222,
              "#7201a8"
             ],
             [
              0.3333333333333333,
              "#9c179e"
             ],
             [
              0.4444444444444444,
              "#bd3786"
             ],
             [
              0.5555555555555556,
              "#d8576b"
             ],
             [
              0.6666666666666666,
              "#ed7953"
             ],
             [
              0.7777777777777778,
              "#fb9f3a"
             ],
             [
              0.8888888888888888,
              "#fdca26"
             ],
             [
              1,
              "#f0f921"
             ]
            ],
            "type": "surface"
           }
          ],
          "table": [
           {
            "cells": {
             "fill": {
              "color": "#EBF0F8"
             },
             "line": {
              "color": "white"
             }
            },
            "header": {
             "fill": {
              "color": "#C8D4E3"
             },
             "line": {
              "color": "white"
             }
            },
            "type": "table"
           }
          ]
         },
         "layout": {
          "annotationdefaults": {
           "arrowcolor": "#2a3f5f",
           "arrowhead": 0,
           "arrowwidth": 1
          },
          "autotypenumbers": "strict",
          "coloraxis": {
           "colorbar": {
            "outlinewidth": 0,
            "ticks": ""
           }
          },
          "colorscale": {
           "diverging": [
            [
             0,
             "#8e0152"
            ],
            [
             0.1,
             "#c51b7d"
            ],
            [
             0.2,
             "#de77ae"
            ],
            [
             0.3,
             "#f1b6da"
            ],
            [
             0.4,
             "#fde0ef"
            ],
            [
             0.5,
             "#f7f7f7"
            ],
            [
             0.6,
             "#e6f5d0"
            ],
            [
             0.7,
             "#b8e186"
            ],
            [
             0.8,
             "#7fbc41"
            ],
            [
             0.9,
             "#4d9221"
            ],
            [
             1,
             "#276419"
            ]
           ],
           "sequential": [
            [
             0,
             "#0d0887"
            ],
            [
             0.1111111111111111,
             "#46039f"
            ],
            [
             0.2222222222222222,
             "#7201a8"
            ],
            [
             0.3333333333333333,
             "#9c179e"
            ],
            [
             0.4444444444444444,
             "#bd3786"
            ],
            [
             0.5555555555555556,
             "#d8576b"
            ],
            [
             0.6666666666666666,
             "#ed7953"
            ],
            [
             0.7777777777777778,
             "#fb9f3a"
            ],
            [
             0.8888888888888888,
             "#fdca26"
            ],
            [
             1,
             "#f0f921"
            ]
           ],
           "sequentialminus": [
            [
             0,
             "#0d0887"
            ],
            [
             0.1111111111111111,
             "#46039f"
            ],
            [
             0.2222222222222222,
             "#7201a8"
            ],
            [
             0.3333333333333333,
             "#9c179e"
            ],
            [
             0.4444444444444444,
             "#bd3786"
            ],
            [
             0.5555555555555556,
             "#d8576b"
            ],
            [
             0.6666666666666666,
             "#ed7953"
            ],
            [
             0.7777777777777778,
             "#fb9f3a"
            ],
            [
             0.8888888888888888,
             "#fdca26"
            ],
            [
             1,
             "#f0f921"
            ]
           ]
          },
          "colorway": [
           "#636efa",
           "#EF553B",
           "#00cc96",
           "#ab63fa",
           "#FFA15A",
           "#19d3f3",
           "#FF6692",
           "#B6E880",
           "#FF97FF",
           "#FECB52"
          ],
          "font": {
           "color": "#2a3f5f"
          },
          "geo": {
           "bgcolor": "white",
           "lakecolor": "white",
           "landcolor": "#E5ECF6",
           "showlakes": true,
           "showland": true,
           "subunitcolor": "white"
          },
          "hoverlabel": {
           "align": "left"
          },
          "hovermode": "closest",
          "mapbox": {
           "style": "light"
          },
          "paper_bgcolor": "white",
          "plot_bgcolor": "#E5ECF6",
          "polar": {
           "angularaxis": {
            "gridcolor": "white",
            "linecolor": "white",
            "ticks": ""
           },
           "bgcolor": "#E5ECF6",
           "radialaxis": {
            "gridcolor": "white",
            "linecolor": "white",
            "ticks": ""
           }
          },
          "scene": {
           "xaxis": {
            "backgroundcolor": "#E5ECF6",
            "gridcolor": "white",
            "gridwidth": 2,
            "linecolor": "white",
            "showbackground": true,
            "ticks": "",
            "zerolinecolor": "white"
           },
           "yaxis": {
            "backgroundcolor": "#E5ECF6",
            "gridcolor": "white",
            "gridwidth": 2,
            "linecolor": "white",
            "showbackground": true,
            "ticks": "",
            "zerolinecolor": "white"
           },
           "zaxis": {
            "backgroundcolor": "#E5ECF6",
            "gridcolor": "white",
            "gridwidth": 2,
            "linecolor": "white",
            "showbackground": true,
            "ticks": "",
            "zerolinecolor": "white"
           }
          },
          "shapedefaults": {
           "line": {
            "color": "#2a3f5f"
           }
          },
          "ternary": {
           "aaxis": {
            "gridcolor": "white",
            "linecolor": "white",
            "ticks": ""
           },
           "baxis": {
            "gridcolor": "white",
            "linecolor": "white",
            "ticks": ""
           },
           "bgcolor": "#E5ECF6",
           "caxis": {
            "gridcolor": "white",
            "linecolor": "white",
            "ticks": ""
           }
          },
          "title": {
           "x": 0.05
          },
          "xaxis": {
           "automargin": true,
           "gridcolor": "white",
           "linecolor": "white",
           "ticks": "",
           "title": {
            "standoff": 15
           },
           "zerolinecolor": "white",
           "zerolinewidth": 2
          },
          "yaxis": {
           "automargin": true,
           "gridcolor": "white",
           "linecolor": "white",
           "ticks": "",
           "title": {
            "standoff": 15
           },
           "zerolinecolor": "white",
           "zerolinewidth": 2
          }
         }
        },
        "title": {
         "text": "Count of Items by Category"
        },
        "xaxis": {
         "title": {
          "text": "Category"
         }
        },
        "yaxis": {
         "title": {
          "text": "Count"
         }
        }
       }
      }
     },
     "metadata": {},
     "output_type": "display_data"
    },
    {
     "data": {
      "application/vnd.plotly.v1+json": {
       "config": {
        "plotlyServerURL": "https://plot.ly"
       },
       "data": [
        {
         "hole": 0.3,
         "labels": [
          "Test",
          "Train",
          "Unassigned",
          "Validation"
         ],
         "type": "pie",
         "values": [
          118,
          2469,
          0,
          235
         ]
        }
       ],
       "layout": {
        "template": {
         "data": {
          "bar": [
           {
            "error_x": {
             "color": "#2a3f5f"
            },
            "error_y": {
             "color": "#2a3f5f"
            },
            "marker": {
             "line": {
              "color": "#E5ECF6",
              "width": 0.5
             },
             "pattern": {
              "fillmode": "overlay",
              "size": 10,
              "solidity": 0.2
             }
            },
            "type": "bar"
           }
          ],
          "barpolar": [
           {
            "marker": {
             "line": {
              "color": "#E5ECF6",
              "width": 0.5
             },
             "pattern": {
              "fillmode": "overlay",
              "size": 10,
              "solidity": 0.2
             }
            },
            "type": "barpolar"
           }
          ],
          "carpet": [
           {
            "aaxis": {
             "endlinecolor": "#2a3f5f",
             "gridcolor": "white",
             "linecolor": "white",
             "minorgridcolor": "white",
             "startlinecolor": "#2a3f5f"
            },
            "baxis": {
             "endlinecolor": "#2a3f5f",
             "gridcolor": "white",
             "linecolor": "white",
             "minorgridcolor": "white",
             "startlinecolor": "#2a3f5f"
            },
            "type": "carpet"
           }
          ],
          "choropleth": [
           {
            "colorbar": {
             "outlinewidth": 0,
             "ticks": ""
            },
            "type": "choropleth"
           }
          ],
          "contour": [
           {
            "colorbar": {
             "outlinewidth": 0,
             "ticks": ""
            },
            "colorscale": [
             [
              0,
              "#0d0887"
             ],
             [
              0.1111111111111111,
              "#46039f"
             ],
             [
              0.2222222222222222,
              "#7201a8"
             ],
             [
              0.3333333333333333,
              "#9c179e"
             ],
             [
              0.4444444444444444,
              "#bd3786"
             ],
             [
              0.5555555555555556,
              "#d8576b"
             ],
             [
              0.6666666666666666,
              "#ed7953"
             ],
             [
              0.7777777777777778,
              "#fb9f3a"
             ],
             [
              0.8888888888888888,
              "#fdca26"
             ],
             [
              1,
              "#f0f921"
             ]
            ],
            "type": "contour"
           }
          ],
          "contourcarpet": [
           {
            "colorbar": {
             "outlinewidth": 0,
             "ticks": ""
            },
            "type": "contourcarpet"
           }
          ],
          "heatmap": [
           {
            "colorbar": {
             "outlinewidth": 0,
             "ticks": ""
            },
            "colorscale": [
             [
              0,
              "#0d0887"
             ],
             [
              0.1111111111111111,
              "#46039f"
             ],
             [
              0.2222222222222222,
              "#7201a8"
             ],
             [
              0.3333333333333333,
              "#9c179e"
             ],
             [
              0.4444444444444444,
              "#bd3786"
             ],
             [
              0.5555555555555556,
              "#d8576b"
             ],
             [
              0.6666666666666666,
              "#ed7953"
             ],
             [
              0.7777777777777778,
              "#fb9f3a"
             ],
             [
              0.8888888888888888,
              "#fdca26"
             ],
             [
              1,
              "#f0f921"
             ]
            ],
            "type": "heatmap"
           }
          ],
          "heatmapgl": [
           {
            "colorbar": {
             "outlinewidth": 0,
             "ticks": ""
            },
            "colorscale": [
             [
              0,
              "#0d0887"
             ],
             [
              0.1111111111111111,
              "#46039f"
             ],
             [
              0.2222222222222222,
              "#7201a8"
             ],
             [
              0.3333333333333333,
              "#9c179e"
             ],
             [
              0.4444444444444444,
              "#bd3786"
             ],
             [
              0.5555555555555556,
              "#d8576b"
             ],
             [
              0.6666666666666666,
              "#ed7953"
             ],
             [
              0.7777777777777778,
              "#fb9f3a"
             ],
             [
              0.8888888888888888,
              "#fdca26"
             ],
             [
              1,
              "#f0f921"
             ]
            ],
            "type": "heatmapgl"
           }
          ],
          "histogram": [
           {
            "marker": {
             "pattern": {
              "fillmode": "overlay",
              "size": 10,
              "solidity": 0.2
             }
            },
            "type": "histogram"
           }
          ],
          "histogram2d": [
           {
            "colorbar": {
             "outlinewidth": 0,
             "ticks": ""
            },
            "colorscale": [
             [
              0,
              "#0d0887"
             ],
             [
              0.1111111111111111,
              "#46039f"
             ],
             [
              0.2222222222222222,
              "#7201a8"
             ],
             [
              0.3333333333333333,
              "#9c179e"
             ],
             [
              0.4444444444444444,
              "#bd3786"
             ],
             [
              0.5555555555555556,
              "#d8576b"
             ],
             [
              0.6666666666666666,
              "#ed7953"
             ],
             [
              0.7777777777777778,
              "#fb9f3a"
             ],
             [
              0.8888888888888888,
              "#fdca26"
             ],
             [
              1,
              "#f0f921"
             ]
            ],
            "type": "histogram2d"
           }
          ],
          "histogram2dcontour": [
           {
            "colorbar": {
             "outlinewidth": 0,
             "ticks": ""
            },
            "colorscale": [
             [
              0,
              "#0d0887"
             ],
             [
              0.1111111111111111,
              "#46039f"
             ],
             [
              0.2222222222222222,
              "#7201a8"
             ],
             [
              0.3333333333333333,
              "#9c179e"
             ],
             [
              0.4444444444444444,
              "#bd3786"
             ],
             [
              0.5555555555555556,
              "#d8576b"
             ],
             [
              0.6666666666666666,
              "#ed7953"
             ],
             [
              0.7777777777777778,
              "#fb9f3a"
             ],
             [
              0.8888888888888888,
              "#fdca26"
             ],
             [
              1,
              "#f0f921"
             ]
            ],
            "type": "histogram2dcontour"
           }
          ],
          "mesh3d": [
           {
            "colorbar": {
             "outlinewidth": 0,
             "ticks": ""
            },
            "type": "mesh3d"
           }
          ],
          "parcoords": [
           {
            "line": {
             "colorbar": {
              "outlinewidth": 0,
              "ticks": ""
             }
            },
            "type": "parcoords"
           }
          ],
          "pie": [
           {
            "automargin": true,
            "type": "pie"
           }
          ],
          "scatter": [
           {
            "fillpattern": {
             "fillmode": "overlay",
             "size": 10,
             "solidity": 0.2
            },
            "type": "scatter"
           }
          ],
          "scatter3d": [
           {
            "line": {
             "colorbar": {
              "outlinewidth": 0,
              "ticks": ""
             }
            },
            "marker": {
             "colorbar": {
              "outlinewidth": 0,
              "ticks": ""
             }
            },
            "type": "scatter3d"
           }
          ],
          "scattercarpet": [
           {
            "marker": {
             "colorbar": {
              "outlinewidth": 0,
              "ticks": ""
             }
            },
            "type": "scattercarpet"
           }
          ],
          "scattergeo": [
           {
            "marker": {
             "colorbar": {
              "outlinewidth": 0,
              "ticks": ""
             }
            },
            "type": "scattergeo"
           }
          ],
          "scattergl": [
           {
            "marker": {
             "colorbar": {
              "outlinewidth": 0,
              "ticks": ""
             }
            },
            "type": "scattergl"
           }
          ],
          "scattermapbox": [
           {
            "marker": {
             "colorbar": {
              "outlinewidth": 0,
              "ticks": ""
             }
            },
            "type": "scattermapbox"
           }
          ],
          "scatterpolar": [
           {
            "marker": {
             "colorbar": {
              "outlinewidth": 0,
              "ticks": ""
             }
            },
            "type": "scatterpolar"
           }
          ],
          "scatterpolargl": [
           {
            "marker": {
             "colorbar": {
              "outlinewidth": 0,
              "ticks": ""
             }
            },
            "type": "scatterpolargl"
           }
          ],
          "scatterternary": [
           {
            "marker": {
             "colorbar": {
              "outlinewidth": 0,
              "ticks": ""
             }
            },
            "type": "scatterternary"
           }
          ],
          "surface": [
           {
            "colorbar": {
             "outlinewidth": 0,
             "ticks": ""
            },
            "colorscale": [
             [
              0,
              "#0d0887"
             ],
             [
              0.1111111111111111,
              "#46039f"
             ],
             [
              0.2222222222222222,
              "#7201a8"
             ],
             [
              0.3333333333333333,
              "#9c179e"
             ],
             [
              0.4444444444444444,
              "#bd3786"
             ],
             [
              0.5555555555555556,
              "#d8576b"
             ],
             [
              0.6666666666666666,
              "#ed7953"
             ],
             [
              0.7777777777777778,
              "#fb9f3a"
             ],
             [
              0.8888888888888888,
              "#fdca26"
             ],
             [
              1,
              "#f0f921"
             ]
            ],
            "type": "surface"
           }
          ],
          "table": [
           {
            "cells": {
             "fill": {
              "color": "#EBF0F8"
             },
             "line": {
              "color": "white"
             }
            },
            "header": {
             "fill": {
              "color": "#C8D4E3"
             },
             "line": {
              "color": "white"
             }
            },
            "type": "table"
           }
          ]
         },
         "layout": {
          "annotationdefaults": {
           "arrowcolor": "#2a3f5f",
           "arrowhead": 0,
           "arrowwidth": 1
          },
          "autotypenumbers": "strict",
          "coloraxis": {
           "colorbar": {
            "outlinewidth": 0,
            "ticks": ""
           }
          },
          "colorscale": {
           "diverging": [
            [
             0,
             "#8e0152"
            ],
            [
             0.1,
             "#c51b7d"
            ],
            [
             0.2,
             "#de77ae"
            ],
            [
             0.3,
             "#f1b6da"
            ],
            [
             0.4,
             "#fde0ef"
            ],
            [
             0.5,
             "#f7f7f7"
            ],
            [
             0.6,
             "#e6f5d0"
            ],
            [
             0.7,
             "#b8e186"
            ],
            [
             0.8,
             "#7fbc41"
            ],
            [
             0.9,
             "#4d9221"
            ],
            [
             1,
             "#276419"
            ]
           ],
           "sequential": [
            [
             0,
             "#0d0887"
            ],
            [
             0.1111111111111111,
             "#46039f"
            ],
            [
             0.2222222222222222,
             "#7201a8"
            ],
            [
             0.3333333333333333,
             "#9c179e"
            ],
            [
             0.4444444444444444,
             "#bd3786"
            ],
            [
             0.5555555555555556,
             "#d8576b"
            ],
            [
             0.6666666666666666,
             "#ed7953"
            ],
            [
             0.7777777777777778,
             "#fb9f3a"
            ],
            [
             0.8888888888888888,
             "#fdca26"
            ],
            [
             1,
             "#f0f921"
            ]
           ],
           "sequentialminus": [
            [
             0,
             "#0d0887"
            ],
            [
             0.1111111111111111,
             "#46039f"
            ],
            [
             0.2222222222222222,
             "#7201a8"
            ],
            [
             0.3333333333333333,
             "#9c179e"
            ],
            [
             0.4444444444444444,
             "#bd3786"
            ],
            [
             0.5555555555555556,
             "#d8576b"
            ],
            [
             0.6666666666666666,
             "#ed7953"
            ],
            [
             0.7777777777777778,
             "#fb9f3a"
            ],
            [
             0.8888888888888888,
             "#fdca26"
            ],
            [
             1,
             "#f0f921"
            ]
           ]
          },
          "colorway": [
           "#636efa",
           "#EF553B",
           "#00cc96",
           "#ab63fa",
           "#FFA15A",
           "#19d3f3",
           "#FF6692",
           "#B6E880",
           "#FF97FF",
           "#FECB52"
          ],
          "font": {
           "color": "#2a3f5f"
          },
          "geo": {
           "bgcolor": "white",
           "lakecolor": "white",
           "landcolor": "#E5ECF6",
           "showlakes": true,
           "showland": true,
           "subunitcolor": "white"
          },
          "hoverlabel": {
           "align": "left"
          },
          "hovermode": "closest",
          "mapbox": {
           "style": "light"
          },
          "paper_bgcolor": "white",
          "plot_bgcolor": "#E5ECF6",
          "polar": {
           "angularaxis": {
            "gridcolor": "white",
            "linecolor": "white",
            "ticks": ""
           },
           "bgcolor": "#E5ECF6",
           "radialaxis": {
            "gridcolor": "white",
            "linecolor": "white",
            "ticks": ""
           }
          },
          "scene": {
           "xaxis": {
            "backgroundcolor": "#E5ECF6",
            "gridcolor": "white",
            "gridwidth": 2,
            "linecolor": "white",
            "showbackground": true,
            "ticks": "",
            "zerolinecolor": "white"
           },
           "yaxis": {
            "backgroundcolor": "#E5ECF6",
            "gridcolor": "white",
            "gridwidth": 2,
            "linecolor": "white",
            "showbackground": true,
            "ticks": "",
            "zerolinecolor": "white"
           },
           "zaxis": {
            "backgroundcolor": "#E5ECF6",
            "gridcolor": "white",
            "gridwidth": 2,
            "linecolor": "white",
            "showbackground": true,
            "ticks": "",
            "zerolinecolor": "white"
           }
          },
          "shapedefaults": {
           "line": {
            "color": "#2a3f5f"
           }
          },
          "ternary": {
           "aaxis": {
            "gridcolor": "white",
            "linecolor": "white",
            "ticks": ""
           },
           "baxis": {
            "gridcolor": "white",
            "linecolor": "white",
            "ticks": ""
           },
           "bgcolor": "#E5ECF6",
           "caxis": {
            "gridcolor": "white",
            "linecolor": "white",
            "ticks": ""
           }
          },
          "title": {
           "x": 0.05
          },
          "xaxis": {
           "automargin": true,
           "gridcolor": "white",
           "linecolor": "white",
           "ticks": "",
           "title": {
            "standoff": 15
           },
           "zerolinecolor": "white",
           "zerolinewidth": 2
          },
          "yaxis": {
           "automargin": true,
           "gridcolor": "white",
           "linecolor": "white",
           "ticks": "",
           "title": {
            "standoff": 15
           },
           "zerolinecolor": "white",
           "zerolinewidth": 2
          }
         }
        },
        "title": {
         "text": "Distribution of Data Items"
        }
       }
      }
     },
     "metadata": {},
     "output_type": "display_data"
    }
   ],
   "source": [
    "import plotly.graph_objects as go\n",
    "import pandas as pd\n",
    "import plotly.io as pio\n",
    "\n",
    "\n",
    "# Convert the histogram data to a DataFrame\n",
    "df = pd.DataFrame(dataset_summary['histogram'])\n",
    "\n",
    "# Bar chart for counts by category\n",
    "fig1 = go.Figure(data=[go.Bar(x=df['label'], y=df['count'])])\n",
    "fig1.update_layout(\n",
    "    title='Count of Items by Category',\n",
    "    xaxis_title='Category',\n",
    "    yaxis_title='Count'\n",
    ")\n",
    "\n",
    "# Pie chart for distribution of data items\n",
    "fig2 = go.Figure(data=[go.Pie(\n",
    "    labels=['Test', 'Train', 'Unassigned', 'Validation'],\n",
    "    values=[dataset_summary['testDataItemCount'], dataset_summary['trainDataItemCount'], dataset_summary['unassignedDataItemCount'], dataset_summary['valDataItemCount']],\n",
    "    hole=0.3\n",
    ")])\n",
    "fig2.update_layout(\n",
    "    title='Distribution of Data Items'\n",
    ")\n",
    "\n",
    "# Display the figures\n",
    "fig1.show()\n",
    "fig2.show()\n"
   ]
  },
  {
   "cell_type": "code",
   "execution_count": null,
   "metadata": {},
   "outputs": [
    {
     "name": "stdout",
     "output_type": "stream",
     "text": [
      "[{'_id': '6728bfa50623cf13c1a4574a', 'name': 'Crop-Weed-Detection-Dataset', '_idProject': '6728bd804e370c5e10793517', 'status': '', 'createdAt': '2024-11-04T12:35:49.866Z', 'updatedAt': '2024-11-04T12:51:34.103Z', 'stats': [{'version': 'v1.0', 'versionStats': {'test': 0, 'train': 0, 'val': 0, 'unassigned': 0, 'total': 0}, 'versionDescription': '1st version', 'versionStatus': 'processed', 'isFrozen': False, 'splitwiseBalance': True, 'classwiseBalance': True}], 'allVersions': ['v1.0'], 'processedVersions': None, 'latestVersion': 'v1.0', 'disabledVersions': None}, {'_id': '6728cacb0623cf13c1a4574b', 'name': 'Crop-Weed-Detection-Dataset-1', '_idProject': '6728bd804e370c5e10793517', 'status': '', 'createdAt': '2024-11-04T13:23:23.463Z', 'updatedAt': '2024-11-04T13:35:01.784Z', 'stats': [{'version': 'v1.0', 'versionStats': {'test': 118, 'train': 2469, 'val': 235, 'unassigned': 0, 'total': 2822}, 'versionDescription': '1st version', 'classStat': {'crop': {'total': 894, 'train': 762, 'test': 85, 'val': 47, 'unassigned': 0}, 'weed': {'total': 14025, 'train': 11771, 'test': 696, 'val': 1558, 'unassigned': 0}}, 'versionStatus': 'processed', 'isFrozen': False, 'splitwiseBalance': True, 'classwiseBalance': False}], 'allVersions': ['v1.0'], 'processedVersions': ['v1.0'], 'latestVersion': 'v1.0', 'disabledVersions': None}]\n",
      "<matrice.experiment.Experiment object at 0x0000015C5F8C0490>\n",
      "Experiment ID: 6728ce96732d9d4b27f8c391\n",
      "Experiment Name: Crop-Weed-Detection-Experiment\n",
      "----------------------------\n",
      "Experiment ID: 6728ce96732d9d4b27f8c391\n",
      "Experiment Name: Crop-Weed-Detection-Experiment\n",
      "Experiment instance has been created: <matrice.experiment.Experiment object at 0x0000015C5F8C0490>\n",
      "----------------------------\n"
     ]
    }
   ],
   "source": [
    "import os\n",
    "import json\n",
    "import pprint\n",
    "\n",
    "# Function to create an experiment\n",
    "def create_experiment():\n",
    "    name = \"Crop-Weed-Detection-Experiment\"\n",
    "    target_run_time = [\"PyTorch\"]\n",
    "    primary_metric = \"mAP50\"\n",
    "    matrice_compute = True\n",
    "    dataset_version = 'v1.0'\n",
    "\n",
    "    E = P.create_experiment(\n",
    "        name,\n",
    "        dataset_id,\n",
    "        target_run_time[0],\n",
    "        dataset_version,\n",
    "        primary_metric,\n",
    "        matrice_compute\n",
    "    )\n",
    "\n",
    "    print(E)\n",
    "    exp_id = E.experiment_id\n",
    "    exp_name = E.experiment_name\n",
    "\n",
    "    print(f\"Experiment ID: {exp_id}\")\n",
    "    print(f\"Experiment Name: {exp_name}\")\n",
    "\n",
    "    return E, exp_id, exp_name\n",
    "\n",
    "# Create a new experiment\n",
    "E, experiment_id, experiment_name = create_experiment()\n",
    "\n",
    "print(\"----------------------------\")\n",
    "print(f\"Experiment ID: {experiment_id}\")\n",
    "print(f\"Experiment Name: {experiment_name}\")\n",
    "print(f\"Experiment instance has been created: {E}\")\n",
    "print(\"----------------------------\")"
   ]
  },
  {
   "cell_type": "code",
   "execution_count": 29,
   "metadata": {},
   "outputs": [],
   "source": [
    "Vars.set(\"experiment_id\", E.experiment_id)\n",
    "Vars.set(\"experiment_name\", E.experiment_name)"
   ]
  },
  {
   "cell_type": "code",
   "execution_count": 30,
   "metadata": {},
   "outputs": [
    {
     "name": "stdout",
     "output_type": "stream",
     "text": [
      "----List of available Detection models on platform----\n",
      "ID: 66952a599bbb09931616d49d, Model Family Name: Faster R-CNN\n",
      "ID: 66952a7e9bbb09931616d4ae, Model Family Name: FCOS\n",
      "ID: 66952afb9bbb09931616d4d4, Model Family Name: Owl_VIT\n",
      "ID: 66952b139bbb09931616d4db, Model Family Name: YoloV8\n",
      "ID: 66952b8a9bbb09931616d537, Model Family Name: RetinaNet\n",
      "ID: 66952c089bbb09931616d571, Model Family Name: SSD\n",
      "ID: 66a208cab48d0add30eee95e, Model Family Name: YoloV9\n",
      "ID: 66a5f11a4c150a49a2b8d308, Model Family Name: YoloV10\n",
      "ID: 66e989a32e0a4c439a1d02d5, Model Family Name: vyguvgyhv\n"
     ]
    }
   ],
   "source": [
    "from matrice.model_store import _get_all_model_families \n",
    "\n",
    "resp , error , mesage = _get_all_model_families( S , project_id , project_type=\"detection\")\n",
    "print(\"----List of available Detection models on platform----\")\n",
    "# Iterate through each model family in the response\n",
    "for model_family in resp:\n",
    "    # Extract _id and modelFamily (model family name)\n",
    "    model_family_id = model_family.get('_id')\n",
    "    name = model_family.get('modelFamily')\n",
    "    \n",
    "    # Print in formatted manner\n",
    "    print(f\"ID: {model_family_id}, Model Family Name: {name}\")"
   ]
  },
  {
   "cell_type": "code",
   "execution_count": 31,
   "metadata": {},
   "outputs": [
    {
     "name": "stdout",
     "output_type": "stream",
     "text": [
      "A ModelFamily instance has been initialized <matrice.model_store.ModelFamily object at 0x0000015C5F5D0DD0>\n"
     ]
    }
   ],
   "source": [
    "from matrice.model_store import ModelFamily\n",
    "\n",
    "model_family_id = \"66952b139bbb09931616d4db\"\n",
    "# Initialize the ModelFamily instance after choosing a Model Family\n",
    "model_family_instance = ModelFamily(S, model_family_id=model_family_id) # YOLOV8\n",
    "print(\"A ModelFamily instance has been initialized\",model_family_instance)"
   ]
  },
  {
   "cell_type": "code",
   "execution_count": 32,
   "metadata": {},
   "outputs": [
    {
     "name": "stdout",
     "output_type": "stream",
     "text": [
      "ID: 66952b179bbb09931616d4dc | Model Name: YOLOv8 Large | Model Key: yolov8l | Params in Millions: 43.7\n",
      "ID: 66952b1b9bbb09931616d4dd | Model Name: YOLOv8 Medium | Model Key: yolov8m | Params in Millions: 25.9\n",
      "ID: 66952b209bbb09931616d4de | Model Name: YOLOv8 Nano | Model Key: yolov8n | Params in Millions: 3.2\n",
      "ID: 66952b249bbb09931616d4df | Model Name: YOLOv8 Small | Model Key: yolov8s | Params in Millions: 11.2\n",
      "ID: 66952b289bbb09931616d4e0 | Model Name: YOLOv8 Xtra Large | Model Key: yolov8x | Params in Millions: 68.2\n"
     ]
    }
   ],
   "source": [
    "# Fetch model architectures\n",
    "resp, error, message = model_family_instance.get_model_archs()\n",
    "if error:\n",
    "    print(f\"Error: {error}\")\n",
    "else:\n",
    "    \n",
    "    # Check if resp is a list or a dictionary\n",
    "    if isinstance(resp, list):\n",
    "        # Iterate through each model info in the list\n",
    "        for model_info in resp:\n",
    "            model_key = model_info[\"model_key\"]\n",
    "            model_arch_instance = model_info[\"model_arch_instance\"]\n",
    "            \n",
    "            # Extract model information\n",
    "            model_info_id = model_arch_instance.model_info_id\n",
    "            name = model_arch_instance.model_name\n",
    "            key = model_arch_instance.model_key\n",
    "            params = model_arch_instance.params_millions\n",
    "\n",
    "            # Print in formatted manner\n",
    "            print(f\"ID: {model_info_id} |  Model Name: {name} | Model Key: {key} | Params in Millions: {params}\")\n",
    "    elif isinstance(resp, dict):\n",
    "        # Iterate through each model key in the dictionary\n",
    "        for model_key, model_arch_instance in resp.items():\n",
    "            # Extract model information\n",
    "            model_info_id = model_arch_instance.model_info_id\n",
    "            name = model_arch_instance.model_name\n",
    "            key = model_arch_instance.model_key\n",
    "            params = model_arch_instance.params_millions\n",
    "\n",
    "            # Print in formatted manner\n",
    "            print(f\"ID: {model_info_id} | Model Name: {name} | Model Key: {key} | Params in Millions: {params}\")"
   ]
  },
  {
   "cell_type": "code",
   "execution_count": 33,
   "metadata": {},
   "outputs": [
    {
     "name": "stdout",
     "output_type": "stream",
     "text": [
      "Chosen Training Architecture : yolov8n\n",
      "Model Architecture instance initialized for chosen training architecture : <matrice.model_store.ModelArch object at 0x0000015C5F81C310>\n"
     ]
    }
   ],
   "source": [
    "from matrice.model_store import ModelArch\n",
    "train_arch = 'yolov8n'\n",
    "print(\"Chosen Training Architecture :\" ,train_arch)\n",
    "model_arch_instance = resp.get(train_arch)\n",
    "print(\"Model Architecture instance initialized for chosen training architecture :\", model_arch_instance)"
   ]
  },
  {
   "cell_type": "code",
   "execution_count": 34,
   "metadata": {},
   "outputs": [
    {
     "name": "stdout",
     "output_type": "stream",
     "text": [
      "-----Default Train Config------\n",
      "{'action_config': {'batch': {'allowedValues': [1,\n",
      "                                               2,\n",
      "                                               4,\n",
      "                                               8,\n",
      "                                               16,\n",
      "                                               32,\n",
      "                                               64,\n",
      "                                               128,\n",
      "                                               256,\n",
      "                                               512],\n",
      "                             'anyValue': True,\n",
      "                             'defaultValue': 16,\n",
      "                             'hyperparameter': True,\n",
      "                             'keyName': 'batch',\n",
      "                             'maxValue': 1024,\n",
      "                             'minValue': 1,\n",
      "                             'selectedValues': [16],\n",
      "                             'valueType': 'int32'},\n",
      "                   'cos_lr': {'allowedValues': [False, True],\n",
      "                              'anyValue': False,\n",
      "                              'defaultValue': False,\n",
      "                              'hyperparameter': True,\n",
      "                              'keyName': 'cos_lr',\n",
      "                              'maxValue': 0,\n",
      "                              'minValue': 0,\n",
      "                              'selectedValues': [False],\n",
      "                              'valueType': 'bool'},\n",
      "                   'epochs': {'allowedValues': [10,\n",
      "                                                20,\n",
      "                                                30,\n",
      "                                                40,\n",
      "                                                50,\n",
      "                                                60,\n",
      "                                                70,\n",
      "                                                80,\n",
      "                                                90,\n",
      "                                                100,\n",
      "                                                125,\n",
      "                                                150,\n",
      "                                                175,\n",
      "                                                200],\n",
      "                              'anyValue': True,\n",
      "                              'defaultValue': 50,\n",
      "                              'hyperparameter': True,\n",
      "                              'keyName': 'epochs',\n",
      "                              'maxValue': 300,\n",
      "                              'minValue': 5,\n",
      "                              'selectedValues': [50],\n",
      "                              'valueType': 'int32'},\n",
      "                   'learning_rate': {'allowedValues': [1e-05,\n",
      "                                                       0.0001,\n",
      "                                                       0.001,\n",
      "                                                       0.01,\n",
      "                                                       0.02,\n",
      "                                                       0.05,\n",
      "                                                       0.1],\n",
      "                                     'anyValue': True,\n",
      "                                     'defaultValue': 0.001,\n",
      "                                     'hyperparameter': True,\n",
      "                                     'keyName': 'learning_rate',\n",
      "                                     'maxValue': 0.5,\n",
      "                                     'minValue': 1e-05,\n",
      "                                     'selectedValues': [0.001],\n",
      "                                     'valueType': 'float32'},\n",
      "                   'momentum': {'allowedValues': [0.9,\n",
      "                                                  0.91,\n",
      "                                                  0.92,\n",
      "                                                  0.93,\n",
      "                                                  0.94,\n",
      "                                                  0.95,\n",
      "                                                  0.96,\n",
      "                                                  0.97,\n",
      "                                                  0.98,\n",
      "                                                  0.99,\n",
      "                                                  0.995],\n",
      "                                'anyValue': True,\n",
      "                                'defaultValue': 0.95,\n",
      "                                'hyperparameter': True,\n",
      "                                'keyName': 'momentum',\n",
      "                                'maxValue': 0.995,\n",
      "                                'minValue': 0.8,\n",
      "                                'selectedValues': [0.95],\n",
      "                                'valueType': 'float32'},\n",
      "                   'optimizer': {'allowedValues': ['Adam',\n",
      "                                                   'AdamW',\n",
      "                                                   'Adamax',\n",
      "                                                   'NAdam',\n",
      "                                                   'RAdam',\n",
      "                                                   'RMSProp',\n",
      "                                                   'SGD',\n",
      "                                                   'auto'],\n",
      "                                 'anyValue': False,\n",
      "                                 'defaultValue': 'auto',\n",
      "                                 'hyperparameter': True,\n",
      "                                 'keyName': 'optimizer',\n",
      "                                 'maxValue': 0,\n",
      "                                 'minValue': 0,\n",
      "                                 'selectedValues': ['auto'],\n",
      "                                 'valueType': 'string'},\n",
      "                   'weight_decay': {'allowedValues': [0.0001,\n",
      "                                                      0.0002,\n",
      "                                                      0.0005,\n",
      "                                                      0.001],\n",
      "                                    'anyValue': True,\n",
      "                                    'defaultValue': 0.0005,\n",
      "                                    'hyperparameter': True,\n",
      "                                    'keyName': 'weight_decay',\n",
      "                                    'maxValue': 0.1,\n",
      "                                    'minValue': 0,\n",
      "                                    'selectedValues': [0.0005],\n",
      "                                    'valueType': 'float64'}},\n",
      " 'checkpoint_type': 'predefined',\n",
      " 'is_autoML': False,\n",
      " 'model_checkpoint': 'auto',\n",
      " 'model_config': {'batch': [16],\n",
      "                  'cos_lr': [False],\n",
      "                  'epochs': [50],\n",
      "                  'learning_rate': [0.001],\n",
      "                  'momentum': [0.95],\n",
      "                  'optimizer': ['auto'],\n",
      "                  'weight_decay': [0.0005]},\n",
      " 'tuning_type': 'default'}\n",
      "--------------------------------\n",
      "-------Training instance initialized--------\n",
      "<matrice.model_store.ModelArch object at 0x0000015C5F8C0A90>\n"
     ]
    }
   ],
   "source": [
    "import pprint\n",
    "train_instance , train_config = model_arch_instance.get_train_config(experiment_id=Vars.get('experiment_id'))\n",
    "print(\"-----Default Train Config------\")\n",
    "pprint.pprint(train_config)\n",
    "print(\"--------------------------------\")\n",
    "print(\"-------Training instance initialized--------\")\n",
    "print(train_instance)"
   ]
  },
  {
   "cell_type": "code",
   "execution_count": 35,
   "metadata": {},
   "outputs": [
    {
     "name": "stdout",
     "output_type": "stream",
     "text": [
      "-----Updated Model Config------\n",
      "{'batch': [8],\n",
      " 'cos_lr': [False],\n",
      " 'epochs': [60],\n",
      " 'learning_rate': [0.001],\n",
      " 'momentum': [0.95],\n",
      " 'optimizer': ['auto'],\n",
      " 'weight_decay': [0.0005]}\n",
      "--------------------------------\n",
      "-----Updated Train Config------\n",
      "{'action_config': {'batch': {'allowedValues': [1,\n",
      "                                               2,\n",
      "                                               4,\n",
      "                                               8,\n",
      "                                               16,\n",
      "                                               32,\n",
      "                                               64,\n",
      "                                               128,\n",
      "                                               256,\n",
      "                                               512],\n",
      "                             'anyValue': True,\n",
      "                             'defaultValue': 16,\n",
      "                             'hyperparameter': True,\n",
      "                             'keyName': 'batch',\n",
      "                             'maxValue': 1024,\n",
      "                             'minValue': 1,\n",
      "                             'selectedValues': [16],\n",
      "                             'valueType': 'int32'},\n",
      "                   'cos_lr': {'allowedValues': [False, True],\n",
      "                              'anyValue': False,\n",
      "                              'defaultValue': False,\n",
      "                              'hyperparameter': True,\n",
      "                              'keyName': 'cos_lr',\n",
      "                              'maxValue': 0,\n",
      "                              'minValue': 0,\n",
      "                              'selectedValues': [False],\n",
      "                              'valueType': 'bool'},\n",
      "                   'epochs': {'allowedValues': [10,\n",
      "                                                20,\n",
      "                                                30,\n",
      "                                                40,\n",
      "                                                50,\n",
      "                                                60,\n",
      "                                                70,\n",
      "                                                80,\n",
      "                                                90,\n",
      "                                                100,\n",
      "                                                125,\n",
      "                                                150,\n",
      "                                                175,\n",
      "                                                200],\n",
      "                              'anyValue': True,\n",
      "                              'defaultValue': 50,\n",
      "                              'hyperparameter': True,\n",
      "                              'keyName': 'epochs',\n",
      "                              'maxValue': 300,\n",
      "                              'minValue': 5,\n",
      "                              'selectedValues': [50],\n",
      "                              'valueType': 'int32'},\n",
      "                   'learning_rate': {'allowedValues': [1e-05,\n",
      "                                                       0.0001,\n",
      "                                                       0.001,\n",
      "                                                       0.01,\n",
      "                                                       0.02,\n",
      "                                                       0.05,\n",
      "                                                       0.1],\n",
      "                                     'anyValue': True,\n",
      "                                     'defaultValue': 0.001,\n",
      "                                     'hyperparameter': True,\n",
      "                                     'keyName': 'learning_rate',\n",
      "                                     'maxValue': 0.5,\n",
      "                                     'minValue': 1e-05,\n",
      "                                     'selectedValues': [0.001],\n",
      "                                     'valueType': 'float32'},\n",
      "                   'momentum': {'allowedValues': [0.9,\n",
      "                                                  0.91,\n",
      "                                                  0.92,\n",
      "                                                  0.93,\n",
      "                                                  0.94,\n",
      "                                                  0.95,\n",
      "                                                  0.96,\n",
      "                                                  0.97,\n",
      "                                                  0.98,\n",
      "                                                  0.99,\n",
      "                                                  0.995],\n",
      "                                'anyValue': True,\n",
      "                                'defaultValue': 0.95,\n",
      "                                'hyperparameter': True,\n",
      "                                'keyName': 'momentum',\n",
      "                                'maxValue': 0.995,\n",
      "                                'minValue': 0.8,\n",
      "                                'selectedValues': [0.95],\n",
      "                                'valueType': 'float32'},\n",
      "                   'optimizer': {'allowedValues': ['Adam',\n",
      "                                                   'AdamW',\n",
      "                                                   'Adamax',\n",
      "                                                   'NAdam',\n",
      "                                                   'RAdam',\n",
      "                                                   'RMSProp',\n",
      "                                                   'SGD',\n",
      "                                                   'auto'],\n",
      "                                 'anyValue': False,\n",
      "                                 'defaultValue': 'auto',\n",
      "                                 'hyperparameter': True,\n",
      "                                 'keyName': 'optimizer',\n",
      "                                 'maxValue': 0,\n",
      "                                 'minValue': 0,\n",
      "                                 'selectedValues': ['auto'],\n",
      "                                 'valueType': 'string'},\n",
      "                   'weight_decay': {'allowedValues': [0.0001,\n",
      "                                                      0.0002,\n",
      "                                                      0.0005,\n",
      "                                                      0.001],\n",
      "                                    'anyValue': True,\n",
      "                                    'defaultValue': 0.0005,\n",
      "                                    'hyperparameter': True,\n",
      "                                    'keyName': 'weight_decay',\n",
      "                                    'maxValue': 0.1,\n",
      "                                    'minValue': 0,\n",
      "                                    'selectedValues': [0.0005],\n",
      "                                    'valueType': 'float64'}},\n",
      " 'checkpoint_type': 'predefined',\n",
      " 'is_autoML': False,\n",
      " 'model_checkpoint': 'auto',\n",
      " 'model_config': {'batch': [8],\n",
      "                  'cos_lr': [False],\n",
      "                  'epochs': [60],\n",
      "                  'learning_rate': [0.001],\n",
      "                  'momentum': [0.95],\n",
      "                  'optimizer': ['auto'],\n",
      "                  'weight_decay': [0.0005]},\n",
      " 'tuning_type': 'default'}\n",
      "--------------------------------\n"
     ]
    }
   ],
   "source": [
    "model_config = train_config['model_config']\n",
    "\n",
    "# Modify the model_config as needed\n",
    "# modifications:\n",
    "model_config['batch'] = [8]\n",
    "model_config['epochs'] = [60]\n",
    "model_config['learning_rate'] = [0.001]\n",
    "\n",
    "\n",
    "# Repass the modified model_config into the train_config\n",
    "train_config['model_config'] = model_config\n",
    "\n",
    "# Print the updated train_config\n",
    "print(\"-----Updated Model Config------\")\n",
    "pprint.pprint(train_config['model_config'])\n",
    "print(\"--------------------------------\")\n",
    "\n",
    "# Print the updated train_config\n",
    "print(\"-----Updated Train Config------\")\n",
    "pprint.pprint(train_config)\n",
    "print(\"--------------------------------\")"
   ]
  },
  {
   "cell_type": "code",
   "execution_count": 36,
   "metadata": {},
   "outputs": [
    {
     "name": "stdout",
     "output_type": "stream",
     "text": [
      "------------Model added for training----------\n",
      "[{'_id': '6728d167388e36b4e54b5acc',\n",
      "  '_idActionStatus': '6728d1671478c8033c87755e',\n",
      "  '_idDataset': '6728cacb0623cf13c1a4574b',\n",
      "  '_idExperiment': '6728ce96732d9d4b27f8c391',\n",
      "  '_idModelFamily': '000000000000000000000000',\n",
      "  '_idModelInfo': '66952b209bbb09931616d4de',\n",
      "  '_idProject': '6728bd804e370c5e10793517',\n",
      "  '_idUser': '667996abc47fb97dea838b35',\n",
      "  'actionConfig': {'batch': {'allowedValues': [1,\n",
      "                                               2,\n",
      "                                               4,\n",
      "                                               8,\n",
      "                                               16,\n",
      "                                               32,\n",
      "                                               64,\n",
      "                                               128,\n",
      "                                               256,\n",
      "                                               512],\n",
      "                             'anyValue': True,\n",
      "                             'defaultValue': 16,\n",
      "                             'hyperparameter': True,\n",
      "                             'keyName': 'batch',\n",
      "                             'maxValue': 1024,\n",
      "                             'minValue': 1,\n",
      "                             'selectedValues': [16],\n",
      "                             'valueType': 'int32'},\n",
      "                   'cos_lr': {'allowedValues': [False, True],\n",
      "                              'anyValue': False,\n",
      "                              'defaultValue': False,\n",
      "                              'hyperparameter': True,\n",
      "                              'keyName': 'cos_lr',\n",
      "                              'maxValue': 0,\n",
      "                              'minValue': 0,\n",
      "                              'selectedValues': [False],\n",
      "                              'valueType': 'bool'},\n",
      "                   'epochs': {'allowedValues': [10,\n",
      "                                                20,\n",
      "                                                30,\n",
      "                                                40,\n",
      "                                                50,\n",
      "                                                60,\n",
      "                                                70,\n",
      "                                                80,\n",
      "                                                90,\n",
      "                                                100,\n",
      "                                                125,\n",
      "                                                150,\n",
      "                                                175,\n",
      "                                                200],\n",
      "                              'anyValue': True,\n",
      "                              'defaultValue': 50,\n",
      "                              'hyperparameter': True,\n",
      "                              'keyName': 'epochs',\n",
      "                              'maxValue': 300,\n",
      "                              'minValue': 5,\n",
      "                              'selectedValues': [50],\n",
      "                              'valueType': 'int32'},\n",
      "                   'learning_rate': {'allowedValues': [1e-05,\n",
      "                                                       0.0001,\n",
      "                                                       0.001,\n",
      "                                                       0.01,\n",
      "                                                       0.02,\n",
      "                                                       0.05,\n",
      "                                                       0.1],\n",
      "                                     'anyValue': True,\n",
      "                                     'defaultValue': 0.001,\n",
      "                                     'hyperparameter': True,\n",
      "                                     'keyName': 'learning_rate',\n",
      "                                     'maxValue': 0.5,\n",
      "                                     'minValue': 1e-05,\n",
      "                                     'selectedValues': [0.001],\n",
      "                                     'valueType': 'float32'},\n",
      "                   'momentum': {'allowedValues': [0.9,\n",
      "                                                  0.91,\n",
      "                                                  0.92,\n",
      "                                                  0.93,\n",
      "                                                  0.94,\n",
      "                                                  0.95,\n",
      "                                                  0.96,\n",
      "                                                  0.97,\n",
      "                                                  0.98,\n",
      "                                                  0.99,\n",
      "                                                  0.995],\n",
      "                                'anyValue': True,\n",
      "                                'defaultValue': 0.95,\n",
      "                                'hyperparameter': True,\n",
      "                                'keyName': 'momentum',\n",
      "                                'maxValue': 0.995,\n",
      "                                'minValue': 0.8,\n",
      "                                'selectedValues': [0.95],\n",
      "                                'valueType': 'float32'},\n",
      "                   'optimizer': {'allowedValues': ['Adam',\n",
      "                                                   'AdamW',\n",
      "                                                   'Adamax',\n",
      "                                                   'NAdam',\n",
      "                                                   'RAdam',\n",
      "                                                   'RMSProp',\n",
      "                                                   'SGD',\n",
      "                                                   'auto'],\n",
      "                                 'anyValue': False,\n",
      "                                 'defaultValue': 'auto',\n",
      "                                 'hyperparameter': True,\n",
      "                                 'keyName': 'optimizer',\n",
      "                                 'maxValue': 0,\n",
      "                                 'minValue': 0,\n",
      "                                 'selectedValues': ['auto'],\n",
      "                                 'valueType': 'string'},\n",
      "                   'weight_decay': {'allowedValues': [0.0001,\n",
      "                                                      0.0002,\n",
      "                                                      0.0005,\n",
      "                                                      0.001],\n",
      "                                    'anyValue': True,\n",
      "                                    'defaultValue': 0.0005,\n",
      "                                    'hyperparameter': True,\n",
      "                                    'keyName': 'weight_decay',\n",
      "                                    'maxValue': 0.1,\n",
      "                                    'minValue': 0,\n",
      "                                    'selectedValues': [0.0005],\n",
      "                                    'valueType': 'float64'}},\n",
      "  'autoML': False,\n",
      "  'bestEpoch': -1,\n",
      "  'checkpointType': 'predefined',\n",
      "  'cloudPath': '',\n",
      "  'createdAt': '2024-11-04T13:51:35.304844829Z',\n",
      "  'datasetName': 'Crop-Weed-Detection-Dataset-1',\n",
      "  'datasetVersion': 'v1.0',\n",
      "  'indexToCat': {},\n",
      "  'modelCheckpoint': 'auto',\n",
      "  'modelConfig': {'_idDataset': '6728cacb0623cf13c1a4574b',\n",
      "                  'batch': 8,\n",
      "                  'cos_lr': False,\n",
      "                  'dataset_version': 'v1.0',\n",
      "                  'docker': '285699223019.dkr.ecr.us-west-2.amazonaws.com/yolov8_detection:dev',\n",
      "                  'epochs': 60,\n",
      "                  'learning_rate': 0.001,\n",
      "                  'model_inputs': ['image'],\n",
      "                  'model_key': 'yolov8n',\n",
      "                  'model_name': 'YOLOv8 Nano',\n",
      "                  'model_outputs': ['detection'],\n",
      "                  'momentum': 0.95,\n",
      "                  'optimizer': 'auto',\n",
      "                  'primary_metric': 'mAP@50',\n",
      "                  'target_runtime': ['PyTorch'],\n",
      "                  'weight_decay': 0.0005},\n",
      "  'modelConfigHash': 'bf9cde99f4b7b197ceb499473c1a328a8c20bf61f286b4b5bf8f506a07aacb87',\n",
      "  'modelInputs': ['image'],\n",
      "  'modelKey': 'yolov8n',\n",
      "  'modelName': 'YOLOv8 Nano',\n",
      "  'modelOutputs': ['detection'],\n",
      "  'modelTrainName': 'Crop-Weed-Detection-Experiment-1',\n",
      "  'paramsMillions': 3.2,\n",
      "  'primaryMetric': 'mAP@50',\n",
      "  'status': 'queued',\n",
      "  'targetRuntime': ['PyTorch'],\n",
      "  'testScore': 0,\n",
      "  'testSplitResult': [],\n",
      "  'trainingFramework': 'PyTorch',\n",
      "  'tuningType': 'default',\n",
      "  'updatedAt': '2024-11-04T13:51:35.304845841Z',\n",
      "  'valScore': 0,\n",
      "  'valSplitResult': []}]\n"
     ]
    }
   ],
   "source": [
    "train_resp , msg , err = E.add_models_for_training(train_instance,train_config)\n",
    "print(\"------------Model added for training----------\")\n",
    "pprint.pprint(train_resp)"
   ]
  },
  {
   "cell_type": "code",
   "execution_count": null,
   "metadata": {},
   "outputs": [],
   "source": [
    "import time\n",
    "from matrice.action import Action\n",
    "\n",
    "# Define the action ID and the status you want to check\n",
    "action_id = train_resp[0]['_idActionStatus']\n",
    "success_status = 'SUCCESS'\n",
    "\n",
    "# Function to check the status of the action\n",
    "def check_action_status(S, action_id):\n",
    "    A = Action(S, action_id)\n",
    "    print(\"---------------------\")\n",
    "    print(f\"Action ID: {action_id}\")\n",
    "    print(f\"Current Status: {A.status}\")\n",
    "    print(f\"Step Code: {A.step_code}\")\n",
    "    print(f\"Action service is : {A.service_name}\")\n",
    "    print(\"---------------------\")\n",
    "    return A.status\n",
    "\n",
    "# Loop to check status every 2 minutes until it is 'success'\n",
    "while True:\n",
    "    status = check_action_status(S, action_id)\n",
    "    if status == success_status:\n",
    "        print(\"Action status is 'success'. Model is successfully trained.\")\n",
    "        break\n",
    "    else:\n",
    "        print(\"Model is training. Waiting 10 minutes before checking again.\")\n",
    "        time.sleep(200)  # Wait for 10 minutes (600 seconds)\n"
   ]
  },
  {
   "cell_type": "code",
   "execution_count": null,
   "metadata": {},
   "outputs": [],
   "source": [
    "model_id = train_resp[0]['_id']\n",
    "print(f\"Model ID from response data: {model_id}\")\n",
    "    \n",
    "\n",
    "# Initialize the Model class with the model_id\n",
    "M = Model(S, model_id)\n",
    "print(\"A Model instance has been initialized : \", M)"
   ]
  },
  {
   "cell_type": "code",
   "execution_count": null,
   "metadata": {},
   "outputs": [],
   "source": [
    "# Print the test score, validation score, and best epoch\n",
    "print(f\"Test Score: {M.test_score}\")\n",
    "print(f\"Validation Score: {M.val_score}\")\n",
    "print(f\"Best Epoch: {M.best_epoch}\")"
   ]
  },
  {
   "cell_type": "code",
   "execution_count": null,
   "metadata": {},
   "outputs": [],
   "source": [
    "M.plot_epochs_losses()"
   ]
  },
  {
   "cell_type": "code",
   "execution_count": null,
   "metadata": {},
   "outputs": [],
   "source": [
    "M.plot_epochs_metrics()"
   ]
  },
  {
   "cell_type": "code",
   "execution_count": null,
   "metadata": {},
   "outputs": [],
   "source": [
    "M.plot_eval_results()"
   ]
  },
  {
   "cell_type": "code",
   "execution_count": null,
   "metadata": {},
   "outputs": [],
   "source": [
    "import os\n",
    "import random\n",
    "import requests\n",
    "from PIL import Image\n",
    "import matplotlib.pyplot as plt\n",
    "import matplotlib.patches as patches\n",
    "\n",
    "\n",
    "# Define the folder path containing the images\n",
    "folder_path = r\"<path_to_test_folder>\"\n",
    "\n",
    "\n",
    "# Get a list of all image files in the folder\n",
    "image_files = [os.path.join(folder_path, f) for f in os.listdir(folder_path) if f.endswith(('.jpg', '.jpeg', '.png'))]\n",
    "\n",
    "# Randomly select 10 images from the folder\n",
    "random_images = random.sample(image_files, 10)\n",
    "\n",
    "\n",
    "# Loop through the selected images and send the prediction request\n",
    "for image_file in random_images:\n",
    "    \n",
    "    result, error, message = M.get_prediction(image_file)\n",
    "\n",
    "    if error:\n",
    "        print(f\"Error: {error}\")\n",
    "        continue\n",
    "\n",
    "    # Extract prediction data from the result\n",
    "    predictions = result\n",
    "\n",
    "    # Open the image\n",
    "    image = Image.open(image_file)\n",
    "    plt.figure(figsize=(10, 10))\n",
    "    fig, ax = plt.subplots(1)\n",
    "    ax.imshow(image)\n",
    "\n",
    "    # Draw bounding boxes and labels\n",
    "    for prediction in predictions:\n",
    "        category = prediction[\"category\"]\n",
    "        confidence = prediction[\"confidence\"]\n",
    "        bbox = prediction[\"bounding_box\"]\n",
    "\n",
    "        # Extract the bounding box coordinates\n",
    "        xmin, ymin, xmax, ymax = bbox[\"xmin\"], bbox[\"ymin\"], bbox[\"xmax\"], bbox[\"ymax\"]\n",
    "        width, height = xmax - xmin, ymax - ymin\n",
    "\n",
    "        # Create a Rectangle patch\n",
    "        rect = plt.Rectangle((xmin, ymin), width, height, linewidth=2, edgecolor='r', facecolor='none')\n",
    "        ax.add_patch(rect)\n",
    "        plt.text(xmin, ymin, f\"{category} ({confidence:.2f})\", bbox=dict(facecolor='yellow', alpha=0.5))\n",
    "\n",
    "    plt.show()\n"
   ]
  },
  {
   "cell_type": "code",
   "execution_count": null,
   "metadata": {},
   "outputs": [],
   "source": [
    "M.download_model(file_name=\"model.pt\")"
   ]
  },
  {
   "cell_type": "code",
   "execution_count": null,
   "metadata": {},
   "outputs": [],
   "source": [
    "export_config = train_instance.get_default_export_config(\"ONNX\") # Get the default export config for export format user wants (here ONNX)\n",
    "print(\"Export Config for ONNX:\")\n",
    "pprint.pprint(export_config)"
   ]
  },
  {
   "cell_type": "code",
   "execution_count": null,
   "metadata": {},
   "outputs": [],
   "source": [
    "Exported , A = P.create_model_export(model_id,\"ONNX\",export_config)\n",
    "\n",
    "print(\"Model Export class has been initialized :\", E)   \n",
    "print(\"----------------------------\")\n",
    "print(f\"Export ID: {Exported.model_export_id}\")\n",
    "print(f\"Export Name: {Exported.model_export_name}\")\n",
    "print(f\"Action ID: {A.action_id}\")\n",
    "print(f\"Action Status: {A.status}\")\n",
    "print(\"----------------------------\")"
   ]
  },
  {
   "cell_type": "code",
   "execution_count": null,
   "metadata": {},
   "outputs": [],
   "source": [
    "Vars.set(\"model_export_id\", Exported.model_export_id)\n",
    "Vars.set(\"model_export_name\", Exported.model_export_name)"
   ]
  },
  {
   "cell_type": "code",
   "execution_count": null,
   "metadata": {},
   "outputs": [],
   "source": [
    "import time\n",
    "from matrice.action import Action\n",
    "\n",
    "# Define the action ID and the status you want to check\n",
    "action_id = A.action_id\n",
    "success_status = 'SUCCESS'\n",
    "\n",
    "# Function to check the status of the action\n",
    "def check_action_status(S, action_id):\n",
    "    A = Action(S, action_id)\n",
    "    print(\"---------------------\")\n",
    "    print(f\"Action ID: {action_id}\")\n",
    "    print(f\"Current Status: {A.status}\")\n",
    "    print(f\"Step Code: {A.step_code}\")\n",
    "    print(f\"Action service is : {A.service_name}\")\n",
    "    print(\"---------------------\")\n",
    "    return A.status\n",
    "\n",
    "# Loop to check status every 1.5 minutes until it is 'success'\n",
    "while True:\n",
    "    status = check_action_status(S, action_id)\n",
    "    if status == success_status:\n",
    "        print(\"Action status is 'success'. Model is successfully exported.\")\n",
    "        break\n",
    "    else:\n",
    "        print(\"Model is exporting. Waiting 2 minutes before checking again.\")\n",
    "        time.sleep(90)  # Wait for 1.5 minutes (90 seconds)\n"
   ]
  },
  {
   "cell_type": "code",
   "execution_count": null,
   "metadata": {},
   "outputs": [],
   "source": [
    "Exported.download_model(file_name=\"model.onnx\")"
   ]
  },
  {
   "cell_type": "code",
   "execution_count": null,
   "metadata": {},
   "outputs": [],
   "source": [
    "deployment , deployment_action = P.create_deployment(\n",
    "    model_id = Vars.get('model_export_id'),  # It can also be model_train_id depending on the model you want to deploy\n",
    "    deployment_name = \"deployment_name\",\n",
    "    shutdown_threshold=20\n",
    ")"
   ]
  },
  {
   "cell_type": "code",
   "execution_count": null,
   "metadata": {},
   "outputs": [],
   "source": [
    "key_resp = deployment.create_auth_key()\n",
    "auth_key = key_resp['key']"
   ]
  },
  {
   "cell_type": "code",
   "execution_count": null,
   "metadata": {},
   "outputs": [],
   "source": [
    "Vars.set(\"deployment_id\", deployment.deployment_id)\n",
    "Vars.set(\"deployment_name\", deployment.deployment_name)\n",
    "Vars.set(\"auth_key\", auth_key)"
   ]
  },
  {
   "cell_type": "code",
   "execution_count": null,
   "metadata": {},
   "outputs": [],
   "source": [
    "import os\n",
    "import random\n",
    "import requests\n",
    "from PIL import Image\n",
    "import matplotlib.pyplot as plt\n",
    "import matplotlib.patches as patches\n",
    "\n",
    "\n",
    "# Define the folder path containing the images\n",
    "folder_path = r\"<path_to_test_folder>\"\n",
    "\n",
    "\n",
    "# Get a list of all image files in the folder\n",
    "image_files = [os.path.join(folder_path, f) for f in os.listdir(folder_path) if f.endswith(('.jpg', '.jpeg', '.png'))]\n",
    "\n",
    "# Randomly select 10 images from the folder\n",
    "random_images = random.sample(image_files, 10)\n",
    "\n",
    "\n",
    "# Loop through the selected images and send the prediction request\n",
    "for image_file in random_images:\n",
    "    \n",
    "    result, error, message = deployment.get_prediction(auth_key,image_file)\n",
    "\n",
    "    if error:\n",
    "        print(f\"Error: {error}\")\n",
    "        continue\n",
    "\n",
    "    # Extract prediction data from the result\n",
    "    predictions = result\n",
    "\n",
    "    # Open the image\n",
    "    image = Image.open(image_file)\n",
    "    plt.figure(figsize=(10, 10))\n",
    "    fig, ax = plt.subplots(1)\n",
    "    ax.imshow(image)\n",
    "\n",
    "    # Draw bounding boxes and labels\n",
    "    for prediction in predictions:\n",
    "        category = prediction[\"category\"]\n",
    "        confidence = prediction[\"confidence\"]\n",
    "        bbox = prediction[\"bounding_box\"]\n",
    "\n",
    "        # Extract the bounding box coordinates\n",
    "        xmin, ymin, xmax, ymax = bbox[\"xmin\"], bbox[\"ymin\"], bbox[\"xmax\"], bbox[\"ymax\"]\n",
    "        width, height = xmax - xmin, ymax - ymin\n",
    "\n",
    "        # Create a Rectangle patch\n",
    "        rect = plt.Rectangle((xmin, ymin), width, height, linewidth=2, edgecolor='r', facecolor='none')\n",
    "        ax.add_patch(rect)\n",
    "        plt.text(xmin, ymin, f\"{category} ({confidence:.2f})\", bbox=dict(facecolor='yellow', alpha=0.5))\n",
    "\n",
    "    plt.show()\n"
   ]
  }
 ],
 "metadata": {
  "kernelspec": {
   "display_name": "base",
   "language": "python",
   "name": "python3"
  },
  "language_info": {
   "codemirror_mode": {
    "name": "ipython",
    "version": 3
   },
   "file_extension": ".py",
   "mimetype": "text/x-python",
   "name": "python",
   "nbconvert_exporter": "python",
   "pygments_lexer": "ipython3",
   "version": "3.11.5"
  }
 },
 "nbformat": 4,
 "nbformat_minor": 2
}

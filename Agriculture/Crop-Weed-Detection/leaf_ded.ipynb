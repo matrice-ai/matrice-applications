{
 "cells": [
  {
   "cell_type": "code",
   "execution_count": 2,
   "id": "3a4e7c9c-5358-404b-ab43-caa28a827c92",
   "metadata": {},
   "outputs": [],
   "source": [
    "import yaml\n",
    "import os\n",
    "\n",
    "class Vars:\n",
    "    _data = {}\n",
    "    _path = None\n",
    "\n",
    "    @classmethod\n",
    "    def initialize(cls, path):\n",
    "        cls._path = path\n",
    "        cls._data = cls.load()\n",
    "\n",
    "    @classmethod\n",
    "    def load(cls):\n",
    "        if cls._path and os.path.exists(cls._path):\n",
    "            with open(cls._path, 'r') as f:\n",
    "                return yaml.safe_load(f)\n",
    "        return {}\n",
    "\n",
    "    @classmethod\n",
    "    def get(cls, key):\n",
    "        if key not in cls._data:\n",
    "            raise KeyError(f\"Variable {key} not found\")\n",
    "        return cls._data[key]\n",
    "\n",
    "    @classmethod\n",
    "    def set(cls, key, value):\n",
    "        cls._data[key] = value\n",
    "        with open(cls._path, 'w') as f:\n",
    "            yaml.safe_dump(cls._data, f, default_flow_style=False)"
   ]
  },
  {
   "cell_type": "code",
   "execution_count": 3,
   "id": "d05e8106-cb03-4eb4-8c7b-d76d73631252",
   "metadata": {},
   "outputs": [],
   "source": [
    "Vars.initialize('vars.yaml')"
   ]
  },
  {
   "cell_type": "code",
   "execution_count": 4,
   "id": "c764a407-7f7a-49ab-8858-76967db076a7",
   "metadata": {},
   "outputs": [],
   "source": [
    "Vars.set(\"ENV\", \"prod\")\n",
    "Vars.set(\"MATRICE_ACCESS_KEY_ID\", \"CL0F6ORVHBJHATJ047TZ7\")\n",
    "Vars.set(\"MATRICE_SECRET_ACCESS_KEY\", \"XFKI2KM8POMGRVUTXJSPP\")\n",
    "Vars.set(\"MATRICE_ACCOUNT_NUMBER\", \"9782886768719887307619115\")"
   ]
  },
  {
   "cell_type": "code",
   "execution_count": 5,
   "id": "ee66cd5d-1fd3-4695-9f2c-829581c4c594",
   "metadata": {},
   "outputs": [],
   "source": [
    "import os\n",
    "os.environ['ENV'] = Vars.get('ENV')\n",
    "access_key = Vars.get('MATRICE_ACCESS_KEY_ID')\n",
    "secret_key = Vars.get('MATRICE_SECRET_ACCESS_KEY')\n",
    "account_number = Vars.get('MATRICE_ACCOUNT_NUMBER')"
   ]
  },
  {
   "cell_type": "code",
   "execution_count": 6,
   "id": "7c74d560-3966-4c9b-ba8c-9c98d4085a81",
   "metadata": {},
   "outputs": [],
   "source": [
    "from matrice.session import Session\n",
    "from matrice.projects import Projects\n",
    "from matrice.dataset import Dataset\n",
    "from matrice.models import Model\n",
    "from matrice.deployment import Deployment\n",
    "from matrice.exported_model import ExportedModel\n",
    "import sys\n",
    "import os"
   ]
  },
  {
   "cell_type": "code",
   "execution_count": 7,
   "id": "bdde39df-d9a6-48b2-93b9-70a76b1a8471",
   "metadata": {},
   "outputs": [
    {
     "name": "stdout",
     "output_type": "stream",
     "text": [
      "A Session has been initialized: <matrice.session.Session object at 0x000001B6BFF132E0>\n"
     ]
    }
   ],
   "source": [
    "session_instance = Session(account_number=account_number, access_key=access_key, secret_key=secret_key)\n",
    "print(\"A Session has been initialized:\", session_instance)"
   ]
  },
  {
   "cell_type": "code",
   "execution_count": 8,
   "id": "3ebc2777-4b5a-4c96-a992-1b485aefa7e6",
   "metadata": {},
   "outputs": [
    {
     "name": "stdout",
     "output_type": "stream",
     "text": [
      "Message: Projects fetched successfully\n",
      "Project Name: pothole_segmentation | Project ID: 682c34770a1d0e31e05fe361\n",
      "Project Name: leaf_disease_Det | Project ID: 682db81c0a1d0e31e05fecd6\n",
      "Project Name: wound_seg | Project ID: 682daae50a1d0e31e05fec28\n",
      "Project Name: intrusion_fencing | Project ID: 682da07c0a1d0e31e05feb85\n",
      "Project Name: traffic_density | Project ID: 682ad0870a1d0e31e05fdec9\n",
      "Project Name: final_theft | Project ID: 68231ab80a1d0e31e05fbded\n",
      "Project Name: liver_tum | Project ID: 682c3e5b0a1d0e31e05fe3af\n",
      "Project Name: field_water_segmentation | Project ID: 6826f0240a1d0e31e05fce17\n",
      "Project Name: Brain_tumor_sef_final | Project ID: 6825a95f0a1d0e31e05fc731\n",
      "Project Name: road_view_seg | Project ID: 6826e9b90a1d0e31e05fcdcf\n"
     ]
    }
   ],
   "source": [
    "projects_list, msg = session_instance.list_projects(project_type=\"detection\")\n",
    "\n",
    "# Check if there is a message or error\n",
    "if msg:\n",
    "    print(f\"Message: {msg}\")\n",
    "\n",
    "# Print the projects in a formatted manner\n",
    "for project_name, project_instance in projects_list.items():\n",
    "    print(f\"Project Name: {project_name} | Project ID: {project_instance.project_id}\") #To fix: ERROR: May return none and give error if proj is empty list"
   ]
  },
  {
   "cell_type": "code",
   "execution_count": 9,
   "id": "fd5f69f6-efeb-4816-a810-50fd3c2e3874",
   "metadata": {},
   "outputs": [
    {
     "name": "stdout",
     "output_type": "stream",
     "text": [
      "Project 'leaf_disease_Det' already exists. Initialized Projects instance.\n"
     ]
    }
   ],
   "source": [
    "project_name = \"leaf_disease_Det\"\n",
    "for name, project_instance in projects_list.items():\n",
    "    if name == project_name:\n",
    "        projects_instance = Projects(session_instance, project_name=project_name)\n",
    "        session_instance.update(projects_instance.project_id)\n",
    "        print(f\"Project '{project_name}' already exists. Initialized Projects instance.\")\n",
    "        project_exists = True\n",
    "        break\n",
    "    else:\n",
    "        project_exists = False\n",
    "\n",
    "if project_exists == False:\n",
    "    print(f\"Creating a new project: {project_name}\")"
   ]
  },
  {
   "cell_type": "code",
   "execution_count": 10,
   "id": "73a3a140-81a3-4f4a-b0c7-c2d2c154235c",
   "metadata": {},
   "outputs": [
    {
     "name": "stdout",
     "output_type": "stream",
     "text": [
      "Project already exists with ID: 682db81c0a1d0e31e05fecd6 and Name: leaf_disease_Det\n",
      "----------------------------\n",
      "Project ID: 682db81c0a1d0e31e05fecd6\n",
      "Project Name: leaf_disease_Det\n",
      "----------------------------\n"
     ]
    }
   ],
   "source": [
    "import pprint\n",
    "\n",
    "name = project_name\n",
    "\n",
    "# Function to create a project\n",
    "def create_project():\n",
    "    project_name = name\n",
    "    input_type = \"image\"\n",
    "    output_type = \"detection\"\n",
    "\n",
    "    enabled_platforms = {\n",
    "        \"matrice\": True,\n",
    "        \"android\": False,\n",
    "        \"ios\": False,\n",
    "        \"tpu\": False,\n",
    "        \"intelCPU\": False,\n",
    "        \"gcloudGPU\": False\n",
    "    }\n",
    "\n",
    "    resp, error = session_instance._create_project(project_name, input_type, output_type)\n",
    "    if error:\n",
    "        print(f\"Error: {error}\")\n",
    "        return None, None\n",
    "    else:\n",
    "        print(f\"Project created with ID: {resp['_id']}\")\n",
    "        return resp['_id'], resp['name']\n",
    "\n",
    "# Check if project_id and project_name exist\n",
    "project_id = None\n",
    "project_name = None\n",
    "\n",
    "if not project_exists:\n",
    "    project_id, project_name = create_project()\n",
    "else:\n",
    "    project_id = projects_instance.project_id\n",
    "    project_name = projects_instance.project_name\n",
    "    print(f\"Project already exists with ID: {project_id} and Name: {project_name}\")\n",
    "\n",
    "\n",
    "print(\"----------------------------\")\n",
    "print(f\"Project ID: {project_id}\")\n",
    "print(f\"Project Name: {project_name}\")\n",
    "print(\"----------------------------\")\n"
   ]
  },
  {
   "cell_type": "code",
   "execution_count": 11,
   "id": "888c01f8-d7d3-447d-9455-6edcc186c9dc",
   "metadata": {},
   "outputs": [],
   "source": [
    "Vars.set(\"project_name\",project_name)\n",
    "Vars.set(\"project_id\", project_id)"
   ]
  },
  {
   "cell_type": "code",
   "execution_count": 12,
   "id": "00a12b87-5741-4b15-a57a-8ff72cb81321",
   "metadata": {},
   "outputs": [
    {
     "name": "stdout",
     "output_type": "stream",
     "text": [
      "A Project class has been initialized <matrice.projects.Projects object at 0x000001B6C0230160>\n"
     ]
    }
   ],
   "source": [
    "session_instance.update(project_id)\n",
    "project_instance = Projects(session_instance, project_name=project_name)\n",
    "print(\"A Project class has been initialized\",project_instance)"
   ]
  },
  {
   "cell_type": "code",
   "execution_count": 13,
   "id": "160cf5b2-2f6c-47aa-b0a7-6c66ceca911a",
   "metadata": {},
   "outputs": [],
   "source": [
    "dataset=Dataset(session_instance, dataset_id='682db84677c12201804fa725')"
   ]
  },
  {
   "cell_type": "code",
   "execution_count": 14,
   "id": "cbf480f3-4c4c-47ca-baed-04dc45ac6be2",
   "metadata": {},
   "outputs": [
    {
     "name": "stdout",
     "output_type": "stream",
     "text": [
      "Dataset ID: 682db84677c12201804fa725\n"
     ]
    }
   ],
   "source": [
    "dataset_id = dataset.dataset_id\n",
    "# action_id = dataset_action.action_id\n",
    "\n",
    "print(f\"Dataset ID: {dataset_id}\")\n",
    "# print(f\"Action ID: {action_id}\")"
   ]
  },
  {
   "cell_type": "code",
   "execution_count": 15,
   "id": "7c20d3e9-aaeb-4bb5-9c22-82652c3243cc",
   "metadata": {},
   "outputs": [],
   "source": [
    "Vars.set(\"dataset_id\", dataset.dataset_id)\n",
    "# Vars.set(\"dataset_action_id\", dataset_action.action_id)"
   ]
  },
  {
   "cell_type": "code",
   "execution_count": 16,
   "id": "c4d794f6-f642-4b4f-8724-389293d67ac2",
   "metadata": {},
   "outputs": [
    {
     "name": "stdout",
     "output_type": "stream",
     "text": [
      "Dataset ID: 682db84677c12201804fa725\n",
      "Dataset Name: Untitled Dataset 2025-05-21 16:55:34\n",
      "Version Status: processed\n",
      "Latest Version: v1.0\n",
      "Number of Samples: 7653\n",
      "Number of Classes: 10\n",
      "Number of Versions: 1\n",
      "Last Updated At: 2025-05-21T11:29:25.098Z\n"
     ]
    }
   ],
   "source": [
    "def print_dataset_info(dataset):\n",
    "   \n",
    "    dataset_id = dataset.dataset_details['_id']\n",
    "    dataset_name = dataset.dataset_details['name']\n",
    "    version_status = dataset.dataset_details.get(\"stats\", [{}])[0].get(\"versionStatus\")\n",
    "    latest_version = dataset.dataset_details['latestVersion']\n",
    "    no_of_samples = sum(version['versionStats']['total'] for version in dataset.dataset_details.get('stats', []))\n",
    "    no_of_classes = len(dataset.dataset_details.get('stats', [{}])[0].get('classStat', {}))\n",
    "    no_of_versions = len(dataset.dataset_details.get('allVersions', []))\n",
    "    last_updated_at = dataset.dataset_details.get('updatedAt')\n",
    "\n",
    "    print(f\"Dataset ID: {dataset_id}\")\n",
    "    print(f\"Dataset Name: {dataset_name}\")\n",
    "    print(f\"Version Status: {version_status}\")\n",
    "    print(f\"Latest Version: {latest_version}\")\n",
    "    print(f\"Number of Samples: {no_of_samples}\")\n",
    "    print(f\"Number of Classes: {no_of_classes}\")\n",
    "    print(f\"Number of Versions: {no_of_versions}\")\n",
    "    print(f\"Last Updated At: {last_updated_at}\")\n",
    "\n",
    "# dataset.refresh()   \n",
    "print_dataset_info(dataset)"
   ]
  },
  {
   "cell_type": "code",
   "execution_count": 17,
   "id": "8127cacd-da5a-4dbe-bc76-e3a4ff0b58a0",
   "metadata": {},
   "outputs": [
    {
     "name": "stdout",
     "output_type": "stream",
     "text": [
      "----List of available Detection models on platform----\n",
      "ID: 675fea73ab963894d8458c2f, Model Family Name: YOLOv8\n",
      "ID: 6760387eab963894d8458df1, Model Family Name: YOLOv10\n",
      "ID: 6762604ed6db1ef9132e84e8, Model Family Name: D-FINE\n",
      "ID: 676adcc77c6d00452fe89859, Model Family Name: RT-DETR\n",
      "ID: 67c8441e50c1cabe4d0991c3, Model Family Name: YOLOv9\n"
     ]
    }
   ],
   "source": [
    "from matrice.model_store import get_all_model_families \n",
    "\n",
    "resp , error , mesage = get_all_model_families( session_instance , project_id , project_type=\"detection\" )\n",
    "print(\"----List of available Detection models on platform----\")\n",
    "# Iterate through each model family in the response\n",
    "for model_family in resp:\n",
    "    # Extract _id and modelFamily (model family name)\n",
    "    model_family_id = model_family.get('_id')\n",
    "    name = model_family.get('modelFamily')\n",
    "    \n",
    "    # Print in formatted manner\n",
    "    print(f\"ID: {model_family_id}, Model Family Name: {name}\")"
   ]
  },
  {
   "cell_type": "code",
   "execution_count": 18,
   "id": "d541c44f-8b1d-4dac-9810-283a0a82cadd",
   "metadata": {},
   "outputs": [
    {
     "name": "stdout",
     "output_type": "stream",
     "text": [
      "A ModelFamily instance has been initialized <matrice.model_store.ModelFamily object at 0x000001B6C034A9B0>\n"
     ]
    }
   ],
   "source": [
    "from matrice.model_store import ModelFamily\n",
    "\n",
    "model_family_id = \"67c8441e50c1cabe4d0991c3\"\n",
    "# Initialize the ModelFamily instance after choosing a Model Family\n",
    "model_family_instance = ModelFamily(session_instance, model_family_id=model_family_id) # Update with the model family ID of your choice\n",
    "print(\"A ModelFamily instance has been initialized\",model_family_instance)"
   ]
  },
  {
   "cell_type": "code",
   "execution_count": 19,
   "id": "0043b04e-f341-47bd-931b-5363f1778e87",
   "metadata": {},
   "outputs": [
    {
     "name": "stdout",
     "output_type": "stream",
     "text": [
      "{'yolov9c': <matrice.model_store.ModelArch object at 0x000001B6C07DD900>,\n",
      " 'yolov9e': <matrice.model_store.ModelArch object at 0x000001B6C07DC490>,\n",
      " 'yolov9m': <matrice.model_store.ModelArch object at 0x000001B6C07DF370>,\n",
      " 'yolov9s': <matrice.model_store.ModelArch object at 0x000001B6C07DE230>,\n",
      " 'yolov9t': <matrice.model_store.ModelArch object at 0x000001B6C07DC7C0>}\n",
      "ID: 67c8441e50c1cabe4d0991c4 | Model Name: YOLOv9-Tiny | Model Key: yolov9t | Params in Millions: 2\n",
      "ID: 67c8441e50c1cabe4d0991c5 | Model Name: YOLOv9-Small | Model Key: yolov9s | Params in Millions: 7.2\n",
      "ID: 67c8441e50c1cabe4d0991c6 | Model Name: YOLOv9-Medium | Model Key: yolov9m | Params in Millions: 20.1\n",
      "ID: 67c8441e50c1cabe4d0991c7 | Model Name: YOLOv9-Compact | Model Key: yolov9c | Params in Millions: 25.5\n",
      "ID: 67c8441e50c1cabe4d0991c8 | Model Name: YOLOv9-Xtra | Model Key: yolov9e | Params in Millions: 58.1\n"
     ]
    }
   ],
   "source": [
    "# Fetch model architectures\n",
    "import pprint\n",
    "arch_resp, error, message = model_family_instance.get_model_archs()\n",
    "if error:\n",
    "    print(f\"Error: {error}\")\n",
    "else:\n",
    "    pprint.pprint(arch_resp)\n",
    "    # Check if resp is a list or a dictionary\n",
    "    if isinstance(arch_resp, list):\n",
    "        # Iterate through each model info in the list\n",
    "        for model_info in arch_resp:\n",
    "            model_key = model_info[\"model_key\"]\n",
    "            model_arch_instance = model_info[\"model_arch_instance\"]\n",
    "            \n",
    "            # Extract model information\n",
    "            model_info_id = model_arch_instance.model_arch_id\n",
    "            name = model_arch_instance.model_name\n",
    "            key = model_arch_instance.model_key\n",
    "            params = model_arch_instance.params_millions\n",
    "\n",
    "            # Print in formatted manner\n",
    "            print(f\"ID: {model_info_id} |  Model Name: {name} | Model Key: {key} | Params in Millions: {params}\")\n",
    "            \n",
    "    elif isinstance(arch_resp, dict):\n",
    "        # Iterate through each model key in the dictionary\n",
    "        for model_key, model_arch_instance in arch_resp.items():\n",
    "            # Extract model information\n",
    "            model_info_id = model_arch_instance.model_arch_id\n",
    "            name = model_arch_instance.model_name\n",
    "            key = model_arch_instance.model_key\n",
    "            params = model_arch_instance.params_millions\n",
    "\n",
    "            # Print in formatted manner\n",
    "            print(f\"ID: {model_info_id} | Model Name: {name} | Model Key: {key} | Params in Millions: {params}\")"
   ]
  },
  {
   "cell_type": "code",
   "execution_count": 20,
   "id": "360f7c69-b7e4-41f2-a102-55182b112ab0",
   "metadata": {},
   "outputs": [
    {
     "name": "stdout",
     "output_type": "stream",
     "text": [
      "Chosen Training Architecture : yolov9m\n",
      "Model Architecture instance initialized for chosen training architecture : <matrice.model_store.ModelArch object at 0x000001B6C07DF370>\n"
     ]
    }
   ],
   "source": [
    "from matrice.model_store import ModelArch\n",
    "train_arch = 'yolov9m' \n",
    "print(\"Chosen Training Architecture :\" ,train_arch)\n",
    "model_arch_instance = arch_resp.get(train_arch)\n",
    "print(\"Model Architecture instance initialized for chosen training architecture :\", model_arch_instance)"
   ]
  },
  {
   "cell_type": "code",
   "execution_count": 21,
   "id": "857292fe-8a15-4b0b-88c1-314b18a8a492",
   "metadata": {},
   "outputs": [
    {
     "name": "stdout",
     "output_type": "stream",
     "text": [
      "-----Default Train Config------\n",
      "{'action_config': {},\n",
      " 'checkpoint_type': 'predefined',\n",
      " 'is_autoML': False,\n",
      " 'model_arch_id': '67c8441e50c1cabe4d0991c6',\n",
      " 'model_checkpoint': 'auto',\n",
      " 'model_config': {'batch_size': [16],\n",
      "                  'cos_lr': [False],\n",
      "                  'epochs': [50],\n",
      "                  'learning_rate': [0.001],\n",
      "                  'momentum': [0.95],\n",
      "                  'optimizer': ['auto'],\n",
      "                  'weight_decay': [0.0005]},\n",
      " 'model_family_name': 'YOLOv9',\n",
      " 'model_inputs': ['image'],\n",
      " 'model_key': 'yolov9m',\n",
      " 'model_name': 'YOLOv9-Medium',\n",
      " 'model_outputs': ['detection'],\n",
      " 'params_millions': 20.1,\n",
      " 'tuning_type': 'default'}\n",
      "--------------------------------\n",
      "-------Training instance initialized--------\n"
     ]
    }
   ],
   "source": [
    "import pprint\n",
    "train_config = model_arch_instance.get_train_config()\n",
    "print(\"-----Default Train Config------\")\n",
    "pprint.pprint(train_config)\n",
    "print(\"--------------------------------\")\n",
    "print(\"-------Training instance initialized--------\")\n",
    "# print(train_instance)"
   ]
  },
  {
   "cell_type": "code",
   "execution_count": 22,
   "id": "9a84bf6e-3dc6-4acc-8cd3-91f9ad98f7ad",
   "metadata": {},
   "outputs": [
    {
     "name": "stdout",
     "output_type": "stream",
     "text": [
      "-----Updated Model Config------\n",
      "{'batch_size': [4],\n",
      " 'cos_lr': [True],\n",
      " 'epochs': [45],\n",
      " 'learning_rate': [0.0001],\n",
      " 'momentum': [0.99],\n",
      " 'optimizer': ['Adam'],\n",
      " 'weight_decay': [0.0005]}\n",
      "--------------------------------\n",
      "-----Updated Train Config------\n",
      "{'action_config': {},\n",
      " 'checkpoint_type': 'predefined',\n",
      " 'is_autoML': False,\n",
      " 'model_arch_id': '67c8441e50c1cabe4d0991c6',\n",
      " 'model_checkpoint': 'auto',\n",
      " 'model_config': {'batch_size': [4],\n",
      "                  'cos_lr': [True],\n",
      "                  'epochs': [45],\n",
      "                  'learning_rate': [0.0001],\n",
      "                  'momentum': [0.99],\n",
      "                  'optimizer': ['Adam'],\n",
      "                  'weight_decay': [0.0005]},\n",
      " 'model_family_name': 'YOLOv9',\n",
      " 'model_inputs': ['image'],\n",
      " 'model_key': 'yolov9m',\n",
      " 'model_name': 'YOLOv9-Medium',\n",
      " 'model_outputs': ['detection'],\n",
      " 'params_millions': 20.1,\n",
      " 'tuning_type': 'default'}\n",
      "--------------------------------\n"
     ]
    }
   ],
   "source": [
    "model_config = train_config['model_config']\n",
    "\n",
    "# Modify the model_config as needed\n",
    "# modifications:\n",
    "model_config['batch_size'] = [4]\n",
    "model_config['epochs'] = [45]  #These are hyper-parameters and can be changed\n",
    "model_config['learning_rate'] = [0.0001]\n",
    "model_config['momentum'] = [0.99]\n",
    "model_config['weight_decay'] = [0.0005]\n",
    "model_config['optimizer']=['Adam']\n",
    "model_config['cos_lr']=[True]\n",
    "'optimizer'\n",
    "\n",
    "\n",
    "# Repass the modified model_config into the train_config\n",
    "train_config['model_config'] = model_config\n",
    "\n",
    "# Print the updated train_config\n",
    "print(\"-----Updated Model Config------\")\n",
    "pprint.pprint(train_config['model_config'])\n",
    "print(\"--------------------------------\")\n",
    "\n",
    "# Print the updated train_config\n",
    "print(\"-----Updated Train Config------\")\n",
    "pprint.pprint(train_config)\n",
    "print(\"--------------------------------\")"
   ]
  },
  {
   "cell_type": "code",
   "execution_count": 23,
   "id": "1e78000d-1e8e-4c38-b469-4bff3925a7b5",
   "metadata": {},
   "outputs": [
    {
     "name": "stdout",
     "output_type": "stream",
     "text": [
      "[{'modelKey': 'yolov9m', 'autoML': False, 'tuningType': 'default', 'modelCheckpoint': 'auto', 'checkpointType': 'predefined', '_idModelArch': '67c8441e50c1cabe4d0991c6', 'modelFamilyName': 'YOLOv9', 'actionConfig': {}, 'modelConfig': {'epochs': [45], 'learning_rate': [0.0001], 'momentum': [0.99], 'weight_decay': [0.0005], 'optimizer': ['Adam'], 'cos_lr': [True], 'batch_size': [4]}, 'modelName': 'YOLOv9-Medium', 'paramsInMillion': 20.1, 'modelInputs': ['image'], 'modelOutputs': ['detection'], 'targetRuntime': ['PyTorch'], '_idDataset': '682db84677c12201804fa725', 'datasetVersion': 'v1.0', 'primaryMetric': 'precision', 'datasetName': 'Untitled Dataset 2025-05-21 16:55:34', 'computeAlias': ''}]\n",
      "{'success': True, 'code': 200, 'message': 'Success', 'serverTime': '2025-05-21T11:41:18Z', 'data': [{'_id': '682dbbdeba25d9750f40e2d3', '_idDataset': '682db84677c12201804fa725', '_idActionStatus': '682dbbde0a1d0e31e05fecfe', '_idModelFamily': '000000000000000000000000', '_idProject': '682db81c0a1d0e31e05fecd6', 'modelFamilyName': 'YOLOv9', '_idUser': '6818ba24f67509f1707380ca', 'modelKey': 'yolov9m', 'modelName': 'YOLOv9-Medium', 'autoML': False, 'paramsInMillion': 20.1, 'tuningType': 'default', 'trainingFramework': 'PyTorch', 'checkpointValue': '', 'checkpointType': 'predefined', 'primaryMetric': 'precision', 'testScore': 0, 'valScore': 0, 'datasetName': 'Untitled Dataset 2025-05-21 16:55:34', 'status': 'queued', 'datasetVersion': 'v1.0', 'modelInputs': ['image'], 'modelOutputs': ['detection'], 'inputFormat': ['YOLO'], 'targetRuntime': ['PyTorch'], 'actionConfig': {}, 'modelConfig': {'_idDataset': '682db84677c12201804fa725', 'batch_size': 4, 'cos_lr': True, 'dataset_version': 'v1.0', 'docker': 'aiforeveryone/yolov9_prod:prod', 'epochs': 45, 'learning_rate': 0.0001, 'model_inputs': ['image'], 'model_key': 'yolov9m', 'model_name': 'YOLOv9-Medium', 'model_outputs': ['detection'], 'momentum': 0.99, 'optimizer': 'Adam', 'primary_metric': 'precision', 'target_runtime': ['PyTorch'], 'weight_decay': 0.0005}, 'modelConfigHash': '4ec26f06ae84790186a4737d5cbdc4a8abb329d022adc9b2938ee216f33366a2', 'modelTrainName': '', 'valSplitResult': [], 'testSplitResult': [], 'indexToCat': {}, 'bestEpoch': -1, 'cloudPath': '', 'baseModelStoragePath': 'https://storage.googleapis.com/model-prod-matrice', 'storageCloudCredentials': '', 'createdAt': '2025-05-21T11:41:18.110053913Z', 'updatedAt': '2025-05-21T11:41:18.110053992Z'}]}\n",
      "------------Model added for training----------\n",
      "[{'_id': '682dbbdeba25d9750f40e2d3',\n",
      "  '_idActionStatus': '682dbbde0a1d0e31e05fecfe',\n",
      "  '_idDataset': '682db84677c12201804fa725',\n",
      "  '_idModelFamily': '000000000000000000000000',\n",
      "  '_idProject': '682db81c0a1d0e31e05fecd6',\n",
      "  '_idUser': '6818ba24f67509f1707380ca',\n",
      "  'actionConfig': {},\n",
      "  'autoML': False,\n",
      "  'baseModelStoragePath': 'https://storage.googleapis.com/model-prod-matrice',\n",
      "  'bestEpoch': -1,\n",
      "  'checkpointType': 'predefined',\n",
      "  'checkpointValue': '',\n",
      "  'cloudPath': '',\n",
      "  'createdAt': '2025-05-21T11:41:18.110053913Z',\n",
      "  'datasetName': 'Untitled Dataset 2025-05-21 16:55:34',\n",
      "  'datasetVersion': 'v1.0',\n",
      "  'indexToCat': {},\n",
      "  'inputFormat': ['YOLO'],\n",
      "  'modelConfig': {'_idDataset': '682db84677c12201804fa725',\n",
      "                  'batch_size': 4,\n",
      "                  'cos_lr': True,\n",
      "                  'dataset_version': 'v1.0',\n",
      "                  'docker': 'aiforeveryone/yolov9_prod:prod',\n",
      "                  'epochs': 45,\n",
      "                  'learning_rate': 0.0001,\n",
      "                  'model_inputs': ['image'],\n",
      "                  'model_key': 'yolov9m',\n",
      "                  'model_name': 'YOLOv9-Medium',\n",
      "                  'model_outputs': ['detection'],\n",
      "                  'momentum': 0.99,\n",
      "                  'optimizer': 'Adam',\n",
      "                  'primary_metric': 'precision',\n",
      "                  'target_runtime': ['PyTorch'],\n",
      "                  'weight_decay': 0.0005},\n",
      "  'modelConfigHash': '4ec26f06ae84790186a4737d5cbdc4a8abb329d022adc9b2938ee216f33366a2',\n",
      "  'modelFamilyName': 'YOLOv9',\n",
      "  'modelInputs': ['image'],\n",
      "  'modelKey': 'yolov9m',\n",
      "  'modelName': 'YOLOv9-Medium',\n",
      "  'modelOutputs': ['detection'],\n",
      "  'modelTrainName': '',\n",
      "  'paramsInMillion': 20.1,\n",
      "  'primaryMetric': 'precision',\n",
      "  'status': 'queued',\n",
      "  'storageCloudCredentials': '',\n",
      "  'targetRuntime': ['PyTorch'],\n",
      "  'testScore': 0,\n",
      "  'testSplitResult': [],\n",
      "  'trainingFramework': 'PyTorch',\n",
      "  'tuningType': 'default',\n",
      "  'updatedAt': '2025-05-21T11:41:18.110053992Z',\n",
      "  'valScore': 0,\n",
      "  'valSplitResult': []}]\n"
     ]
    }
   ],
   "source": [
    "train_resp, msg, err = project_instance.add_models_for_training(\n",
    "    train_config,\n",
    "    primary_metric='precision',   # or use 'IoU'\n",
    "    dataset_id=dataset.dataset_id,\n",
    "    dataset_name=dataset.dataset_name,\n",
    ")\n",
    "print(\"------------Model added for training----------\")\n",
    "pprint.pprint(train_resp)"
   ]
  },
  {
   "cell_type": "code",
   "execution_count": 24,
   "id": "fdb29a8b-7165-4180-9e8e-3f9fb959420a",
   "metadata": {},
   "outputs": [
    {
     "name": "stdout",
     "output_type": "stream",
     "text": [
      "---------------------\n",
      "Action ID       : 682dbbde0a1d0e31e05fecfe\n",
      "Current Status  : ACK\n",
      "Step Code       : SCLS_QUE_PROC\n",
      "Service Name    : be-model\n",
      "---------------------\n",
      "⏳ Model is still training. Waiting 10 minutes before checking again.\n",
      "---------------------\n",
      "Action ID       : 682dbbde0a1d0e31e05fecfe\n",
      "Current Status  : OK\n",
      "Step Code       : SCLS_LNCH_CMPI\n",
      "Service Name    : be-model\n",
      "---------------------\n",
      "⏳ Model is still training. Waiting 10 minutes before checking again.\n",
      "---------------------\n",
      "Action ID       : 682dbbde0a1d0e31e05fecfe\n",
      "Current Status  : OK\n",
      "Step Code       : SCLS_LNCH_CMPI\n",
      "Service Name    : be-model\n",
      "---------------------\n",
      "⏳ Model is still training. Waiting 10 minutes before checking again.\n",
      "---------------------\n",
      "Action ID       : 682dbbde0a1d0e31e05fecfe\n",
      "Current Status  : OK\n",
      "Step Code       : SCLS_LNCH_CMPI\n",
      "Service Name    : be-model\n",
      "---------------------\n",
      "⏳ Model is still training. Waiting 10 minutes before checking again.\n",
      "---------------------\n",
      "Action ID       : 682dbbde0a1d0e31e05fecfe\n",
      "Current Status  : OK\n",
      "Step Code       : MDL_TRN_STR\n",
      "Service Name    : be-model\n",
      "---------------------\n",
      "⏳ Model is still training. Waiting 10 minutes before checking again.\n",
      "---------------------\n",
      "Action ID       : 682dbbde0a1d0e31e05fecfe\n",
      "Current Status  : OK\n",
      "Step Code       : MDL_TRN_STR\n",
      "Service Name    : be-model\n",
      "---------------------\n",
      "⏳ Model is still training. Waiting 10 minutes before checking again.\n",
      "---------------------\n",
      "Action ID       : 682dbbde0a1d0e31e05fecfe\n",
      "Current Status  : OK\n",
      "Step Code       : MDL_TRN_STR\n",
      "Service Name    : be-model\n",
      "---------------------\n",
      "⏳ Model is still training. Waiting 10 minutes before checking again.\n",
      "---------------------\n",
      "Action ID       : 682dbbde0a1d0e31e05fecfe\n",
      "Current Status  : OK\n",
      "Step Code       : MDL_TRN_STR\n",
      "Service Name    : be-model\n",
      "---------------------\n",
      "⏳ Model is still training. Waiting 10 minutes before checking again.\n",
      "---------------------\n",
      "Action ID       : 682dbbde0a1d0e31e05fecfe\n",
      "Current Status  : OK\n",
      "Step Code       : MDL_TRN_STR\n",
      "Service Name    : be-model\n",
      "---------------------\n",
      "⏳ Model is still training. Waiting 10 minutes before checking again.\n",
      "---------------------\n",
      "Action ID       : 682dbbde0a1d0e31e05fecfe\n",
      "Current Status  : OK\n",
      "Step Code       : MDL_TRN_STR\n",
      "Service Name    : be-model\n",
      "---------------------\n",
      "⏳ Model is still training. Waiting 10 minutes before checking again.\n",
      "---------------------\n",
      "Action ID       : 682dbbde0a1d0e31e05fecfe\n",
      "Current Status  : OK\n",
      "Step Code       : MDL_TRN_STR\n",
      "Service Name    : be-model\n",
      "---------------------\n",
      "⏳ Model is still training. Waiting 10 minutes before checking again.\n",
      "---------------------\n",
      "Action ID       : 682dbbde0a1d0e31e05fecfe\n",
      "Current Status  : OK\n",
      "Step Code       : MDL_TRN_STR\n",
      "Service Name    : be-model\n",
      "---------------------\n",
      "⏳ Model is still training. Waiting 10 minutes before checking again.\n",
      "---------------------\n",
      "Action ID       : 682dbbde0a1d0e31e05fecfe\n",
      "Current Status  : OK\n",
      "Step Code       : MDL_TRN_STR\n",
      "Service Name    : be-model\n",
      "---------------------\n",
      "⏳ Model is still training. Waiting 10 minutes before checking again.\n",
      "---------------------\n",
      "Action ID       : 682dbbde0a1d0e31e05fecfe\n",
      "Current Status  : OK\n",
      "Step Code       : MDL_TRN_STR\n",
      "Service Name    : be-model\n",
      "---------------------\n",
      "⏳ Model is still training. Waiting 10 minutes before checking again.\n",
      "---------------------\n",
      "Action ID       : 682dbbde0a1d0e31e05fecfe\n",
      "Current Status  : OK\n",
      "Step Code       : MDL_TRN_STR\n",
      "Service Name    : be-model\n",
      "---------------------\n",
      "⏳ Model is still training. Waiting 10 minutes before checking again.\n",
      "---------------------\n",
      "Action ID       : 682dbbde0a1d0e31e05fecfe\n",
      "Current Status  : OK\n",
      "Step Code       : MDL_TRN_STR\n",
      "Service Name    : be-model\n",
      "---------------------\n",
      "⏳ Model is still training. Waiting 10 minutes before checking again.\n",
      "---------------------\n",
      "Action ID       : 682dbbde0a1d0e31e05fecfe\n",
      "Current Status  : OK\n",
      "Step Code       : MDL_TRN_STR\n",
      "Service Name    : be-model\n",
      "---------------------\n",
      "⏳ Model is still training. Waiting 10 minutes before checking again.\n",
      "---------------------\n",
      "Action ID       : 682dbbde0a1d0e31e05fecfe\n",
      "Current Status  : OK\n",
      "Step Code       : MDL_TRN_STR\n",
      "Service Name    : be-model\n",
      "---------------------\n",
      "⏳ Model is still training. Waiting 10 minutes before checking again.\n",
      "---------------------\n",
      "Action ID       : 682dbbde0a1d0e31e05fecfe\n",
      "Current Status  : OK\n",
      "Step Code       : MDL_TRN_STR\n",
      "Service Name    : be-model\n",
      "---------------------\n",
      "⏳ Model is still training. Waiting 10 minutes before checking again.\n",
      "---------------------\n",
      "Action ID       : 682dbbde0a1d0e31e05fecfe\n",
      "Current Status  : OK\n",
      "Step Code       : MDL_TRN_STR\n",
      "Service Name    : be-model\n",
      "---------------------\n",
      "⏳ Model is still training. Waiting 10 minutes before checking again.\n",
      "---------------------\n",
      "Action ID       : 682dbbde0a1d0e31e05fecfe\n",
      "Current Status  : OK\n",
      "Step Code       : MDL_TRN_STR\n",
      "Service Name    : be-model\n",
      "---------------------\n",
      "⏳ Model is still training. Waiting 10 minutes before checking again.\n",
      "---------------------\n",
      "Action ID       : 682dbbde0a1d0e31e05fecfe\n",
      "Current Status  : OK\n",
      "Step Code       : MDL_TRN_STR\n",
      "Service Name    : be-model\n",
      "---------------------\n",
      "⏳ Model is still training. Waiting 10 minutes before checking again.\n",
      "---------------------\n",
      "Action ID       : 682dbbde0a1d0e31e05fecfe\n",
      "Current Status  : OK\n",
      "Step Code       : MDL_TRN_STR\n",
      "Service Name    : be-model\n",
      "---------------------\n",
      "⏳ Model is still training. Waiting 10 minutes before checking again.\n",
      "---------------------\n",
      "Action ID       : 682dbbde0a1d0e31e05fecfe\n",
      "Current Status  : OK\n",
      "Step Code       : MDL_TRN_STR\n",
      "Service Name    : be-model\n",
      "---------------------\n",
      "⏳ Model is still training. Waiting 10 minutes before checking again.\n",
      "---------------------\n",
      "Action ID       : 682dbbde0a1d0e31e05fecfe\n",
      "Current Status  : OK\n",
      "Step Code       : MDL_TRN_STR\n",
      "Service Name    : be-model\n",
      "---------------------\n",
      "⏳ Model is still training. Waiting 10 minutes before checking again.\n",
      "---------------------\n",
      "Action ID       : 682dbbde0a1d0e31e05fecfe\n",
      "Current Status  : OK\n",
      "Step Code       : MDL_TRN_STR\n",
      "Service Name    : be-model\n",
      "---------------------\n",
      "⏳ Model is still training. Waiting 10 minutes before checking again.\n",
      "---------------------\n",
      "Action ID       : 682dbbde0a1d0e31e05fecfe\n",
      "Current Status  : OK\n",
      "Step Code       : MDL_TRN_STR\n",
      "Service Name    : be-model\n",
      "---------------------\n",
      "⏳ Model is still training. Waiting 10 minutes before checking again.\n",
      "---------------------\n",
      "Action ID       : 682dbbde0a1d0e31e05fecfe\n",
      "Current Status  : OK\n",
      "Step Code       : MDL_TRN_STR\n",
      "Service Name    : be-model\n",
      "---------------------\n",
      "⏳ Model is still training. Waiting 10 minutes before checking again.\n",
      "---------------------\n",
      "Action ID       : 682dbbde0a1d0e31e05fecfe\n",
      "Current Status  : SUCCESS\n",
      "Step Code       : MDL_TRN_EVL\n",
      "Service Name    : be-model\n",
      "---------------------\n",
      "✅ Action status is 'SUCCESS'. Model is successfully trained.\n"
     ]
    }
   ],
   "source": [
    "import time\n",
    "from matrice.action import Action\n",
    "\n",
    "# Define the action ID and the status you want to check\n",
    "action_id = train_resp[0]['_idActionStatus']\n",
    "success_status = 'SUCCESS'\n",
    "error_status = 'ERROR'  # Add more statuses if needed\n",
    "\n",
    "# Function to check the status of the action\n",
    "def check_action_status(S, action_id):\n",
    "    action_instance = Action(S, action_id)\n",
    "    print(\"---------------------\")\n",
    "    print(f\"Action ID       : {action_id}\")\n",
    "    print(f\"Current Status  : {action_instance.status}\")\n",
    "    print(f\"Step Code       : {action_instance.step_code}\")\n",
    "    print(f\"Service Name    : {action_instance.service_name}\")\n",
    "    print(\"---------------------\")\n",
    "    return action_instance.status\n",
    "\n",
    "# Loop to check status every few minutes until success or error\n",
    "while True:\n",
    "    status = check_action_status(session_instance, action_id)\n",
    "    \n",
    "    if status == success_status:\n",
    "        print(\"✅ Action status is 'SUCCESS'. Model is successfully trained.\")\n",
    "        break\n",
    "    elif status == error_status:\n",
    "        print(\"❌ Action status is 'ERROR'. Stopping monitoring.\")\n",
    "        break\n",
    "    else:\n",
    "        print(\"⏳ Model is still training. Waiting 10 minutes before checking again.\")\n",
    "        time.sleep(200)  # Wait for 3 minutes"
   ]
  },
  {
   "cell_type": "code",
   "execution_count": null,
   "id": "9d63daf8-44fe-44a9-9d2a-55a9562e31a8",
   "metadata": {},
   "outputs": [],
   "source": []
  }
 ],
 "metadata": {
  "kernelspec": {
   "display_name": "Python 3 (ipykernel)",
   "language": "python",
   "name": "python3"
  },
  "language_info": {
   "codemirror_mode": {
    "name": "ipython",
    "version": 3
   },
   "file_extension": ".py",
   "mimetype": "text/x-python",
   "name": "python",
   "nbconvert_exporter": "python",
   "pygments_lexer": "ipython3",
   "version": "3.10.11"
  }
 },
 "nbformat": 4,
 "nbformat_minor": 5
}

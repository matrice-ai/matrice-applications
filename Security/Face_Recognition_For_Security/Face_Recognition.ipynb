{
 "cells": [
  {
   "cell_type": "markdown",
   "metadata": {},
   "source": [
    "## Install the matrice package or upgrade it if already installed"
   ]
  },
  {
   "cell_type": "code",
   "execution_count": null,
   "metadata": {},
   "outputs": [],
   "source": [
    "#!python -m pip install --upgrade --index-url https://test.pypi.org/simple/ --no-deps matrice\n",
    "#!python -m pip install --upgrade matrice"
   ]
  },
  {
   "cell_type": "code",
   "execution_count": 11,
   "metadata": {},
   "outputs": [
    {
     "name": "stdout",
     "output_type": "stream",
     "text": [
      "Requirement already satisfied: matrice in c:\\users\\20111\\appdata\\local\\programs\\python\\python312\\lib\\site-packages (1.0.4)\n",
      "Collecting matrice\n",
      "  Downloading matrice-1.0.9-py3-none-any.whl.metadata (14 kB)\n",
      "Requirement already satisfied: requests in c:\\users\\20111\\appdata\\local\\programs\\python\\python312\\lib\\site-packages (from matrice) (2.31.0)\n",
      "Requirement already satisfied: charset-normalizer<4,>=2 in c:\\users\\20111\\appdata\\local\\programs\\python\\python312\\lib\\site-packages (from requests->matrice) (3.3.2)\n",
      "Requirement already satisfied: idna<4,>=2.5 in c:\\users\\20111\\appdata\\local\\programs\\python\\python312\\lib\\site-packages (from requests->matrice) (3.6)\n",
      "Requirement already satisfied: urllib3<3,>=1.21.1 in c:\\users\\20111\\appdata\\local\\programs\\python\\python312\\lib\\site-packages (from requests->matrice) (2.0.7)\n",
      "Requirement already satisfied: certifi>=2017.4.17 in c:\\users\\20111\\appdata\\local\\programs\\python\\python312\\lib\\site-packages (from requests->matrice) (2023.11.17)\n",
      "Downloading matrice-1.0.9-py3-none-any.whl (97 kB)\n",
      "Installing collected packages: matrice\n",
      "  Attempting uninstall: matrice\n",
      "    Found existing installation: matrice 1.0.4\n",
      "    Uninstalling matrice-1.0.4:\n",
      "      Successfully uninstalled matrice-1.0.4\n",
      "Successfully installed matrice-1.0.9\n"
     ]
    }
   ],
   "source": [
    "!python -m pip install --upgrade matrice"
   ]
  },
  {
   "cell_type": "markdown",
   "metadata": {},
   "source": [
    "## Install required dependencies"
   ]
  },
  {
   "cell_type": "code",
   "execution_count": 9,
   "metadata": {},
   "outputs": [
    {
     "name": "stdout",
     "output_type": "stream",
     "text": [
      "Requirement already satisfied: pycocotools in c:\\users\\20111\\appdata\\local\\programs\\python\\python312\\lib\\site-packages (2.0.8)\n",
      "Requirement already satisfied: pyyaml in c:\\users\\20111\\appdata\\local\\programs\\python\\python312\\lib\\site-packages (6.0.1)\n",
      "Requirement already satisfied: seaborn in c:\\users\\20111\\appdata\\local\\programs\\python\\python312\\lib\\site-packages (0.13.2)\n",
      "Requirement already satisfied: matplotlib>=2.1.0 in c:\\users\\20111\\appdata\\local\\programs\\python\\python312\\lib\\site-packages (from pycocotools) (3.9.1)\n",
      "Requirement already satisfied: numpy in c:\\users\\20111\\appdata\\local\\programs\\python\\python312\\lib\\site-packages (from pycocotools) (2.0.1)\n",
      "Requirement already satisfied: pandas>=1.2 in c:\\users\\20111\\appdata\\local\\programs\\python\\python312\\lib\\site-packages (from seaborn) (2.2.3)\n",
      "Requirement already satisfied: contourpy>=1.0.1 in c:\\users\\20111\\appdata\\local\\programs\\python\\python312\\lib\\site-packages (from matplotlib>=2.1.0->pycocotools) (1.2.1)\n",
      "Requirement already satisfied: cycler>=0.10 in c:\\users\\20111\\appdata\\local\\programs\\python\\python312\\lib\\site-packages (from matplotlib>=2.1.0->pycocotools) (0.12.1)\n",
      "Requirement already satisfied: fonttools>=4.22.0 in c:\\users\\20111\\appdata\\local\\programs\\python\\python312\\lib\\site-packages (from matplotlib>=2.1.0->pycocotools) (4.53.1)\n",
      "Requirement already satisfied: kiwisolver>=1.3.1 in c:\\users\\20111\\appdata\\local\\programs\\python\\python312\\lib\\site-packages (from matplotlib>=2.1.0->pycocotools) (1.4.5)\n",
      "Requirement already satisfied: packaging>=20.0 in c:\\users\\20111\\appdata\\local\\programs\\python\\python312\\lib\\site-packages (from matplotlib>=2.1.0->pycocotools) (23.2)\n",
      "Requirement already satisfied: pillow>=8 in c:\\users\\20111\\appdata\\local\\programs\\python\\python312\\lib\\site-packages (from matplotlib>=2.1.0->pycocotools) (10.4.0)\n",
      "Requirement already satisfied: pyparsing>=2.3.1 in c:\\users\\20111\\appdata\\local\\programs\\python\\python312\\lib\\site-packages (from matplotlib>=2.1.0->pycocotools) (3.1.2)\n",
      "Requirement already satisfied: python-dateutil>=2.7 in c:\\users\\20111\\appdata\\local\\programs\\python\\python312\\lib\\site-packages (from matplotlib>=2.1.0->pycocotools) (2.8.2)\n",
      "Requirement already satisfied: pytz>=2020.1 in c:\\users\\20111\\appdata\\local\\programs\\python\\python312\\lib\\site-packages (from pandas>=1.2->seaborn) (2024.2)\n",
      "Requirement already satisfied: tzdata>=2022.7 in c:\\users\\20111\\appdata\\local\\programs\\python\\python312\\lib\\site-packages (from pandas>=1.2->seaborn) (2024.2)\n",
      "Requirement already satisfied: six>=1.5 in c:\\users\\20111\\appdata\\local\\programs\\python\\python312\\lib\\site-packages (from python-dateutil>=2.7->matplotlib>=2.1.0->pycocotools) (1.16.0)\n"
     ]
    }
   ],
   "source": [
    "!pip install pycocotools pyyaml seaborn "
   ]
  },
  {
   "cell_type": "markdown",
   "metadata": {},
   "source": [
    "## Setting up the credentials\n",
    "*   ENV\n",
    "*   MATRICE_ACCESS_KEY_ID\n",
    "*   MATRICE_SECRET_ACCESS_KEY\n",
    "*   MATRICE_ACCOUNT_NUMBER"
   ]
  },
  {
   "cell_type": "code",
   "execution_count": 1,
   "metadata": {},
   "outputs": [],
   "source": [
    "import yaml\n",
    "import os\n",
    "\n",
    "class Vars:\n",
    "    _data = {}\n",
    "    _path = None\n",
    "\n",
    "    @classmethod\n",
    "    def initialize(cls, path):\n",
    "        cls._path = path\n",
    "        cls._data = cls.load()\n",
    "\n",
    "    @classmethod\n",
    "    def load(cls):\n",
    "        if cls._path and os.path.exists(cls._path):\n",
    "            with open(cls._path, 'r') as f:\n",
    "                return yaml.safe_load(f)\n",
    "        return {}\n",
    "\n",
    "    @classmethod\n",
    "    def get(cls, key):\n",
    "        if key not in cls._data:\n",
    "            raise KeyError(f\"Variable {key} not found\")\n",
    "        return cls._data[key]\n",
    "\n",
    "    @classmethod\n",
    "    def set(cls, key, value):\n",
    "        cls._data[key] = value\n",
    "        with open(cls._path, 'w') as f:\n",
    "            yaml.safe_dump(cls._data, f, default_flow_style=False)\n"
   ]
  },
  {
   "cell_type": "code",
   "execution_count": 2,
   "metadata": {},
   "outputs": [],
   "source": [
    "Vars.initialize('vars.yaml')"
   ]
  },
  {
   "cell_type": "code",
   "execution_count": 3,
   "metadata": {},
   "outputs": [],
   "source": [
    "Vars.set(\"ENV\", \"prod\")\n",
    "Vars.set(\"MATRICE_ACCESS_KEY_ID\", \"7NCF9F********\")\n",
    "Vars.set(\"MATRICE_SECRET_ACCESS_KEY\", \"XXVY9GUB********\")\n",
    "Vars.set(\"MATRICE_ACCOUNT_NUMBER\", \"9782886768719********\")"
   ]
  },
  {
   "cell_type": "code",
   "execution_count": 4,
   "metadata": {},
   "outputs": [],
   "source": [
    "import os\n",
    "os.environ['ENV'] = Vars.get('ENV')\n",
    "access_key = Vars.get('MATRICE_ACCESS_KEY_ID')\n",
    "secret_key = Vars.get('MATRICE_SECRET_ACCESS_KEY')\n",
    "account_number = Vars.get('MATRICE_ACCOUNT_NUMBER')"
   ]
  },
  {
   "cell_type": "markdown",
   "metadata": {},
   "source": [
    "## Import required matrice modules"
   ]
  },
  {
   "cell_type": "code",
   "execution_count": 5,
   "metadata": {},
   "outputs": [],
   "source": [
    "from matrice.session import Session\n",
    "from matrice.projects import Projects\n",
    "from matrice.dataset import Dataset\n",
    "from matrice.models import Model\n",
    "from matrice.deployment import Deployment\n",
    "from matrice.exported_model import ExportedModel\n",
    "import sys\n",
    "import os"
   ]
  },
  {
   "cell_type": "markdown",
   "metadata": {},
   "source": [
    "# Create Image Classification Project with Matrice SDK\n",
    "\n",
    "1.   Initialize matrice connection session\n",
    "2.   List projects in user account\n",
    "3.   Create the Project\n",
    "4.   Update the session with the project_id"
   ]
  },
  {
   "cell_type": "code",
   "execution_count": 6,
   "metadata": {},
   "outputs": [
    {
     "name": "stdout",
     "output_type": "stream",
     "text": [
      "A Session has been initialized: <matrice.session.Session object at 0x00000212E564A5D0>\n"
     ]
    }
   ],
   "source": [
    "session_instance = Session.create_session(account_number=account_number, access_key=access_key, secret_key=secret_key)\n",
    "print(\"A Session has been initialized:\", session_instance)"
   ]
  },
  {
   "cell_type": "code",
   "execution_count": 7,
   "metadata": {},
   "outputs": [
    {
     "name": "stdout",
     "output_type": "stream",
     "text": [
      "Message: Projects fetched successfully\n",
      "Project Name: Face Recognition for Security | Project ID: 672c4da4c1c6122f225f6618\n",
      "Project Name: Shoplifting Detection in Retail Stores | Project ID: 66dfe3448ec9ba77e5974a1a\n",
      "Project Name: test-classification | Project ID: 661cee5e5506d86e3ef76fcf\n",
      "Project Name: Test-Detection-0 | Project ID: 662f4df5d10f1cae145bdbd9\n",
      "Project Name: test -1 | Project ID: 66f2ce5d35ebeaa9146ca94e\n",
      "Project Name: detection-testing | Project ID: 6621eca55506d86e3ef77099\n",
      "Project Name: Sid Test Project | Project ID: 6613bae85506d86e3ef76f97\n"
     ]
    }
   ],
   "source": [
    "projects_list, msg = session_instance.list_projects(project_type=\"classification\")\n",
    "\n",
    "# Check if there is a message or error\n",
    "if msg:\n",
    "    print(f\"Message: {msg}\")\n",
    "\n",
    "# Print the projects in a formatted manner\n",
    "for project_name, project_instance in projects_list.items():\n",
    "    print(f\"Project Name: {project_name} | Project ID: {project_instance.project_id}\")"
   ]
  },
  {
   "cell_type": "code",
   "execution_count": 8,
   "metadata": {},
   "outputs": [
    {
     "name": "stdout",
     "output_type": "stream",
     "text": [
      "Project 'Face Recognition for Security' already exists. Initialized Projects instance.\n"
     ]
    }
   ],
   "source": [
    "project_name = \"Face Recognition for Security\"\n",
    "for name, project_instance in projects_list.items():\n",
    "    if name == project_name:\n",
    "        projects_instance = Projects(session_instance, project_name=project_name)\n",
    "        session_instance.update(projects_instance.project_id)\n",
    "        print(f\"Project '{project_name}' already exists. Initialized Projects instance.\")\n",
    "        project_exists = True\n",
    "        break\n",
    "    else:\n",
    "        project_exists = False\n",
    "\n",
    "if project_exists == False:\n",
    "    print(f\"Creating a new project: {project_name}\")\n"
   ]
  },
  {
   "cell_type": "code",
   "execution_count": 9,
   "metadata": {},
   "outputs": [
    {
     "name": "stdout",
     "output_type": "stream",
     "text": [
      "Project created with ID: 672c4da4c1c6122f225f6618\n",
      "----------------------------\n",
      "Project ID: 672c4da4c1c6122f225f6618\n",
      "Project Name: Face Recognition for Security\n",
      "----------------------------\n"
     ]
    }
   ],
   "source": [
    "import pprint\n",
    "\n",
    "name = \"Face Recognition for Security\"\n",
    "# Function to create a project\n",
    "def create_project():\n",
    "    project_name = name\n",
    "    input_type = \"image\"\n",
    "    output_type = \"classification\"\n",
    "    \n",
    "    enabled_platforms = {\n",
    "        \"matrice\": True,\n",
    "        \"android\": False,\n",
    "        \"ios\": False,\n",
    "        \"tpu\": False,\n",
    "        \"intelCPU\": False,\n",
    "        \"gcloudGPU\": False\n",
    "    }\n",
    "\n",
    "    resp, error = session_instance._create_project(project_name, input_type, output_type)\n",
    "    if error:\n",
    "        print(f\"Error: {error}\")\n",
    "        return None, None\n",
    "    else:\n",
    "        print(f\"Project created with ID: {resp['_id']}\")\n",
    "        return resp['_id'], resp['name']\n",
    "\n",
    "# Check if project_id and project_name exist\n",
    "project_id = None\n",
    "project_name = None\n",
    "\n",
    "if not project_exists:\n",
    "    project_id, project_name = create_project()\n",
    "else:\n",
    "    project_id = projects_instance.project_id\n",
    "    project_name = projects_instance.project_name\n",
    "    print(f\"Project already exists with ID: {project_id} and Name: {project_name}\")\n",
    "\n",
    "\n",
    "print(\"----------------------------\")\n",
    "print(f\"Project ID: {project_id}\")\n",
    "print(f\"Project Name: {project_name}\")\n",
    "print(\"----------------------------\")\n"
   ]
  },
  {
   "cell_type": "code",
   "execution_count": 10,
   "metadata": {},
   "outputs": [],
   "source": [
    "Vars.set(\"project_name\",project_name)\n",
    "Vars.set(\"project_id\", project_id)"
   ]
  },
  {
   "cell_type": "code",
   "execution_count": 11,
   "metadata": {},
   "outputs": [
    {
     "name": "stdout",
     "output_type": "stream",
     "text": [
      "A Project class has been initialized <matrice.projects.Projects object at 0x000002614E7D2720>\n"
     ]
    }
   ],
   "source": [
    "session_instance.update(project_id)\n",
    "project_instance = Projects(session_instance, project_name=project_name)\n",
    "print(\"A Project class has been initialized\",project_instance)"
   ]
  },
  {
   "cell_type": "markdown",
   "metadata": {},
   "source": [
    "# Preparing the Dataset\n",
    "\n",
    "\n",
    "1.   Dataset Downlaod (either local download or use scripts to download)\n",
    "2.   Dataset Exploration\n",
    "3.   Plot Samples from the Dataset\n",
    "4.   Dataset Format Preparation in Imagenet\n",
    "5.   Compress the Dataset to be ready for uploading"
   ]
  },
  {
   "cell_type": "code",
   "execution_count": 12,
   "metadata": {},
   "outputs": [
    {
     "name": "stdout",
     "output_type": "stream",
     "text": [
      "Dataset has been converted to ImageNet format.\n"
     ]
    }
   ],
   "source": [
    "import zipfile\n",
    "import os\n",
    "import shutil\n",
    "import pandas as pd\n",
    "from pathlib import Path\n",
    "\n",
    "def zip_folder(folder_path, output_zip_path):\n",
    "    \"\"\"Zips the given folder into a zip file at the specified output path.\"\"\"\n",
    "    shutil.make_archive(output_zip_path, 'zip', folder_path)\n",
    "\n",
    "def extract_zip(zip_file_path, extract_to_folder):\n",
    "    \"\"\"Extracts the zip file to a specified folder.\"\"\"\n",
    "    with zipfile.ZipFile(zip_file_path, 'r') as zip_ref:\n",
    "        zip_ref.extractall(extract_to_folder)\n",
    "\n",
    "def find_inner_faces_folder(faces_folder):\n",
    "    \"\"\"\n",
    "    Checks if there is an extra 'Faces' folder inside the main 'Faces' folder.\n",
    "    If it exists, return the path to the inner folder.\n",
    "    \"\"\"\n",
    "    inner_faces_folder = os.path.join(faces_folder, 'Faces')\n",
    "    return inner_faces_folder if os.path.isdir(inner_faces_folder) else faces_folder\n",
    "\n",
    "def organize_images_from_csv(faces_folder, csv_file_path, imagenet_folder):\n",
    "    \"\"\"\n",
    "    Organizes images into ImageNet format based on a CSV file.\n",
    "    Assumes the CSV file has columns 'id' and 'label'.\n",
    "    \"\"\"\n",
    "    # Create the ImageNet root folder\n",
    "    Path(imagenet_folder).mkdir(parents=True, exist_ok=True)\n",
    "    \n",
    "    # Load the CSV file\n",
    "    df = pd.read_csv(csv_file_path)\n",
    "    \n",
    "    # Iterate through each row in the CSV file\n",
    "    for _, row in df.iterrows():\n",
    "        image_name = row['id']  # Image filename\n",
    "        label = row['label']    # Class name\n",
    "\n",
    "        # Define the source path and target path\n",
    "        src_path = os.path.join(faces_folder, image_name)\n",
    "        target_class_folder = os.path.join(imagenet_folder, label)\n",
    "        \n",
    "        # Check if the source file exists\n",
    "        if not os.path.isfile(src_path):\n",
    "            print(f\"Warning: Image '{image_name}' not found in '{faces_folder}'. Skipping.\")\n",
    "            continue\n",
    "        \n",
    "        # Create the target class directory if it doesn't exist\n",
    "        Path(target_class_folder).mkdir(parents=True, exist_ok=True)\n",
    "        \n",
    "        # Copy the image file to the target directory\n",
    "        shutil.copy(src_path, os.path.join(target_class_folder, image_name))\n",
    "\n",
    "# Example usage:\n",
    "zip_file_path = r\"C:\\Personal\\matrice\\Face Recognition for Security\\Face_recog_dataset.zip\"  # Path to the zip file\n",
    "extract_to_folder = 'extracted_dataset'           # Temporary extraction folder\n",
    "imagenet_folder = 'imagenet_format_data'          # Final ImageNet format folder\n",
    "\n",
    "# Step 1: Extract the zip file\n",
    "extract_zip(zip_file_path, extract_to_folder)\n",
    "\n",
    "# Step 2: Identify the correct faces folder\n",
    "faces_folder = find_inner_faces_folder(os.path.join(extract_to_folder, 'Faces'))\n",
    "csv_file_path = os.path.join(extract_to_folder, 'Dataset.csv')\n",
    "\n",
    "# Step 3: Organize images based on CSV labels\n",
    "organize_images_from_csv(faces_folder, csv_file_path, imagenet_folder)\n",
    "\n",
    "print(\"Dataset has been converted to ImageNet format.\")\n",
    "\n",
    "output_zip_path = 'imagenet_format_data_zip' \n",
    "zip_folder(imagenet_folder, output_zip_path)\n"
   ]
  },
  {
   "cell_type": "markdown",
   "metadata": {},
   "source": [
    "# Import the Dataset to the project\n",
    "\n",
    "\n",
    "1.   Upload the dataset\n",
    "2.   Start a data import action\n",
    "3.   Check the status of the dataset import action\n",
    "4.   Check the processed dataset information"
   ]
  },
  {
   "cell_type": "markdown",
   "metadata": {},
   "source": [
    "Upload the dataset\n",
    "\n",
    "For uploading the dataset you have 2 options:-\n",
    "\n",
    "\n",
    "*   Upload the dataset to cloud storage bucket with `project.upload_cloud_dataset()`\n",
    "*   Upload the dataset from your local storage with `project.upload_local_dataset() `"
   ]
  },
  {
   "cell_type": "code",
   "execution_count": 13,
   "metadata": {},
   "outputs": [],
   "source": [
    "dataset, dataset_action = project_instance.import_local_dataset(\n",
    "    dataset_name='Face recognition for security',\n",
    "    file_path = r\"C:\\Personal\\matrice\\Face Recognition for Security\\imagenet_format_data_zip.zip\",\n",
    "    dataset_type = \"classification\",\n",
    "    dataset_description = \"This dataset contains photos of various famous celebrities\",\n",
    "    version_description = \"1st version\",\n",
    "    input_type = \"image\"\n",
    ")\n"
   ]
  },
  {
   "cell_type": "code",
   "execution_count": 14,
   "metadata": {},
   "outputs": [
    {
     "name": "stdout",
     "output_type": "stream",
     "text": [
      "Dataset ID: 672c4e50d7ca08f1f0d9fd1e\n",
      "Action ID: 672c4e51c1c6122f225f6619\n"
     ]
    }
   ],
   "source": [
    "dataset_id = dataset.dataset_id\n",
    "action_id = dataset_action.action_id\n",
    "\n",
    "print(f\"Dataset ID: {dataset_id}\")\n",
    "print(f\"Action ID: {action_id}\")"
   ]
  },
  {
   "cell_type": "code",
   "execution_count": 15,
   "metadata": {},
   "outputs": [],
   "source": [
    "Vars.set(\"dataset_id\", dataset.dataset_id)\n",
    "Vars.set(\"dataset_action_id\", dataset_action.action_id)"
   ]
  },
  {
   "cell_type": "code",
   "execution_count": 26,
   "metadata": {},
   "outputs": [
    {
     "name": "stdout",
     "output_type": "stream",
     "text": [
      " \n",
      "-------Status------\n",
      "Status of dataset: processed\n",
      "-------------------\n",
      "---------Preprocessing Complete---------\n",
      "Dataset processed, proceed with experiment creation.\n",
      "---------------------------------------\n"
     ]
    }
   ],
   "source": [
    "import time\n",
    "import pprint\n",
    "\n",
    "action_id = dataset_action.action_id\n",
    "def check_dataset_status():\n",
    "    while True:\n",
    "        print(\" \")\n",
    "        print(\"-------Status------\")\n",
    "        D = Dataset(session_instance, dataset_id=dataset_id)\n",
    "        status = D.version_status\n",
    "        print(\"Status of dataset:\", status)\n",
    "        print(\"-------------------\")\n",
    "        if status == 'processed':\n",
    "            print(\"---------Preprocessing Complete---------\")\n",
    "            print(\"Dataset processed, proceed with experiment creation.\")\n",
    "            print(\"---------------------------------------\")\n",
    "            break\n",
    "        \n",
    "        time.sleep(90)  # Wait for 90 seconds before checking again\n",
    "\n",
    "# Run the function to check dataset status\n",
    "check_dataset_status()\n"
   ]
  },
  {
   "cell_type": "code",
   "execution_count": 16,
   "metadata": {},
   "outputs": [
    {
     "name": "stdout",
     "output_type": "stream",
     "text": [
      "Dataset ID: 672c4e50d7ca08f1f0d9fd1e\n",
      "Dataset Name: Face recognition for security\n",
      "Version Status: processed\n",
      "Latest Version: v1.0\n",
      "Number of Samples: 2562\n",
      "Number of Classes: 31\n",
      "Number of Versions: 1\n",
      "Last Updated At: 2024-11-07T05:33:00.656Z\n"
     ]
    }
   ],
   "source": [
    "def print_dataset_info(dataset):\n",
    "   \n",
    "    dataset_id = dataset.dataset_details['_id']\n",
    "    dataset_name = dataset.dataset_details['name']\n",
    "    version_status = dataset.dataset_details.get(\"stats\", [{}])[0].get(\"versionStatus\")\n",
    "    latest_version = dataset.dataset_details['latestVersion']\n",
    "    no_of_samples = sum(version['versionStats']['total'] for version in dataset.dataset_details.get('stats', []))\n",
    "    no_of_classes = len(dataset.dataset_details.get('stats', [{}])[0].get('classStat', {}))\n",
    "    no_of_versions = len(dataset.dataset_details.get('allVersions', []))\n",
    "    last_updated_at = dataset.dataset_details.get('updatedAt')\n",
    "\n",
    "    print(f\"Dataset ID: {dataset_id}\")\n",
    "    print(f\"Dataset Name: {dataset_name}\")\n",
    "    print(f\"Version Status: {version_status}\")\n",
    "    print(f\"Latest Version: {latest_version}\")\n",
    "    print(f\"Number of Samples: {no_of_samples}\")\n",
    "    print(f\"Number of Classes: {no_of_classes}\")\n",
    "    print(f\"Number of Versions: {no_of_versions}\")\n",
    "    print(f\"Last Updated At: {last_updated_at}\")\n",
    "\n",
    "dataset.refresh()   \n",
    "print_dataset_info(dataset)"
   ]
  },
  {
   "cell_type": "code",
   "execution_count": 17,
   "metadata": {},
   "outputs": [
    {
     "name": "stdout",
     "output_type": "stream",
     "text": [
      "Train samples: 1793, Validation samples: 384, Test samples: 385\n",
      "{'_datasetId': '672c4e50d7ca08f1f0d9fd1e', 'trainCount': 1793, 'valCount': 384, 'testCount': 385, 'unassignedCount': 0, 'version': 'v1.1', '_idAction': '672c51a2c1c6122f225f6629'}\n"
     ]
    }
   ],
   "source": [
    "def calculate_split_counts(total_samples, train_pct, val_pct, test_pct):\n",
    "    # Ensure that percentages add up to 100\n",
    "    if train_pct + val_pct + test_pct != 100:\n",
    "        raise ValueError(\"Train, validation, and test percentages must sum up to 100.\")\n",
    "\n",
    "    # Calculate the number of samples for each split\n",
    "    train_num = round(total_samples * (train_pct / 100))\n",
    "    val_num = round(total_samples * (val_pct / 100))\n",
    "    test_num = total_samples - train_num - val_num  # Assign remaining to test to ensure total matches\n",
    "\n",
    "    return train_num, val_num, test_num\n",
    "\n",
    "def create_transfers_array(train_num, val_num, test_num):\n",
    "    transfers = [\n",
    "        {\"source\": \"unassigned\", \"destination\": \"train\", \"transferAmount\": train_num},\n",
    "        {\"source\": \"unassigned\", \"destination\": \"validation\", \"transferAmount\": val_num},\n",
    "        {\"source\": \"unassigned\", \"destination\": \"test\", \"transferAmount\": test_num},\n",
    "    ]\n",
    "    return transfers\n",
    "\n",
    "train_pct = 70\n",
    "val_pct = 15\n",
    "test_pct = 15\n",
    "total_samples = sum(version['versionStats']['total'] for version in dataset.dataset_details.get('stats', []))\n",
    "train_num, val_num, test_num = calculate_split_counts(total_samples, train_pct, val_pct, test_pct)\n",
    "print(f\"Train samples: {train_num}, Validation samples: {val_num}, Test samples: {test_num}\")\n",
    "transfers = create_transfers_array(train_num, val_num, test_num)\n",
    "response, err, msg = dataset.split_data(\n",
    "     old_dataset_version=\"v1.0\",\n",
    "     new_dataset_version=\"v1.1\",\n",
    "     is_random_split=True,\n",
    "     train_num=train_num,\n",
    "     val_num=val_num,\n",
    "     test_num=test_num,\n",
    "     transfers=transfers\n",
    ")\n",
    "if err:\n",
    "    print(err)\n",
    "else:\n",
    "    print(response)"
   ]
  },
  {
   "cell_type": "code",
   "execution_count": 20,
   "metadata": {},
   "outputs": [
    {
     "name": "stdout",
     "output_type": "stream",
     "text": [
      "{'categoryCount': 31,\n",
      " 'dataItemCount': 2562,\n",
      " 'histogram': [{'_id': '672c502abf54d172c78497cd',\n",
      "                'count': 108,\n",
      "                'label': 'Jessica Alba',\n",
      "                'test': 0,\n",
      "                'train': 0,\n",
      "                'unassigned': 108,\n",
      "                'val': 0},\n",
      "               {'_id': '672c502abf54d172c78497d8',\n",
      "                'count': 71,\n",
      "                'label': 'Elizabeth Olsen',\n",
      "                'test': 0,\n",
      "                'train': 0,\n",
      "                'unassigned': 71,\n",
      "                'val': 0},\n",
      "               {'_id': '672c502abf54d172c78497da',\n",
      "                'count': 113,\n",
      "                'label': 'Robert Downey Jr',\n",
      "                'test': 0,\n",
      "                'train': 0,\n",
      "                'unassigned': 113,\n",
      "                'val': 0},\n",
      "               {'_id': '672c502abf54d172c78497dc',\n",
      "                'count': 92,\n",
      "                'label': 'Alexandra Daddario',\n",
      "                'test': 0,\n",
      "                'train': 0,\n",
      "                'unassigned': 92,\n",
      "                'val': 0},\n",
      "               {'_id': '672c502abf54d172c78497de',\n",
      "                'count': 30,\n",
      "                'label': 'Kashyap',\n",
      "                'test': 0,\n",
      "                'train': 0,\n",
      "                'unassigned': 30,\n",
      "                'val': 0},\n",
      "               {'_id': '672c502abf54d172c78497c2',\n",
      "                'count': 115,\n",
      "                'label': 'Vijay Deverakonda',\n",
      "                'test': 0,\n",
      "                'train': 0,\n",
      "                'unassigned': 115,\n",
      "                'val': 0},\n",
      "               {'_id': '672c502abf54d172c78497c7',\n",
      "                'count': 106,\n",
      "                'label': 'Henry Cavill',\n",
      "                'test': 0,\n",
      "                'train': 0,\n",
      "                'unassigned': 106,\n",
      "                'val': 0},\n",
      "               {'_id': '672c502abf54d172c78497c8',\n",
      "                'count': 77,\n",
      "                'label': 'Roger Federer',\n",
      "                'test': 0,\n",
      "                'train': 0,\n",
      "                'unassigned': 77,\n",
      "                'val': 0},\n",
      "               {'_id': '672c502abf54d172c78497c9',\n",
      "                'count': 102,\n",
      "                'label': 'Priyanka Chopra',\n",
      "                'test': 0,\n",
      "                'train': 0,\n",
      "                'unassigned': 102,\n",
      "                'val': 0},\n",
      "               {'_id': '672c502abf54d172c78497d4',\n",
      "                'count': 68,\n",
      "                'label': 'Anushka Sharma',\n",
      "                'test': 0,\n",
      "                'train': 0,\n",
      "                'unassigned': 68,\n",
      "                'val': 0},\n",
      "               {'_id': '672c502abf54d172c78497d7',\n",
      "                'count': 61,\n",
      "                'label': 'Dwayne Johnson',\n",
      "                'test': 0,\n",
      "                'train': 0,\n",
      "                'unassigned': 61,\n",
      "                'val': 0},\n",
      "               {'_id': '672c502abf54d172c78497c0',\n",
      "                'count': 105,\n",
      "                'label': 'Natalie Portman',\n",
      "                'test': 0,\n",
      "                'train': 0,\n",
      "                'unassigned': 105,\n",
      "                'val': 0},\n",
      "               {'_id': '672c502abf54d172c78497c1',\n",
      "                'count': 75,\n",
      "                'label': 'Ellen Degeneres',\n",
      "                'test': 0,\n",
      "                'train': 0,\n",
      "                'unassigned': 75,\n",
      "                'val': 0},\n",
      "               {'_id': '672c502abf54d172c78497c5',\n",
      "                'count': 91,\n",
      "                'label': 'Zac Efron',\n",
      "                'test': 0,\n",
      "                'train': 0,\n",
      "                'unassigned': 91,\n",
      "                'val': 0},\n",
      "               {'_id': '672c502abf54d172c78497c6',\n",
      "                'count': 80,\n",
      "                'label': 'Courtney Cox',\n",
      "                'test': 0,\n",
      "                'train': 0,\n",
      "                'unassigned': 80,\n",
      "                'val': 0},\n",
      "               {'_id': '672c502abf54d172c78497cb',\n",
      "                'count': 49,\n",
      "                'label': 'Virat Kohli',\n",
      "                'test': 0,\n",
      "                'train': 0,\n",
      "                'unassigned': 49,\n",
      "                'val': 0},\n",
      "               {'_id': '672c502abf54d172c78497cf',\n",
      "                'count': 87,\n",
      "                'label': 'Camila Cabello',\n",
      "                'test': 0,\n",
      "                'train': 0,\n",
      "                'unassigned': 87,\n",
      "                'val': 0},\n",
      "               {'_id': '672c502abf54d172c78497cc',\n",
      "                'count': 58,\n",
      "                'label': 'Tom Cruise',\n",
      "                'test': 0,\n",
      "                'train': 0,\n",
      "                'unassigned': 58,\n",
      "                'val': 0},\n",
      "               {'_id': '672c502abf54d172c78497dd',\n",
      "                'count': 112,\n",
      "                'label': 'Hugh Jackman',\n",
      "                'test': 0,\n",
      "                'train': 0,\n",
      "                'unassigned': 112,\n",
      "                'val': 0},\n",
      "               {'_id': '672c502abf54d172c78497ca',\n",
      "                'count': 70,\n",
      "                'label': 'Lisa Kudrow',\n",
      "                'test': 0,\n",
      "                'train': 0,\n",
      "                'unassigned': 70,\n",
      "                'val': 0},\n",
      "               {'_id': '672c502abf54d172c78497d3',\n",
      "                'count': 96,\n",
      "                'label': 'Claire Holt',\n",
      "                'test': 0,\n",
      "                'train': 0,\n",
      "                'unassigned': 96,\n",
      "                'val': 0},\n",
      "               {'_id': '672c502abf54d172c78497d9',\n",
      "                'count': 50,\n",
      "                'label': 'Akshay Kumar',\n",
      "                'test': 0,\n",
      "                'train': 0,\n",
      "                'unassigned': 50,\n",
      "                'val': 0},\n",
      "               {'_id': '672c502abf54d172c78497c4',\n",
      "                'count': 32,\n",
      "                'label': 'Marmik',\n",
      "                'test': 0,\n",
      "                'train': 0,\n",
      "                'unassigned': 32,\n",
      "                'val': 0},\n",
      "               {'_id': '672c502abf54d172c78497d0',\n",
      "                'count': 92,\n",
      "                'label': 'Andy Samberg',\n",
      "                'test': 0,\n",
      "                'train': 0,\n",
      "                'unassigned': 92,\n",
      "                'val': 0},\n",
      "               {'_id': '672c502abf54d172c78497d2',\n",
      "                'count': 72,\n",
      "                'label': 'Margot Robbie',\n",
      "                'test': 0,\n",
      "                'train': 0,\n",
      "                'unassigned': 72,\n",
      "                'val': 0},\n",
      "               {'_id': '672c502abf54d172c78497d6',\n",
      "                'count': 101,\n",
      "                'label': 'Hrithik Roshan',\n",
      "                'test': 0,\n",
      "                'train': 0,\n",
      "                'unassigned': 101,\n",
      "                'val': 0},\n",
      "               {'_id': '672c502abf54d172c78497c3',\n",
      "                'count': 74,\n",
      "                'label': 'Amitabh Bachchan',\n",
      "                'test': 0,\n",
      "                'train': 0,\n",
      "                'unassigned': 74,\n",
      "                'val': 0},\n",
      "               {'_id': '672c502abf54d172c78497ce',\n",
      "                'count': 78,\n",
      "                'label': 'Charlize Theron',\n",
      "                'test': 0,\n",
      "                'train': 0,\n",
      "                'unassigned': 78,\n",
      "                'val': 0},\n",
      "               {'_id': '672c502abf54d172c78497d1',\n",
      "                'count': 120,\n",
      "                'label': 'Brad Pitt',\n",
      "                'test': 0,\n",
      "                'train': 0,\n",
      "                'unassigned': 120,\n",
      "                'val': 0},\n",
      "               {'_id': '672c502abf54d172c78497d5',\n",
      "                'count': 79,\n",
      "                'label': 'Alia Bhatt',\n",
      "                'test': 0,\n",
      "                'train': 0,\n",
      "                'unassigned': 79,\n",
      "                'val': 0},\n",
      "               {'_id': '672c502abf54d172c78497db',\n",
      "                'count': 98,\n",
      "                'label': 'Billie Eilish',\n",
      "                'test': 0,\n",
      "                'train': 0,\n",
      "                'unassigned': 98,\n",
      "                'val': 0}],\n",
      " 'testDataItemCount': 0,\n",
      " 'trainDataItemCount': 0,\n",
      " 'unassignedDataItemCount': 2562,\n",
      " 'valDataItemCount': 0}\n"
     ]
    }
   ],
   "source": [
    "import pprint\n",
    "pprint.pprint(dataset.summary)\n",
    "dataset_summary = dataset.summary"
   ]
  },
  {
   "cell_type": "code",
   "execution_count": 21,
   "metadata": {},
   "outputs": [
    {
     "data": {
      "application/vnd.plotly.v1+json": {
       "config": {
        "plotlyServerURL": "https://plot.ly"
       },
       "data": [
        {
         "type": "bar",
         "x": [
          "Jessica Alba",
          "Elizabeth Olsen",
          "Robert Downey Jr",
          "Alexandra Daddario",
          "Kashyap",
          "Vijay Deverakonda",
          "Henry Cavill",
          "Roger Federer",
          "Priyanka Chopra",
          "Anushka Sharma",
          "Dwayne Johnson",
          "Natalie Portman",
          "Ellen Degeneres",
          "Zac Efron",
          "Courtney Cox",
          "Virat Kohli",
          "Camila Cabello",
          "Tom Cruise",
          "Hugh Jackman",
          "Lisa Kudrow",
          "Claire Holt",
          "Akshay Kumar",
          "Marmik",
          "Andy Samberg",
          "Margot Robbie",
          "Hrithik Roshan",
          "Amitabh Bachchan",
          "Charlize Theron",
          "Brad Pitt",
          "Alia Bhatt",
          "Billie Eilish"
         ],
         "y": [
          108,
          71,
          113,
          92,
          30,
          115,
          106,
          77,
          102,
          68,
          61,
          105,
          75,
          91,
          80,
          49,
          87,
          58,
          112,
          70,
          96,
          50,
          32,
          92,
          72,
          101,
          74,
          78,
          120,
          79,
          98
         ]
        }
       ],
       "layout": {
        "autosize": true,
        "template": {
         "data": {
          "bar": [
           {
            "error_x": {
             "color": "#2a3f5f"
            },
            "error_y": {
             "color": "#2a3f5f"
            },
            "marker": {
             "line": {
              "color": "#E5ECF6",
              "width": 0.5
             },
             "pattern": {
              "fillmode": "overlay",
              "size": 10,
              "solidity": 0.2
             }
            },
            "type": "bar"
           }
          ],
          "barpolar": [
           {
            "marker": {
             "line": {
              "color": "#E5ECF6",
              "width": 0.5
             },
             "pattern": {
              "fillmode": "overlay",
              "size": 10,
              "solidity": 0.2
             }
            },
            "type": "barpolar"
           }
          ],
          "carpet": [
           {
            "aaxis": {
             "endlinecolor": "#2a3f5f",
             "gridcolor": "white",
             "linecolor": "white",
             "minorgridcolor": "white",
             "startlinecolor": "#2a3f5f"
            },
            "baxis": {
             "endlinecolor": "#2a3f5f",
             "gridcolor": "white",
             "linecolor": "white",
             "minorgridcolor": "white",
             "startlinecolor": "#2a3f5f"
            },
            "type": "carpet"
           }
          ],
          "choropleth": [
           {
            "colorbar": {
             "outlinewidth": 0,
             "ticks": ""
            },
            "type": "choropleth"
           }
          ],
          "contour": [
           {
            "colorbar": {
             "outlinewidth": 0,
             "ticks": ""
            },
            "colorscale": [
             [
              0,
              "#0d0887"
             ],
             [
              0.1111111111111111,
              "#46039f"
             ],
             [
              0.2222222222222222,
              "#7201a8"
             ],
             [
              0.3333333333333333,
              "#9c179e"
             ],
             [
              0.4444444444444444,
              "#bd3786"
             ],
             [
              0.5555555555555556,
              "#d8576b"
             ],
             [
              0.6666666666666666,
              "#ed7953"
             ],
             [
              0.7777777777777778,
              "#fb9f3a"
             ],
             [
              0.8888888888888888,
              "#fdca26"
             ],
             [
              1,
              "#f0f921"
             ]
            ],
            "type": "contour"
           }
          ],
          "contourcarpet": [
           {
            "colorbar": {
             "outlinewidth": 0,
             "ticks": ""
            },
            "type": "contourcarpet"
           }
          ],
          "heatmap": [
           {
            "colorbar": {
             "outlinewidth": 0,
             "ticks": ""
            },
            "colorscale": [
             [
              0,
              "#0d0887"
             ],
             [
              0.1111111111111111,
              "#46039f"
             ],
             [
              0.2222222222222222,
              "#7201a8"
             ],
             [
              0.3333333333333333,
              "#9c179e"
             ],
             [
              0.4444444444444444,
              "#bd3786"
             ],
             [
              0.5555555555555556,
              "#d8576b"
             ],
             [
              0.6666666666666666,
              "#ed7953"
             ],
             [
              0.7777777777777778,
              "#fb9f3a"
             ],
             [
              0.8888888888888888,
              "#fdca26"
             ],
             [
              1,
              "#f0f921"
             ]
            ],
            "type": "heatmap"
           }
          ],
          "heatmapgl": [
           {
            "colorbar": {
             "outlinewidth": 0,
             "ticks": ""
            },
            "colorscale": [
             [
              0,
              "#0d0887"
             ],
             [
              0.1111111111111111,
              "#46039f"
             ],
             [
              0.2222222222222222,
              "#7201a8"
             ],
             [
              0.3333333333333333,
              "#9c179e"
             ],
             [
              0.4444444444444444,
              "#bd3786"
             ],
             [
              0.5555555555555556,
              "#d8576b"
             ],
             [
              0.6666666666666666,
              "#ed7953"
             ],
             [
              0.7777777777777778,
              "#fb9f3a"
             ],
             [
              0.8888888888888888,
              "#fdca26"
             ],
             [
              1,
              "#f0f921"
             ]
            ],
            "type": "heatmapgl"
           }
          ],
          "histogram": [
           {
            "marker": {
             "pattern": {
              "fillmode": "overlay",
              "size": 10,
              "solidity": 0.2
             }
            },
            "type": "histogram"
           }
          ],
          "histogram2d": [
           {
            "colorbar": {
             "outlinewidth": 0,
             "ticks": ""
            },
            "colorscale": [
             [
              0,
              "#0d0887"
             ],
             [
              0.1111111111111111,
              "#46039f"
             ],
             [
              0.2222222222222222,
              "#7201a8"
             ],
             [
              0.3333333333333333,
              "#9c179e"
             ],
             [
              0.4444444444444444,
              "#bd3786"
             ],
             [
              0.5555555555555556,
              "#d8576b"
             ],
             [
              0.6666666666666666,
              "#ed7953"
             ],
             [
              0.7777777777777778,
              "#fb9f3a"
             ],
             [
              0.8888888888888888,
              "#fdca26"
             ],
             [
              1,
              "#f0f921"
             ]
            ],
            "type": "histogram2d"
           }
          ],
          "histogram2dcontour": [
           {
            "colorbar": {
             "outlinewidth": 0,
             "ticks": ""
            },
            "colorscale": [
             [
              0,
              "#0d0887"
             ],
             [
              0.1111111111111111,
              "#46039f"
             ],
             [
              0.2222222222222222,
              "#7201a8"
             ],
             [
              0.3333333333333333,
              "#9c179e"
             ],
             [
              0.4444444444444444,
              "#bd3786"
             ],
             [
              0.5555555555555556,
              "#d8576b"
             ],
             [
              0.6666666666666666,
              "#ed7953"
             ],
             [
              0.7777777777777778,
              "#fb9f3a"
             ],
             [
              0.8888888888888888,
              "#fdca26"
             ],
             [
              1,
              "#f0f921"
             ]
            ],
            "type": "histogram2dcontour"
           }
          ],
          "mesh3d": [
           {
            "colorbar": {
             "outlinewidth": 0,
             "ticks": ""
            },
            "type": "mesh3d"
           }
          ],
          "parcoords": [
           {
            "line": {
             "colorbar": {
              "outlinewidth": 0,
              "ticks": ""
             }
            },
            "type": "parcoords"
           }
          ],
          "pie": [
           {
            "automargin": true,
            "type": "pie"
           }
          ],
          "scatter": [
           {
            "fillpattern": {
             "fillmode": "overlay",
             "size": 10,
             "solidity": 0.2
            },
            "type": "scatter"
           }
          ],
          "scatter3d": [
           {
            "line": {
             "colorbar": {
              "outlinewidth": 0,
              "ticks": ""
             }
            },
            "marker": {
             "colorbar": {
              "outlinewidth": 0,
              "ticks": ""
             }
            },
            "type": "scatter3d"
           }
          ],
          "scattercarpet": [
           {
            "marker": {
             "colorbar": {
              "outlinewidth": 0,
              "ticks": ""
             }
            },
            "type": "scattercarpet"
           }
          ],
          "scattergeo": [
           {
            "marker": {
             "colorbar": {
              "outlinewidth": 0,
              "ticks": ""
             }
            },
            "type": "scattergeo"
           }
          ],
          "scattergl": [
           {
            "marker": {
             "colorbar": {
              "outlinewidth": 0,
              "ticks": ""
             }
            },
            "type": "scattergl"
           }
          ],
          "scattermapbox": [
           {
            "marker": {
             "colorbar": {
              "outlinewidth": 0,
              "ticks": ""
             }
            },
            "type": "scattermapbox"
           }
          ],
          "scatterpolar": [
           {
            "marker": {
             "colorbar": {
              "outlinewidth": 0,
              "ticks": ""
             }
            },
            "type": "scatterpolar"
           }
          ],
          "scatterpolargl": [
           {
            "marker": {
             "colorbar": {
              "outlinewidth": 0,
              "ticks": ""
             }
            },
            "type": "scatterpolargl"
           }
          ],
          "scatterternary": [
           {
            "marker": {
             "colorbar": {
              "outlinewidth": 0,
              "ticks": ""
             }
            },
            "type": "scatterternary"
           }
          ],
          "surface": [
           {
            "colorbar": {
             "outlinewidth": 0,
             "ticks": ""
            },
            "colorscale": [
             [
              0,
              "#0d0887"
             ],
             [
              0.1111111111111111,
              "#46039f"
             ],
             [
              0.2222222222222222,
              "#7201a8"
             ],
             [
              0.3333333333333333,
              "#9c179e"
             ],
             [
              0.4444444444444444,
              "#bd3786"
             ],
             [
              0.5555555555555556,
              "#d8576b"
             ],
             [
              0.6666666666666666,
              "#ed7953"
             ],
             [
              0.7777777777777778,
              "#fb9f3a"
             ],
             [
              0.8888888888888888,
              "#fdca26"
             ],
             [
              1,
              "#f0f921"
             ]
            ],
            "type": "surface"
           }
          ],
          "table": [
           {
            "cells": {
             "fill": {
              "color": "#EBF0F8"
             },
             "line": {
              "color": "white"
             }
            },
            "header": {
             "fill": {
              "color": "#C8D4E3"
             },
             "line": {
              "color": "white"
             }
            },
            "type": "table"
           }
          ]
         },
         "layout": {
          "annotationdefaults": {
           "arrowcolor": "#2a3f5f",
           "arrowhead": 0,
           "arrowwidth": 1
          },
          "autotypenumbers": "strict",
          "coloraxis": {
           "colorbar": {
            "outlinewidth": 0,
            "ticks": ""
           }
          },
          "colorscale": {
           "diverging": [
            [
             0,
             "#8e0152"
            ],
            [
             0.1,
             "#c51b7d"
            ],
            [
             0.2,
             "#de77ae"
            ],
            [
             0.3,
             "#f1b6da"
            ],
            [
             0.4,
             "#fde0ef"
            ],
            [
             0.5,
             "#f7f7f7"
            ],
            [
             0.6,
             "#e6f5d0"
            ],
            [
             0.7,
             "#b8e186"
            ],
            [
             0.8,
             "#7fbc41"
            ],
            [
             0.9,
             "#4d9221"
            ],
            [
             1,
             "#276419"
            ]
           ],
           "sequential": [
            [
             0,
             "#0d0887"
            ],
            [
             0.1111111111111111,
             "#46039f"
            ],
            [
             0.2222222222222222,
             "#7201a8"
            ],
            [
             0.3333333333333333,
             "#9c179e"
            ],
            [
             0.4444444444444444,
             "#bd3786"
            ],
            [
             0.5555555555555556,
             "#d8576b"
            ],
            [
             0.6666666666666666,
             "#ed7953"
            ],
            [
             0.7777777777777778,
             "#fb9f3a"
            ],
            [
             0.8888888888888888,
             "#fdca26"
            ],
            [
             1,
             "#f0f921"
            ]
           ],
           "sequentialminus": [
            [
             0,
             "#0d0887"
            ],
            [
             0.1111111111111111,
             "#46039f"
            ],
            [
             0.2222222222222222,
             "#7201a8"
            ],
            [
             0.3333333333333333,
             "#9c179e"
            ],
            [
             0.4444444444444444,
             "#bd3786"
            ],
            [
             0.5555555555555556,
             "#d8576b"
            ],
            [
             0.6666666666666666,
             "#ed7953"
            ],
            [
             0.7777777777777778,
             "#fb9f3a"
            ],
            [
             0.8888888888888888,
             "#fdca26"
            ],
            [
             1,
             "#f0f921"
            ]
           ]
          },
          "colorway": [
           "#636efa",
           "#EF553B",
           "#00cc96",
           "#ab63fa",
           "#FFA15A",
           "#19d3f3",
           "#FF6692",
           "#B6E880",
           "#FF97FF",
           "#FECB52"
          ],
          "font": {
           "color": "#2a3f5f"
          },
          "geo": {
           "bgcolor": "white",
           "lakecolor": "white",
           "landcolor": "#E5ECF6",
           "showlakes": true,
           "showland": true,
           "subunitcolor": "white"
          },
          "hoverlabel": {
           "align": "left"
          },
          "hovermode": "closest",
          "mapbox": {
           "style": "light"
          },
          "paper_bgcolor": "white",
          "plot_bgcolor": "#E5ECF6",
          "polar": {
           "angularaxis": {
            "gridcolor": "white",
            "linecolor": "white",
            "ticks": ""
           },
           "bgcolor": "#E5ECF6",
           "radialaxis": {
            "gridcolor": "white",
            "linecolor": "white",
            "ticks": ""
           }
          },
          "scene": {
           "xaxis": {
            "backgroundcolor": "#E5ECF6",
            "gridcolor": "white",
            "gridwidth": 2,
            "linecolor": "white",
            "showbackground": true,
            "ticks": "",
            "zerolinecolor": "white"
           },
           "yaxis": {
            "backgroundcolor": "#E5ECF6",
            "gridcolor": "white",
            "gridwidth": 2,
            "linecolor": "white",
            "showbackground": true,
            "ticks": "",
            "zerolinecolor": "white"
           },
           "zaxis": {
            "backgroundcolor": "#E5ECF6",
            "gridcolor": "white",
            "gridwidth": 2,
            "linecolor": "white",
            "showbackground": true,
            "ticks": "",
            "zerolinecolor": "white"
           }
          },
          "shapedefaults": {
           "line": {
            "color": "#2a3f5f"
           }
          },
          "ternary": {
           "aaxis": {
            "gridcolor": "white",
            "linecolor": "white",
            "ticks": ""
           },
           "baxis": {
            "gridcolor": "white",
            "linecolor": "white",
            "ticks": ""
           },
           "bgcolor": "#E5ECF6",
           "caxis": {
            "gridcolor": "white",
            "linecolor": "white",
            "ticks": ""
           }
          },
          "title": {
           "x": 0.05
          },
          "xaxis": {
           "automargin": true,
           "gridcolor": "white",
           "linecolor": "white",
           "ticks": "",
           "title": {
            "standoff": 15
           },
           "zerolinecolor": "white",
           "zerolinewidth": 2
          },
          "yaxis": {
           "automargin": true,
           "gridcolor": "white",
           "linecolor": "white",
           "ticks": "",
           "title": {
            "standoff": 15
           },
           "zerolinecolor": "white",
           "zerolinewidth": 2
          }
         }
        },
        "title": {
         "text": "Count of Items by Category"
        },
        "xaxis": {
         "autorange": true,
         "range": [
          -0.5,
          30.5
         ],
         "title": {
          "text": "Category"
         },
         "type": "category"
        },
        "yaxis": {
         "autorange": true,
         "range": [
          0,
          126.3157894736842
         ],
         "title": {
          "text": "Count"
         },
         "type": "linear"
        }
       }
      },
      "image/png": "[encoded data removed]",
      "text/html": [
       "<div>                            <div id=\"76c49bf4-a17b-4031-b29d-4ded767bbe2b\" class=\"plotly-graph-div\" style=\"height:525px; width:100%;\"></div>            <script type=\"text/javascript\">                require([\"plotly\"], function(Plotly) {                    window.PLOTLYENV=window.PLOTLYENV || {};                                    if (document.getElementById(\"76c49bf4-a17b-4031-b29d-4ded767bbe2b\")) {                    Plotly.newPlot(                        \"76c49bf4-a17b-4031-b29d-4ded767bbe2b\",                        [{\"x\":[\"Jessica Alba\",\"Elizabeth Olsen\",\"Robert Downey Jr\",\"Alexandra Daddario\",\"Kashyap\",\"Vijay Deverakonda\",\"Henry Cavill\",\"Roger Federer\",\"Priyanka Chopra\",\"Anushka Sharma\",\"Dwayne Johnson\",\"Natalie Portman\",\"Ellen Degeneres\",\"Zac Efron\",\"Courtney Cox\",\"Virat Kohli\",\"Camila Cabello\",\"Tom Cruise\",\"Hugh Jackman\",\"Lisa Kudrow\",\"Claire Holt\",\"Akshay Kumar\",\"Marmik\",\"Andy Samberg\",\"Margot Robbie\",\"Hrithik Roshan\",\"Amitabh Bachchan\",\"Charlize Theron\",\"Brad Pitt\",\"Alia Bhatt\",\"Billie Eilish\"],\"y\":[108,71,113,92,30,115,106,77,102,68,61,105,75,91,80,49,87,58,112,70,96,50,32,92,72,101,74,78,120,79,98],\"type\":\"bar\"}],                        {\"template\":{\"data\":{\"histogram2dcontour\":[{\"type\":\"histogram2dcontour\",\"colorbar\":{\"outlinewidth\":0,\"ticks\":\"\"},\"colorscale\":[[0.0,\"#0d0887\"],[0.1111111111111111,\"#46039f\"],[0.2222222222222222,\"#7201a8\"],[0.3333333333333333,\"#9c179e\"],[0.4444444444444444,\"#bd3786\"],[0.5555555555555556,\"#d8576b\"],[0.6666666666666666,\"#ed7953\"],[0.7777777777777778,\"#fb9f3a\"],[0.8888888888888888,\"#fdca26\"],[1.0,\"#f0f921\"]]}],\"choropleth\":[{\"type\":\"choropleth\",\"colorbar\":{\"outlinewidth\":0,\"ticks\":\"\"}}],\"histogram2d\":[{\"type\":\"histogram2d\",\"colorbar\":{\"outlinewidth\":0,\"ticks\":\"\"},\"colorscale\":[[0.0,\"#0d0887\"],[0.1111111111111111,\"#46039f\"],[0.2222222222222222,\"#7201a8\"],[0.3333333333333333,\"#9c179e\"],[0.4444444444444444,\"#bd3786\"],[0.5555555555555556,\"#d8576b\"],[0.6666666666666666,\"#ed7953\"],[0.7777777777777778,\"#fb9f3a\"],[0.8888888888888888,\"#fdca26\"],[1.0,\"#f0f921\"]]}],\"heatmap\":[{\"type\":\"heatmap\",\"colorbar\":{\"outlinewidth\":0,\"ticks\":\"\"},\"colorscale\":[[0.0,\"#0d0887\"],[0.1111111111111111,\"#46039f\"],[0.2222222222222222,\"#7201a8\"],[0.3333333333333333,\"#9c179e\"],[0.4444444444444444,\"#bd3786\"],[0.5555555555555556,\"#d8576b\"],[0.6666666666666666,\"#ed7953\"],[0.7777777777777778,\"#fb9f3a\"],[0.8888888888888888,\"#fdca26\"],[1.0,\"#f0f921\"]]}],\"heatmapgl\":[{\"type\":\"heatmapgl\",\"colorbar\":{\"outlinewidth\":0,\"ticks\":\"\"},\"colorscale\":[[0.0,\"#0d0887\"],[0.1111111111111111,\"#46039f\"],[0.2222222222222222,\"#7201a8\"],[0.3333333333333333,\"#9c179e\"],[0.4444444444444444,\"#bd3786\"],[0.5555555555555556,\"#d8576b\"],[0.6666666666666666,\"#ed7953\"],[0.7777777777777778,\"#fb9f3a\"],[0.8888888888888888,\"#fdca26\"],[1.0,\"#f0f921\"]]}],\"contourcarpet\":[{\"type\":\"contourcarpet\",\"colorbar\":{\"outlinewidth\":0,\"ticks\":\"\"}}],\"contour\":[{\"type\":\"contour\",\"colorbar\":{\"outlinewidth\":0,\"ticks\":\"\"},\"colorscale\":[[0.0,\"#0d0887\"],[0.1111111111111111,\"#46039f\"],[0.2222222222222222,\"#7201a8\"],[0.3333333333333333,\"#9c179e\"],[0.4444444444444444,\"#bd3786\"],[0.5555555555555556,\"#d8576b\"],[0.6666666666666666,\"#ed7953\"],[0.7777777777777778,\"#fb9f3a\"],[0.8888888888888888,\"#fdca26\"],[1.0,\"#f0f921\"]]}],\"surface\":[{\"type\":\"surface\",\"colorbar\":{\"outlinewidth\":0,\"ticks\":\"\"},\"colorscale\":[[0.0,\"#0d0887\"],[0.1111111111111111,\"#46039f\"],[0.2222222222222222,\"#7201a8\"],[0.3333333333333333,\"#9c179e\"],[0.4444444444444444,\"#bd3786\"],[0.5555555555555556,\"#d8576b\"],[0.6666666666666666,\"#ed7953\"],[0.7777777777777778,\"#fb9f3a\"],[0.8888888888888888,\"#fdca26\"],[1.0,\"#f0f921\"]]}],\"mesh3d\":[{\"type\":\"mesh3d\",\"colorbar\":{\"outlinewidth\":0,\"ticks\":\"\"}}],\"scatter\":[{\"fillpattern\":{\"fillmode\":\"overlay\",\"size\":10,\"solidity\":0.2},\"type\":\"scatter\"}],\"parcoords\":[{\"type\":\"parcoords\",\"line\":{\"colorbar\":{\"outlinewidth\":0,\"ticks\":\"\"}}}],\"scatterpolargl\":[{\"type\":\"scatterpolargl\",\"marker\":{\"colorbar\":{\"outlinewidth\":0,\"ticks\":\"\"}}}],\"bar\":[{\"error_x\":{\"color\":\"#2a3f5f\"},\"error_y\":{\"color\":\"#2a3f5f\"},\"marker\":{\"line\":{\"color\":\"#E5ECF6\",\"width\":0.5},\"pattern\":{\"fillmode\":\"overlay\",\"size\":10,\"solidity\":0.2}},\"type\":\"bar\"}],\"scattergeo\":[{\"type\":\"scattergeo\",\"marker\":{\"colorbar\":{\"outlinewidth\":0,\"ticks\":\"\"}}}],\"scatterpolar\":[{\"type\":\"scatterpolar\",\"marker\":{\"colorbar\":{\"outlinewidth\":0,\"ticks\":\"\"}}}],\"histogram\":[{\"marker\":{\"pattern\":{\"fillmode\":\"overlay\",\"size\":10,\"solidity\":0.2}},\"type\":\"histogram\"}],\"scattergl\":[{\"type\":\"scattergl\",\"marker\":{\"colorbar\":{\"outlinewidth\":0,\"ticks\":\"\"}}}],\"scatter3d\":[{\"type\":\"scatter3d\",\"line\":{\"colorbar\":{\"outlinewidth\":0,\"ticks\":\"\"}},\"marker\":{\"colorbar\":{\"outlinewidth\":0,\"ticks\":\"\"}}}],\"scattermapbox\":[{\"type\":\"scattermapbox\",\"marker\":{\"colorbar\":{\"outlinewidth\":0,\"ticks\":\"\"}}}],\"scatterternary\":[{\"type\":\"scatterternary\",\"marker\":{\"colorbar\":{\"outlinewidth\":0,\"ticks\":\"\"}}}],\"scattercarpet\":[{\"type\":\"scattercarpet\",\"marker\":{\"colorbar\":{\"outlinewidth\":0,\"ticks\":\"\"}}}],\"carpet\":[{\"aaxis\":{\"endlinecolor\":\"#2a3f5f\",\"gridcolor\":\"white\",\"linecolor\":\"white\",\"minorgridcolor\":\"white\",\"startlinecolor\":\"#2a3f5f\"},\"baxis\":{\"endlinecolor\":\"#2a3f5f\",\"gridcolor\":\"white\",\"linecolor\":\"white\",\"minorgridcolor\":\"white\",\"startlinecolor\":\"#2a3f5f\"},\"type\":\"carpet\"}],\"table\":[{\"cells\":{\"fill\":{\"color\":\"#EBF0F8\"},\"line\":{\"color\":\"white\"}},\"header\":{\"fill\":{\"color\":\"#C8D4E3\"},\"line\":{\"color\":\"white\"}},\"type\":\"table\"}],\"barpolar\":[{\"marker\":{\"line\":{\"color\":\"#E5ECF6\",\"width\":0.5},\"pattern\":{\"fillmode\":\"overlay\",\"size\":10,\"solidity\":0.2}},\"type\":\"barpolar\"}],\"pie\":[{\"automargin\":true,\"type\":\"pie\"}]},\"layout\":{\"autotypenumbers\":\"strict\",\"colorway\":[\"#636efa\",\"#EF553B\",\"#00cc96\",\"#ab63fa\",\"#FFA15A\",\"#19d3f3\",\"#FF6692\",\"#B6E880\",\"#FF97FF\",\"#FECB52\"],\"font\":{\"color\":\"#2a3f5f\"},\"hovermode\":\"closest\",\"hoverlabel\":{\"align\":\"left\"},\"paper_bgcolor\":\"white\",\"plot_bgcolor\":\"#E5ECF6\",\"polar\":{\"bgcolor\":\"#E5ECF6\",\"angularaxis\":{\"gridcolor\":\"white\",\"linecolor\":\"white\",\"ticks\":\"\"},\"radialaxis\":{\"gridcolor\":\"white\",\"linecolor\":\"white\",\"ticks\":\"\"}},\"ternary\":{\"bgcolor\":\"#E5ECF6\",\"aaxis\":{\"gridcolor\":\"white\",\"linecolor\":\"white\",\"ticks\":\"\"},\"baxis\":{\"gridcolor\":\"white\",\"linecolor\":\"white\",\"ticks\":\"\"},\"caxis\":{\"gridcolor\":\"white\",\"linecolor\":\"white\",\"ticks\":\"\"}},\"coloraxis\":{\"colorbar\":{\"outlinewidth\":0,\"ticks\":\"\"}},\"colorscale\":{\"sequential\":[[0.0,\"#0d0887\"],[0.1111111111111111,\"#46039f\"],[0.2222222222222222,\"#7201a8\"],[0.3333333333333333,\"#9c179e\"],[0.4444444444444444,\"#bd3786\"],[0.5555555555555556,\"#d8576b\"],[0.6666666666666666,\"#ed7953\"],[0.7777777777777778,\"#fb9f3a\"],[0.8888888888888888,\"#fdca26\"],[1.0,\"#f0f921\"]],\"sequentialminus\":[[0.0,\"#0d0887\"],[0.1111111111111111,\"#46039f\"],[0.2222222222222222,\"#7201a8\"],[0.3333333333333333,\"#9c179e\"],[0.4444444444444444,\"#bd3786\"],[0.5555555555555556,\"#d8576b\"],[0.6666666666666666,\"#ed7953\"],[0.7777777777777778,\"#fb9f3a\"],[0.8888888888888888,\"#fdca26\"],[1.0,\"#f0f921\"]],\"diverging\":[[0,\"#8e0152\"],[0.1,\"#c51b7d\"],[0.2,\"#de77ae\"],[0.3,\"#f1b6da\"],[0.4,\"#fde0ef\"],[0.5,\"#f7f7f7\"],[0.6,\"#e6f5d0\"],[0.7,\"#b8e186\"],[0.8,\"#7fbc41\"],[0.9,\"#4d9221\"],[1,\"#276419\"]]},\"xaxis\":{\"gridcolor\":\"white\",\"linecolor\":\"white\",\"ticks\":\"\",\"title\":{\"standoff\":15},\"zerolinecolor\":\"white\",\"automargin\":true,\"zerolinewidth\":2},\"yaxis\":{\"gridcolor\":\"white\",\"linecolor\":\"white\",\"ticks\":\"\",\"title\":{\"standoff\":15},\"zerolinecolor\":\"white\",\"automargin\":true,\"zerolinewidth\":2},\"scene\":{\"xaxis\":{\"backgroundcolor\":\"#E5ECF6\",\"gridcolor\":\"white\",\"linecolor\":\"white\",\"showbackground\":true,\"ticks\":\"\",\"zerolinecolor\":\"white\",\"gridwidth\":2},\"yaxis\":{\"backgroundcolor\":\"#E5ECF6\",\"gridcolor\":\"white\",\"linecolor\":\"white\",\"showbackground\":true,\"ticks\":\"\",\"zerolinecolor\":\"white\",\"gridwidth\":2},\"zaxis\":{\"backgroundcolor\":\"#E5ECF6\",\"gridcolor\":\"white\",\"linecolor\":\"white\",\"showbackground\":true,\"ticks\":\"\",\"zerolinecolor\":\"white\",\"gridwidth\":2}},\"shapedefaults\":{\"line\":{\"color\":\"#2a3f5f\"}},\"annotationdefaults\":{\"arrowcolor\":\"#2a3f5f\",\"arrowhead\":0,\"arrowwidth\":1},\"geo\":{\"bgcolor\":\"white\",\"landcolor\":\"#E5ECF6\",\"subunitcolor\":\"white\",\"showland\":true,\"showlakes\":true,\"lakecolor\":\"white\"},\"title\":{\"x\":0.05},\"mapbox\":{\"style\":\"light\"}}},\"title\":{\"text\":\"Count of Items by Category\"},\"xaxis\":{\"title\":{\"text\":\"Category\"}},\"yaxis\":{\"title\":{\"text\":\"Count\"}}},                        {\"responsive\": true}                    ).then(function(){\n",
       "                            \n",
       "var gd = document.getElementById('76c49bf4-a17b-4031-b29d-4ded767bbe2b');\n",
       "var x = new MutationObserver(function (mutations, observer) {{\n",
       "        var display = window.getComputedStyle(gd).display;\n",
       "        if (!display || display === 'none') {{\n",
       "            console.log([gd, 'removed!']);\n",
       "            Plotly.purge(gd);\n",
       "            observer.disconnect();\n",
       "        }}\n",
       "}});\n",
       "\n",
       "// Listen for the removal of the full notebook cells\n",
       "var notebookContainer = gd.closest('#notebook-container');\n",
       "if (notebookContainer) {{\n",
       "    x.observe(notebookContainer, {childList: true});\n",
       "}}\n",
       "\n",
       "// Listen for the clearing of the current output cell\n",
       "var outputEl = gd.closest('.output');\n",
       "if (outputEl) {{\n",
       "    x.observe(outputEl, {childList: true});\n",
       "}}\n",
       "\n",
       "                        })                };                });            </script>        </div>"
      ]
     },
     "metadata": {},
     "output_type": "display_data"
    },
    {
     "data": {
      "application/vnd.plotly.v1+json": {
       "config": {
        "plotlyServerURL": "https://plot.ly"
       },
       "data": [
        {
         "hole": 0.3,
         "labels": [
          "Test",
          "Train",
          "Unassigned",
          "Validation"
         ],
         "type": "pie",
         "values": [
          0,
          0,
          2562,
          0
         ]
        }
       ],
       "layout": {
        "autosize": true,
        "template": {
         "data": {
          "bar": [
           {
            "error_x": {
             "color": "#2a3f5f"
            },
            "error_y": {
             "color": "#2a3f5f"
            },
            "marker": {
             "line": {
              "color": "#E5ECF6",
              "width": 0.5
             },
             "pattern": {
              "fillmode": "overlay",
              "size": 10,
              "solidity": 0.2
             }
            },
            "type": "bar"
           }
          ],
          "barpolar": [
           {
            "marker": {
             "line": {
              "color": "#E5ECF6",
              "width": 0.5
             },
             "pattern": {
              "fillmode": "overlay",
              "size": 10,
              "solidity": 0.2
             }
            },
            "type": "barpolar"
           }
          ],
          "carpet": [
           {
            "aaxis": {
             "endlinecolor": "#2a3f5f",
             "gridcolor": "white",
             "linecolor": "white",
             "minorgridcolor": "white",
             "startlinecolor": "#2a3f5f"
            },
            "baxis": {
             "endlinecolor": "#2a3f5f",
             "gridcolor": "white",
             "linecolor": "white",
             "minorgridcolor": "white",
             "startlinecolor": "#2a3f5f"
            },
            "type": "carpet"
           }
          ],
          "choropleth": [
           {
            "colorbar": {
             "outlinewidth": 0,
             "ticks": ""
            },
            "type": "choropleth"
           }
          ],
          "contour": [
           {
            "colorbar": {
             "outlinewidth": 0,
             "ticks": ""
            },
            "colorscale": [
             [
              0,
              "#0d0887"
             ],
             [
              0.1111111111111111,
              "#46039f"
             ],
             [
              0.2222222222222222,
              "#7201a8"
             ],
             [
              0.3333333333333333,
              "#9c179e"
             ],
             [
              0.4444444444444444,
              "#bd3786"
             ],
             [
              0.5555555555555556,
              "#d8576b"
             ],
             [
              0.6666666666666666,
              "#ed7953"
             ],
             [
              0.7777777777777778,
              "#fb9f3a"
             ],
             [
              0.8888888888888888,
              "#fdca26"
             ],
             [
              1,
              "#f0f921"
             ]
            ],
            "type": "contour"
           }
          ],
          "contourcarpet": [
           {
            "colorbar": {
             "outlinewidth": 0,
             "ticks": ""
            },
            "type": "contourcarpet"
           }
          ],
          "heatmap": [
           {
            "colorbar": {
             "outlinewidth": 0,
             "ticks": ""
            },
            "colorscale": [
             [
              0,
              "#0d0887"
             ],
             [
              0.1111111111111111,
              "#46039f"
             ],
             [
              0.2222222222222222,
              "#7201a8"
             ],
             [
              0.3333333333333333,
              "#9c179e"
             ],
             [
              0.4444444444444444,
              "#bd3786"
             ],
             [
              0.5555555555555556,
              "#d8576b"
             ],
             [
              0.6666666666666666,
              "#ed7953"
             ],
             [
              0.7777777777777778,
              "#fb9f3a"
             ],
             [
              0.8888888888888888,
              "#fdca26"
             ],
             [
              1,
              "#f0f921"
             ]
            ],
            "type": "heatmap"
           }
          ],
          "heatmapgl": [
           {
            "colorbar": {
             "outlinewidth": 0,
             "ticks": ""
            },
            "colorscale": [
             [
              0,
              "#0d0887"
             ],
             [
              0.1111111111111111,
              "#46039f"
             ],
             [
              0.2222222222222222,
              "#7201a8"
             ],
             [
              0.3333333333333333,
              "#9c179e"
             ],
             [
              0.4444444444444444,
              "#bd3786"
             ],
             [
              0.5555555555555556,
              "#d8576b"
             ],
             [
              0.6666666666666666,
              "#ed7953"
             ],
             [
              0.7777777777777778,
              "#fb9f3a"
             ],
             [
              0.8888888888888888,
              "#fdca26"
             ],
             [
              1,
              "#f0f921"
             ]
            ],
            "type": "heatmapgl"
           }
          ],
          "histogram": [
           {
            "marker": {
             "pattern": {
              "fillmode": "overlay",
              "size": 10,
              "solidity": 0.2
             }
            },
            "type": "histogram"
           }
          ],
          "histogram2d": [
           {
            "colorbar": {
             "outlinewidth": 0,
             "ticks": ""
            },
            "colorscale": [
             [
              0,
              "#0d0887"
             ],
             [
              0.1111111111111111,
              "#46039f"
             ],
             [
              0.2222222222222222,
              "#7201a8"
             ],
             [
              0.3333333333333333,
              "#9c179e"
             ],
             [
              0.4444444444444444,
              "#bd3786"
             ],
             [
              0.5555555555555556,
              "#d8576b"
             ],
             [
              0.6666666666666666,
              "#ed7953"
             ],
             [
              0.7777777777777778,
              "#fb9f3a"
             ],
             [
              0.8888888888888888,
              "#fdca26"
             ],
             [
              1,
              "#f0f921"
             ]
            ],
            "type": "histogram2d"
           }
          ],
          "histogram2dcontour": [
           {
            "colorbar": {
             "outlinewidth": 0,
             "ticks": ""
            },
            "colorscale": [
             [
              0,
              "#0d0887"
             ],
             [
              0.1111111111111111,
              "#46039f"
             ],
             [
              0.2222222222222222,
              "#7201a8"
             ],
             [
              0.3333333333333333,
              "#9c179e"
             ],
             [
              0.4444444444444444,
              "#bd3786"
             ],
             [
              0.5555555555555556,
              "#d8576b"
             ],
             [
              0.6666666666666666,
              "#ed7953"
             ],
             [
              0.7777777777777778,
              "#fb9f3a"
             ],
             [
              0.8888888888888888,
              "#fdca26"
             ],
             [
              1,
              "#f0f921"
             ]
            ],
            "type": "histogram2dcontour"
           }
          ],
          "mesh3d": [
           {
            "colorbar": {
             "outlinewidth": 0,
             "ticks": ""
            },
            "type": "mesh3d"
           }
          ],
          "parcoords": [
           {
            "line": {
             "colorbar": {
              "outlinewidth": 0,
              "ticks": ""
             }
            },
            "type": "parcoords"
           }
          ],
          "pie": [
           {
            "automargin": true,
            "type": "pie"
           }
          ],
          "scatter": [
           {
            "fillpattern": {
             "fillmode": "overlay",
             "size": 10,
             "solidity": 0.2
            },
            "type": "scatter"
           }
          ],
          "scatter3d": [
           {
            "line": {
             "colorbar": {
              "outlinewidth": 0,
              "ticks": ""
             }
            },
            "marker": {
             "colorbar": {
              "outlinewidth": 0,
              "ticks": ""
             }
            },
            "type": "scatter3d"
           }
          ],
          "scattercarpet": [
           {
            "marker": {
             "colorbar": {
              "outlinewidth": 0,
              "ticks": ""
             }
            },
            "type": "scattercarpet"
           }
          ],
          "scattergeo": [
           {
            "marker": {
             "colorbar": {
              "outlinewidth": 0,
              "ticks": ""
             }
            },
            "type": "scattergeo"
           }
          ],
          "scattergl": [
           {
            "marker": {
             "colorbar": {
              "outlinewidth": 0,
              "ticks": ""
             }
            },
            "type": "scattergl"
           }
          ],
          "scattermapbox": [
           {
            "marker": {
             "colorbar": {
              "outlinewidth": 0,
              "ticks": ""
             }
            },
            "type": "scattermapbox"
           }
          ],
          "scatterpolar": [
           {
            "marker": {
             "colorbar": {
              "outlinewidth": 0,
              "ticks": ""
             }
            },
            "type": "scatterpolar"
           }
          ],
          "scatterpolargl": [
           {
            "marker": {
             "colorbar": {
              "outlinewidth": 0,
              "ticks": ""
             }
            },
            "type": "scatterpolargl"
           }
          ],
          "scatterternary": [
           {
            "marker": {
             "colorbar": {
              "outlinewidth": 0,
              "ticks": ""
             }
            },
            "type": "scatterternary"
           }
          ],
          "surface": [
           {
            "colorbar": {
             "outlinewidth": 0,
             "ticks": ""
            },
            "colorscale": [
             [
              0,
              "#0d0887"
             ],
             [
              0.1111111111111111,
              "#46039f"
             ],
             [
              0.2222222222222222,
              "#7201a8"
             ],
             [
              0.3333333333333333,
              "#9c179e"
             ],
             [
              0.4444444444444444,
              "#bd3786"
             ],
             [
              0.5555555555555556,
              "#d8576b"
             ],
             [
              0.6666666666666666,
              "#ed7953"
             ],
             [
              0.7777777777777778,
              "#fb9f3a"
             ],
             [
              0.8888888888888888,
              "#fdca26"
             ],
             [
              1,
              "#f0f921"
             ]
            ],
            "type": "surface"
           }
          ],
          "table": [
           {
            "cells": {
             "fill": {
              "color": "#EBF0F8"
             },
             "line": {
              "color": "white"
             }
            },
            "header": {
             "fill": {
              "color": "#C8D4E3"
             },
             "line": {
              "color": "white"
             }
            },
            "type": "table"
           }
          ]
         },
         "layout": {
          "annotationdefaults": {
           "arrowcolor": "#2a3f5f",
           "arrowhead": 0,
           "arrowwidth": 1
          },
          "autotypenumbers": "strict",
          "coloraxis": {
           "colorbar": {
            "outlinewidth": 0,
            "ticks": ""
           }
          },
          "colorscale": {
           "diverging": [
            [
             0,
             "#8e0152"
            ],
            [
             0.1,
             "#c51b7d"
            ],
            [
             0.2,
             "#de77ae"
            ],
            [
             0.3,
             "#f1b6da"
            ],
            [
             0.4,
             "#fde0ef"
            ],
            [
             0.5,
             "#f7f7f7"
            ],
            [
             0.6,
             "#e6f5d0"
            ],
            [
             0.7,
             "#b8e186"
            ],
            [
             0.8,
             "#7fbc41"
            ],
            [
             0.9,
             "#4d9221"
            ],
            [
             1,
             "#276419"
            ]
           ],
           "sequential": [
            [
             0,
             "#0d0887"
            ],
            [
             0.1111111111111111,
             "#46039f"
            ],
            [
             0.2222222222222222,
             "#7201a8"
            ],
            [
             0.3333333333333333,
             "#9c179e"
            ],
            [
             0.4444444444444444,
             "#bd3786"
            ],
            [
             0.5555555555555556,
             "#d8576b"
            ],
            [
             0.6666666666666666,
             "#ed7953"
            ],
            [
             0.7777777777777778,
             "#fb9f3a"
            ],
            [
             0.8888888888888888,
             "#fdca26"
            ],
            [
             1,
             "#f0f921"
            ]
           ],
           "sequentialminus": [
            [
             0,
             "#0d0887"
            ],
            [
             0.1111111111111111,
             "#46039f"
            ],
            [
             0.2222222222222222,
             "#7201a8"
            ],
            [
             0.3333333333333333,
             "#9c179e"
            ],
            [
             0.4444444444444444,
             "#bd3786"
            ],
            [
             0.5555555555555556,
             "#d8576b"
            ],
            [
             0.6666666666666666,
             "#ed7953"
            ],
            [
             0.7777777777777778,
             "#fb9f3a"
            ],
            [
             0.8888888888888888,
             "#fdca26"
            ],
            [
             1,
             "#f0f921"
            ]
           ]
          },
          "colorway": [
           "#636efa",
           "#EF553B",
           "#00cc96",
           "#ab63fa",
           "#FFA15A",
           "#19d3f3",
           "#FF6692",
           "#B6E880",
           "#FF97FF",
           "#FECB52"
          ],
          "font": {
           "color": "#2a3f5f"
          },
          "geo": {
           "bgcolor": "white",
           "lakecolor": "white",
           "landcolor": "#E5ECF6",
           "showlakes": true,
           "showland": true,
           "subunitcolor": "white"
          },
          "hoverlabel": {
           "align": "left"
          },
          "hovermode": "closest",
          "mapbox": {
           "style": "light"
          },
          "paper_bgcolor": "white",
          "plot_bgcolor": "#E5ECF6",
          "polar": {
           "angularaxis": {
            "gridcolor": "white",
            "linecolor": "white",
            "ticks": ""
           },
           "bgcolor": "#E5ECF6",
           "radialaxis": {
            "gridcolor": "white",
            "linecolor": "white",
            "ticks": ""
           }
          },
          "scene": {
           "xaxis": {
            "backgroundcolor": "#E5ECF6",
            "gridcolor": "white",
            "gridwidth": 2,
            "linecolor": "white",
            "showbackground": true,
            "ticks": "",
            "zerolinecolor": "white"
           },
           "yaxis": {
            "backgroundcolor": "#E5ECF6",
            "gridcolor": "white",
            "gridwidth": 2,
            "linecolor": "white",
            "showbackground": true,
            "ticks": "",
            "zerolinecolor": "white"
           },
           "zaxis": {
            "backgroundcolor": "#E5ECF6",
            "gridcolor": "white",
            "gridwidth": 2,
            "linecolor": "white",
            "showbackground": true,
            "ticks": "",
            "zerolinecolor": "white"
           }
          },
          "shapedefaults": {
           "line": {
            "color": "#2a3f5f"
           }
          },
          "ternary": {
           "aaxis": {
            "gridcolor": "white",
            "linecolor": "white",
            "ticks": ""
           },
           "baxis": {
            "gridcolor": "white",
            "linecolor": "white",
            "ticks": ""
           },
           "bgcolor": "#E5ECF6",
           "caxis": {
            "gridcolor": "white",
            "linecolor": "white",
            "ticks": ""
           }
          },
          "title": {
           "x": 0.05
          },
          "xaxis": {
           "automargin": true,
           "gridcolor": "white",
           "linecolor": "white",
           "ticks": "",
           "title": {
            "standoff": 15
           },
           "zerolinecolor": "white",
           "zerolinewidth": 2
          },
          "yaxis": {
           "automargin": true,
           "gridcolor": "white",
           "linecolor": "white",
           "ticks": "",
           "title": {
            "standoff": 15
           },
           "zerolinecolor": "white",
           "zerolinewidth": 2
          }
         }
        },
        "title": {
         "text": "Distribution of Data Items"
        }
       }
      },
      "image/png": "[encoded data removed]",
      "text/html": [
       "<div>                            <div id=\"7857a91b-6112-4006-a079-076d9646465d\" class=\"plotly-graph-div\" style=\"height:525px; width:100%;\"></div>            <script type=\"text/javascript\">                require([\"plotly\"], function(Plotly) {                    window.PLOTLYENV=window.PLOTLYENV || {};                                    if (document.getElementById(\"7857a91b-6112-4006-a079-076d9646465d\")) {                    Plotly.newPlot(                        \"7857a91b-6112-4006-a079-076d9646465d\",                        [{\"hole\":0.3,\"labels\":[\"Test\",\"Train\",\"Unassigned\",\"Validation\"],\"values\":[0,0,2562,0],\"type\":\"pie\"}],                        {\"template\":{\"data\":{\"histogram2dcontour\":[{\"type\":\"histogram2dcontour\",\"colorbar\":{\"outlinewidth\":0,\"ticks\":\"\"},\"colorscale\":[[0.0,\"#0d0887\"],[0.1111111111111111,\"#46039f\"],[0.2222222222222222,\"#7201a8\"],[0.3333333333333333,\"#9c179e\"],[0.4444444444444444,\"#bd3786\"],[0.5555555555555556,\"#d8576b\"],[0.6666666666666666,\"#ed7953\"],[0.7777777777777778,\"#fb9f3a\"],[0.8888888888888888,\"#fdca26\"],[1.0,\"#f0f921\"]]}],\"choropleth\":[{\"type\":\"choropleth\",\"colorbar\":{\"outlinewidth\":0,\"ticks\":\"\"}}],\"histogram2d\":[{\"type\":\"histogram2d\",\"colorbar\":{\"outlinewidth\":0,\"ticks\":\"\"},\"colorscale\":[[0.0,\"#0d0887\"],[0.1111111111111111,\"#46039f\"],[0.2222222222222222,\"#7201a8\"],[0.3333333333333333,\"#9c179e\"],[0.4444444444444444,\"#bd3786\"],[0.5555555555555556,\"#d8576b\"],[0.6666666666666666,\"#ed7953\"],[0.7777777777777778,\"#fb9f3a\"],[0.8888888888888888,\"#fdca26\"],[1.0,\"#f0f921\"]]}],\"heatmap\":[{\"type\":\"heatmap\",\"colorbar\":{\"outlinewidth\":0,\"ticks\":\"\"},\"colorscale\":[[0.0,\"#0d0887\"],[0.1111111111111111,\"#46039f\"],[0.2222222222222222,\"#7201a8\"],[0.3333333333333333,\"#9c179e\"],[0.4444444444444444,\"#bd3786\"],[0.5555555555555556,\"#d8576b\"],[0.6666666666666666,\"#ed7953\"],[0.7777777777777778,\"#fb9f3a\"],[0.8888888888888888,\"#fdca26\"],[1.0,\"#f0f921\"]]}],\"heatmapgl\":[{\"type\":\"heatmapgl\",\"colorbar\":{\"outlinewidth\":0,\"ticks\":\"\"},\"colorscale\":[[0.0,\"#0d0887\"],[0.1111111111111111,\"#46039f\"],[0.2222222222222222,\"#7201a8\"],[0.3333333333333333,\"#9c179e\"],[0.4444444444444444,\"#bd3786\"],[0.5555555555555556,\"#d8576b\"],[0.6666666666666666,\"#ed7953\"],[0.7777777777777778,\"#fb9f3a\"],[0.8888888888888888,\"#fdca26\"],[1.0,\"#f0f921\"]]}],\"contourcarpet\":[{\"type\":\"contourcarpet\",\"colorbar\":{\"outlinewidth\":0,\"ticks\":\"\"}}],\"contour\":[{\"type\":\"contour\",\"colorbar\":{\"outlinewidth\":0,\"ticks\":\"\"},\"colorscale\":[[0.0,\"#0d0887\"],[0.1111111111111111,\"#46039f\"],[0.2222222222222222,\"#7201a8\"],[0.3333333333333333,\"#9c179e\"],[0.4444444444444444,\"#bd3786\"],[0.5555555555555556,\"#d8576b\"],[0.6666666666666666,\"#ed7953\"],[0.7777777777777778,\"#fb9f3a\"],[0.8888888888888888,\"#fdca26\"],[1.0,\"#f0f921\"]]}],\"surface\":[{\"type\":\"surface\",\"colorbar\":{\"outlinewidth\":0,\"ticks\":\"\"},\"colorscale\":[[0.0,\"#0d0887\"],[0.1111111111111111,\"#46039f\"],[0.2222222222222222,\"#7201a8\"],[0.3333333333333333,\"#9c179e\"],[0.4444444444444444,\"#bd3786\"],[0.5555555555555556,\"#d8576b\"],[0.6666666666666666,\"#ed7953\"],[0.7777777777777778,\"#fb9f3a\"],[0.8888888888888888,\"#fdca26\"],[1.0,\"#f0f921\"]]}],\"mesh3d\":[{\"type\":\"mesh3d\",\"colorbar\":{\"outlinewidth\":0,\"ticks\":\"\"}}],\"scatter\":[{\"fillpattern\":{\"fillmode\":\"overlay\",\"size\":10,\"solidity\":0.2},\"type\":\"scatter\"}],\"parcoords\":[{\"type\":\"parcoords\",\"line\":{\"colorbar\":{\"outlinewidth\":0,\"ticks\":\"\"}}}],\"scatterpolargl\":[{\"type\":\"scatterpolargl\",\"marker\":{\"colorbar\":{\"outlinewidth\":0,\"ticks\":\"\"}}}],\"bar\":[{\"error_x\":{\"color\":\"#2a3f5f\"},\"error_y\":{\"color\":\"#2a3f5f\"},\"marker\":{\"line\":{\"color\":\"#E5ECF6\",\"width\":0.5},\"pattern\":{\"fillmode\":\"overlay\",\"size\":10,\"solidity\":0.2}},\"type\":\"bar\"}],\"scattergeo\":[{\"type\":\"scattergeo\",\"marker\":{\"colorbar\":{\"outlinewidth\":0,\"ticks\":\"\"}}}],\"scatterpolar\":[{\"type\":\"scatterpolar\",\"marker\":{\"colorbar\":{\"outlinewidth\":0,\"ticks\":\"\"}}}],\"histogram\":[{\"marker\":{\"pattern\":{\"fillmode\":\"overlay\",\"size\":10,\"solidity\":0.2}},\"type\":\"histogram\"}],\"scattergl\":[{\"type\":\"scattergl\",\"marker\":{\"colorbar\":{\"outlinewidth\":0,\"ticks\":\"\"}}}],\"scatter3d\":[{\"type\":\"scatter3d\",\"line\":{\"colorbar\":{\"outlinewidth\":0,\"ticks\":\"\"}},\"marker\":{\"colorbar\":{\"outlinewidth\":0,\"ticks\":\"\"}}}],\"scattermapbox\":[{\"type\":\"scattermapbox\",\"marker\":{\"colorbar\":{\"outlinewidth\":0,\"ticks\":\"\"}}}],\"scatterternary\":[{\"type\":\"scatterternary\",\"marker\":{\"colorbar\":{\"outlinewidth\":0,\"ticks\":\"\"}}}],\"scattercarpet\":[{\"type\":\"scattercarpet\",\"marker\":{\"colorbar\":{\"outlinewidth\":0,\"ticks\":\"\"}}}],\"carpet\":[{\"aaxis\":{\"endlinecolor\":\"#2a3f5f\",\"gridcolor\":\"white\",\"linecolor\":\"white\",\"minorgridcolor\":\"white\",\"startlinecolor\":\"#2a3f5f\"},\"baxis\":{\"endlinecolor\":\"#2a3f5f\",\"gridcolor\":\"white\",\"linecolor\":\"white\",\"minorgridcolor\":\"white\",\"startlinecolor\":\"#2a3f5f\"},\"type\":\"carpet\"}],\"table\":[{\"cells\":{\"fill\":{\"color\":\"#EBF0F8\"},\"line\":{\"color\":\"white\"}},\"header\":{\"fill\":{\"color\":\"#C8D4E3\"},\"line\":{\"color\":\"white\"}},\"type\":\"table\"}],\"barpolar\":[{\"marker\":{\"line\":{\"color\":\"#E5ECF6\",\"width\":0.5},\"pattern\":{\"fillmode\":\"overlay\",\"size\":10,\"solidity\":0.2}},\"type\":\"barpolar\"}],\"pie\":[{\"automargin\":true,\"type\":\"pie\"}]},\"layout\":{\"autotypenumbers\":\"strict\",\"colorway\":[\"#636efa\",\"#EF553B\",\"#00cc96\",\"#ab63fa\",\"#FFA15A\",\"#19d3f3\",\"#FF6692\",\"#B6E880\",\"#FF97FF\",\"#FECB52\"],\"font\":{\"color\":\"#2a3f5f\"},\"hovermode\":\"closest\",\"hoverlabel\":{\"align\":\"left\"},\"paper_bgcolor\":\"white\",\"plot_bgcolor\":\"#E5ECF6\",\"polar\":{\"bgcolor\":\"#E5ECF6\",\"angularaxis\":{\"gridcolor\":\"white\",\"linecolor\":\"white\",\"ticks\":\"\"},\"radialaxis\":{\"gridcolor\":\"white\",\"linecolor\":\"white\",\"ticks\":\"\"}},\"ternary\":{\"bgcolor\":\"#E5ECF6\",\"aaxis\":{\"gridcolor\":\"white\",\"linecolor\":\"white\",\"ticks\":\"\"},\"baxis\":{\"gridcolor\":\"white\",\"linecolor\":\"white\",\"ticks\":\"\"},\"caxis\":{\"gridcolor\":\"white\",\"linecolor\":\"white\",\"ticks\":\"\"}},\"coloraxis\":{\"colorbar\":{\"outlinewidth\":0,\"ticks\":\"\"}},\"colorscale\":{\"sequential\":[[0.0,\"#0d0887\"],[0.1111111111111111,\"#46039f\"],[0.2222222222222222,\"#7201a8\"],[0.3333333333333333,\"#9c179e\"],[0.4444444444444444,\"#bd3786\"],[0.5555555555555556,\"#d8576b\"],[0.6666666666666666,\"#ed7953\"],[0.7777777777777778,\"#fb9f3a\"],[0.8888888888888888,\"#fdca26\"],[1.0,\"#f0f921\"]],\"sequentialminus\":[[0.0,\"#0d0887\"],[0.1111111111111111,\"#46039f\"],[0.2222222222222222,\"#7201a8\"],[0.3333333333333333,\"#9c179e\"],[0.4444444444444444,\"#bd3786\"],[0.5555555555555556,\"#d8576b\"],[0.6666666666666666,\"#ed7953\"],[0.7777777777777778,\"#fb9f3a\"],[0.8888888888888888,\"#fdca26\"],[1.0,\"#f0f921\"]],\"diverging\":[[0,\"#8e0152\"],[0.1,\"#c51b7d\"],[0.2,\"#de77ae\"],[0.3,\"#f1b6da\"],[0.4,\"#fde0ef\"],[0.5,\"#f7f7f7\"],[0.6,\"#e6f5d0\"],[0.7,\"#b8e186\"],[0.8,\"#7fbc41\"],[0.9,\"#4d9221\"],[1,\"#276419\"]]},\"xaxis\":{\"gridcolor\":\"white\",\"linecolor\":\"white\",\"ticks\":\"\",\"title\":{\"standoff\":15},\"zerolinecolor\":\"white\",\"automargin\":true,\"zerolinewidth\":2},\"yaxis\":{\"gridcolor\":\"white\",\"linecolor\":\"white\",\"ticks\":\"\",\"title\":{\"standoff\":15},\"zerolinecolor\":\"white\",\"automargin\":true,\"zerolinewidth\":2},\"scene\":{\"xaxis\":{\"backgroundcolor\":\"#E5ECF6\",\"gridcolor\":\"white\",\"linecolor\":\"white\",\"showbackground\":true,\"ticks\":\"\",\"zerolinecolor\":\"white\",\"gridwidth\":2},\"yaxis\":{\"backgroundcolor\":\"#E5ECF6\",\"gridcolor\":\"white\",\"linecolor\":\"white\",\"showbackground\":true,\"ticks\":\"\",\"zerolinecolor\":\"white\",\"gridwidth\":2},\"zaxis\":{\"backgroundcolor\":\"#E5ECF6\",\"gridcolor\":\"white\",\"linecolor\":\"white\",\"showbackground\":true,\"ticks\":\"\",\"zerolinecolor\":\"white\",\"gridwidth\":2}},\"shapedefaults\":{\"line\":{\"color\":\"#2a3f5f\"}},\"annotationdefaults\":{\"arrowcolor\":\"#2a3f5f\",\"arrowhead\":0,\"arrowwidth\":1},\"geo\":{\"bgcolor\":\"white\",\"landcolor\":\"#E5ECF6\",\"subunitcolor\":\"white\",\"showland\":true,\"showlakes\":true,\"lakecolor\":\"white\"},\"title\":{\"x\":0.05},\"mapbox\":{\"style\":\"light\"}}},\"title\":{\"text\":\"Distribution of Data Items\"}},                        {\"responsive\": true}                    ).then(function(){\n",
       "                            \n",
       "var gd = document.getElementById('7857a91b-6112-4006-a079-076d9646465d');\n",
       "var x = new MutationObserver(function (mutations, observer) {{\n",
       "        var display = window.getComputedStyle(gd).display;\n",
       "        if (!display || display === 'none') {{\n",
       "            console.log([gd, 'removed!']);\n",
       "            Plotly.purge(gd);\n",
       "            observer.disconnect();\n",
       "        }}\n",
       "}});\n",
       "\n",
       "// Listen for the removal of the full notebook cells\n",
       "var notebookContainer = gd.closest('#notebook-container');\n",
       "if (notebookContainer) {{\n",
       "    x.observe(notebookContainer, {childList: true});\n",
       "}}\n",
       "\n",
       "// Listen for the clearing of the current output cell\n",
       "var outputEl = gd.closest('.output');\n",
       "if (outputEl) {{\n",
       "    x.observe(outputEl, {childList: true});\n",
       "}}\n",
       "\n",
       "                        })                };                });            </script>        </div>"
      ]
     },
     "metadata": {},
     "output_type": "display_data"
    }
   ],
   "source": [
    "import plotly.graph_objects as go\n",
    "import pandas as pd\n",
    "import plotly.io as pio\n",
    "\n",
    "\n",
    "# Convert the histogram data to a DataFrame\n",
    "df = pd.DataFrame(dataset_summary['histogram'])\n",
    "\n",
    "# Bar chart for counts by category\n",
    "fig1 = go.Figure(data=[go.Bar(x=df['label'], y=df['count'])])\n",
    "fig1.update_layout(\n",
    "    title='Count of Items by Category',\n",
    "    xaxis_title='Category',\n",
    "    yaxis_title='Count'\n",
    ")\n",
    "\n",
    "# Pie chart for distribution of data items\n",
    "fig2 = go.Figure(data=[go.Pie(\n",
    "    labels=['Test', 'Train', 'Unassigned', 'Validation'],\n",
    "    values=[dataset_summary['testDataItemCount'], dataset_summary['trainDataItemCount'], dataset_summary['unassignedDataItemCount'], dataset_summary['valDataItemCount']],\n",
    "    hole=0.3\n",
    ")])\n",
    "fig2.update_layout(\n",
    "    title='Distribution of Data Items'\n",
    ")\n",
    "\n",
    "# Display the figures\n",
    "fig1.show()\n",
    "fig2.show()\n"
   ]
  },
  {
   "cell_type": "markdown",
   "metadata": {},
   "source": [
    "# Create a Model Training experiment\n",
    "\n",
    "1.   Start a Model Training experiment\n",
    "2.   Explore the available SOTA model families and models\n",
    "3.   Get the default training config , modify it if needed.\n",
    "4.   Add the model for training.\n",
    "5.   Check for the status of the model train action"
   ]
  },
  {
   "cell_type": "code",
   "execution_count": 42,
   "metadata": {},
   "outputs": [
    {
     "name": "stdout",
     "output_type": "stream",
     "text": [
      "[{'_id': '672c4e50d7ca08f1f0d9fd1e', 'name': 'Face recognition for security', '_idProject': '672c4da4c1c6122f225f6618', 'status': '', 'createdAt': '2024-11-07T05:21:20.986Z', 'updatedAt': '2024-11-07T05:36:16.376Z', 'stats': [{'version': 'v1.0', 'versionStats': {'test': 0, 'train': 0, 'val': 0, 'unassigned': 2562, 'total': 2562}, 'versionDescription': '1st version', 'classStat': {'Akshay Kumar': {'total': 50, 'train': 0, 'test': 0, 'val': 0, 'unassigned': 50}, 'Alexandra Daddario': {'total': 92, 'train': 0, 'test': 0, 'val': 0, 'unassigned': 92}, 'Alia Bhatt': {'total': 79, 'train': 0, 'test': 0, 'val': 0, 'unassigned': 79}, 'Amitabh Bachchan': {'total': 74, 'train': 0, 'test': 0, 'val': 0, 'unassigned': 74}, 'Andy Samberg': {'total': 92, 'train': 0, 'test': 0, 'val': 0, 'unassigned': 92}, 'Anushka Sharma': {'total': 68, 'train': 0, 'test': 0, 'val': 0, 'unassigned': 68}, 'Billie Eilish': {'total': 98, 'train': 0, 'test': 0, 'val': 0, 'unassigned': 98}, 'Brad Pitt': {'total': 120, 'train': 0, 'test': 0, 'val': 0, 'unassigned': 120}, 'Camila Cabello': {'total': 87, 'train': 0, 'test': 0, 'val': 0, 'unassigned': 87}, 'Charlize Theron': {'total': 78, 'train': 0, 'test': 0, 'val': 0, 'unassigned': 78}, 'Claire Holt': {'total': 96, 'train': 0, 'test': 0, 'val': 0, 'unassigned': 96}, 'Courtney Cox': {'total': 80, 'train': 0, 'test': 0, 'val': 0, 'unassigned': 80}, 'Dwayne Johnson': {'total': 61, 'train': 0, 'test': 0, 'val': 0, 'unassigned': 61}, 'Elizabeth Olsen': {'total': 71, 'train': 0, 'test': 0, 'val': 0, 'unassigned': 71}, 'Ellen Degeneres': {'total': 75, 'train': 0, 'test': 0, 'val': 0, 'unassigned': 75}, 'Henry Cavill': {'total': 106, 'train': 0, 'test': 0, 'val': 0, 'unassigned': 106}, 'Hrithik Roshan': {'total': 101, 'train': 0, 'test': 0, 'val': 0, 'unassigned': 101}, 'Hugh Jackman': {'total': 112, 'train': 0, 'test': 0, 'val': 0, 'unassigned': 112}, 'Jessica Alba': {'total': 108, 'train': 0, 'test': 0, 'val': 0, 'unassigned': 108}, 'Kashyap': {'total': 30, 'train': 0, 'test': 0, 'val': 0, 'unassigned': 30}, 'Lisa Kudrow': {'total': 70, 'train': 0, 'test': 0, 'val': 0, 'unassigned': 70}, 'Margot Robbie': {'total': 72, 'train': 0, 'test': 0, 'val': 0, 'unassigned': 72}, 'Marmik': {'total': 32, 'train': 0, 'test': 0, 'val': 0, 'unassigned': 32}, 'Natalie Portman': {'total': 105, 'train': 0, 'test': 0, 'val': 0, 'unassigned': 105}, 'Priyanka Chopra': {'total': 102, 'train': 0, 'test': 0, 'val': 0, 'unassigned': 102}, 'Robert Downey Jr': {'total': 113, 'train': 0, 'test': 0, 'val': 0, 'unassigned': 113}, 'Roger Federer': {'total': 77, 'train': 0, 'test': 0, 'val': 0, 'unassigned': 77}, 'Tom Cruise': {'total': 58, 'train': 0, 'test': 0, 'val': 0, 'unassigned': 58}, 'Vijay Deverakonda': {'total': 115, 'train': 0, 'test': 0, 'val': 0, 'unassigned': 115}, 'Virat Kohli': {'total': 49, 'train': 0, 'test': 0, 'val': 0, 'unassigned': 49}, 'Zac Efron': {'total': 91, 'train': 0, 'test': 0, 'val': 0, 'unassigned': 91}}, 'versionStatus': 'processed', 'isFrozen': False, 'splitwiseBalance': True, 'classwiseBalance': False}, {'version': 'v1.1', 'versionStats': {'test': 385, 'train': 1793, 'val': 384, 'unassigned': 0, 'total': 2562}, 'versionDescription': '', 'classStat': {'Akshay Kumar': {'total': 50, 'train': 35, 'test': 7, 'val': 8, 'unassigned': 0}, 'Alexandra Daddario': {'total': 92, 'train': 64, 'test': 14, 'val': 14, 'unassigned': 0}, 'Alia Bhatt': {'total': 79, 'train': 55, 'test': 12, 'val': 12, 'unassigned': 0}, 'Amitabh Bachchan': {'total': 74, 'train': 52, 'test': 11, 'val': 11, 'unassigned': 0}, 'Andy Samberg': {'total': 92, 'train': 64, 'test': 14, 'val': 14, 'unassigned': 0}, 'Anushka Sharma': {'total': 68, 'train': 48, 'test': 10, 'val': 10, 'unassigned': 0}, 'Billie Eilish': {'total': 98, 'train': 69, 'test': 15, 'val': 14, 'unassigned': 0}, 'Brad Pitt': {'total': 120, 'train': 84, 'test': 18, 'val': 18, 'unassigned': 0}, 'Camila Cabello': {'total': 87, 'train': 61, 'test': 13, 'val': 13, 'unassigned': 0}, 'Charlize Theron': {'total': 78, 'train': 55, 'test': 12, 'val': 11, 'unassigned': 0}, 'Claire Holt': {'total': 96, 'train': 67, 'test': 15, 'val': 14, 'unassigned': 0}, 'Courtney Cox': {'total': 80, 'train': 56, 'test': 12, 'val': 12, 'unassigned': 0}, 'Dwayne Johnson': {'total': 61, 'train': 43, 'test': 9, 'val': 9, 'unassigned': 0}, 'Elizabeth Olsen': {'total': 71, 'train': 50, 'test': 10, 'val': 11, 'unassigned': 0}, 'Ellen Degeneres': {'total': 75, 'train': 53, 'test': 11, 'val': 11, 'unassigned': 0}, 'Henry Cavill': {'total': 106, 'train': 74, 'test': 16, 'val': 16, 'unassigned': 0}, 'Hrithik Roshan': {'total': 101, 'train': 71, 'test': 15, 'val': 15, 'unassigned': 0}, 'Hugh Jackman': {'total': 112, 'train': 78, 'test': 17, 'val': 17, 'unassigned': 0}, 'Jessica Alba': {'total': 108, 'train': 76, 'test': 16, 'val': 16, 'unassigned': 0}, 'Kashyap': {'total': 30, 'train': 21, 'test': 4, 'val': 5, 'unassigned': 0}, 'Lisa Kudrow': {'total': 70, 'train': 49, 'test': 10, 'val': 11, 'unassigned': 0}, 'Margot Robbie': {'total': 72, 'train': 50, 'test': 11, 'val': 11, 'unassigned': 0}, 'Marmik': {'total': 32, 'train': 22, 'test': 5, 'val': 5, 'unassigned': 0}, 'Natalie Portman': {'total': 105, 'train': 73, 'test': 16, 'val': 16, 'unassigned': 0}, 'Priyanka Chopra': {'total': 102, 'train': 71, 'test': 16, 'val': 15, 'unassigned': 0}, 'Robert Downey Jr': {'total': 113, 'train': 79, 'test': 17, 'val': 17, 'unassigned': 0}, 'Roger Federer': {'total': 77, 'train': 54, 'test': 12, 'val': 11, 'unassigned': 0}, 'Tom Cruise': {'total': 58, 'train': 41, 'test': 8, 'val': 9, 'unassigned': 0}, 'Vijay Deverakonda': {'total': 115, 'train': 80, 'test': 18, 'val': 17, 'unassigned': 0}, 'Virat Kohli': {'total': 49, 'train': 34, 'test': 7, 'val': 8, 'unassigned': 0}, 'Zac Efron': {'total': 91, 'train': 64, 'test': 14, 'val': 13, 'unassigned': 0}}, 'versionStatus': 'processed', 'isFrozen': True, 'splitwiseBalance': True, 'classwiseBalance': False}], 'allVersions': ['v1.0', 'v1.1'], 'processedVersions': ['v1.1'], 'latestVersion': 'v1.1', 'disabledVersions': None}]\n",
      "<matrice.experiment.Experiment object at 0x000002614EE92F30>\n",
      "Experiment ID: 672c9b03eabd982c294b3cac\n",
      "Experiment Name: Face Recognition Experiment-1\n",
      "----------------------------\n",
      "Experiment ID: 672c9b03eabd982c294b3cac\n",
      "Experiment Name: Face Recognition Experiment-1\n",
      "Experiment instance has been created: <matrice.experiment.Experiment object at 0x000002614EE92F30>\n",
      "----------------------------\n"
     ]
    }
   ],
   "source": [
    "import os\n",
    "import json\n",
    "import pprint\n",
    "import uuid\n",
    "\n",
    "# Generate a unique experiment name\n",
    "experiment_name_user = f\"Face Recognition Experiment-1\"\n",
    "\n",
    "# Function to create an experiment\n",
    "def create_experiment():\n",
    "    name = experiment_name_user\n",
    "    target_run_time = [\"PyTorch\"]\n",
    "    primary_metric = \"acc@1\"\n",
    "    matrice_compute = True\n",
    "    dataset_version = 'v1.1'\n",
    "\n",
    "    experiment_instance = project_instance.create_experiment(\n",
    "        name,\n",
    "        dataset_id,\n",
    "        target_run_time[0],\n",
    "        dataset_version,\n",
    "        primary_metric,\n",
    "        matrice_compute\n",
    "    )\n",
    "\n",
    "    print(experiment_instance)\n",
    "    experiment_id = experiment_instance.experiment_id\n",
    "    experiment_name = experiment_instance.experiment_name\n",
    "\n",
    "    print(f\"Experiment ID: {experiment_id}\")\n",
    "    print(f\"Experiment Name: {experiment_name}\")\n",
    "\n",
    "    return experiment_instance, experiment_id, experiment_name\n",
    "\n",
    "# Create a new experiment\n",
    "experiment_instance , experiment_id, experiment_name = create_experiment()\n",
    "\n",
    "print(\"----------------------------\")\n",
    "print(f\"Experiment ID: {experiment_id}\")\n",
    "print(f\"Experiment Name: {experiment_name}\")\n",
    "print(f\"Experiment instance has been created: {experiment_instance}\")\n",
    "print(\"----------------------------\")"
   ]
  },
  {
   "cell_type": "code",
   "execution_count": 43,
   "metadata": {},
   "outputs": [],
   "source": [
    "Vars.set(\"experiment_id\", experiment_instance.experiment_id)\n",
    "Vars.set(\"experiment_name\", experiment_instance.experiment_name)"
   ]
  },
  {
   "cell_type": "code",
   "execution_count": null,
   "metadata": {},
   "outputs": [],
   "source": [
    "from matrice.model_store import _get_all_model_families \n",
    "\n",
    "resp , error , mesage = _get_all_model_families( session_instance , project_id , project_type=\"classification\" )\n",
    "print(\"----List of available classification models on platform----\")\n",
    "# Iterate through each model family in the response\n",
    "for model_family in resp:\n",
    "    # Extract _id and modelFamily (model family name)\n",
    "    model_family_id = model_family.get('_id')\n",
    "    name = model_family.get('modelFamily')\n",
    "    \n",
    "    # Print in formatted manner\n",
    "    print(f\"ID: {model_family_id}, Model Family Name: {name}\")"
   ]
  },
  {
   "cell_type": "code",
   "execution_count": 24,
   "metadata": {},
   "outputs": [
    {
     "name": "stdout",
     "output_type": "stream",
     "text": [
      "A ModelFamily instance has been initialized <matrice.model_store.ModelFamily object at 0x00000212FA3DA210>\n"
     ]
    }
   ],
   "source": [
    "from matrice.model_store import ModelFamily\n",
    "\n",
    "model_family_id = \"65c6772c5f34a0e8878e3ed3\"\n",
    "# Initialize the ModelFamily instance after choosing a Model Family\n",
    "model_family_instance = ModelFamily(session_instance, model_family_id=model_family_id) # Update with the model family ID of your choice\n",
    "print(\"A ModelFamily instance has been initialized\",model_family_instance)"
   ]
  },
  {
   "cell_type": "code",
   "execution_count": 25,
   "metadata": {},
   "outputs": [
    {
     "name": "stdout",
     "output_type": "stream",
     "text": [
      "ID: 65c6772d5f34a0e8878e3ed4 | Model Name: ResNet-50 | Model Key: resnet50 | Params in Millions: 23.9\n",
      "ID: 65c6772d5f34a0e8878e3ed5 | Model Name: ResNet-101 | Model Key: resnet101 | Params in Millions: 42.8\n",
      "ID: 65c6772e5f34a0e8878e3ed6 | Model Name: ResNet-18 | Model Key: resnet18 | Params in Millions: 11.4\n",
      "ID: 65c6772e5f34a0e8878e3ed7 | Model Name: ResNet-34 | Model Key: resnet34 | Params in Millions: 21.5\n",
      "ID: 65c6772e5f34a0e8878e3ed8 | Model Name: ResNet-152 | Model Key: resnet152 | Params in Millions: 58.5\n"
     ]
    }
   ],
   "source": [
    "# Fetch model architectures\n",
    "arch_resp, error, message = model_family_instance.get_model_archs()\n",
    "if error:\n",
    "    print(f\"Error: {error}\")\n",
    "else:\n",
    "    \n",
    "    # Check if resp is a list or a dictionary\n",
    "    if isinstance(arch_resp, list):\n",
    "        # Iterate through each model info in the list\n",
    "        for model_info in arch_resp:\n",
    "            model_key = model_info[\"model_key\"]\n",
    "            model_arch_instance = model_info[\"model_arch_instance\"]\n",
    "            \n",
    "            # Extract model information\n",
    "            model_info_id = model_arch_instance.model_info_id\n",
    "            name = model_arch_instance.model_name\n",
    "            key = model_arch_instance.model_key\n",
    "            params = model_arch_instance.params_millions\n",
    "\n",
    "            # Print in formatted manner\n",
    "            print(f\"ID: {model_info_id} |  Model Name: {name} | Model Key: {key} | Params in Millions: {params}\")\n",
    "    elif isinstance(arch_resp, dict):\n",
    "        # Iterate through each model key in the dictionary\n",
    "        for model_key, model_arch_instance in arch_resp.items():\n",
    "            # Extract model information\n",
    "            model_info_id = model_arch_instance.model_info_id\n",
    "            name = model_arch_instance.model_name\n",
    "            key = model_arch_instance.model_key\n",
    "            params = model_arch_instance.params_millions\n",
    "\n",
    "            # Print in formatted manner\n",
    "            print(f\"ID: {model_info_id} | Model Name: {name} | Model Key: {key} | Params in Millions: {params}\")"
   ]
  },
  {
   "cell_type": "code",
   "execution_count": 26,
   "metadata": {},
   "outputs": [
    {
     "name": "stdout",
     "output_type": "stream",
     "text": [
      "Chosen Training Architecture : resnet50\n",
      "Model Architecture instance initialized for chosen training architecture : <matrice.model_store.ModelArch object at 0x00000212FA3D9CA0>\n"
     ]
    }
   ],
   "source": [
    "from matrice.model_store import ModelArch\n",
    "train_arch = 'resnet50' # Update with the model key of your choice\n",
    "print(\"Chosen Training Architecture :\" ,train_arch)\n",
    "model_arch_instance = arch_resp.get(train_arch)\n",
    "print(\"Model Architecture instance initialized for chosen training architecture :\", model_arch_instance)"
   ]
  },
  {
   "cell_type": "code",
   "execution_count": 27,
   "metadata": {},
   "outputs": [
    {
     "name": "stdout",
     "output_type": "stream",
     "text": [
      "-----Default Train Config------\n",
      "{'action_config': {'batch_size': {'allowedValues': [1, 2, 4, 8, 16, 32, 64],\n",
      "                                  'anyValue': True,\n",
      "                                  'defaultValue': 4,\n",
      "                                  'hyperparameter': True,\n",
      "                                  'keyName': 'batch_size',\n",
      "                                  'maxValue': 1024,\n",
      "                                  'minValue': 1,\n",
      "                                  'selectedValues': [4],\n",
      "                                  'valueType': 'int32'},\n",
      "                   'epochs': {'allowedValues': [10,\n",
      "                                                20,\n",
      "                                                30,\n",
      "                                                40,\n",
      "                                                50,\n",
      "                                                60,\n",
      "                                                70,\n",
      "                                                80,\n",
      "                                                90,\n",
      "                                                100,\n",
      "                                                125,\n",
      "                                                150,\n",
      "                                                175,\n",
      "                                                200],\n",
      "                              'anyValue': True,\n",
      "                              'defaultValue': 50,\n",
      "                              'hyperparameter': True,\n",
      "                              'keyName': 'epochs',\n",
      "                              'maxValue': 300,\n",
      "                              'minValue': 5,\n",
      "                              'selectedValues': [50],\n",
      "                              'valueType': 'int32'},\n",
      "                   'learning_rate': {'allowedValues': [1e-05,\n",
      "                                                       0.0001,\n",
      "                                                       0.001,\n",
      "                                                       0.01,\n",
      "                                                       0.02,\n",
      "                                                       0.05,\n",
      "                                                       0.1],\n",
      "                                     'anyValue': True,\n",
      "                                     'defaultValue': 0.001,\n",
      "                                     'hyperparameter': True,\n",
      "                                     'keyName': 'learning_rate',\n",
      "                                     'maxValue': 0.5,\n",
      "                                     'minValue': 1e-05,\n",
      "                                     'selectedValues': [0.001],\n",
      "                                     'valueType': 'float32'},\n",
      "                   'lr_gamma': {'allowedValues': [0.1, 0.2, 0.5, 0.9, 0.95],\n",
      "                                'anyValue': True,\n",
      "                                'defaultValue': 0.1,\n",
      "                                'hyperparameter': True,\n",
      "                                'keyName': 'lr_gamma',\n",
      "                                'maxValue': 1,\n",
      "                                'minValue': 0.01,\n",
      "                                'selectedValues': [0.1],\n",
      "                                'valueType': 'float32'},\n",
      "                   'lr_min': {'allowedValues': [1e-05,\n",
      "                                                0.0001,\n",
      "                                                0.001,\n",
      "                                                0.01,\n",
      "                                                0.1],\n",
      "                              'anyValue': True,\n",
      "                              'defaultValue': 1e-05,\n",
      "                              'hyperparameter': True,\n",
      "                              'keyName': 'lr_min',\n",
      "                              'maxValue': 1,\n",
      "                              'minValue': 1e-05,\n",
      "                              'selectedValues': [1e-05],\n",
      "                              'valueType': 'float32'},\n",
      "                   'lr_scheduler': {'allowedValues': ['CosineAnnealingLR',\n",
      "                                                      'ExponentialLR',\n",
      "                                                      'StepLR'],\n",
      "                                    'anyValue': False,\n",
      "                                    'defaultValue': 'StepLR',\n",
      "                                    'hyperparameter': True,\n",
      "                                    'keyName': 'lr_scheduler',\n",
      "                                    'maxValue': 0,\n",
      "                                    'minValue': 0,\n",
      "                                    'selectedValues': ['StepLR'],\n",
      "                                    'valueType': 'string'},\n",
      "                   'lr_step_size': {'allowedValues': [5, 10, 15, 20, 25],\n",
      "                                    'anyValue': True,\n",
      "                                    'defaultValue': 10,\n",
      "                                    'hyperparameter': True,\n",
      "                                    'keyName': 'lr_step_size',\n",
      "                                    'maxValue': 50,\n",
      "                                    'minValue': 1,\n",
      "                                    'selectedValues': [10],\n",
      "                                    'valueType': 'int32'},\n",
      "                   'min_delta': {'allowedValues': [1e-05,\n",
      "                                                   0.0001,\n",
      "                                                   0.001,\n",
      "                                                   0.01,\n",
      "                                                   0.1],\n",
      "                                 'anyValue': True,\n",
      "                                 'defaultValue': 0.0001,\n",
      "                                 'hyperparameter': True,\n",
      "                                 'keyName': 'min_delta',\n",
      "                                 'maxValue': 1,\n",
      "                                 'minValue': 1e-05,\n",
      "                                 'selectedValues': [0.0001],\n",
      "                                 'valueType': 'float32'},\n",
      "                   'momentum': {'allowedValues': [0.9,\n",
      "                                                  0.91,\n",
      "                                                  0.92,\n",
      "                                                  0.93,\n",
      "                                                  0.94,\n",
      "                                                  0.95,\n",
      "                                                  0.96,\n",
      "                                                  0.97,\n",
      "                                                  0.98,\n",
      "                                                  0.99,\n",
      "                                                  0.995],\n",
      "                                'anyValue': True,\n",
      "                                'defaultValue': 0.95,\n",
      "                                'hyperparameter': True,\n",
      "                                'keyName': 'momentum',\n",
      "                                'maxValue': 0.995,\n",
      "                                'minValue': 0.8,\n",
      "                                'selectedValues': [0.95],\n",
      "                                'valueType': 'float32'},\n",
      "                   'optimizer': {'allowedValues': ['AdamW', 'RMSprop', 'SGD'],\n",
      "                                 'anyValue': False,\n",
      "                                 'defaultValue': 'AdamW',\n",
      "                                 'hyperparameter': True,\n",
      "                                 'keyName': 'optimizer',\n",
      "                                 'maxValue': 0,\n",
      "                                 'minValue': 0,\n",
      "                                 'selectedValues': ['AdamW'],\n",
      "                                 'valueType': 'string'},\n",
      "                   'patience': {'allowedValues': [5, 10, 15, 20, 25],\n",
      "                                'anyValue': True,\n",
      "                                'defaultValue': 5,\n",
      "                                'hyperparameter': True,\n",
      "                                'keyName': 'patience',\n",
      "                                'maxValue': 50,\n",
      "                                'minValue': 1,\n",
      "                                'selectedValues': [5],\n",
      "                                'valueType': 'int32'},\n",
      "                   'weight_decay': {'allowedValues': [0.0001, 0.0002, 0.001],\n",
      "                                    'anyValue': True,\n",
      "                                    'defaultValue': 0.0001,\n",
      "                                    'hyperparameter': True,\n",
      "                                    'keyName': 'weight_decay',\n",
      "                                    'maxValue': 0.1,\n",
      "                                    'minValue': 0,\n",
      "                                    'selectedValues': [0.0001],\n",
      "                                    'valueType': 'float64'}},\n",
      " 'checkpoint_type': 'predefined',\n",
      " 'is_autoML': False,\n",
      " 'model_checkpoint': 'auto',\n",
      " 'model_config': {'batch_size': [4],\n",
      "                  'epochs': [50],\n",
      "                  'learning_rate': [0.001],\n",
      "                  'lr_gamma': [0.1],\n",
      "                  'lr_min': [1e-05],\n",
      "                  'lr_scheduler': ['StepLR'],\n",
      "                  'lr_step_size': [10],\n",
      "                  'min_delta': [0.0001],\n",
      "                  'momentum': [0.95],\n",
      "                  'optimizer': ['AdamW'],\n",
      "                  'patience': [5],\n",
      "                  'weight_decay': [0.0001]},\n",
      " 'tuning_type': 'default'}\n",
      "--------------------------------\n",
      "-------Training instance initialized--------\n",
      "<matrice.model_store.ModelArch object at 0x00000212FA3DBA10>\n"
     ]
    }
   ],
   "source": [
    "import pprint\n",
    "train_instance , train_config = model_arch_instance.get_train_config(experiment_id=Vars.get('experiment_id'))\n",
    "train_instance , train_config = model_arch_instance.get_train_config(experiment_id=\"6730d796eabd982c294b3d38\")\n",
    "print(\"-----Default Train Config------\")\n",
    "pprint.pprint(train_config)\n",
    "print(\"--------------------------------\")\n",
    "print(\"-------Training instance initialized--------\")\n",
    "print(train_instance)"
   ]
  },
  {
   "cell_type": "code",
   "execution_count": 49,
   "metadata": {},
   "outputs": [
    {
     "name": "stdout",
     "output_type": "stream",
     "text": [
      "-----Updated Model Config------\n",
      "{'batch_size': [2],\n",
      " 'epochs': [50],\n",
      " 'learning_rate': [0.001],\n",
      " 'lr_gamma': [0.1],\n",
      " 'lr_min': [1e-05],\n",
      " 'lr_scheduler': ['StepLR'],\n",
      " 'lr_step_size': [10],\n",
      " 'min_delta': [0.0001],\n",
      " 'momentum': [0.95],\n",
      " 'optimizer': ['AdamW'],\n",
      " 'patience': [5],\n",
      " 'weight_decay': [0.0001]}\n",
      "--------------------------------\n",
      "-----Updated Train Config------\n",
      "{'action_config': {'batch_size': {'allowedValues': [1, 2, 4, 8, 16, 32, 64],\n",
      "                                  'anyValue': True,\n",
      "                                  'defaultValue': 4,\n",
      "                                  'hyperparameter': True,\n",
      "                                  'keyName': 'batch_size',\n",
      "                                  'maxValue': 1024,\n",
      "                                  'minValue': 1,\n",
      "                                  'selectedValues': [4],\n",
      "                                  'valueType': 'int32'},\n",
      "                   'epochs': {'allowedValues': [10,\n",
      "                                                20,\n",
      "                                                30,\n",
      "                                                40,\n",
      "                                                50,\n",
      "                                                60,\n",
      "                                                70,\n",
      "                                                80,\n",
      "                                                90,\n",
      "                                                100,\n",
      "                                                125,\n",
      "                                                150,\n",
      "                                                175,\n",
      "                                                200],\n",
      "                              'anyValue': True,\n",
      "                              'defaultValue': 50,\n",
      "                              'hyperparameter': True,\n",
      "                              'keyName': 'epochs',\n",
      "                              'maxValue': 300,\n",
      "                              'minValue': 5,\n",
      "                              'selectedValues': [50],\n",
      "                              'valueType': 'int32'},\n",
      "                   'learning_rate': {'allowedValues': [1e-05,\n",
      "                                                       0.0001,\n",
      "                                                       0.001,\n",
      "                                                       0.01,\n",
      "                                                       0.02,\n",
      "                                                       0.05,\n",
      "                                                       0.1],\n",
      "                                     'anyValue': True,\n",
      "                                     'defaultValue': 0.001,\n",
      "                                     'hyperparameter': True,\n",
      "                                     'keyName': 'learning_rate',\n",
      "                                     'maxValue': 0.5,\n",
      "                                     'minValue': 1e-05,\n",
      "                                     'selectedValues': [0.001],\n",
      "                                     'valueType': 'float32'},\n",
      "                   'lr_gamma': {'allowedValues': [0.1, 0.2, 0.5, 0.9, 0.95],\n",
      "                                'anyValue': True,\n",
      "                                'defaultValue': 0.1,\n",
      "                                'hyperparameter': True,\n",
      "                                'keyName': 'lr_gamma',\n",
      "                                'maxValue': 1,\n",
      "                                'minValue': 0.01,\n",
      "                                'selectedValues': [0.1],\n",
      "                                'valueType': 'float32'},\n",
      "                   'lr_min': {'allowedValues': [1e-05,\n",
      "                                                0.0001,\n",
      "                                                0.001,\n",
      "                                                0.01,\n",
      "                                                0.1],\n",
      "                              'anyValue': True,\n",
      "                              'defaultValue': 1e-05,\n",
      "                              'hyperparameter': True,\n",
      "                              'keyName': 'lr_min',\n",
      "                              'maxValue': 1,\n",
      "                              'minValue': 1e-05,\n",
      "                              'selectedValues': [1e-05],\n",
      "                              'valueType': 'float32'},\n",
      "                   'lr_scheduler': {'allowedValues': ['CosineAnnealingLR',\n",
      "                                                      'ExponentialLR',\n",
      "                                                      'StepLR'],\n",
      "                                    'anyValue': False,\n",
      "                                    'defaultValue': 'StepLR',\n",
      "                                    'hyperparameter': True,\n",
      "                                    'keyName': 'lr_scheduler',\n",
      "                                    'maxValue': 0,\n",
      "                                    'minValue': 0,\n",
      "                                    'selectedValues': ['StepLR'],\n",
      "                                    'valueType': 'string'},\n",
      "                   'lr_step_size': {'allowedValues': [5, 10, 15, 20, 25],\n",
      "                                    'anyValue': True,\n",
      "                                    'defaultValue': 10,\n",
      "                                    'hyperparameter': True,\n",
      "                                    'keyName': 'lr_step_size',\n",
      "                                    'maxValue': 50,\n",
      "                                    'minValue': 1,\n",
      "                                    'selectedValues': [10],\n",
      "                                    'valueType': 'int32'},\n",
      "                   'min_delta': {'allowedValues': [1e-05,\n",
      "                                                   0.0001,\n",
      "                                                   0.001,\n",
      "                                                   0.01,\n",
      "                                                   0.1],\n",
      "                                 'anyValue': True,\n",
      "                                 'defaultValue': 0.0001,\n",
      "                                 'hyperparameter': True,\n",
      "                                 'keyName': 'min_delta',\n",
      "                                 'maxValue': 1,\n",
      "                                 'minValue': 1e-05,\n",
      "                                 'selectedValues': [0.0001],\n",
      "                                 'valueType': 'float32'},\n",
      "                   'momentum': {'allowedValues': [0.9,\n",
      "                                                  0.91,\n",
      "                                                  0.92,\n",
      "                                                  0.93,\n",
      "                                                  0.94,\n",
      "                                                  0.95,\n",
      "                                                  0.96,\n",
      "                                                  0.97,\n",
      "                                                  0.98,\n",
      "                                                  0.99,\n",
      "                                                  0.995],\n",
      "                                'anyValue': True,\n",
      "                                'defaultValue': 0.95,\n",
      "                                'hyperparameter': True,\n",
      "                                'keyName': 'momentum',\n",
      "                                'maxValue': 0.995,\n",
      "                                'minValue': 0.8,\n",
      "                                'selectedValues': [0.95],\n",
      "                                'valueType': 'float32'},\n",
      "                   'optimizer': {'allowedValues': ['AdamW', 'RMSprop', 'SGD'],\n",
      "                                 'anyValue': False,\n",
      "                                 'defaultValue': 'AdamW',\n",
      "                                 'hyperparameter': True,\n",
      "                                 'keyName': 'optimizer',\n",
      "                                 'maxValue': 0,\n",
      "                                 'minValue': 0,\n",
      "                                 'selectedValues': ['AdamW'],\n",
      "                                 'valueType': 'string'},\n",
      "                   'patience': {'allowedValues': [5, 10, 15, 20, 25],\n",
      "                                'anyValue': True,\n",
      "                                'defaultValue': 5,\n",
      "                                'hyperparameter': True,\n",
      "                                'keyName': 'patience',\n",
      "                                'maxValue': 50,\n",
      "                                'minValue': 1,\n",
      "                                'selectedValues': [5],\n",
      "                                'valueType': 'int32'},\n",
      "                   'weight_decay': {'allowedValues': [0.0001, 0.0002, 0.001],\n",
      "                                    'anyValue': True,\n",
      "                                    'defaultValue': 0.0001,\n",
      "                                    'hyperparameter': True,\n",
      "                                    'keyName': 'weight_decay',\n",
      "                                    'maxValue': 0.1,\n",
      "                                    'minValue': 0,\n",
      "                                    'selectedValues': [0.0001],\n",
      "                                    'valueType': 'float64'}},\n",
      " 'checkpoint_type': 'predefined',\n",
      " 'is_autoML': False,\n",
      " 'model_checkpoint': 'auto',\n",
      " 'model_config': {'batch_size': [2],\n",
      "                  'epochs': [50],\n",
      "                  'learning_rate': [0.001],\n",
      "                  'lr_gamma': [0.1],\n",
      "                  'lr_min': [1e-05],\n",
      "                  'lr_scheduler': ['StepLR'],\n",
      "                  'lr_step_size': [10],\n",
      "                  'min_delta': [0.0001],\n",
      "                  'momentum': [0.95],\n",
      "                  'optimizer': ['AdamW'],\n",
      "                  'patience': [5],\n",
      "                  'weight_decay': [0.0001]},\n",
      " 'tuning_type': 'default'}\n",
      "--------------------------------\n"
     ]
    }
   ],
   "source": [
    "model_config = train_config['model_config']\n",
    "\n",
    "# Modify the model_config as needed\n",
    "# modifications:\n",
    "model_config['batch_size'] = [2]\n",
    "model_config['epochs'] = [50]\n",
    "model_config['learning_rate'] = [0.001]\n",
    "\n",
    "\n",
    "# Repass the modified model_config into the train_config\n",
    "train_config['model_config'] = model_config\n",
    "\n",
    "# Print the updated train_config\n",
    "print(\"-----Updated Model Config------\")\n",
    "pprint.pprint(train_config['model_config'])\n",
    "print(\"--------------------------------\")\n",
    "\n",
    "# Print the updated train_config\n",
    "print(\"-----Updated Train Config------\")\n",
    "pprint.pprint(train_config)\n",
    "print(\"--------------------------------\")"
   ]
  },
  {
   "cell_type": "code",
   "execution_count": 50,
   "metadata": {},
   "outputs": [
    {
     "name": "stdout",
     "output_type": "stream",
     "text": [
      "------------Model added for training----------\n",
      "[{'_id': '672c9b4eeabd982c294b3cad',\n",
      "  '_idActionStatus': '672c9b4eecffcfd6a91bb2bb',\n",
      "  '_idDataset': '672c4e50d7ca08f1f0d9fd1e',\n",
      "  '_idExperiment': '672c9b03eabd982c294b3cac',\n",
      "  '_idModelFamily': '000000000000000000000000',\n",
      "  '_idModelInfo': '65c6772d5f34a0e8878e3ed4',\n",
      "  '_idProject': '672c4da4c1c6122f225f6618',\n",
      "  '_idUser': '661368b1e775b9e2fc66cf6c',\n",
      "  'actionConfig': {'batch_size': {'allowedValues': [1, 2, 4, 8, 16, 32, 64],\n",
      "                                  'anyValue': True,\n",
      "                                  'defaultValue': 4,\n",
      "                                  'hyperparameter': True,\n",
      "                                  'keyName': 'batch_size',\n",
      "                                  'maxValue': 1024,\n",
      "                                  'minValue': 1,\n",
      "                                  'selectedValues': [4],\n",
      "                                  'valueType': 'int32'},\n",
      "                   'epochs': {'allowedValues': [10,\n",
      "                                                20,\n",
      "                                                30,\n",
      "                                                40,\n",
      "                                                50,\n",
      "                                                60,\n",
      "                                                70,\n",
      "                                                80,\n",
      "                                                90,\n",
      "                                                100,\n",
      "                                                125,\n",
      "                                                150,\n",
      "                                                175,\n",
      "                                                200],\n",
      "                              'anyValue': True,\n",
      "                              'defaultValue': 50,\n",
      "                              'hyperparameter': True,\n",
      "                              'keyName': 'epochs',\n",
      "                              'maxValue': 300,\n",
      "                              'minValue': 5,\n",
      "                              'selectedValues': [50],\n",
      "                              'valueType': 'int32'},\n",
      "                   'learning_rate': {'allowedValues': [1e-05,\n",
      "                                                       0.0001,\n",
      "                                                       0.001,\n",
      "                                                       0.01,\n",
      "                                                       0.02,\n",
      "                                                       0.05,\n",
      "                                                       0.1],\n",
      "                                     'anyValue': True,\n",
      "                                     'defaultValue': 0.001,\n",
      "                                     'hyperparameter': True,\n",
      "                                     'keyName': 'learning_rate',\n",
      "                                     'maxValue': 0.5,\n",
      "                                     'minValue': 1e-05,\n",
      "                                     'selectedValues': [0.001],\n",
      "                                     'valueType': 'float32'},\n",
      "                   'lr_gamma': {'allowedValues': [0.1, 0.2, 0.5, 0.9, 0.95],\n",
      "                                'anyValue': True,\n",
      "                                'defaultValue': 0.1,\n",
      "                                'hyperparameter': True,\n",
      "                                'keyName': 'lr_gamma',\n",
      "                                'maxValue': 1,\n",
      "                                'minValue': 0.01,\n",
      "                                'selectedValues': [0.1],\n",
      "                                'valueType': 'float32'},\n",
      "                   'lr_min': {'allowedValues': [1e-05,\n",
      "                                                0.0001,\n",
      "                                                0.001,\n",
      "                                                0.01,\n",
      "                                                0.1],\n",
      "                              'anyValue': True,\n",
      "                              'defaultValue': 1e-05,\n",
      "                              'hyperparameter': True,\n",
      "                              'keyName': 'lr_min',\n",
      "                              'maxValue': 1,\n",
      "                              'minValue': 1e-05,\n",
      "                              'selectedValues': [1e-05],\n",
      "                              'valueType': 'float32'},\n",
      "                   'lr_scheduler': {'allowedValues': ['CosineAnnealingLR',\n",
      "                                                      'ExponentialLR',\n",
      "                                                      'StepLR'],\n",
      "                                    'anyValue': False,\n",
      "                                    'defaultValue': 'StepLR',\n",
      "                                    'hyperparameter': True,\n",
      "                                    'keyName': 'lr_scheduler',\n",
      "                                    'maxValue': 0,\n",
      "                                    'minValue': 0,\n",
      "                                    'selectedValues': ['StepLR'],\n",
      "                                    'valueType': 'string'},\n",
      "                   'lr_step_size': {'allowedValues': [5, 10, 15, 20, 25],\n",
      "                                    'anyValue': True,\n",
      "                                    'defaultValue': 10,\n",
      "                                    'hyperparameter': True,\n",
      "                                    'keyName': 'lr_step_size',\n",
      "                                    'maxValue': 50,\n",
      "                                    'minValue': 1,\n",
      "                                    'selectedValues': [10],\n",
      "                                    'valueType': 'int32'},\n",
      "                   'min_delta': {'allowedValues': [1e-05,\n",
      "                                                   0.0001,\n",
      "                                                   0.001,\n",
      "                                                   0.01,\n",
      "                                                   0.1],\n",
      "                                 'anyValue': True,\n",
      "                                 'defaultValue': 0.0001,\n",
      "                                 'hyperparameter': True,\n",
      "                                 'keyName': 'min_delta',\n",
      "                                 'maxValue': 1,\n",
      "                                 'minValue': 1e-05,\n",
      "                                 'selectedValues': [0.0001],\n",
      "                                 'valueType': 'float32'},\n",
      "                   'momentum': {'allowedValues': [0.9,\n",
      "                                                  0.91,\n",
      "                                                  0.92,\n",
      "                                                  0.93,\n",
      "                                                  0.94,\n",
      "                                                  0.95,\n",
      "                                                  0.96,\n",
      "                                                  0.97,\n",
      "                                                  0.98,\n",
      "                                                  0.99,\n",
      "                                                  0.995],\n",
      "                                'anyValue': True,\n",
      "                                'defaultValue': 0.95,\n",
      "                                'hyperparameter': True,\n",
      "                                'keyName': 'momentum',\n",
      "                                'maxValue': 0.995,\n",
      "                                'minValue': 0.8,\n",
      "                                'selectedValues': [0.95],\n",
      "                                'valueType': 'float32'},\n",
      "                   'optimizer': {'allowedValues': ['AdamW', 'RMSprop', 'SGD'],\n",
      "                                 'anyValue': False,\n",
      "                                 'defaultValue': 'AdamW',\n",
      "                                 'hyperparameter': True,\n",
      "                                 'keyName': 'optimizer',\n",
      "                                 'maxValue': 0,\n",
      "                                 'minValue': 0,\n",
      "                                 'selectedValues': ['AdamW'],\n",
      "                                 'valueType': 'string'},\n",
      "                   'patience': {'allowedValues': [5, 10, 15, 20, 25],\n",
      "                                'anyValue': True,\n",
      "                                'defaultValue': 5,\n",
      "                                'hyperparameter': True,\n",
      "                                'keyName': 'patience',\n",
      "                                'maxValue': 50,\n",
      "                                'minValue': 1,\n",
      "                                'selectedValues': [5],\n",
      "                                'valueType': 'int32'},\n",
      "                   'weight_decay': {'allowedValues': [0.0001, 0.0002, 0.001],\n",
      "                                    'anyValue': True,\n",
      "                                    'defaultValue': 0.0001,\n",
      "                                    'hyperparameter': True,\n",
      "                                    'keyName': 'weight_decay',\n",
      "                                    'maxValue': 0.1,\n",
      "                                    'minValue': 0,\n",
      "                                    'selectedValues': [0.0001],\n",
      "                                    'valueType': 'float64'}},\n",
      "  'autoML': False,\n",
      "  'bestEpoch': -1,\n",
      "  'checkpointType': 'predefined',\n",
      "  'cloudPath': '',\n",
      "  'createdAt': '2024-11-07T10:49:50.299190398Z',\n",
      "  'datasetName': 'Face recognition for security',\n",
      "  'datasetVersion': 'v1.1',\n",
      "  'indexToCat': {},\n",
      "  'modelCheckpoint': 'auto',\n",
      "  'modelConfig': {'_idDataset': '672c4e50d7ca08f1f0d9fd1e',\n",
      "                  'batch_size': 2,\n",
      "                  'dataset_version': 'v1.1',\n",
      "                  'docker': '285699223019.dkr.ecr.us-west-2.amazonaws.com/pytorch-vision-imagenet:prod',\n",
      "                  'epochs': 50,\n",
      "                  'learning_rate': 0.001,\n",
      "                  'lr_gamma': 0.1,\n",
      "                  'lr_min': 1e-05,\n",
      "                  'lr_scheduler': 'StepLR',\n",
      "                  'lr_step_size': 10,\n",
      "                  'min_delta': 0.0001,\n",
      "                  'model_inputs': ['image'],\n",
      "                  'model_key': 'resnet50',\n",
      "                  'model_name': 'ResNet-50',\n",
      "                  'model_outputs': ['classification'],\n",
      "                  'momentum': 0.95,\n",
      "                  'optimizer': 'AdamW',\n",
      "                  'patience': 5,\n",
      "                  'primary_metric': 'acc@1',\n",
      "                  'target_runtime': ['PyTorch'],\n",
      "                  'weight_decay': 0.0001},\n",
      "  'modelConfigHash': 'effa3373b11f95a56eba10263d6d128c7f3437ca46de7c2dd2c0e024d55b08e3',\n",
      "  'modelInputs': ['image'],\n",
      "  'modelKey': 'resnet50',\n",
      "  'modelName': 'ResNet-50',\n",
      "  'modelOutputs': ['classification'],\n",
      "  'modelTrainName': 'Face Recognition Experiment-1-1',\n",
      "  'paramsMillions': 23.9,\n",
      "  'primaryMetric': 'acc@1',\n",
      "  'status': 'queued',\n",
      "  'targetRuntime': ['PyTorch'],\n",
      "  'testScore': 0,\n",
      "  'testSplitResult': [],\n",
      "  'trainingFramework': 'PyTorch',\n",
      "  'tuningType': 'default',\n",
      "  'updatedAt': '2024-11-07T10:49:50.299190499Z',\n",
      "  'valScore': 0,\n",
      "  'valSplitResult': []}]\n"
     ]
    }
   ],
   "source": [
    "train_resp , msg , err = experiment_instance.add_models_for_training(train_instance,train_config)\n",
    "print(\"------------Model added for training----------\")\n",
    "pprint.pprint(train_resp)"
   ]
  },
  {
   "cell_type": "code",
   "execution_count": null,
   "metadata": {},
   "outputs": [],
   "source": [
    "import time\n",
    "from matrice.action import Action\n",
    "\n",
    "# Define the action ID and the status you want to check\n",
    "action_id = train_resp[0]['_idActionStatus']\n",
    "success_status = 'SUCCESS'\n",
    "\n",
    "# Function to check the status of the action\n",
    "def check_action_status(S, action_id):\n",
    "    action_instance = Action(S, action_id)\n",
    "    print(\"---------------------\")\n",
    "    print(f\"Action ID: {action_id}\")\n",
    "    print(f\"Current Status: {action_instance.status}\")\n",
    "    print(f\"Step Code: {action_instance.step_code}\")\n",
    "    print(f\"Action service is : {action_instance.service_name}\")\n",
    "    print(\"---------------------\")\n",
    "    return action_instance.status\n",
    "\n",
    "# Loop to check status every 2 minutes until it is 'success'\n",
    "while True:\n",
    "    status = check_action_status(session_instance, action_id)\n",
    "    if status == success_status:\n",
    "        print(\"Action status is 'success'. Model is successfully trained.\")\n",
    "        break\n",
    "    else:\n",
    "        print(\"Model is training. Waiting 10 minutes before checking again.\")\n",
    "        time.sleep(200)  # Wait for 10 minutes (600 seconds)\n"
   ]
  },
  {
   "cell_type": "markdown",
   "metadata": {},
   "source": [
    "# Check the performance of the Trained Model\n",
    "\n",
    "*   Check the performance values\n",
    "*   Plot the epochs details of the model\n",
    "*   Get the evaluation results of the model\n",
    "*   Downlaod the trained model"
   ]
  },
  {
   "cell_type": "code",
   "execution_count": 9,
   "metadata": {},
   "outputs": [
    {
     "name": "stdout",
     "output_type": "stream",
     "text": [
      "Model ID from response data: 6730d7daeabd982c294b3d39\n",
      "A Model instance has been initialized :  <matrice.models.Model object at 0x00000212E564A780>\n"
     ]
    }
   ],
   "source": [
    "# model_id = train_resp[0]['_id']\n",
    "model_id = \"6730d7daeabd982c294b3d39\"\n",
    "print(f\"Model ID from response data: {model_id}\")\n",
    "    \n",
    "\n",
    "# Initialize the Model class with the model_id\n",
    "model_instance = Model(session_instance, model_id)\n",
    "print(\"A Model instance has been initialized : \", model_instance)"
   ]
  },
  {
   "cell_type": "code",
   "execution_count": 13,
   "metadata": {},
   "outputs": [],
   "source": [
    "Vars.set(\"model_train_id\", model_id)\n",
    "Vars.set(\"model_train_name\", model_instance.model_name)"
   ]
  },
  {
   "cell_type": "code",
   "execution_count": 14,
   "metadata": {},
   "outputs": [
    {
     "name": "stdout",
     "output_type": "stream",
     "text": [
      "Test Score: 0.9896103739738464\n",
      "Validation Score: 0.9869791865348816\n",
      "Best Epoch: -1\n"
     ]
    }
   ],
   "source": [
    "# Print the test score, validation score, and best epoch\n",
    "print(f\"Test Score: {model_instance.test_score}\")\n",
    "print(f\"Validation Score: {model_instance.val_score}\")\n",
    "print(f\"Best Epoch: {model_instance.best_epoch}\")"
   ]
  },
  {
   "cell_type": "code",
   "execution_count": 15,
   "metadata": {},
   "outputs": [
    {
     "data": {
      "image/png": "[encoded data removed]",
      "text/plain": [
       "<Figure size 1200x1800 with 2 Axes>"
      ]
     },
     "metadata": {},
     "output_type": "display_data"
    }
   ],
   "source": [
    "model_instance.plot_epochs_losses()"
   ]
  },
  {
   "cell_type": "code",
   "execution_count": 16,
   "metadata": {},
   "outputs": [
    {
     "data": {
      "image/png": "[encoded data removed]",
      "text/plain": [
       "<Figure size 1200x1800 with 2 Axes>"
      ]
     },
     "metadata": {},
     "output_type": "display_data"
    }
   ],
   "source": [
    "model_instance.plot_epochs_metrics()"
   ]
  },
  {
   "cell_type": "code",
   "execution_count": 17,
   "metadata": {},
   "outputs": [
    {
     "name": "stderr",
     "output_type": "stream",
     "text": [
      "C:\\Users\\20111\\AppData\\Local\\Programs\\Python\\Python312\\Lib\\site-packages\\matrice\\models.py:350: UserWarning: Tight layout not applied. tight_layout cannot make Axes height small enough to accommodate all Axes decorations.\n",
      "  plt.tight_layout()\n"
     ]
    },
    {
     "data": {
      "image/png": "[encoded data removed]",
      "text/plain": [
       "<Figure size 1400x1200 with 6 Axes>"
      ]
     },
     "metadata": {},
     "output_type": "display_data"
    }
   ],
   "source": [
    "model_instance.plot_eval_results()"
   ]
  },
  {
   "cell_type": "markdown",
   "metadata": {},
   "source": [
    "## Get test predictions on random samples from test set from the trained model "
   ]
  },
  {
   "cell_type": "markdown",
   "metadata": {},
   "source": [
    "## Classification Pred"
   ]
  },
  {
   "cell_type": "code",
   "execution_count": 18,
   "metadata": {},
   "outputs": [
    {
     "name": "stdout",
     "output_type": "stream",
     "text": [
      "['C:\\\\Personal\\\\matrice\\\\Face Recognition for Security\\\\test_images\\\\image_1000621.jpg', 'C:\\\\Personal\\\\matrice\\\\Face Recognition for Security\\\\test_images\\\\image_1000307.jpg']\n",
      "None\n",
      "Error: runtime error: index out of range [0] with length 0\n",
      "None\n",
      "Error: runtime error: index out of range [0] with length 0\n"
     ]
    }
   ],
   "source": [
    "import os\n",
    "import random\n",
    "import requests\n",
    "from PIL import Image\n",
    "import matplotlib.pyplot as plt\n",
    "import matplotlib.patches as patches\n",
    "\n",
    "\n",
    "# Define the folder path containing the images\n",
    "folder_path = r\"C:\\Personal\\matrice\\Face Recognition for Security\\test_images\"\n",
    "\n",
    "\n",
    "# Get a list of all image files in the folder\n",
    "image_files = [os.path.join(folder_path, f) for f in os.listdir(folder_path) if f.endswith(('.jpg', '.jpeg', '.png'))]\n",
    "\n",
    "# Randomly select 10 images from the folder\n",
    "random_images = random.sample(image_files, 2)\n",
    "\n",
    "print(random_images)\n",
    "# Loop through the selected images and make predictions\n",
    "for image_file in random_images:\n",
    "    # Get the prediction results from the model\n",
    "    result, error, _ = model_instance.get_prediction(image_file)\n",
    "    print(result)\n",
    "    if error:\n",
    "        print(f\"Error: {error}\")\n",
    "        continue\n",
    "    \n",
    "    # Extract the predicted class label and confidence\n",
    "    predicted_class = result[\"category\"]\n",
    "    confidence = result[\"confidence\"]\n",
    "    \n",
    "    # Open the image\n",
    "    image = Image.open(image_file)\n",
    "    \n",
    "    # Create a matplotlib figure and axis\n",
    "    plt.figure(figsize=(10, 10))\n",
    "    fig, ax = plt.subplots(1)\n",
    "    \n",
    "    # Display the image\n",
    "    ax.imshow(image)\n",
    "    \n",
    "    # Add the predicted class label and confidence to the image\n",
    "    plt.text(10, 10, f\"{predicted_class} ({confidence:.2f})\", bbox=dict(facecolor='yellow', alpha=0.5))\n",
    "    \n",
    "    # Display the image with the annotation\n",
    "    plt.show()\n"
   ]
  },
  {
   "cell_type": "markdown",
   "metadata": {},
   "source": [
    "## Detection Pred"
   ]
  },
  {
   "cell_type": "code",
   "execution_count": null,
   "metadata": {},
   "outputs": [],
   "source": [
    "import os\n",
    "import random\n",
    "import requests\n",
    "from PIL import Image\n",
    "import matplotlib.pyplot as plt\n",
    "import matplotlib.patches as patches\n",
    "\n",
    "\n",
    "# Define the folder path containing the images\n",
    "folder_path = r\"<path_to_test_folder>\"\n",
    "\n",
    "\n",
    "# Get a list of all image files in the folder\n",
    "image_files = [os.path.join(folder_path, f) for f in os.listdir(folder_path) if f.endswith(('.jpg', '.jpeg', '.png'))]\n",
    "\n",
    "# Randomly select 10 images from the folder\n",
    "random_images = random.sample(image_files, 10)\n",
    "\n",
    "\n",
    "# Loop through the selected images and send the prediction request\n",
    "for image_file in random_images:\n",
    "    \n",
    "    result, error, message = model_instance.get_prediction(image_file)\n",
    "\n",
    "    if error:\n",
    "        print(f\"Error: {error}\")\n",
    "        continue\n",
    "\n",
    "    # Extract prediction data from the result\n",
    "    predictions = result\n",
    "\n",
    "    # Open the image\n",
    "    image = Image.open(image_file)\n",
    "    plt.figure(figsize=(10, 10))\n",
    "    fig, ax = plt.subplots(1)\n",
    "    ax.imshow(image)\n",
    "\n",
    "    # Draw bounding boxes and labels\n",
    "    for prediction in predictions:\n",
    "        category = prediction[\"category\"]\n",
    "        confidence = prediction[\"confidence\"]\n",
    "        bbox = prediction[\"bounding_box\"]\n",
    "\n",
    "        # Extract the bounding box coordinates\n",
    "        xmin, ymin, xmax, ymax = bbox[\"xmin\"], bbox[\"ymin\"], bbox[\"xmax\"], bbox[\"ymax\"]\n",
    "        width, height = xmax - xmin, ymax - ymin\n",
    "\n",
    "        # Create a Rectangle patch\n",
    "        rect = plt.Rectangle((xmin, ymin), width, height, linewidth=2, edgecolor='r', facecolor='none')\n",
    "        ax.add_patch(rect)\n",
    "        plt.text(xmin, ymin, f\"{category} ({confidence:.2f})\", bbox=dict(facecolor='yellow', alpha=0.5))\n",
    "\n",
    "    plt.show()\n"
   ]
  },
  {
   "cell_type": "code",
   "execution_count": null,
   "metadata": {},
   "outputs": [],
   "source": [
    "model_instance.download_model(file_name=\"model.pt\")"
   ]
  },
  {
   "cell_type": "markdown",
   "metadata": {},
   "source": [
    "# Export the model based on usage and platform and optimzie the Model Export\n",
    "\n",
    "\n",
    "1.   Create a model export action using the export config\n",
    "2.   Check the status of the model export action\n",
    "3.   Download the exported model"
   ]
  },
  {
   "cell_type": "code",
   "execution_count": 28,
   "metadata": {},
   "outputs": [
    {
     "name": "stdout",
     "output_type": "stream",
     "text": [
      "Export Config for ONNX:\n",
      "{'dynamic': False, 'simplify': False}\n"
     ]
    }
   ],
   "source": [
    "export_config = train_instance.get_default_export_config(\"ONNX\") # Get the default export config for export format user wants (here ONNX)\n",
    "print(\"Export Config for ONNX:\")\n",
    "pprint.pprint(export_config)"
   ]
  },
  {
   "cell_type": "code",
   "execution_count": 29,
   "metadata": {},
   "outputs": [
    {
     "name": "stdout",
     "output_type": "stream",
     "text": [
      "Model Export class has been initialized : <matrice.exported_model.ExportedModel object at 0x00000212F7371580>\n",
      "----------------------------\n",
      "Export ID: 6730fc1aeabd982c294b3d3b\n",
      "Export Name: \n",
      "Action ID: 6730fc1a8c7add7d73234581\n",
      "Action Status: ACK\n",
      "----------------------------\n"
     ]
    }
   ],
   "source": [
    "exported_instance , action_instance = project_instance.create_model_export(model_id,\"ONNX\",export_config)\n",
    "\n",
    "print(\"Model Export class has been initialized :\", exported_instance)   \n",
    "print(\"----------------------------\")\n",
    "print(f\"Export ID: {exported_instance.model_export_id}\")\n",
    "print(f\"Export Name: {exported_instance.model_export_name}\")\n",
    "print(f\"Action ID: {action_instance.action_id}\")\n",
    "print(f\"Action Status: {action_instance.status}\")\n",
    "print(\"----------------------------\")"
   ]
  },
  {
   "cell_type": "code",
   "execution_count": 30,
   "metadata": {},
   "outputs": [],
   "source": [
    "Vars.set(\"model_export_id\", exported_instance.model_export_id)\n",
    "Vars.set(\"model_export_name\", exported_instance.model_export_name)"
   ]
  },
  {
   "cell_type": "code",
   "execution_count": 37,
   "metadata": {},
   "outputs": [
    {
     "name": "stdout",
     "output_type": "stream",
     "text": [
      "---------------------\n",
      "Action ID: 6730fc1a8c7add7d73234581\n",
      "Current Status: SUCCESS\n",
      "Step Code: MDL_EXPT\n",
      "Action service is : be-inference\n",
      "---------------------\n",
      "Action status is 'success'. Model is successfully exported.\n"
     ]
    }
   ],
   "source": [
    "import time\n",
    "from matrice.action import Action\n",
    "\n",
    "# Define the action ID and the status you want to check\n",
    "action_id = action_instance.action_id\n",
    "success_status = 'SUCCESS'\n",
    "\n",
    "# Function to check the status of the action\n",
    "def check_action_status(S, action_id):\n",
    "    A = Action(S, action_id)\n",
    "    print(\"---------------------\")\n",
    "    print(f\"Action ID: {action_id}\")\n",
    "    print(f\"Current Status: {A.status}\")\n",
    "    print(f\"Step Code: {A.step_code}\")\n",
    "    print(f\"Action service is : {A.service_name}\")\n",
    "    print(\"---------------------\")\n",
    "    return A.status\n",
    "\n",
    "# Loop to check status every 1.5 minutes until it is 'success'\n",
    "while True:\n",
    "    status = check_action_status(session_instance, action_id)\n",
    "    if status == success_status:\n",
    "        print(\"Action status is 'success'. Model is successfully exported.\")\n",
    "        break\n",
    "    else:\n",
    "        print(\"Model is exporting. Waiting 2 minutes before checking again.\")\n",
    "        time.sleep(90)  # Wait for 1.5 minutes (90 seconds)\n"
   ]
  },
  {
   "cell_type": "code",
   "execution_count": 38,
   "metadata": {},
   "outputs": [
    {
     "name": "stdout",
     "output_type": "stream",
     "text": [
      "Model downloaded successfully\n"
     ]
    },
    {
     "data": {
      "text/plain": [
       "'model.onnx'"
      ]
     },
     "execution_count": 38,
     "metadata": {},
     "output_type": "execute_result"
    }
   ],
   "source": [
    "exported_instance.download_model(file_name=\"model.onnx\")"
   ]
  },
  {
   "cell_type": "markdown",
   "metadata": {},
   "source": [
    "# Deploy the Model on Cloud\n",
    "\n",
    "1.   Start a Model Deployment server\n",
    "2.   Make Predictions on the Deployed Model"
   ]
  },
  {
   "cell_type": "code",
   "execution_count": 31,
   "metadata": {},
   "outputs": [],
   "source": [
    "deployment , deployment_action = project_instance.create_deployment(\n",
    "    model_id = Vars.get('model_train_id'),  # It can also be model_train_id depending on the model you want to deploy\n",
    "    deployment_name = \"deployment_name\",\n",
    "    shutdown_threshold=20\n",
    ")"
   ]
  },
  {
   "cell_type": "code",
   "execution_count": 34,
   "metadata": {},
   "outputs": [],
   "source": [
    "key_resp = deployment.create_auth_key(expiry_days=10)\n",
    "# auth_key = key_resp['key']\n",
    "auth_key = \"6730fd9d06f3cf576afeb305\""
   ]
  },
  {
   "cell_type": "code",
   "execution_count": 35,
   "metadata": {},
   "outputs": [],
   "source": [
    "Vars.set(\"deployment_id\", deployment.deployment_id)\n",
    "Vars.set(\"deployment_name\", deployment.deployment_name)\n",
    "Vars.set(\"auth_key\", auth_key)"
   ]
  },
  {
   "cell_type": "code",
   "execution_count": null,
   "metadata": {},
   "outputs": [],
   "source": [
    "import os\n",
    "import random\n",
    "import requests\n",
    "from PIL import Image\n",
    "import matplotlib.pyplot as plt\n",
    "import matplotlib.patches as patches\n",
    "\n",
    "\n",
    "# Define the folder path containing the images\n",
    "folder_path = r\"C:\\Personal\\matrice\\Face Recognition for Security\\test_images\"\n",
    "\n",
    "\n",
    "# Get a list of all image files in the folder\n",
    "image_files = [os.path.join(folder_path, f) for f in os.listdir(folder_path) if f.endswith(('.jpg', '.jpeg', '.png'))]\n",
    "\n",
    "# Randomly select 10 images from the folder\n",
    "random_images = random.sample(image_files, 10)\n",
    "\n",
    "\n",
    "# Loop through the selected images and send the prediction request\n",
    "for image_file in random_images:\n",
    "    \n",
    "    result, error, message = deployment.get_prediction(auth_key,image_file)\n",
    "\n",
    "    if error:\n",
    "        print(f\"Error: {error}\")\n",
    "        continue\n",
    "\n",
    "    # Extract prediction data from the result\n",
    "    predictions = result\n",
    "\n",
    "    # Open the image\n",
    "    image = Image.open(image_file)\n",
    "    plt.figure(figsize=(10, 10))\n",
    "    fig, ax = plt.subplots(1)\n",
    "    ax.imshow(image)\n",
    "\n",
    "    # Draw bounding boxes and labels\n",
    "    for prediction in predictions:\n",
    "        category = prediction[\"category\"]\n",
    "        confidence = prediction[\"confidence\"]\n",
    "        bbox = prediction[\"bounding_box\"]\n",
    "\n",
    "        # Extract the bounding box coordinates\n",
    "        xmin, ymin, xmax, ymax = bbox[\"xmin\"], bbox[\"ymin\"], bbox[\"xmax\"], bbox[\"ymax\"]\n",
    "        width, height = xmax - xmin, ymax - ymin\n",
    "\n",
    "        # Create a Rectangle patch\n",
    "        rect = plt.Rectangle((xmin, ymin), width, height, linewidth=2, edgecolor='r', facecolor='none')\n",
    "        ax.add_patch(rect)\n",
    "        plt.text(xmin, ymin, f\"{category} ({confidence:.2f})\", bbox=dict(facecolor='yellow', alpha=0.5))\n",
    "\n",
    "    plt.show()\n"
   ]
  },
  {
   "cell_type": "code",
   "execution_count": null,
   "metadata": {},
   "outputs": [],
   "source": []
  }
 ],
 "metadata": {
  "kernelspec": {
   "display_name": "Python 3",
   "language": "python",
   "name": "python3"
  },
  "language_info": {
   "codemirror_mode": {
    "name": "ipython",
    "version": 3
   },
   "file_extension": ".py",
   "mimetype": "text/x-python",
   "name": "python",
   "nbconvert_exporter": "python",
   "pygments_lexer": "ipython3",
   "version": "3.12.1"
  }
 },
 "nbformat": 4,
 "nbformat_minor": 4
}

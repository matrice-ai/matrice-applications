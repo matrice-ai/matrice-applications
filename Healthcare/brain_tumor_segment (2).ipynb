{
  "cells": [
    {
      "cell_type": "markdown",
      "source": [
        "## Install the matrice package or upgrade it if already installed"
      ],
      "metadata": {
        "id": "AND8qUKnxjYR"
      },
      "id": "AND8qUKnxjYR"
    },
    {
      "cell_type": "code",
      "source": [
        "!python -m pip install --upgrade matrice"
      ],
      "metadata": {
        "id": "xxP2LpIVxgVs"
      },
      "id": "xxP2LpIVxgVs",
      "execution_count": null,
      "outputs": []
    },
    {
      "cell_type": "markdown",
      "source": [
        "## Setting up the credentials\n",
        "*   ENV\n",
        "*   MATRICE_ACCESS_KEY_ID\n",
        "*   MATRICE_SECRET_ACCESS_KEY\n",
        "*   MATRICE_ACCOUNT_NUMBER"
      ],
      "metadata": {
        "id": "nMcOvAySxqs9"
      },
      "id": "nMcOvAySxqs9"
    },
    {
      "cell_type": "code",
      "execution_count": null,
      "id": "133034b3-8946-4c24-b65f-5ba91404c77f",
      "metadata": {
        "id": "133034b3-8946-4c24-b65f-5ba91404c77f"
      },
      "outputs": [],
      "source": [
        "import yaml\n",
        "import os\n",
        "\n",
        "class Vars:\n",
        "    _data = {}\n",
        "    _path = None\n",
        "\n",
        "    @classmethod\n",
        "    def initialize(cls, path):\n",
        "        cls._path = path\n",
        "        cls._data = cls.load()\n",
        "\n",
        "    @classmethod\n",
        "    def load(cls):\n",
        "        if cls._path and os.path.exists(cls._path):\n",
        "            with open(cls._path, 'r') as f:\n",
        "                return yaml.safe_load(f)\n",
        "        return {}\n",
        "\n",
        "    @classmethod\n",
        "    def get(cls, key):\n",
        "        if key not in cls._data:\n",
        "            raise KeyError(f\"Variable {key} not found\")\n",
        "        return cls._data[key]\n",
        "\n",
        "    @classmethod\n",
        "    def set(cls, key, value):\n",
        "        cls._data[key] = value\n",
        "        with open(cls._path, 'w') as f:\n",
        "            yaml.safe_dump(cls._data, f, default_flow_style=False)\n"
      ]
    },
    {
      "cell_type": "code",
      "execution_count": null,
      "id": "8d7184b1-088a-4273-b035-be3f88624f8a",
      "metadata": {
        "id": "8d7184b1-088a-4273-b035-be3f88624f8a"
      },
      "outputs": [],
      "source": [
        "Vars.initialize('vars.yaml')"
      ]
    },
    {
      "cell_type": "code",
      "execution_count": null,
      "id": "09dcef7a-c21f-4b9f-964c-4e5671de9576",
      "metadata": {
        "id": "09dcef7a-c21f-4b9f-964c-4e5671de9576"
      },
      "outputs": [],
      "source": [
        "Vars.set(\"ENV\", \"prod\")\n",
        "Vars.set(\"MATRICE_ACCESS_KEY_ID\", \"enter access key\")\n",
        "Vars.set(\"MATRICE_SECRET_ACCESS_KEY\", \"enter secret access key\")\n",
        "Vars.set(\"MATRICE_ACCOUNT_NUMBER\", \"enter your matrice acc number\")"
      ]
    },
    {
      "cell_type": "code",
      "execution_count": null,
      "id": "5b3ecf54-8b46-4e6d-a8a3-b54a80a44109",
      "metadata": {
        "id": "5b3ecf54-8b46-4e6d-a8a3-b54a80a44109"
      },
      "outputs": [],
      "source": [
        "import os\n",
        "os.environ['ENV'] = Vars.get('ENV')\n",
        "access_key = Vars.get('MATRICE_ACCESS_KEY_ID')\n",
        "secret_key = Vars.get('MATRICE_SECRET_ACCESS_KEY')\n",
        "account_number = Vars.get('MATRICE_ACCOUNT_NUMBER')"
      ]
    },
    {
      "cell_type": "markdown",
      "source": [
        "## Import required matrice modules"
      ],
      "metadata": {
        "id": "gr5PEY2YxyDG"
      },
      "id": "gr5PEY2YxyDG"
    },
    {
      "cell_type": "code",
      "execution_count": null,
      "id": "80e3fe50-fbd9-4822-acac-86c28c16ab6f",
      "metadata": {
        "id": "80e3fe50-fbd9-4822-acac-86c28c16ab6f"
      },
      "outputs": [],
      "source": [
        "from matrice.session import Session\n",
        "from matrice.projects import Projects\n",
        "from matrice.dataset import Dataset\n",
        "from matrice.models import Model\n",
        "from matrice.deployment import Deployment\n",
        "from matrice.exported_model import ExportedModel\n",
        "import sys\n",
        "import os"
      ]
    },
    {
      "cell_type": "markdown",
      "source": [
        "## Create Object Detection Project with Matrice SDK\n",
        "\n",
        "1.   Initialize matrice connection session\n",
        "2.   List projects in user account\n",
        "3.   Create the Project\n",
        "4.   Update the session with the project_id\n",
        "\n",
        "\n",
        "\n",
        "\n",
        "\n",
        "\n",
        "\n"
      ],
      "metadata": {
        "id": "lP31TAzXx2Kc"
      },
      "id": "lP31TAzXx2Kc"
    },
    {
      "cell_type": "code",
      "execution_count": null,
      "id": "176db360-0924-4852-a59f-854454e75e79",
      "metadata": {
        "id": "176db360-0924-4852-a59f-854454e75e79",
        "outputId": "c0c04fc4-0d7a-42a6-ce38-9be89cd4aeb7"
      },
      "outputs": [
        {
          "name": "stdout",
          "output_type": "stream",
          "text": [
            "A Session has been initialized: <matrice.session.Session object at 0x00000193E3DB2560>\n"
          ]
        }
      ],
      "source": [
        "session_instance = Session(account_number=account_number, access_key=access_key, secret_key=secret_key)\n",
        "print(\"A Session has been initialized:\", session_instance)"
      ]
    },
    {
      "cell_type": "code",
      "execution_count": null,
      "id": "c54d019e-a12f-4e16-b925-0d822843c90c",
      "metadata": {
        "id": "c54d019e-a12f-4e16-b925-0d822843c90c",
        "outputId": "1e266cd2-c083-4ef1-dc31-05cebc03c1a3"
      },
      "outputs": [
        {
          "name": "stdout",
          "output_type": "stream",
          "text": [
            "Message: Projects fetched successfully\n",
            "Project Name: field_water_segmentation | Project ID: 6826f0240a1d0e31e05fce17\n",
            "Project Name: Brain_tumor_sef_final | Project ID: 6825a95f0a1d0e31e05fc731\n",
            "Project Name: road_view_seg | Project ID: 6826e9b90a1d0e31e05fcdcf\n",
            "Project Name: kidney_tumor | Project ID: 6825ba920a1d0e31e05fc7a6\n",
            "Project Name: brain tumor segmentation | Project ID: 682556ce0a1d0e31e05fc59d\n",
            "Project Name: organ_segmentation | Project ID: 6823435d0a1d0e31e05fbee9\n",
            "Project Name: final_theft | Project ID: 68231ab80a1d0e31e05fbded\n",
            "Project Name: Shoplifting_testing_1 | Project ID: 6822d72d0a1d0e31e05fbbc2\n",
            "Project Name: prod_def_2 | Project ID: 6821e71c0a1d0e31e05fb848\n",
            "Project Name: test_round-1 | Project ID: 682132ef0a1d0e31e05fb36f\n"
          ]
        }
      ],
      "source": [
        "projects_list, msg = session_instance.list_projects(project_type=\"instance_segmentation\")\n",
        "\n",
        "# Check if there is a message or error\n",
        "if msg:\n",
        "    print(f\"Message: {msg}\")\n",
        "\n",
        "# Print the projects in a formatted manner\n",
        "for project_name, project_instance in projects_list.items():\n",
        "    print(f\"Project Name: {project_name} | Project ID: {project_instance.project_id}\") #To fix: ERROR: May return none and give error if proj is empty list"
      ]
    },
    {
      "cell_type": "code",
      "execution_count": null,
      "id": "bec5adcd-4453-48a2-90df-c8e1aeead1eb",
      "metadata": {
        "id": "bec5adcd-4453-48a2-90df-c8e1aeead1eb",
        "outputId": "e05fd673-2278-4b2c-8f82-e3e333a997a9"
      },
      "outputs": [
        {
          "name": "stdout",
          "output_type": "stream",
          "text": [
            "Project 'Brain_tumor_sef_final' already exists. Initialized Projects instance.\n"
          ]
        }
      ],
      "source": [
        "project_name = \"Brain_tumor_sef_final\"\n",
        "for name, project_instance in projects_list.items():\n",
        "    if name == project_name:\n",
        "        projects_instance = Projects(session_instance, project_name=project_name)\n",
        "        session_instance.update(projects_instance.project_id)\n",
        "        print(f\"Project '{project_name}' already exists. Initialized Projects instance.\")\n",
        "        project_exists = True\n",
        "        break\n",
        "    else:\n",
        "        project_exists = False\n",
        "\n",
        "if project_exists == False:\n",
        "    print(f\"Creating a new project: {project_name}\")"
      ]
    },
    {
      "cell_type": "code",
      "execution_count": null,
      "id": "7e3515a2-48fd-4b45-ac7b-4dce1b6dab5c",
      "metadata": {
        "id": "7e3515a2-48fd-4b45-ac7b-4dce1b6dab5c",
        "outputId": "c50a82bf-ef9e-457a-ddb7-81f632fe7e1a"
      },
      "outputs": [
        {
          "name": "stdout",
          "output_type": "stream",
          "text": [
            "Project already exists with ID: 6825a95f0a1d0e31e05fc731 and Name: Brain_tumor_sef_final\n",
            "----------------------------\n",
            "Project ID: 6825a95f0a1d0e31e05fc731\n",
            "Project Name: Brain_tumor_sef_final\n",
            "----------------------------\n"
          ]
        }
      ],
      "source": [
        "import pprint\n",
        "\n",
        "name = project_name\n",
        "\n",
        "# Function to create a project\n",
        "def create_project():\n",
        "    project_name = name\n",
        "    input_type = \"image\"\n",
        "    output_type = \"instance_segmentation\"\n",
        "\n",
        "    enabled_platforms = {\n",
        "        \"matrice\": True,\n",
        "        \"android\": False,\n",
        "        \"ios\": False,\n",
        "        \"tpu\": False,\n",
        "        \"intelCPU\": False,\n",
        "        \"gcloudGPU\": False\n",
        "    }\n",
        "\n",
        "    resp, error = session_instance._create_project(project_name, input_type, output_type)\n",
        "    if error:\n",
        "        print(f\"Error: {error}\")\n",
        "        return None, None\n",
        "    else:\n",
        "        print(f\"Project created with ID: {resp['_id']}\")\n",
        "        return resp['_id'], resp['name']\n",
        "\n",
        "# Check if project_id and project_name exist\n",
        "project_id = None\n",
        "project_name = None\n",
        "\n",
        "if not project_exists:\n",
        "    project_id, project_name = create_project()\n",
        "else:\n",
        "    project_id = projects_instance.project_id\n",
        "    project_name = projects_instance.project_name\n",
        "    print(f\"Project already exists with ID: {project_id} and Name: {project_name}\")\n",
        "\n",
        "\n",
        "print(\"----------------------------\")\n",
        "print(f\"Project ID: {project_id}\")\n",
        "print(f\"Project Name: {project_name}\")\n",
        "print(\"----------------------------\")\n"
      ]
    },
    {
      "cell_type": "code",
      "execution_count": null,
      "id": "08696af3-d641-48a7-b11c-72bda215cf99",
      "metadata": {
        "id": "08696af3-d641-48a7-b11c-72bda215cf99"
      },
      "outputs": [],
      "source": [
        "Vars.set(\"project_name\",project_name)\n",
        "Vars.set(\"project_id\", project_id)"
      ]
    },
    {
      "cell_type": "code",
      "execution_count": null,
      "id": "33433914-4b38-43cb-8925-27adb30cac6f",
      "metadata": {
        "id": "33433914-4b38-43cb-8925-27adb30cac6f",
        "outputId": "0f9028e3-b2a5-4bfd-ee3a-d9482924bf19"
      },
      "outputs": [
        {
          "name": "stdout",
          "output_type": "stream",
          "text": [
            "A Project class has been initialized <matrice.projects.Projects object at 0x00000193E30C85E0>\n"
          ]
        }
      ],
      "source": [
        "session_instance.update(project_id)\n",
        "project_instance = Projects(session_instance, project_name=project_name)\n",
        "print(\"A Project class has been initialized\",project_instance)\n",
        "\n",
        "# From next time, for deployment run till here"
      ]
    },
    {
      "cell_type": "markdown",
      "source": [
        "## Import the Dataset to the project\n",
        "1. Upload the dataset\n",
        "2. Start a data import action\n",
        "3. Check the status of the dataset import action\n",
        "4. Check the processed dataset information\n",
        "5. Upload the dataset\n",
        "\n",
        "For uploading the dataset you have 2 ways -\n",
        "\n",
        "* Upload the dataset to cloud storage bucket with project.upload_cloud_dataset()\n",
        "* Upload the dataset from your local storage with project.upload_local_dataset()"
      ],
      "metadata": {
        "id": "L8PDT--yx-8t"
      },
      "id": "L8PDT--yx-8t"
    },
    {
      "cell_type": "code",
      "execution_count": null,
      "id": "52cfbaf8-f0fb-483f-8be2-cd7a85600c10",
      "metadata": {
        "id": "52cfbaf8-f0fb-483f-8be2-cd7a85600c10"
      },
      "outputs": [],
      "source": [
        "dataset = project_instance.import_local_dataset(\n",
        "    project_type='instance_segmentation',\n",
        "    dataset_name='Brain_tumor_final_dataset',\n",
        "    file_path = r\"D:\\d\\brain tumor.zip\",\n",
        "    dataset_type = \"instance_segmentation\",\n",
        "    input_type = \"mscoco\"\n",
        ") #THIS runs on backend. CHECK UI and then fetch ds id manually from UI"
      ]
    },
    {
      "cell_type": "code",
      "execution_count": null,
      "id": "a7d1f6f3-25e7-4936-8304-379a5876ff14",
      "metadata": {
        "id": "a7d1f6f3-25e7-4936-8304-379a5876ff14"
      },
      "outputs": [],
      "source": [
        "dataset=Dataset(session_instance,dataset_id='6825a98977c12201804e5b8c') #To EDIT"
      ]
    },
    {
      "cell_type": "code",
      "execution_count": null,
      "id": "96f4e39d-a50d-46bd-b8f9-335f83eb5d8c",
      "metadata": {
        "id": "96f4e39d-a50d-46bd-b8f9-335f83eb5d8c",
        "outputId": "fba5c11f-d0ea-4b46-e227-cd4a19a59ee3"
      },
      "outputs": [
        {
          "name": "stdout",
          "output_type": "stream",
          "text": [
            "Dataset ID: 6825a98977c12201804e5b8c\n"
          ]
        }
      ],
      "source": [
        "dataset_id = dataset.dataset_id\n",
        "# action_id = dataset_action.action_id\n",
        "\n",
        "print(f\"Dataset ID: {dataset_id}\")\n",
        "# print(f\"Action ID: {action_id}\")"
      ]
    },
    {
      "cell_type": "code",
      "execution_count": null,
      "id": "d78c62f8-f0db-4b29-8e1f-dc3466ca3539",
      "metadata": {
        "id": "d78c62f8-f0db-4b29-8e1f-dc3466ca3539"
      },
      "outputs": [],
      "source": [
        "Vars.set(\"dataset_id\", dataset.dataset_id)"
      ]
    },
    {
      "cell_type": "code",
      "execution_count": null,
      "id": "ae7bef8c-948c-4d71-bfd8-440133009085",
      "metadata": {
        "id": "ae7bef8c-948c-4d71-bfd8-440133009085",
        "outputId": "4e33ffc9-1d5f-4036-b5ce-2567c9624373"
      },
      "outputs": [
        {
          "name": "stdout",
          "output_type": "stream",
          "text": [
            "Dataset ID: 6825a98977c12201804e5b8c\n",
            "Dataset Name: Brain_tumor_final_dataset\n",
            "Version Status: processed\n",
            "Latest Version: v1.0\n",
            "Number of Samples: 3203\n",
            "Number of Classes: 1\n",
            "Number of Versions: 1\n",
            "Last Updated At: 2025-05-15T08:48:09.981Z\n"
          ]
        }
      ],
      "source": [
        "def print_dataset_info(dataset):\n",
        "\n",
        "    dataset_id = dataset.dataset_details['_id']\n",
        "    dataset_name = dataset.dataset_details['name']\n",
        "    version_status = dataset.dataset_details.get(\"stats\", [{}])[0].get(\"versionStatus\")\n",
        "    latest_version = dataset.dataset_details['latestVersion']\n",
        "    no_of_samples = sum(version['versionStats']['total'] for version in dataset.dataset_details.get('stats', []))\n",
        "    no_of_classes = len(dataset.dataset_details.get('stats', [{}])[0].get('classStat', {}))\n",
        "    no_of_versions = len(dataset.dataset_details.get('allVersions', []))\n",
        "    last_updated_at = dataset.dataset_details.get('updatedAt')\n",
        "\n",
        "    print(f\"Dataset ID: {dataset_id}\")\n",
        "    print(f\"Dataset Name: {dataset_name}\")\n",
        "    print(f\"Version Status: {version_status}\")\n",
        "    print(f\"Latest Version: {latest_version}\")\n",
        "    print(f\"Number of Samples: {no_of_samples}\")\n",
        "    print(f\"Number of Classes: {no_of_classes}\")\n",
        "    print(f\"Number of Versions: {no_of_versions}\")\n",
        "    print(f\"Last Updated At: {last_updated_at}\")\n",
        "\n",
        "dataset.refresh()\n",
        "print_dataset_info(dataset)"
      ]
    },
    {
      "cell_type": "markdown",
      "source": [
        "##Model Family and Architecture"
      ],
      "metadata": {
        "id": "wvvIu002yMdm"
      },
      "id": "wvvIu002yMdm"
    },
    {
      "cell_type": "code",
      "execution_count": null,
      "id": "30dc6cb9-f385-4620-a362-796793505db2",
      "metadata": {
        "id": "30dc6cb9-f385-4620-a362-796793505db2",
        "outputId": "9ecc7b7e-d8a0-4a64-d4d3-d368f29da65a"
      },
      "outputs": [
        {
          "name": "stdout",
          "output_type": "stream",
          "text": [
            "None\n",
            "----List of available Detection models on platform----\n",
            "ID: 67625ff9d6db1ef9132e84e2, Model Family Name: YOLOv8_Instance_Segmentation\n",
            "ID: 6762c9b45892e63f791b755d, Model Family Name: YOLOv9_Instance_Segmentation\n"
          ]
        }
      ],
      "source": [
        "from matrice.model_store import get_all_model_families\n",
        "\n",
        "resp , error , mesage = get_all_model_families( session_instance , project_id , project_type=\"instance_segmentation\" )\n",
        "print(error)\n",
        "print(\"----List of available Detection models on platform----\")\n",
        "# Iterate through each model family in the response\n",
        "for model_family in resp:\n",
        "    # Extract _id and modelFamily (model family name)\n",
        "    model_family_id = model_family.get('_id')\n",
        "    name = model_family.get('modelFamily')\n",
        "\n",
        "    # Print in formatted manner\n",
        "    print(f\"ID: {model_family_id}, Model Family Name: {name}\")"
      ]
    },
    {
      "cell_type": "code",
      "execution_count": null,
      "id": "273ced8e-e1b9-465d-bb5e-02509b0ae80a",
      "metadata": {
        "id": "273ced8e-e1b9-465d-bb5e-02509b0ae80a",
        "outputId": "5ab0c782-7bc5-456b-b1a1-de33b8c4c7b5"
      },
      "outputs": [
        {
          "name": "stdout",
          "output_type": "stream",
          "text": [
            "A ModelFamily instance has been initialized <matrice.model_store.ModelFamily object at 0x00000193E3E6B9D0>\n"
          ]
        }
      ],
      "source": [
        "from matrice.model_store import ModelFamily\n",
        "\n",
        "model_family_id = \"67625ff9d6db1ef9132e84e2\" #To EDIT from previous result\n",
        "# Initialize the ModelFamily instance after choosing a Model Family\n",
        "model_family_instance = ModelFamily(session_instance, model_family_id=model_family_id) # ResNet\n",
        "print(\"A ModelFamily instance has been initialized\",model_family_instance)"
      ]
    },
    {
      "cell_type": "code",
      "execution_count": null,
      "id": "3394c84f-e5d4-4783-8d44-995e6069f62a",
      "metadata": {
        "id": "3394c84f-e5d4-4783-8d44-995e6069f62a",
        "outputId": "205ada66-7bfc-45ce-de79-8e93a7b6b8a9"
      },
      "outputs": [
        {
          "name": "stdout",
          "output_type": "stream",
          "text": [
            "{'yolov8l_seg': <matrice.model_store.ModelArch object at 0x00000193E4309FC0>,\n",
            " 'yolov8m_seg': <matrice.model_store.ModelArch object at 0x00000193E430AFE0>,\n",
            " 'yolov8n_seg': <matrice.model_store.ModelArch object at 0x00000193E4310160>,\n",
            " 'yolov8s_seg': <matrice.model_store.ModelArch object at 0x00000193E400C700>,\n",
            " 'yolov8x_seg': <matrice.model_store.ModelArch object at 0x00000193E4309090>}\n",
            "ID: 67625ff9d6db1ef9132e84e3 | Model Name: YOLOv8 Instance Segmentation Nano | Model Key: yolov8n_seg | Params in Millions: 3.4\n",
            "ID: 67625ff9d6db1ef9132e84e4 | Model Name: YOLOv8 Instance Segmentation Small | Model Key: yolov8s_seg | Params in Millions: 11.8\n",
            "ID: 67625ff9d6db1ef9132e84e5 | Model Name: YOLOv8 Instance Segmentation Medium | Model Key: yolov8m_seg | Params in Millions: 27.3\n",
            "ID: 67625ff9d6db1ef9132e84e6 | Model Name: YOLOv8 Instance Segmentation Large | Model Key: yolov8l_seg | Params in Millions: 46\n",
            "ID: 67625ff9d6db1ef9132e84e7 | Model Name: YOLOv8 Instance Segmentation Xtra Large | Model Key: yolov8x_seg | Params in Millions: 71.8\n"
          ]
        }
      ],
      "source": [
        "# Fetch model architectures\n",
        "import pprint\n",
        "arch_resp, error, message = model_family_instance.get_model_archs()\n",
        "if error:\n",
        "    print(f\"Error: {error}\")\n",
        "else:\n",
        "    pprint.pprint(arch_resp)\n",
        "    # Check if resp is a list or a dictionary\n",
        "    if isinstance(arch_resp, list):\n",
        "        # Iterate through each model info in the list\n",
        "        for model_info in arch_resp:\n",
        "            model_key = model_info[\"model_key\"]\n",
        "            model_arch_instance = model_info[\"model_arch_instance\"]\n",
        "\n",
        "            # Extract model information\n",
        "            model_info_id = model_arch_instance.model_arch_id\n",
        "            name = model_arch_instance.model_name\n",
        "            key = model_arch_instance.model_key\n",
        "            params = model_arch_instance.params_millions\n",
        "\n",
        "            # Print in formatted manner\n",
        "            print(f\"ID: {model_info_id} |  Model Name: {name} | Model Key: {key} | Params in Millions: {params}\")\n",
        "\n",
        "    elif isinstance(arch_resp, dict):\n",
        "        # Iterate through each model key in the dictionary\n",
        "        for model_key, model_arch_instance in arch_resp.items():\n",
        "            # Extract model information\n",
        "            model_info_id = model_arch_instance.model_arch_id\n",
        "            name = model_arch_instance.model_name\n",
        "            key = model_arch_instance.model_key\n",
        "            params = model_arch_instance.params_millions\n",
        "\n",
        "            # Print in formatted manner\n",
        "            print(f\"ID: {model_info_id} | Model Name: {name} | Model Key: {key} | Params in Millions: {params}\")"
      ]
    },
    {
      "cell_type": "code",
      "execution_count": null,
      "id": "bd63b815-1fdf-462b-8c73-69e5c60094fd",
      "metadata": {
        "id": "bd63b815-1fdf-462b-8c73-69e5c60094fd"
      },
      "outputs": [],
      "source": [
        "from matrice.model_store import ModelArch\n",
        "train_arch = 'yolov8s_seg' #To EDIT from previous result\n",
        "print(\"Chosen Training Architecture :\" ,train_arch)\n",
        "model_arch_instance = arch_resp.get(train_arch)\n",
        "print(\"Model Architecture instance initialized for chosen training architecture :\", model_arch_instance)"
      ]
    },
    {
      "cell_type": "code",
      "execution_count": null,
      "id": "704a12fd-0cce-49e9-afd3-220918f2609e",
      "metadata": {
        "id": "704a12fd-0cce-49e9-afd3-220918f2609e"
      },
      "outputs": [],
      "source": [
        "import pprint\n",
        "train_config = model_arch_instance.get_train_config()\n",
        "print(\"-----Default Train Config------\")\n",
        "pprint.pprint(train_config)\n",
        "print(\"--------------------------------\")\n",
        "print(\"-------Training instance initialized--------\")\n",
        "# print(train_instance)"
      ]
    },
    {
      "cell_type": "markdown",
      "source": [
        "##configuring model's hyperparameter"
      ],
      "metadata": {
        "id": "cuj2OR-KybA7"
      },
      "id": "cuj2OR-KybA7"
    },
    {
      "cell_type": "code",
      "execution_count": null,
      "id": "950914a3-389e-45c6-be8f-cf40de50a88c",
      "metadata": {
        "id": "950914a3-389e-45c6-be8f-cf40de50a88c"
      },
      "outputs": [],
      "source": [
        "model_config = train_config['model_config']\n",
        "\n",
        "# Modify the model_config as needed\n",
        "# modifications:\n",
        "#model_config['batch_size'] = [8]\n",
        "model_config['epochs'] = [90]  #These are hyper-parameters and can be changed\n",
        "model_config['learning_rate']=[0.01]\n",
        "\n",
        "\n",
        "# Repass the modified model_config into the train_config\n",
        "train_config['model_config'] = model_config\n",
        "\n",
        "# Print the updated train_config\n",
        "print(\"-----Updated Model Config------\")\n",
        "pprint.pprint(train_config['model_config'])\n",
        "print(\"--------------------------------\")\n",
        "\n",
        "# Print the updated train_config\n",
        "print(\"-----Updated Train Config------\")\n",
        "pprint.pprint(train_config)\n",
        "print(\"--------------------------------\")"
      ]
    },
    {
      "cell_type": "code",
      "execution_count": null,
      "id": "360bcee9-0215-44ff-bb20-5d21a9aabd49",
      "metadata": {
        "id": "360bcee9-0215-44ff-bb20-5d21a9aabd49"
      },
      "outputs": [],
      "source": [
        "train_resp , msg , err = project_instance.add_models_for_training(train_config,primary_metric='mAP@50',dataset_id=dataset.dataset_id,dataset_name=dataset.dataset_name,)\n",
        "print(\"------------Model added for training----------\")\n",
        "pprint.pprint(train_resp)"
      ]
    },
    {
      "cell_type": "code",
      "execution_count": null,
      "id": "5bdaa1d6-774f-4ba9-bb4d-5c9357c7407d",
      "metadata": {
        "id": "5bdaa1d6-774f-4ba9-bb4d-5c9357c7407d"
      },
      "outputs": [],
      "source": [
        "import time\n",
        "from matrice.action import Action\n",
        "\n",
        "# Define the action ID and the status you want to check\n",
        "action_id = train_resp[0]['_idActionStatus']\n",
        "success_status = 'SUCCESS'\n",
        "time_sec = 90\n",
        "\n",
        "# Function to check the status of the action\n",
        "def check_action_status(S, action_id):\n",
        "    action_instance = Action(S, action_id)\n",
        "    print(\"---------------------\")\n",
        "    print(f\"Action ID: {action_id}\")\n",
        "    print(f\"Current Status: {action_instance.status}\")\n",
        "    print(f\"Step Code: {action_instance.step_code}\")\n",
        "    print(f\"Action service is : {action_instance.service_name}\")\n",
        "    print(\"---------------------\")\n",
        "    return action_instance.status\n",
        "\n",
        "# Loop to check status every 2 minutes until it is 'success'\n",
        "while True:\n",
        "    status = check_action_status(session_instance, action_id)\n",
        "    if status == success_status:\n",
        "        print(\"Action status is 'success'. Model is successfully trained.\")\n",
        "        break\n",
        "    else:\n",
        "        print(f\"Model is training. Waiting {time_sec} seconds before checking again.\")\n",
        "        time.sleep(time_sec)\n"
      ]
    },
    {
      "cell_type": "markdown",
      "source": [
        "##analyizing results\n"
      ],
      "metadata": {
        "id": "KNSc7M6byklW"
      },
      "id": "KNSc7M6byklW"
    },
    {
      "cell_type": "code",
      "execution_count": null,
      "id": "99e7566c-fe61-435e-9c48-291f4269361f",
      "metadata": {
        "id": "99e7566c-fe61-435e-9c48-291f4269361f"
      },
      "outputs": [],
      "source": [
        "model_id = train_resp[0]['_id']\n",
        "print(f\"Model ID from response data: {model_id}\")\n",
        "\n",
        "\n",
        "# Initialize the Model class with the model_id\n",
        "model_instance = Model(session_instance, model_id)\n",
        "print(\"A Model instance has been initialized : \", model_instance)"
      ]
    },
    {
      "cell_type": "code",
      "execution_count": null,
      "id": "edba0e5c-75ea-4b72-9482-6197007740d9",
      "metadata": {
        "id": "edba0e5c-75ea-4b72-9482-6197007740d9"
      },
      "outputs": [],
      "source": [
        "# Print the test score, validation score, and best epoch\n",
        "print(f\"Test Score: {model_instance.test_score}\")\n",
        "print(f\"Validation Score: {model_instance.val_score}\")\n",
        "print(f\"Best Epoch: {model_instance.best_epoch}\")"
      ]
    },
    {
      "cell_type": "code",
      "execution_count": null,
      "id": "7d71d2b3-dd81-4d70-9d3a-74280fc524ec",
      "metadata": {
        "id": "7d71d2b3-dd81-4d70-9d3a-74280fc524ec"
      },
      "outputs": [],
      "source": [
        "Vars.set(\"model_train_id\", model_instance.model_id)"
      ]
    },
    {
      "cell_type": "markdown",
      "source": [
        "##plotting losses and metrics per epoch\n"
      ],
      "metadata": {
        "id": "bqJWWWpCyqJU"
      },
      "id": "bqJWWWpCyqJU"
    },
    {
      "cell_type": "code",
      "execution_count": null,
      "id": "3997921c-0cab-4730-8c74-2654864f68c2",
      "metadata": {
        "id": "3997921c-0cab-4730-8c74-2654864f68c2"
      },
      "outputs": [],
      "source": [
        "model_instance.plot_epochs_losses()"
      ]
    },
    {
      "cell_type": "code",
      "execution_count": null,
      "id": "57f8cfd3-f529-42cd-bf42-f3ad04e2ba0b",
      "metadata": {
        "id": "57f8cfd3-f529-42cd-bf42-f3ad04e2ba0b"
      },
      "outputs": [],
      "source": [
        "model_instance.plot_epochs_metrics()"
      ]
    },
    {
      "cell_type": "code",
      "execution_count": null,
      "id": "721e91ee-affe-431c-9165-5a24eceeea2a",
      "metadata": {
        "id": "721e91ee-affe-431c-9165-5a24eceeea2a"
      },
      "outputs": [],
      "source": [
        "model_instance.plot_eval_results()"
      ]
    },
    {
      "cell_type": "markdown",
      "source": [
        "##Deployment"
      ],
      "metadata": {
        "id": "h1kgdflwyzGT"
      },
      "id": "h1kgdflwyzGT"
    },
    {
      "cell_type": "code",
      "execution_count": null,
      "id": "f537971d-62ea-4173-be24-bdbdc88ae2c4",
      "metadata": {
        "id": "f537971d-62ea-4173-be24-bdbdc88ae2c4"
      },
      "outputs": [],
      "source": [
        "dep_name=\"deployment_bt\"\n",
        "deployment = project_instance.create_fastapi_deployment(\n",
        "    model_id = \"6825b955ba25d9750f40e262\",  # It can also be model_train_id depending on the model you want to deploy\n",
        "    deployment_name = dep_name,\n",
        "    shutdown_threshold=25\n",
        ") #again this WILL GIVE ERROR BUT IT WORKS ON BACKEND. CHECK UI"
      ]
    },
    {
      "cell_type": "code",
      "execution_count": null,
      "id": "aaeaa4ff-30f4-42eb-959d-5ff709aedb0f",
      "metadata": {
        "id": "aaeaa4ff-30f4-42eb-959d-5ff709aedb0f"
      },
      "outputs": [],
      "source": [
        "deployment=Deployment(session_instance,deployment_id='68271752bc5142b714584535', deployment_name=\"deployment_bt\") #fetch dp id manually from UI and name can be changed"
      ]
    },
    {
      "cell_type": "code",
      "execution_count": null,
      "id": "aa57bcc2-ff60-473b-bd8c-af0abcd2b013",
      "metadata": {
        "id": "aa57bcc2-ff60-473b-bd8c-af0abcd2b013"
      },
      "outputs": [],
      "source": [
        "key_resp = deployment.create_auth_key(1) # This aut key is valid for 1 day, used by client to access models, dataset, etc.\n",
        "# auth_key = key_resp['key']\n",
        "auth_key = key_resp[0]['key']\n",
        "print(auth_key)"
      ]
    },
    {
      "cell_type": "code",
      "execution_count": null,
      "id": "7326cc5d-7176-4cc8-af9a-8698cc9db4c4",
      "metadata": {
        "id": "7326cc5d-7176-4cc8-af9a-8698cc9db4c4"
      },
      "outputs": [],
      "source": [
        "Vars.set(\"deployment_id\", deployment.deployment_id)\n",
        "Vars.set(\"deployment_name\", deployment.deployment_name)\n",
        "Vars.set(\"auth_key\", auth_key)"
      ]
    },
    {
      "cell_type": "markdown",
      "source": [
        "##prediction"
      ],
      "metadata": {
        "id": "DOPcpJ2xy5rr"
      },
      "id": "DOPcpJ2xy5rr"
    },
    {
      "cell_type": "code",
      "execution_count": null,
      "id": "d469a30d-151f-4cab-b794-6f6cf77d3d9d",
      "metadata": {
        "id": "d469a30d-151f-4cab-b794-6f6cf77d3d9d"
      },
      "outputs": [],
      "source": [
        "from PIL import Image, ImageDraw, ImageFont\n",
        "import matplotlib.pyplot as plt\n",
        "import glob\n",
        "import os\n",
        "import numpy as np\n",
        "import random\n",
        "import json  # For pretty-printing\n",
        "\n",
        "# Images path\n",
        "image_paths = glob.glob(\"enter  adress to your test image here\")\n",
        "\n",
        "# Helper for random transparent color\n",
        "def random_color():\n",
        "    return tuple(random.choices(range(256), k=3)) + (150,)\n",
        "\n",
        "# Load font with fallback\n",
        "def get_font(font_size=40):\n",
        "    try:\n",
        "        return ImageFont.truetype(\"arial.ttf\", font_size)\n",
        "    except:\n",
        "        return ImageFont.load_default()\n",
        "\n",
        "for photo in image_paths:\n",
        "    print(f\"\\nProcessing: {photo}\")\n",
        "    result = deployment.get_prediction(photo, auth_key)\n",
        "\n",
        "    predictions = result\n",
        "    img = Image.open(photo).convert(\"RGBA\")\n",
        "    overlay = Image.new(\"RGBA\", img.size, (255, 255, 255, 0))\n",
        "    draw = ImageDraw.Draw(overlay)\n",
        "    font = get_font(max(16, img.width // 40))\n",
        "\n",
        "    found_mask = False\n",
        "\n",
        "    for pred in predictions:\n",
        "        category = pred.get(\"category\")\n",
        "        confidence = pred.get(\"confidence\")\n",
        "        masks = pred.get(\"masks\", [])\n",
        "\n",
        "        if masks and isinstance(masks[0], list) and len(masks[0]) >= 6:\n",
        "            found_mask = True\n",
        "            polygon_coords = masks[0]  # Use first mask\n",
        "            polygon = [(int(polygon_coords[i]), int(polygon_coords[i+1])) for i in range(0, len(polygon_coords), 2)]\n",
        "            color = random_color()\n",
        "            draw.polygon(polygon, fill=color)\n",
        "\n",
        "            x1, y1 = polygon[0]\n",
        "            label = f\"{category} {confidence:.2f}\"\n",
        "\n",
        "            text_size = draw.textbbox((x1, y1), label, font=font)\n",
        "            text_w = text_size[2] - text_size[0]\n",
        "            text_h = text_size[3] - text_size[1]\n",
        "\n",
        "            padding = 4\n",
        "            bg_box = [x1 - padding, y1 - text_h - padding, x1 + text_w + padding, y1 + padding]\n",
        "            draw.rectangle(bg_box, fill=(0, 0, 0, 255))\n",
        "            draw.text((x1, y1 - text_h), label, font=font, fill=(255, 255, 255, 255))\n",
        "\n",
        "    if not found_mask:\n",
        "        print(\"No usable segmentation masks found in predictions.\")\n",
        "\n",
        "    combined = Image.alpha_composite(img, overlay)\n",
        "\n",
        "    display_size = (int(combined.width * 1.5), int(combined.height * 1.5))\n",
        "    display_img = combined.resize(display_size, Image.BICUBIC)\n",
        "\n",
        "    plt.figure(figsize=(12, 12))\n",
        "    plt.imshow(display_img)\n",
        "    plt.axis('off')\n",
        "    plt.title(os.path.basename(photo))\n",
        "    plt.show()\n"
      ]
    }
  ],
  "metadata": {
    "kernelspec": {
      "display_name": "Python 3 (ipykernel)",
      "language": "python",
      "name": "python3"
    },
    "language_info": {
      "codemirror_mode": {
        "name": "ipython",
        "version": 3
      },
      "file_extension": ".py",
      "mimetype": "text/x-python",
      "name": "python",
      "nbconvert_exporter": "python",
      "pygments_lexer": "ipython3",
      "version": "3.10.11"
    },
    "colab": {
      "provenance": []
    }
  },
  "nbformat": 4,
  "nbformat_minor": 5
}
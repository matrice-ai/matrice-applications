{
 "cells": [
  {
   "cell_type": "code",
   "execution_count": 1,
   "metadata": {},
   "outputs": [
    {
     "name": "stdout",
     "output_type": "stream",
     "text": [
      "Requirement already satisfied: matrice in c:\\users\\pathi\\anaconda3\\lib\\site-packages (1.0.3)\n",
      "Requirement already satisfied: requests in c:\\users\\pathi\\anaconda3\\lib\\site-packages (from matrice) (2.32.3)\n",
      "Requirement already satisfied: charset-normalizer<4,>=2 in c:\\users\\pathi\\anaconda3\\lib\\site-packages (from requests->matrice) (3.3.2)\n",
      "Requirement already satisfied: idna<4,>=2.5 in c:\\users\\pathi\\anaconda3\\lib\\site-packages (from requests->matrice) (3.7)\n",
      "Requirement already satisfied: urllib3<3,>=1.21.1 in c:\\users\\pathi\\anaconda3\\lib\\site-packages (from requests->matrice) (2.2.2)\n",
      "Requirement already satisfied: certifi>=2017.4.17 in c:\\users\\pathi\\anaconda3\\lib\\site-packages (from requests->matrice) (2024.8.30)\n"
     ]
    }
   ],
   "source": [
    "!python -m pip install --upgrade matrice"
   ]
  },
  {
   "cell_type": "code",
   "execution_count": 2,
   "metadata": {},
   "outputs": [],
   "source": [
    "import yaml\n",
    "import os\n",
    "\n",
    "class Vars:\n",
    "    _data = {}\n",
    "    _path = None\n",
    "\n",
    "    @classmethod\n",
    "    def initialize(cls, path):\n",
    "        cls._path = path\n",
    "        cls._data = cls.load()\n",
    "\n",
    "    @classmethod\n",
    "    def load(cls):\n",
    "        if cls._path and os.path.exists(cls._path):\n",
    "            with open(cls._path, 'r') as f:\n",
    "                return yaml.safe_load(f)\n",
    "        return {}\n",
    "\n",
    "    @classmethod\n",
    "    def get(cls, key):\n",
    "        if key not in cls._data:\n",
    "            raise KeyError(f\"Variable {key} not found\")\n",
    "        return cls._data[key]\n",
    "\n",
    "    @classmethod\n",
    "    def set(cls, key, value):\n",
    "        cls._data[key] = value\n",
    "        with open(cls._path, 'w') as f:\n",
    "            yaml.safe_dump(cls._data, f, default_flow_style=False)\n"
   ]
  },
  {
   "cell_type": "code",
   "execution_count": 3,
   "metadata": {},
   "outputs": [],
   "source": [
    "Vars.initialize('vars.yaml')"
   ]
  },
  {
   "cell_type": "code",
   "execution_count": 4,
   "metadata": {},
   "outputs": [],
   "source": [
    "Vars.set(\"ENV\", \"dev\")\n",
    "Vars.set(\"MATRICE_ACCESS_KEY_ID\", \"IDAZ************MQO6\")\n",
    "Vars.set(\"MATRICE_SECRET_ACCESS_KEY\", \"52VR************ZY5N8\")\n",
    "Vars.set(\"MATRICE_ACCOUNT_NUMBER\", \"227684************7135\")"
   ]
  },
  {
   "cell_type": "code",
   "execution_count": 6,
   "metadata": {},
   "outputs": [],
   "source": [
    "import os\n",
    "os.environ['ENV'] = Vars.get('ENV')\n",
    "access_key = Vars.get('MATRICE_ACCESS_KEY_ID')\n",
    "secret_key = Vars.get('MATRICE_SECRET_ACCESS_KEY')\n",
    "account_number = Vars.get('MATRICE_ACCOUNT_NUMBER')"
   ]
  },
  {
   "cell_type": "code",
   "execution_count": 7,
   "metadata": {},
   "outputs": [],
   "source": [
    "from matrice.session import Session\n",
    "from matrice.projects import Projects\n",
    "from matrice.dataset import Dataset\n",
    "from matrice.models import Model\n",
    "from matrice.deployment import Deployment\n",
    "from matrice.exported_model import ExportedModel\n",
    "import sys\n",
    "import os"
   ]
  },
  {
   "cell_type": "code",
   "execution_count": 8,
   "metadata": {},
   "outputs": [
    {
     "name": "stdout",
     "output_type": "stream",
     "text": [
      "A Session has been initialized: <matrice.session.Session object at 0x00000227901FB6D0>\n"
     ]
    }
   ],
   "source": [
    "session_instance = Session.create_session(account_number=account_number, access_key=access_key, secret_key=secret_key)\n",
    "print(\"A Session has been initialized:\", session_instance)"
   ]
  },
  {
   "cell_type": "code",
   "execution_count": 12,
   "metadata": {},
   "outputs": [
    {
     "name": "stdout",
     "output_type": "stream",
     "text": [
      "Message: Projects fetched successfully\n",
      "Project Name: Shoplifting-Retail-Detection | Project ID: 6728cc001478c8033c87753b\n",
      "Project Name: Crop-Weed-Detection | Project ID: 6728bd804e370c5e10793517\n",
      "Project Name: Drone-Windmill-Maintainence | Project ID: 672251b73f122d1d31ac85df\n",
      "Project Name: Test-Project-1 | Project ID: 67221278e444a8664263f806\n",
      "Project Name: test-det | Project ID: 671f7af124f52600d8b27df2\n",
      "Project Name: Drone Detection Use Case 1 | Project ID: 66c6fa777668fd51f7b98c74\n",
      "Project Name: Crop Detection Use Case Final-4 | Project ID: 66c5cffd2dca8efe8f2562ec\n",
      "Project Name: instance_segmentation | Project ID: 66a08a0ea6b455cdb12a5d59\n",
      "Project Name: Demo1 | Project ID: 668b2bac4f0265d79523f23d\n",
      "Project Name: kaggle_demo | Project ID: 66416ab972f6cd7a92435408\n"
     ]
    }
   ],
   "source": [
    "projects_list, msg = session_instance.list_projects(project_type=\"classification\")\n",
    "\n",
    "# Check if there is a message or error\n",
    "if msg:\n",
    "    print(f\"Message: {msg}\")\n",
    "\n",
    "# Print the projects in a formatted manner\n",
    "for project_name, project_instance in projects_list.items():\n",
    "    print(f\"Project Name: {project_name} | Project ID: {project_instance.project_id}\")"
   ]
  },
  {
   "cell_type": "code",
   "execution_count": 13,
   "metadata": {},
   "outputs": [
    {
     "name": "stdout",
     "output_type": "stream",
     "text": [
      "Creating a new project: Tumor-Classification-Project\n"
     ]
    }
   ],
   "source": [
    "project_name = \"Tumor-Classification-Project\"\n",
    "for name, project_instance in projects_list.items():\n",
    "    if name == project_name:\n",
    "        projects_instance = Projects(session_instance, project_name=project_name)\n",
    "        session_instance.update(projects_instance.project_id)\n",
    "        print(f\"Project '{project_name}' already exists. Initialized Projects instance.\")\n",
    "        project_exists = True\n",
    "        break\n",
    "    else:\n",
    "        project_exists = False\n",
    "\n",
    "if project_exists == False:\n",
    "    print(f\"Creating a new project: {project_name}\")"
   ]
  },
  {
   "cell_type": "code",
   "execution_count": 14,
   "metadata": {},
   "outputs": [
    {
     "name": "stdout",
     "output_type": "stream",
     "text": [
      "Project created with ID: 6728cfef1478c8033c877557\n",
      "----------------------------\n",
      "Project ID: 6728cfef1478c8033c877557\n",
      "Project Name: Tumor-Classification-Project\n",
      "----------------------------\n"
     ]
    }
   ],
   "source": [
    "import pprint\n",
    "\n",
    "name = \"Tumor-Classification-Project\"\n",
    "\n",
    "# Function to create a project\n",
    "def create_project():\n",
    "    project_name = name\n",
    "    input_type = \"image\"\n",
    "    output_type = \"classification\"\n",
    "    \n",
    "    enabled_platforms = {\n",
    "        \"matrice\": True,\n",
    "        \"android\": False,\n",
    "        \"ios\": False,\n",
    "        \"tpu\": False,\n",
    "        \"intelCPU\": False,\n",
    "        \"gcloudGPU\": False\n",
    "    }\n",
    "\n",
    "    resp, error = session_instance._create_project(project_name, input_type, output_type)\n",
    "    if error:\n",
    "        print(f\"Error: {error}\")\n",
    "        return None, None\n",
    "    else:\n",
    "        print(f\"Project created with ID: {resp['_id']}\")\n",
    "        return resp['_id'], resp['name']\n",
    "\n",
    "# Check if project_id and project_name exist\n",
    "project_id = None\n",
    "project_name = None\n",
    "\n",
    "if not project_exists:\n",
    "    project_id, project_name = create_project()\n",
    "else:\n",
    "    project_id = projects_instance.project_id\n",
    "    project_name = projects_instance.project_name\n",
    "    print(f\"Project already exists with ID: {project_id} and Name: {project_name}\")\n",
    "\n",
    "\n",
    "print(\"----------------------------\")\n",
    "print(f\"Project ID: {project_id}\")\n",
    "print(f\"Project Name: {project_name}\")\n",
    "print(\"----------------------------\")\n"
   ]
  },
  {
   "cell_type": "code",
   "execution_count": 15,
   "metadata": {},
   "outputs": [],
   "source": [
    "Vars.set(\"project_name\",project_name)\n",
    "Vars.set(\"project_id\", project_id)"
   ]
  },
  {
   "cell_type": "code",
   "execution_count": 16,
   "metadata": {},
   "outputs": [
    {
     "name": "stdout",
     "output_type": "stream",
     "text": [
      "A Project class has been initialized <matrice.projects.Projects object at 0x00000227ECD38410>\n"
     ]
    }
   ],
   "source": [
    "session_instance.update(project_id)\n",
    "project_instance = Projects(session_instance, project_name=project_name)\n",
    "print(\"A Project class has been initialized\",project_instance)"
   ]
  },
  {
   "cell_type": "code",
   "execution_count": 17,
   "metadata": {},
   "outputs": [],
   "source": [
    "dataset, dataset_action = project_instance.import_local_dataset(\n",
    "    dataset_name='Tumor-Dataset',\n",
    "    file_path = r\"C:\\Users\\pathi\\OneDrive\\Desktop\\matriceai\\matrice_usecases_local\\datasets\\tumour_dataset_1.zip\",\n",
    "    dataset_type = \"classification\",\n",
    "    dataset_description = \"Dataset of Tumour Images\",\n",
    "    version_description = \"1st version\",\n",
    "    input_type = \"image\"\n",
    ")"
   ]
  },
  {
   "cell_type": "code",
   "execution_count": 18,
   "metadata": {},
   "outputs": [
    {
     "name": "stdout",
     "output_type": "stream",
     "text": [
      "Dataset ID: 6728d0fa0623cf13c1a4574d\n",
      "Action ID: 6728d0fb1478c8033c877559\n"
     ]
    }
   ],
   "source": [
    "dataset_id = dataset.dataset_id\n",
    "action_id = dataset_action.action_id\n",
    "\n",
    "print(f\"Dataset ID: {dataset_id}\")\n",
    "print(f\"Action ID: {action_id}\")"
   ]
  },
  {
   "cell_type": "code",
   "execution_count": 19,
   "metadata": {},
   "outputs": [],
   "source": [
    "Vars.set(\"dataset_id\", dataset.dataset_id)\n",
    "Vars.set(\"dataset_action_id\", dataset_action.action_id)"
   ]
  },
  {
   "cell_type": "code",
   "execution_count": 20,
   "metadata": {},
   "outputs": [
    {
     "name": "stdout",
     "output_type": "stream",
     "text": [
      " \n",
      "-------Status------\n",
      "Status of dataset: queued\n",
      "-------------------\n",
      " \n",
      "-------Status------\n",
      "Status of dataset: queued\n",
      "-------------------\n",
      " \n",
      "-------Status------\n",
      "Status of dataset: processing\n",
      "-------------------\n",
      " \n",
      "-------Status------\n",
      "Status of dataset: processing\n",
      "-------------------\n",
      " \n",
      "-------Status------\n",
      "Status of dataset: processing\n",
      "-------------------\n",
      " \n",
      "-------Status------\n",
      "Status of dataset: processing\n",
      "-------------------\n",
      " \n",
      "-------Status------\n",
      "Status of dataset: processing\n",
      "-------------------\n",
      " \n",
      "-------Status------\n",
      "Status of dataset: processing\n",
      "-------------------\n",
      " \n",
      "-------Status------\n",
      "Status of dataset: processing\n",
      "-------------------\n",
      " \n",
      "-------Status------\n",
      "Status of dataset: processing\n",
      "-------------------\n",
      " \n",
      "-------Status------\n",
      "Status of dataset: processing\n",
      "-------------------\n",
      " \n",
      "-------Status------\n",
      "Status of dataset: processing\n",
      "-------------------\n",
      " \n",
      "-------Status------\n",
      "Status of dataset: processed\n",
      "-------------------\n",
      "---------Preprocesing Complete---------\n",
      "Dataset processed, proceed with experiment creation.\n",
      "---------------------------------------\n"
     ]
    }
   ],
   "source": [
    "import time\n",
    "import pprint\n",
    "\n",
    "action_id = dataset_action.action_id\n",
    "def check_dataset_status():\n",
    "    while True:\n",
    "        print(\" \")\n",
    "        print(\"-------Status------\")\n",
    "        D = Dataset(session_instance, dataset_id=dataset_id)\n",
    "        status = D.version_status\n",
    "        print(\"Status of dataset:\", status)\n",
    "        print(\"-------------------\")\n",
    "        if status == 'processed':\n",
    "            print(\"---------Preprocesing Complete---------\")\n",
    "            print(\"Dataset processed, proceed with experiment creation.\")\n",
    "            print(\"---------------------------------------\")\n",
    "            break\n",
    "        \n",
    "        time.sleep(90)  # Wait for 90 seconds before checking again\n",
    "\n",
    "# Run the function to check dataset status\n",
    "check_dataset_status()\n"
   ]
  },
  {
   "cell_type": "code",
   "execution_count": 21,
   "metadata": {},
   "outputs": [
    {
     "name": "stdout",
     "output_type": "stream",
     "text": [
      "Dataset ID: 6728d0fa0623cf13c1a4574d\n",
      "Dataset Name: Tumor-Dataset\n",
      "Version Status: processed\n",
      "Latest Version: v1.0\n",
      "Number of Samples: 253\n",
      "Number of Classes: 2\n",
      "Number of Versions: 1\n",
      "Last Updated At: 2024-11-04T14:10:36.904Z\n"
     ]
    }
   ],
   "source": [
    "def print_dataset_info(dataset):\n",
    "   \n",
    "    dataset_id = dataset.dataset_details['_id']\n",
    "    dataset_name = dataset.dataset_details['name']\n",
    "    version_status = dataset.dataset_details.get(\"stats\", [{}])[0].get(\"versionStatus\")\n",
    "    latest_version = dataset.dataset_details['latestVersion']\n",
    "    no_of_samples = sum(version['versionStats']['total'] for version in dataset.dataset_details.get('stats', []))\n",
    "    no_of_classes = len(dataset.dataset_details.get('stats', [{}])[0].get('classStat', {}))\n",
    "    no_of_versions = len(dataset.dataset_details.get('allVersions', []))\n",
    "    last_updated_at = dataset.dataset_details.get('updatedAt')\n",
    "\n",
    "    print(f\"Dataset ID: {dataset_id}\")\n",
    "    print(f\"Dataset Name: {dataset_name}\")\n",
    "    print(f\"Version Status: {version_status}\")\n",
    "    print(f\"Latest Version: {latest_version}\")\n",
    "    print(f\"Number of Samples: {no_of_samples}\")\n",
    "    print(f\"Number of Classes: {no_of_classes}\")\n",
    "    print(f\"Number of Versions: {no_of_versions}\")\n",
    "    print(f\"Last Updated At: {last_updated_at}\")\n",
    "\n",
    "dataset.refresh()   \n",
    "print_dataset_info(dataset)"
   ]
  },
  {
   "cell_type": "code",
   "execution_count": 22,
   "metadata": {},
   "outputs": [],
   "source": [
    "dataset_summary = dataset.summary"
   ]
  },
  {
   "cell_type": "code",
   "execution_count": 23,
   "metadata": {},
   "outputs": [
    {
     "data": {
      "application/vnd.plotly.v1+json": {
       "config": {
        "plotlyServerURL": "https://plot.ly"
       },
       "data": [
        {
         "type": "bar",
         "x": [
          "tumour",
          "no_tumour"
         ],
         "y": [
          155,
          98
         ]
        }
       ],
       "layout": {
        "template": {
         "data": {
          "bar": [
           {
            "error_x": {
             "color": "#2a3f5f"
            },
            "error_y": {
             "color": "#2a3f5f"
            },
            "marker": {
             "line": {
              "color": "#E5ECF6",
              "width": 0.5
             },
             "pattern": {
              "fillmode": "overlay",
              "size": 10,
              "solidity": 0.2
             }
            },
            "type": "bar"
           }
          ],
          "barpolar": [
           {
            "marker": {
             "line": {
              "color": "#E5ECF6",
              "width": 0.5
             },
             "pattern": {
              "fillmode": "overlay",
              "size": 10,
              "solidity": 0.2
             }
            },
            "type": "barpolar"
           }
          ],
          "carpet": [
           {
            "aaxis": {
             "endlinecolor": "#2a3f5f",
             "gridcolor": "white",
             "linecolor": "white",
             "minorgridcolor": "white",
             "startlinecolor": "#2a3f5f"
            },
            "baxis": {
             "endlinecolor": "#2a3f5f",
             "gridcolor": "white",
             "linecolor": "white",
             "minorgridcolor": "white",
             "startlinecolor": "#2a3f5f"
            },
            "type": "carpet"
           }
          ],
          "choropleth": [
           {
            "colorbar": {
             "outlinewidth": 0,
             "ticks": ""
            },
            "type": "choropleth"
           }
          ],
          "contour": [
           {
            "colorbar": {
             "outlinewidth": 0,
             "ticks": ""
            },
            "colorscale": [
             [
              0,
              "#0d0887"
             ],
             [
              0.1111111111111111,
              "#46039f"
             ],
             [
              0.2222222222222222,
              "#7201a8"
             ],
             [
              0.3333333333333333,
              "#9c179e"
             ],
             [
              0.4444444444444444,
              "#bd3786"
             ],
             [
              0.5555555555555556,
              "#d8576b"
             ],
             [
              0.6666666666666666,
              "#ed7953"
             ],
             [
              0.7777777777777778,
              "#fb9f3a"
             ],
             [
              0.8888888888888888,
              "#fdca26"
             ],
             [
              1,
              "#f0f921"
             ]
            ],
            "type": "contour"
           }
          ],
          "contourcarpet": [
           {
            "colorbar": {
             "outlinewidth": 0,
             "ticks": ""
            },
            "type": "contourcarpet"
           }
          ],
          "heatmap": [
           {
            "colorbar": {
             "outlinewidth": 0,
             "ticks": ""
            },
            "colorscale": [
             [
              0,
              "#0d0887"
             ],
             [
              0.1111111111111111,
              "#46039f"
             ],
             [
              0.2222222222222222,
              "#7201a8"
             ],
             [
              0.3333333333333333,
              "#9c179e"
             ],
             [
              0.4444444444444444,
              "#bd3786"
             ],
             [
              0.5555555555555556,
              "#d8576b"
             ],
             [
              0.6666666666666666,
              "#ed7953"
             ],
             [
              0.7777777777777778,
              "#fb9f3a"
             ],
             [
              0.8888888888888888,
              "#fdca26"
             ],
             [
              1,
              "#f0f921"
             ]
            ],
            "type": "heatmap"
           }
          ],
          "heatmapgl": [
           {
            "colorbar": {
             "outlinewidth": 0,
             "ticks": ""
            },
            "colorscale": [
             [
              0,
              "#0d0887"
             ],
             [
              0.1111111111111111,
              "#46039f"
             ],
             [
              0.2222222222222222,
              "#7201a8"
             ],
             [
              0.3333333333333333,
              "#9c179e"
             ],
             [
              0.4444444444444444,
              "#bd3786"
             ],
             [
              0.5555555555555556,
              "#d8576b"
             ],
             [
              0.6666666666666666,
              "#ed7953"
             ],
             [
              0.7777777777777778,
              "#fb9f3a"
             ],
             [
              0.8888888888888888,
              "#fdca26"
             ],
             [
              1,
              "#f0f921"
             ]
            ],
            "type": "heatmapgl"
           }
          ],
          "histogram": [
           {
            "marker": {
             "pattern": {
              "fillmode": "overlay",
              "size": 10,
              "solidity": 0.2
             }
            },
            "type": "histogram"
           }
          ],
          "histogram2d": [
           {
            "colorbar": {
             "outlinewidth": 0,
             "ticks": ""
            },
            "colorscale": [
             [
              0,
              "#0d0887"
             ],
             [
              0.1111111111111111,
              "#46039f"
             ],
             [
              0.2222222222222222,
              "#7201a8"
             ],
             [
              0.3333333333333333,
              "#9c179e"
             ],
             [
              0.4444444444444444,
              "#bd3786"
             ],
             [
              0.5555555555555556,
              "#d8576b"
             ],
             [
              0.6666666666666666,
              "#ed7953"
             ],
             [
              0.7777777777777778,
              "#fb9f3a"
             ],
             [
              0.8888888888888888,
              "#fdca26"
             ],
             [
              1,
              "#f0f921"
             ]
            ],
            "type": "histogram2d"
           }
          ],
          "histogram2dcontour": [
           {
            "colorbar": {
             "outlinewidth": 0,
             "ticks": ""
            },
            "colorscale": [
             [
              0,
              "#0d0887"
             ],
             [
              0.1111111111111111,
              "#46039f"
             ],
             [
              0.2222222222222222,
              "#7201a8"
             ],
             [
              0.3333333333333333,
              "#9c179e"
             ],
             [
              0.4444444444444444,
              "#bd3786"
             ],
             [
              0.5555555555555556,
              "#d8576b"
             ],
             [
              0.6666666666666666,
              "#ed7953"
             ],
             [
              0.7777777777777778,
              "#fb9f3a"
             ],
             [
              0.8888888888888888,
              "#fdca26"
             ],
             [
              1,
              "#f0f921"
             ]
            ],
            "type": "histogram2dcontour"
           }
          ],
          "mesh3d": [
           {
            "colorbar": {
             "outlinewidth": 0,
             "ticks": ""
            },
            "type": "mesh3d"
           }
          ],
          "parcoords": [
           {
            "line": {
             "colorbar": {
              "outlinewidth": 0,
              "ticks": ""
             }
            },
            "type": "parcoords"
           }
          ],
          "pie": [
           {
            "automargin": true,
            "type": "pie"
           }
          ],
          "scatter": [
           {
            "fillpattern": {
             "fillmode": "overlay",
             "size": 10,
             "solidity": 0.2
            },
            "type": "scatter"
           }
          ],
          "scatter3d": [
           {
            "line": {
             "colorbar": {
              "outlinewidth": 0,
              "ticks": ""
             }
            },
            "marker": {
             "colorbar": {
              "outlinewidth": 0,
              "ticks": ""
             }
            },
            "type": "scatter3d"
           }
          ],
          "scattercarpet": [
           {
            "marker": {
             "colorbar": {
              "outlinewidth": 0,
              "ticks": ""
             }
            },
            "type": "scattercarpet"
           }
          ],
          "scattergeo": [
           {
            "marker": {
             "colorbar": {
              "outlinewidth": 0,
              "ticks": ""
             }
            },
            "type": "scattergeo"
           }
          ],
          "scattergl": [
           {
            "marker": {
             "colorbar": {
              "outlinewidth": 0,
              "ticks": ""
             }
            },
            "type": "scattergl"
           }
          ],
          "scattermapbox": [
           {
            "marker": {
             "colorbar": {
              "outlinewidth": 0,
              "ticks": ""
             }
            },
            "type": "scattermapbox"
           }
          ],
          "scatterpolar": [
           {
            "marker": {
             "colorbar": {
              "outlinewidth": 0,
              "ticks": ""
             }
            },
            "type": "scatterpolar"
           }
          ],
          "scatterpolargl": [
           {
            "marker": {
             "colorbar": {
              "outlinewidth": 0,
              "ticks": ""
             }
            },
            "type": "scatterpolargl"
           }
          ],
          "scatterternary": [
           {
            "marker": {
             "colorbar": {
              "outlinewidth": 0,
              "ticks": ""
             }
            },
            "type": "scatterternary"
           }
          ],
          "surface": [
           {
            "colorbar": {
             "outlinewidth": 0,
             "ticks": ""
            },
            "colorscale": [
             [
              0,
              "#0d0887"
             ],
             [
              0.1111111111111111,
              "#46039f"
             ],
             [
              0.2222222222222222,
              "#7201a8"
             ],
             [
              0.3333333333333333,
              "#9c179e"
             ],
             [
              0.4444444444444444,
              "#bd3786"
             ],
             [
              0.5555555555555556,
              "#d8576b"
             ],
             [
              0.6666666666666666,
              "#ed7953"
             ],
             [
              0.7777777777777778,
              "#fb9f3a"
             ],
             [
              0.8888888888888888,
              "#fdca26"
             ],
             [
              1,
              "#f0f921"
             ]
            ],
            "type": "surface"
           }
          ],
          "table": [
           {
            "cells": {
             "fill": {
              "color": "#EBF0F8"
             },
             "line": {
              "color": "white"
             }
            },
            "header": {
             "fill": {
              "color": "#C8D4E3"
             },
             "line": {
              "color": "white"
             }
            },
            "type": "table"
           }
          ]
         },
         "layout": {
          "annotationdefaults": {
           "arrowcolor": "#2a3f5f",
           "arrowhead": 0,
           "arrowwidth": 1
          },
          "autotypenumbers": "strict",
          "coloraxis": {
           "colorbar": {
            "outlinewidth": 0,
            "ticks": ""
           }
          },
          "colorscale": {
           "diverging": [
            [
             0,
             "#8e0152"
            ],
            [
             0.1,
             "#c51b7d"
            ],
            [
             0.2,
             "#de77ae"
            ],
            [
             0.3,
             "#f1b6da"
            ],
            [
             0.4,
             "#fde0ef"
            ],
            [
             0.5,
             "#f7f7f7"
            ],
            [
             0.6,
             "#e6f5d0"
            ],
            [
             0.7,
             "#b8e186"
            ],
            [
             0.8,
             "#7fbc41"
            ],
            [
             0.9,
             "#4d9221"
            ],
            [
             1,
             "#276419"
            ]
           ],
           "sequential": [
            [
             0,
             "#0d0887"
            ],
            [
             0.1111111111111111,
             "#46039f"
            ],
            [
             0.2222222222222222,
             "#7201a8"
            ],
            [
             0.3333333333333333,
             "#9c179e"
            ],
            [
             0.4444444444444444,
             "#bd3786"
            ],
            [
             0.5555555555555556,
             "#d8576b"
            ],
            [
             0.6666666666666666,
             "#ed7953"
            ],
            [
             0.7777777777777778,
             "#fb9f3a"
            ],
            [
             0.8888888888888888,
             "#fdca26"
            ],
            [
             1,
             "#f0f921"
            ]
           ],
           "sequentialminus": [
            [
             0,
             "#0d0887"
            ],
            [
             0.1111111111111111,
             "#46039f"
            ],
            [
             0.2222222222222222,
             "#7201a8"
            ],
            [
             0.3333333333333333,
             "#9c179e"
            ],
            [
             0.4444444444444444,
             "#bd3786"
            ],
            [
             0.5555555555555556,
             "#d8576b"
            ],
            [
             0.6666666666666666,
             "#ed7953"
            ],
            [
             0.7777777777777778,
             "#fb9f3a"
            ],
            [
             0.8888888888888888,
             "#fdca26"
            ],
            [
             1,
             "#f0f921"
            ]
           ]
          },
          "colorway": [
           "#636efa",
           "#EF553B",
           "#00cc96",
           "#ab63fa",
           "#FFA15A",
           "#19d3f3",
           "#FF6692",
           "#B6E880",
           "#FF97FF",
           "#FECB52"
          ],
          "font": {
           "color": "#2a3f5f"
          },
          "geo": {
           "bgcolor": "white",
           "lakecolor": "white",
           "landcolor": "#E5ECF6",
           "showlakes": true,
           "showland": true,
           "subunitcolor": "white"
          },
          "hoverlabel": {
           "align": "left"
          },
          "hovermode": "closest",
          "mapbox": {
           "style": "light"
          },
          "paper_bgcolor": "white",
          "plot_bgcolor": "#E5ECF6",
          "polar": {
           "angularaxis": {
            "gridcolor": "white",
            "linecolor": "white",
            "ticks": ""
           },
           "bgcolor": "#E5ECF6",
           "radialaxis": {
            "gridcolor": "white",
            "linecolor": "white",
            "ticks": ""
           }
          },
          "scene": {
           "xaxis": {
            "backgroundcolor": "#E5ECF6",
            "gridcolor": "white",
            "gridwidth": 2,
            "linecolor": "white",
            "showbackground": true,
            "ticks": "",
            "zerolinecolor": "white"
           },
           "yaxis": {
            "backgroundcolor": "#E5ECF6",
            "gridcolor": "white",
            "gridwidth": 2,
            "linecolor": "white",
            "showbackground": true,
            "ticks": "",
            "zerolinecolor": "white"
           },
           "zaxis": {
            "backgroundcolor": "#E5ECF6",
            "gridcolor": "white",
            "gridwidth": 2,
            "linecolor": "white",
            "showbackground": true,
            "ticks": "",
            "zerolinecolor": "white"
           }
          },
          "shapedefaults": {
           "line": {
            "color": "#2a3f5f"
           }
          },
          "ternary": {
           "aaxis": {
            "gridcolor": "white",
            "linecolor": "white",
            "ticks": ""
           },
           "baxis": {
            "gridcolor": "white",
            "linecolor": "white",
            "ticks": ""
           },
           "bgcolor": "#E5ECF6",
           "caxis": {
            "gridcolor": "white",
            "linecolor": "white",
            "ticks": ""
           }
          },
          "title": {
           "x": 0.05
          },
          "xaxis": {
           "automargin": true,
           "gridcolor": "white",
           "linecolor": "white",
           "ticks": "",
           "title": {
            "standoff": 15
           },
           "zerolinecolor": "white",
           "zerolinewidth": 2
          },
          "yaxis": {
           "automargin": true,
           "gridcolor": "white",
           "linecolor": "white",
           "ticks": "",
           "title": {
            "standoff": 15
           },
           "zerolinecolor": "white",
           "zerolinewidth": 2
          }
         }
        },
        "title": {
         "text": "Count of Items by Category"
        },
        "xaxis": {
         "title": {
          "text": "Category"
         }
        },
        "yaxis": {
         "title": {
          "text": "Count"
         }
        }
       }
      }
     },
     "metadata": {},
     "output_type": "display_data"
    },
    {
     "data": {
      "application/vnd.plotly.v1+json": {
       "config": {
        "plotlyServerURL": "https://plot.ly"
       },
       "data": [
        {
         "hole": 0.3,
         "labels": [
          "Test",
          "Train",
          "Unassigned",
          "Validation"
         ],
         "type": "pie",
         "values": [
          26,
          176,
          0,
          51
         ]
        }
       ],
       "layout": {
        "template": {
         "data": {
          "bar": [
           {
            "error_x": {
             "color": "#2a3f5f"
            },
            "error_y": {
             "color": "#2a3f5f"
            },
            "marker": {
             "line": {
              "color": "#E5ECF6",
              "width": 0.5
             },
             "pattern": {
              "fillmode": "overlay",
              "size": 10,
              "solidity": 0.2
             }
            },
            "type": "bar"
           }
          ],
          "barpolar": [
           {
            "marker": {
             "line": {
              "color": "#E5ECF6",
              "width": 0.5
             },
             "pattern": {
              "fillmode": "overlay",
              "size": 10,
              "solidity": 0.2
             }
            },
            "type": "barpolar"
           }
          ],
          "carpet": [
           {
            "aaxis": {
             "endlinecolor": "#2a3f5f",
             "gridcolor": "white",
             "linecolor": "white",
             "minorgridcolor": "white",
             "startlinecolor": "#2a3f5f"
            },
            "baxis": {
             "endlinecolor": "#2a3f5f",
             "gridcolor": "white",
             "linecolor": "white",
             "minorgridcolor": "white",
             "startlinecolor": "#2a3f5f"
            },
            "type": "carpet"
           }
          ],
          "choropleth": [
           {
            "colorbar": {
             "outlinewidth": 0,
             "ticks": ""
            },
            "type": "choropleth"
           }
          ],
          "contour": [
           {
            "colorbar": {
             "outlinewidth": 0,
             "ticks": ""
            },
            "colorscale": [
             [
              0,
              "#0d0887"
             ],
             [
              0.1111111111111111,
              "#46039f"
             ],
             [
              0.2222222222222222,
              "#7201a8"
             ],
             [
              0.3333333333333333,
              "#9c179e"
             ],
             [
              0.4444444444444444,
              "#bd3786"
             ],
             [
              0.5555555555555556,
              "#d8576b"
             ],
             [
              0.6666666666666666,
              "#ed7953"
             ],
             [
              0.7777777777777778,
              "#fb9f3a"
             ],
             [
              0.8888888888888888,
              "#fdca26"
             ],
             [
              1,
              "#f0f921"
             ]
            ],
            "type": "contour"
           }
          ],
          "contourcarpet": [
           {
            "colorbar": {
             "outlinewidth": 0,
             "ticks": ""
            },
            "type": "contourcarpet"
           }
          ],
          "heatmap": [
           {
            "colorbar": {
             "outlinewidth": 0,
             "ticks": ""
            },
            "colorscale": [
             [
              0,
              "#0d0887"
             ],
             [
              0.1111111111111111,
              "#46039f"
             ],
             [
              0.2222222222222222,
              "#7201a8"
             ],
             [
              0.3333333333333333,
              "#9c179e"
             ],
             [
              0.4444444444444444,
              "#bd3786"
             ],
             [
              0.5555555555555556,
              "#d8576b"
             ],
             [
              0.6666666666666666,
              "#ed7953"
             ],
             [
              0.7777777777777778,
              "#fb9f3a"
             ],
             [
              0.8888888888888888,
              "#fdca26"
             ],
             [
              1,
              "#f0f921"
             ]
            ],
            "type": "heatmap"
           }
          ],
          "heatmapgl": [
           {
            "colorbar": {
             "outlinewidth": 0,
             "ticks": ""
            },
            "colorscale": [
             [
              0,
              "#0d0887"
             ],
             [
              0.1111111111111111,
              "#46039f"
             ],
             [
              0.2222222222222222,
              "#7201a8"
             ],
             [
              0.3333333333333333,
              "#9c179e"
             ],
             [
              0.4444444444444444,
              "#bd3786"
             ],
             [
              0.5555555555555556,
              "#d8576b"
             ],
             [
              0.6666666666666666,
              "#ed7953"
             ],
             [
              0.7777777777777778,
              "#fb9f3a"
             ],
             [
              0.8888888888888888,
              "#fdca26"
             ],
             [
              1,
              "#f0f921"
             ]
            ],
            "type": "heatmapgl"
           }
          ],
          "histogram": [
           {
            "marker": {
             "pattern": {
              "fillmode": "overlay",
              "size": 10,
              "solidity": 0.2
             }
            },
            "type": "histogram"
           }
          ],
          "histogram2d": [
           {
            "colorbar": {
             "outlinewidth": 0,
             "ticks": ""
            },
            "colorscale": [
             [
              0,
              "#0d0887"
             ],
             [
              0.1111111111111111,
              "#46039f"
             ],
             [
              0.2222222222222222,
              "#7201a8"
             ],
             [
              0.3333333333333333,
              "#9c179e"
             ],
             [
              0.4444444444444444,
              "#bd3786"
             ],
             [
              0.5555555555555556,
              "#d8576b"
             ],
             [
              0.6666666666666666,
              "#ed7953"
             ],
             [
              0.7777777777777778,
              "#fb9f3a"
             ],
             [
              0.8888888888888888,
              "#fdca26"
             ],
             [
              1,
              "#f0f921"
             ]
            ],
            "type": "histogram2d"
           }
          ],
          "histogram2dcontour": [
           {
            "colorbar": {
             "outlinewidth": 0,
             "ticks": ""
            },
            "colorscale": [
             [
              0,
              "#0d0887"
             ],
             [
              0.1111111111111111,
              "#46039f"
             ],
             [
              0.2222222222222222,
              "#7201a8"
             ],
             [
              0.3333333333333333,
              "#9c179e"
             ],
             [
              0.4444444444444444,
              "#bd3786"
             ],
             [
              0.5555555555555556,
              "#d8576b"
             ],
             [
              0.6666666666666666,
              "#ed7953"
             ],
             [
              0.7777777777777778,
              "#fb9f3a"
             ],
             [
              0.8888888888888888,
              "#fdca26"
             ],
             [
              1,
              "#f0f921"
             ]
            ],
            "type": "histogram2dcontour"
           }
          ],
          "mesh3d": [
           {
            "colorbar": {
             "outlinewidth": 0,
             "ticks": ""
            },
            "type": "mesh3d"
           }
          ],
          "parcoords": [
           {
            "line": {
             "colorbar": {
              "outlinewidth": 0,
              "ticks": ""
             }
            },
            "type": "parcoords"
           }
          ],
          "pie": [
           {
            "automargin": true,
            "type": "pie"
           }
          ],
          "scatter": [
           {
            "fillpattern": {
             "fillmode": "overlay",
             "size": 10,
             "solidity": 0.2
            },
            "type": "scatter"
           }
          ],
          "scatter3d": [
           {
            "line": {
             "colorbar": {
              "outlinewidth": 0,
              "ticks": ""
             }
            },
            "marker": {
             "colorbar": {
              "outlinewidth": 0,
              "ticks": ""
             }
            },
            "type": "scatter3d"
           }
          ],
          "scattercarpet": [
           {
            "marker": {
             "colorbar": {
              "outlinewidth": 0,
              "ticks": ""
             }
            },
            "type": "scattercarpet"
           }
          ],
          "scattergeo": [
           {
            "marker": {
             "colorbar": {
              "outlinewidth": 0,
              "ticks": ""
             }
            },
            "type": "scattergeo"
           }
          ],
          "scattergl": [
           {
            "marker": {
             "colorbar": {
              "outlinewidth": 0,
              "ticks": ""
             }
            },
            "type": "scattergl"
           }
          ],
          "scattermapbox": [
           {
            "marker": {
             "colorbar": {
              "outlinewidth": 0,
              "ticks": ""
             }
            },
            "type": "scattermapbox"
           }
          ],
          "scatterpolar": [
           {
            "marker": {
             "colorbar": {
              "outlinewidth": 0,
              "ticks": ""
             }
            },
            "type": "scatterpolar"
           }
          ],
          "scatterpolargl": [
           {
            "marker": {
             "colorbar": {
              "outlinewidth": 0,
              "ticks": ""
             }
            },
            "type": "scatterpolargl"
           }
          ],
          "scatterternary": [
           {
            "marker": {
             "colorbar": {
              "outlinewidth": 0,
              "ticks": ""
             }
            },
            "type": "scatterternary"
           }
          ],
          "surface": [
           {
            "colorbar": {
             "outlinewidth": 0,
             "ticks": ""
            },
            "colorscale": [
             [
              0,
              "#0d0887"
             ],
             [
              0.1111111111111111,
              "#46039f"
             ],
             [
              0.2222222222222222,
              "#7201a8"
             ],
             [
              0.3333333333333333,
              "#9c179e"
             ],
             [
              0.4444444444444444,
              "#bd3786"
             ],
             [
              0.5555555555555556,
              "#d8576b"
             ],
             [
              0.6666666666666666,
              "#ed7953"
             ],
             [
              0.7777777777777778,
              "#fb9f3a"
             ],
             [
              0.8888888888888888,
              "#fdca26"
             ],
             [
              1,
              "#f0f921"
             ]
            ],
            "type": "surface"
           }
          ],
          "table": [
           {
            "cells": {
             "fill": {
              "color": "#EBF0F8"
             },
             "line": {
              "color": "white"
             }
            },
            "header": {
             "fill": {
              "color": "#C8D4E3"
             },
             "line": {
              "color": "white"
             }
            },
            "type": "table"
           }
          ]
         },
         "layout": {
          "annotationdefaults": {
           "arrowcolor": "#2a3f5f",
           "arrowhead": 0,
           "arrowwidth": 1
          },
          "autotypenumbers": "strict",
          "coloraxis": {
           "colorbar": {
            "outlinewidth": 0,
            "ticks": ""
           }
          },
          "colorscale": {
           "diverging": [
            [
             0,
             "#8e0152"
            ],
            [
             0.1,
             "#c51b7d"
            ],
            [
             0.2,
             "#de77ae"
            ],
            [
             0.3,
             "#f1b6da"
            ],
            [
             0.4,
             "#fde0ef"
            ],
            [
             0.5,
             "#f7f7f7"
            ],
            [
             0.6,
             "#e6f5d0"
            ],
            [
             0.7,
             "#b8e186"
            ],
            [
             0.8,
             "#7fbc41"
            ],
            [
             0.9,
             "#4d9221"
            ],
            [
             1,
             "#276419"
            ]
           ],
           "sequential": [
            [
             0,
             "#0d0887"
            ],
            [
             0.1111111111111111,
             "#46039f"
            ],
            [
             0.2222222222222222,
             "#7201a8"
            ],
            [
             0.3333333333333333,
             "#9c179e"
            ],
            [
             0.4444444444444444,
             "#bd3786"
            ],
            [
             0.5555555555555556,
             "#d8576b"
            ],
            [
             0.6666666666666666,
             "#ed7953"
            ],
            [
             0.7777777777777778,
             "#fb9f3a"
            ],
            [
             0.8888888888888888,
             "#fdca26"
            ],
            [
             1,
             "#f0f921"
            ]
           ],
           "sequentialminus": [
            [
             0,
             "#0d0887"
            ],
            [
             0.1111111111111111,
             "#46039f"
            ],
            [
             0.2222222222222222,
             "#7201a8"
            ],
            [
             0.3333333333333333,
             "#9c179e"
            ],
            [
             0.4444444444444444,
             "#bd3786"
            ],
            [
             0.5555555555555556,
             "#d8576b"
            ],
            [
             0.6666666666666666,
             "#ed7953"
            ],
            [
             0.7777777777777778,
             "#fb9f3a"
            ],
            [
             0.8888888888888888,
             "#fdca26"
            ],
            [
             1,
             "#f0f921"
            ]
           ]
          },
          "colorway": [
           "#636efa",
           "#EF553B",
           "#00cc96",
           "#ab63fa",
           "#FFA15A",
           "#19d3f3",
           "#FF6692",
           "#B6E880",
           "#FF97FF",
           "#FECB52"
          ],
          "font": {
           "color": "#2a3f5f"
          },
          "geo": {
           "bgcolor": "white",
           "lakecolor": "white",
           "landcolor": "#E5ECF6",
           "showlakes": true,
           "showland": true,
           "subunitcolor": "white"
          },
          "hoverlabel": {
           "align": "left"
          },
          "hovermode": "closest",
          "mapbox": {
           "style": "light"
          },
          "paper_bgcolor": "white",
          "plot_bgcolor": "#E5ECF6",
          "polar": {
           "angularaxis": {
            "gridcolor": "white",
            "linecolor": "white",
            "ticks": ""
           },
           "bgcolor": "#E5ECF6",
           "radialaxis": {
            "gridcolor": "white",
            "linecolor": "white",
            "ticks": ""
           }
          },
          "scene": {
           "xaxis": {
            "backgroundcolor": "#E5ECF6",
            "gridcolor": "white",
            "gridwidth": 2,
            "linecolor": "white",
            "showbackground": true,
            "ticks": "",
            "zerolinecolor": "white"
           },
           "yaxis": {
            "backgroundcolor": "#E5ECF6",
            "gridcolor": "white",
            "gridwidth": 2,
            "linecolor": "white",
            "showbackground": true,
            "ticks": "",
            "zerolinecolor": "white"
           },
           "zaxis": {
            "backgroundcolor": "#E5ECF6",
            "gridcolor": "white",
            "gridwidth": 2,
            "linecolor": "white",
            "showbackground": true,
            "ticks": "",
            "zerolinecolor": "white"
           }
          },
          "shapedefaults": {
           "line": {
            "color": "#2a3f5f"
           }
          },
          "ternary": {
           "aaxis": {
            "gridcolor": "white",
            "linecolor": "white",
            "ticks": ""
           },
           "baxis": {
            "gridcolor": "white",
            "linecolor": "white",
            "ticks": ""
           },
           "bgcolor": "#E5ECF6",
           "caxis": {
            "gridcolor": "white",
            "linecolor": "white",
            "ticks": ""
           }
          },
          "title": {
           "x": 0.05
          },
          "xaxis": {
           "automargin": true,
           "gridcolor": "white",
           "linecolor": "white",
           "ticks": "",
           "title": {
            "standoff": 15
           },
           "zerolinecolor": "white",
           "zerolinewidth": 2
          },
          "yaxis": {
           "automargin": true,
           "gridcolor": "white",
           "linecolor": "white",
           "ticks": "",
           "title": {
            "standoff": 15
           },
           "zerolinecolor": "white",
           "zerolinewidth": 2
          }
         }
        },
        "title": {
         "text": "Distribution of Data Items"
        }
       }
      }
     },
     "metadata": {},
     "output_type": "display_data"
    }
   ],
   "source": [
    "import plotly.graph_objects as go\n",
    "import pandas as pd\n",
    "import plotly.io as pio\n",
    "\n",
    "\n",
    "# Convert the histogram data to a DataFrame\n",
    "df = pd.DataFrame(dataset_summary['histogram'])\n",
    "\n",
    "# Bar chart for counts by category\n",
    "fig1 = go.Figure(data=[go.Bar(x=df['label'], y=df['count'])])\n",
    "fig1.update_layout(\n",
    "    title='Count of Items by Category',\n",
    "    xaxis_title='Category',\n",
    "    yaxis_title='Count'\n",
    ")\n",
    "\n",
    "# Pie chart for distribution of data items\n",
    "fig2 = go.Figure(data=[go.Pie(\n",
    "    labels=['Test', 'Train', 'Unassigned', 'Validation'],\n",
    "    values=[dataset_summary['testDataItemCount'], dataset_summary['trainDataItemCount'], dataset_summary['unassignedDataItemCount'], dataset_summary['valDataItemCount']],\n",
    "    hole=0.3\n",
    ")])\n",
    "fig2.update_layout(\n",
    "    title='Distribution of Data Items'\n",
    ")\n",
    "\n",
    "# Display the figures\n",
    "fig1.show()\n",
    "fig2.show()\n"
   ]
  },
  {
   "cell_type": "code",
   "execution_count": 24,
   "metadata": {},
   "outputs": [
    {
     "name": "stdout",
     "output_type": "stream",
     "text": [
      "[{'_id': '6728d0fa0623cf13c1a4574d', 'name': 'Tumor-Dataset', '_idProject': '6728cfef1478c8033c877557', 'status': '', 'createdAt': '2024-11-04T13:49:46.992Z', 'updatedAt': '2024-11-04T14:10:36.904Z', 'stats': [{'version': 'v1.0', 'versionStats': {'test': 26, 'train': 176, 'val': 51, 'unassigned': 0, 'total': 253}, 'versionDescription': '1st version', 'classStat': {'no_tumour': {'total': 98, 'train': 68, 'test': 10, 'val': 20, 'unassigned': 0}, 'tumour': {'total': 155, 'train': 108, 'test': 16, 'val': 31, 'unassigned': 0}}, 'versionStatus': 'processed', 'isFrozen': False, 'splitwiseBalance': True, 'classwiseBalance': False}], 'allVersions': ['v1.0'], 'processedVersions': ['v1.0'], 'latestVersion': 'v1.0', 'disabledVersions': None}]\n",
      "<matrice.experiment.Experiment object at 0x0000022790D4D950>\n",
      "Experiment ID: 66b35c3da8a2b1aa0504e1f1\n",
      "Experiment Name: Tumor-Classification-Experiment\n",
      "----------------------------\n",
      "Experiment ID: 66b35c3da8a2b1aa0504e1f1\n",
      "Experiment Name: Tumor-Classification-Experiment\n",
      "Experiment instance has been created: <matrice.experiment.Experiment object at 0x0000022790D4D950>\n",
      "----------------------------\n"
     ]
    }
   ],
   "source": [
    "import os\n",
    "import json\n",
    "import pprint\n",
    "import uuid\n",
    "\n",
    "# Generate a unique experiment name\n",
    "unique_experiment_name = \"Tumor-Classification-Experiment\"\n",
    "\n",
    "# Function to create an experiment\n",
    "def create_experiment():\n",
    "    name = unique_experiment_name\n",
    "    target_run_time = [\"PyTorch\"]\n",
    "    primary_metric = \"acc@1\"\n",
    "    matrice_compute = True\n",
    "    dataset_version = 'v1.0'\n",
    "\n",
    "    experiment_instance = project_instance.create_experiment(\n",
    "        name,\n",
    "        dataset_id,\n",
    "        target_run_time[0],\n",
    "        dataset_version,\n",
    "        primary_metric,\n",
    "        matrice_compute\n",
    "    )\n",
    "\n",
    "    print(experiment_instance)\n",
    "    experiment_id = experiment_instance.experiment_id\n",
    "    experiment_name = experiment_instance.experiment_name\n",
    "\n",
    "    print(f\"Experiment ID: {experiment_id}\")\n",
    "    print(f\"Experiment Name: {experiment_name}\")\n",
    "\n",
    "    return experiment_instance, experiment_id, experiment_name\n",
    "\n",
    "# Create a new experiment\n",
    "experiment_instance , experiment_id, experiment_name = create_experiment()\n",
    "\n",
    "print(\"----------------------------\")\n",
    "print(f\"Experiment ID: {experiment_id}\")\n",
    "print(f\"Experiment Name: {experiment_name}\")\n",
    "print(f\"Experiment instance has been created: {experiment_instance}\")\n",
    "print(\"----------------------------\")"
   ]
  },
  {
   "cell_type": "code",
   "execution_count": 25,
   "metadata": {},
   "outputs": [],
   "source": [
    "Vars.set(\"experiment_id\", experiment_instance.experiment_id)\n",
    "Vars.set(\"experiment_name\", experiment_instance.experiment_name)"
   ]
  },
  {
   "cell_type": "code",
   "execution_count": 26,
   "metadata": {},
   "outputs": [
    {
     "name": "stdout",
     "output_type": "stream",
     "text": [
      "----List of available Detection models on platform----\n",
      "ID: 669529779bbb09931616d41d, Model Family Name: AlexNet\n",
      "ID: 669529999bbb09931616d424, Model Family Name: CLIP\n",
      "ID: 669529cc9bbb09931616d440, Model Family Name: DenseNet\n",
      "ID: 669529f69bbb09931616d459, Model Family Name: EfficientNet\n",
      "ID: 66952a359bbb09931616d48a, Model Family Name: EfficientNet V2\n",
      "ID: 66952a939bbb09931616d4b3, Model Family Name: GoogleNet\n",
      "ID: 66952ab19bbb09931616d4ba, Model Family Name: Inception V3\n",
      "ID: 66952ad59bbb09931616d4c1, Model Family Name: MobileNet\n",
      "ID: 66952b5e9bbb09931616d518, Model Family Name: ResNet\n",
      "ID: 66952bbd9bbb09931616d54b, Model Family Name: ShuffleNet\n",
      "ID: 66952be79bbb09931616d564, Model Family Name: SqueezeNet\n",
      "ID: 66952c279bbb09931616d57e, Model Family Name: VGG\n",
      "ID: 66952c5c9bbb09931616d5a9, Model Family Name: ViT\n",
      "ID: 66952c889bbb09931616d5bc, Model Family Name: WideResNet\n",
      "ID: 66c5a071a709d56d56038e47, Model Family Name: igwdjewq\n",
      "ID: 66e1d60ff085f58fb95f3cab, Model Family Name: SwinTransformers\n",
      "ID: 66ea8e562e0a4c439a1d02d7, Model Family Name: NFNet\n",
      "ID: 66eda7f29409384bd457791b, Model Family Name: BEiT\n",
      "ID: 66f15eb57e9a8f46ea059bf6, Model Family Name: ResNet-Test-1\n",
      "ID: 66f45c97cf8825197d7fb403, Model Family Name: DEiT\n",
      "ID: 66f8b28ca8ff9f04dd82aa3a, Model Family Name: RegNet-X\n",
      "ID: 66f8b2eaa8ff9f04dd82aa9a, Model Family Name: RegNet-Y\n",
      "ID: 66f8b3a3a8ff9f04dd82ab6d, Model Family Name: RegNet-Z\n",
      "ID: 66f9ae4fa8ff9f04dd82ab9b, Model Family Name: CAiT\n",
      "ID: 66f9ae85a8ff9f04dd82abce, Model Family Name: ConvNext\n",
      "ID: 670e0471720f4205b01a47f7, Model Family Name: Xception\n"
     ]
    }
   ],
   "source": [
    "from matrice.model_store import _get_all_model_families \n",
    "\n",
    "resp , error , mesage = _get_all_model_families( session_instance , project_id , project_type=\"classification\" )\n",
    "print(\"----List of available Detection models on platform----\")\n",
    "# Iterate through each model family in the response\n",
    "for model_family in resp:\n",
    "    # Extract _id and modelFamily (model family name)\n",
    "    model_family_id = model_family.get('_id')\n",
    "    name = model_family.get('modelFamily')\n",
    "    \n",
    "    # Print in formatted manner\n",
    "    print(f\"ID: {model_family_id}, Model Family Name: {name}\")"
   ]
  },
  {
   "cell_type": "code",
   "execution_count": 27,
   "metadata": {},
   "outputs": [
    {
     "name": "stdout",
     "output_type": "stream",
     "text": [
      "A ModelFamily instance has been initialized <matrice.model_store.ModelFamily object at 0x0000022790B60FD0>\n"
     ]
    }
   ],
   "source": [
    "from matrice.model_store import ModelFamily\n",
    "\n",
    "model_family_id = \"66952b5e9bbb09931616d518\"\n",
    "# Initialize the ModelFamily instance after choosing a Model Family\n",
    "model_family_instance = ModelFamily(session_instance, model_family_id=model_family_id) # ResNet\n",
    "print(\"A ModelFamily instance has been initialized\",model_family_instance)"
   ]
  },
  {
   "cell_type": "code",
   "execution_count": 28,
   "metadata": {},
   "outputs": [
    {
     "name": "stdout",
     "output_type": "stream",
     "text": [
      "{'resnet101': <matrice.model_store.ModelArch object at 0x000002278EB4E5D0>,\n",
      " 'resnet152': <matrice.model_store.ModelArch object at 0x0000022790F76550>,\n",
      " 'resnet18': <matrice.model_store.ModelArch object at 0x0000022790B6BF10>,\n",
      " 'resnet34': <matrice.model_store.ModelArch object at 0x000002279020DB10>,\n",
      " 'resnet50': <matrice.model_store.ModelArch object at 0x00000227904E6E10>}\n",
      "ID: 66952b629bbb09931616d519 | Model Name: ResNet-101 | Model Key: resnet101 | Params in Millions: 42.8\n",
      "ID: 66952b669bbb09931616d51a | Model Name: ResNet-152 | Model Key: resnet152 | Params in Millions: 58.5\n",
      "ID: 66952b6a9bbb09931616d51b | Model Name: ResNet-18 | Model Key: resnet18 | Params in Millions: 11.4\n",
      "ID: 66952b6e9bbb09931616d51c | Model Name: ResNet-34 | Model Key: resnet34 | Params in Millions: 21.5\n",
      "ID: 66952b719bbb09931616d51d | Model Name: ResNet-50 | Model Key: resnet50 | Params in Millions: 23.9\n"
     ]
    }
   ],
   "source": [
    "# Fetch model architectures\n",
    "import pprint\n",
    "arch_resp, error, message = model_family_instance.get_model_archs()\n",
    "if error:\n",
    "    print(f\"Error: {error}\")\n",
    "else:\n",
    "    pprint.pprint(arch_resp)\n",
    "    # Check if resp is a list or a dictionary\n",
    "    if isinstance(arch_resp, list):\n",
    "        # Iterate through each model info in the list\n",
    "        for model_info in arch_resp:\n",
    "            model_key = model_info[\"model_key\"]\n",
    "            model_arch_instance = model_info[\"model_arch_instance\"]\n",
    "            \n",
    "            # Extract model information\n",
    "            model_info_id = model_arch_instance.model_info_id\n",
    "            name = model_arch_instance.model_name\n",
    "            key = model_arch_instance.model_key\n",
    "            params = model_arch_instance.params_millions\n",
    "\n",
    "            # Print in formatted manner\n",
    "            print(f\"ID: {model_info_id} |  Model Name: {name} | Model Key: {key} | Params in Millions: {params}\")\n",
    "            \n",
    "    elif isinstance(arch_resp, dict):\n",
    "        # Iterate through each model key in the dictionary\n",
    "        for model_key, model_arch_instance in arch_resp.items():\n",
    "            # Extract model information\n",
    "            model_info_id = model_arch_instance.model_info_id\n",
    "            name = model_arch_instance.model_name\n",
    "            key = model_arch_instance.model_key\n",
    "            params = model_arch_instance.params_millions\n",
    "\n",
    "            # Print in formatted manner\n",
    "            print(f\"ID: {model_info_id} | Model Name: {name} | Model Key: {key} | Params in Millions: {params}\")"
   ]
  },
  {
   "cell_type": "code",
   "execution_count": 29,
   "metadata": {},
   "outputs": [
    {
     "name": "stdout",
     "output_type": "stream",
     "text": [
      "Chosen Training Architecture : resnet50\n",
      "Model Architecture instance initialized for chosen training architecture : <matrice.model_store.ModelArch object at 0x00000227904E6E10>\n"
     ]
    }
   ],
   "source": [
    "from matrice.model_store import ModelArch\n",
    "train_arch = 'resnet50' \n",
    "print(\"Chosen Training Architecture :\" ,train_arch)\n",
    "model_arch_instance = arch_resp.get(train_arch)\n",
    "print(\"Model Architecture instance initialized for chosen training architecture :\", model_arch_instance)"
   ]
  },
  {
   "cell_type": "code",
   "execution_count": 30,
   "metadata": {},
   "outputs": [
    {
     "name": "stdout",
     "output_type": "stream",
     "text": [
      "-----Default Train Config------\n",
      "{'action_config': {'batch_size': {'allowedValues': [1, 2, 4, 8, 16, 32, 64],\n",
      "                                  'anyValue': True,\n",
      "                                  'defaultValue': 4,\n",
      "                                  'hyperparameter': True,\n",
      "                                  'keyName': 'batch_size',\n",
      "                                  'maxValue': 1024,\n",
      "                                  'minValue': 1,\n",
      "                                  'selectedValues': [4],\n",
      "                                  'valueType': 'int32'},\n",
      "                   'epochs': {'allowedValues': [10,\n",
      "                                                20,\n",
      "                                                30,\n",
      "                                                40,\n",
      "                                                50,\n",
      "                                                60,\n",
      "                                                70,\n",
      "                                                80,\n",
      "                                                90,\n",
      "                                                100,\n",
      "                                                125,\n",
      "                                                150,\n",
      "                                                175,\n",
      "                                                200],\n",
      "                              'anyValue': True,\n",
      "                              'defaultValue': 50,\n",
      "                              'hyperparameter': True,\n",
      "                              'keyName': 'epochs',\n",
      "                              'maxValue': 300,\n",
      "                              'minValue': 5,\n",
      "                              'selectedValues': [50],\n",
      "                              'valueType': 'int32'},\n",
      "                   'learning_rate': {'allowedValues': [1e-05,\n",
      "                                                       0.0001,\n",
      "                                                       0.001,\n",
      "                                                       0.01,\n",
      "                                                       0.02,\n",
      "                                                       0.05,\n",
      "                                                       0.1],\n",
      "                                     'anyValue': True,\n",
      "                                     'defaultValue': 0.001,\n",
      "                                     'hyperparameter': True,\n",
      "                                     'keyName': 'learning_rate',\n",
      "                                     'maxValue': 0.5,\n",
      "                                     'minValue': 1e-05,\n",
      "                                     'selectedValues': [0.001],\n",
      "                                     'valueType': 'float32'},\n",
      "                   'lr_gamma': {'allowedValues': [0.1, 0.2, 0.5, 0.9, 0.95],\n",
      "                                'anyValue': True,\n",
      "                                'defaultValue': 0.1,\n",
      "                                'hyperparameter': True,\n",
      "                                'keyName': 'lr_gamma',\n",
      "                                'maxValue': 1,\n",
      "                                'minValue': 0.01,\n",
      "                                'selectedValues': [0.1],\n",
      "                                'valueType': 'float32'},\n",
      "                   'lr_min': {'allowedValues': [1e-05,\n",
      "                                                0.0001,\n",
      "                                                0.001,\n",
      "                                                0.01,\n",
      "                                                0.1],\n",
      "                              'anyValue': True,\n",
      "                              'defaultValue': 1e-05,\n",
      "                              'hyperparameter': True,\n",
      "                              'keyName': 'lr_min',\n",
      "                              'maxValue': 1,\n",
      "                              'minValue': 1e-05,\n",
      "                              'selectedValues': [1e-05],\n",
      "                              'valueType': 'float32'},\n",
      "                   'lr_scheduler': {'allowedValues': ['CosineAnnealingLR',\n",
      "                                                      'ExponentialLR',\n",
      "                                                      'StepLR'],\n",
      "                                    'anyValue': False,\n",
      "                                    'defaultValue': 'StepLR',\n",
      "                                    'hyperparameter': True,\n",
      "                                    'keyName': 'lr_scheduler',\n",
      "                                    'maxValue': 0,\n",
      "                                    'minValue': 0,\n",
      "                                    'selectedValues': ['StepLR'],\n",
      "                                    'valueType': 'string'},\n",
      "                   'lr_step_size': {'allowedValues': [5, 10, 15, 20, 25],\n",
      "                                    'anyValue': True,\n",
      "                                    'defaultValue': 10,\n",
      "                                    'hyperparameter': True,\n",
      "                                    'keyName': 'lr_step_size',\n",
      "                                    'maxValue': 50,\n",
      "                                    'minValue': 1,\n",
      "                                    'selectedValues': [10],\n",
      "                                    'valueType': 'int32'},\n",
      "                   'min_delta': {'allowedValues': [1e-05,\n",
      "                                                   0.0001,\n",
      "                                                   0.001,\n",
      "                                                   0.01,\n",
      "                                                   0.1],\n",
      "                                 'anyValue': True,\n",
      "                                 'defaultValue': 0.0001,\n",
      "                                 'hyperparameter': True,\n",
      "                                 'keyName': 'min_delta',\n",
      "                                 'maxValue': 1,\n",
      "                                 'minValue': 1e-05,\n",
      "                                 'selectedValues': [0.0001],\n",
      "                                 'valueType': 'float32'},\n",
      "                   'momentum': {'allowedValues': [0.9,\n",
      "                                                  0.91,\n",
      "                                                  0.92,\n",
      "                                                  0.93,\n",
      "                                                  0.94,\n",
      "                                                  0.95,\n",
      "                                                  0.96,\n",
      "                                                  0.97,\n",
      "                                                  0.98,\n",
      "                                                  0.99,\n",
      "                                                  0.995],\n",
      "                                'anyValue': True,\n",
      "                                'defaultValue': 0.95,\n",
      "                                'hyperparameter': True,\n",
      "                                'keyName': 'momentum',\n",
      "                                'maxValue': 0.995,\n",
      "                                'minValue': 0.8,\n",
      "                                'selectedValues': [0.95],\n",
      "                                'valueType': 'float32'},\n",
      "                   'optimizer': {'allowedValues': ['Adam',\n",
      "                                                   'AdamW',\n",
      "                                                   'RMSprop',\n",
      "                                                   'SGD'],\n",
      "                                 'anyValue': False,\n",
      "                                 'defaultValue': 'AdamW',\n",
      "                                 'hyperparameter': True,\n",
      "                                 'keyName': 'optimizer',\n",
      "                                 'maxValue': 0,\n",
      "                                 'minValue': 0,\n",
      "                                 'selectedValues': ['AdamW'],\n",
      "                                 'valueType': 'string'},\n",
      "                   'patience': {'allowedValues': [5, 10, 15, 20, 25],\n",
      "                                'anyValue': True,\n",
      "                                'defaultValue': 5,\n",
      "                                'hyperparameter': True,\n",
      "                                'keyName': 'patience',\n",
      "                                'maxValue': 50,\n",
      "                                'minValue': 1,\n",
      "                                'selectedValues': [5],\n",
      "                                'valueType': 'int32'},\n",
      "                   'weight_decay': {'allowedValues': [0.0001, 0.0002, 0.001],\n",
      "                                    'anyValue': True,\n",
      "                                    'defaultValue': 0.0001,\n",
      "                                    'hyperparameter': True,\n",
      "                                    'keyName': 'weight_decay',\n",
      "                                    'maxValue': 0.1,\n",
      "                                    'minValue': 0,\n",
      "                                    'selectedValues': [0.0001],\n",
      "                                    'valueType': 'float64'}},\n",
      " 'checkpoint_type': 'predefined',\n",
      " 'is_autoML': False,\n",
      " 'model_checkpoint': 'auto',\n",
      " 'model_config': {'batch_size': [4],\n",
      "                  'epochs': [50],\n",
      "                  'learning_rate': [0.001],\n",
      "                  'lr_gamma': [0.1],\n",
      "                  'lr_min': [1e-05],\n",
      "                  'lr_scheduler': ['StepLR'],\n",
      "                  'lr_step_size': [10],\n",
      "                  'min_delta': [0.0001],\n",
      "                  'momentum': [0.95],\n",
      "                  'optimizer': ['AdamW'],\n",
      "                  'patience': [5],\n",
      "                  'weight_decay': [0.0001]},\n",
      " 'tuning_type': 'default'}\n",
      "--------------------------------\n",
      "-------Training instance initialized--------\n",
      "<matrice.model_store.ModelArch object at 0x0000022790A94DD0>\n"
     ]
    }
   ],
   "source": [
    "import pprint\n",
    "train_instance , train_config = model_arch_instance.get_train_config(experiment_id=Vars.get('experiment_id'))\n",
    "print(\"-----Default Train Config------\")\n",
    "pprint.pprint(train_config)\n",
    "print(\"--------------------------------\")\n",
    "print(\"-------Training instance initialized--------\")\n",
    "print(train_instance)"
   ]
  },
  {
   "cell_type": "code",
   "execution_count": 31,
   "metadata": {},
   "outputs": [
    {
     "name": "stdout",
     "output_type": "stream",
     "text": [
      "-----Updated Model Config------\n",
      "{'batch': [8],\n",
      " 'batch_size': [4],\n",
      " 'epochs': [50],\n",
      " 'learning_rate': [0.001],\n",
      " 'lr_gamma': [0.1],\n",
      " 'lr_min': [1e-05],\n",
      " 'lr_scheduler': ['StepLR'],\n",
      " 'lr_step_size': [10],\n",
      " 'min_delta': [0.0001],\n",
      " 'momentum': [0.95],\n",
      " 'optimizer': ['AdamW'],\n",
      " 'patience': [5],\n",
      " 'weight_decay': [0.0001]}\n",
      "--------------------------------\n",
      "-----Updated Train Config------\n",
      "{'action_config': {'batch_size': {'allowedValues': [1, 2, 4, 8, 16, 32, 64],\n",
      "                                  'anyValue': True,\n",
      "                                  'defaultValue': 4,\n",
      "                                  'hyperparameter': True,\n",
      "                                  'keyName': 'batch_size',\n",
      "                                  'maxValue': 1024,\n",
      "                                  'minValue': 1,\n",
      "                                  'selectedValues': [4],\n",
      "                                  'valueType': 'int32'},\n",
      "                   'epochs': {'allowedValues': [10,\n",
      "                                                20,\n",
      "                                                30,\n",
      "                                                40,\n",
      "                                                50,\n",
      "                                                60,\n",
      "                                                70,\n",
      "                                                80,\n",
      "                                                90,\n",
      "                                                100,\n",
      "                                                125,\n",
      "                                                150,\n",
      "                                                175,\n",
      "                                                200],\n",
      "                              'anyValue': True,\n",
      "                              'defaultValue': 50,\n",
      "                              'hyperparameter': True,\n",
      "                              'keyName': 'epochs',\n",
      "                              'maxValue': 300,\n",
      "                              'minValue': 5,\n",
      "                              'selectedValues': [50],\n",
      "                              'valueType': 'int32'},\n",
      "                   'learning_rate': {'allowedValues': [1e-05,\n",
      "                                                       0.0001,\n",
      "                                                       0.001,\n",
      "                                                       0.01,\n",
      "                                                       0.02,\n",
      "                                                       0.05,\n",
      "                                                       0.1],\n",
      "                                     'anyValue': True,\n",
      "                                     'defaultValue': 0.001,\n",
      "                                     'hyperparameter': True,\n",
      "                                     'keyName': 'learning_rate',\n",
      "                                     'maxValue': 0.5,\n",
      "                                     'minValue': 1e-05,\n",
      "                                     'selectedValues': [0.001],\n",
      "                                     'valueType': 'float32'},\n",
      "                   'lr_gamma': {'allowedValues': [0.1, 0.2, 0.5, 0.9, 0.95],\n",
      "                                'anyValue': True,\n",
      "                                'defaultValue': 0.1,\n",
      "                                'hyperparameter': True,\n",
      "                                'keyName': 'lr_gamma',\n",
      "                                'maxValue': 1,\n",
      "                                'minValue': 0.01,\n",
      "                                'selectedValues': [0.1],\n",
      "                                'valueType': 'float32'},\n",
      "                   'lr_min': {'allowedValues': [1e-05,\n",
      "                                                0.0001,\n",
      "                                                0.001,\n",
      "                                                0.01,\n",
      "                                                0.1],\n",
      "                              'anyValue': True,\n",
      "                              'defaultValue': 1e-05,\n",
      "                              'hyperparameter': True,\n",
      "                              'keyName': 'lr_min',\n",
      "                              'maxValue': 1,\n",
      "                              'minValue': 1e-05,\n",
      "                              'selectedValues': [1e-05],\n",
      "                              'valueType': 'float32'},\n",
      "                   'lr_scheduler': {'allowedValues': ['CosineAnnealingLR',\n",
      "                                                      'ExponentialLR',\n",
      "                                                      'StepLR'],\n",
      "                                    'anyValue': False,\n",
      "                                    'defaultValue': 'StepLR',\n",
      "                                    'hyperparameter': True,\n",
      "                                    'keyName': 'lr_scheduler',\n",
      "                                    'maxValue': 0,\n",
      "                                    'minValue': 0,\n",
      "                                    'selectedValues': ['StepLR'],\n",
      "                                    'valueType': 'string'},\n",
      "                   'lr_step_size': {'allowedValues': [5, 10, 15, 20, 25],\n",
      "                                    'anyValue': True,\n",
      "                                    'defaultValue': 10,\n",
      "                                    'hyperparameter': True,\n",
      "                                    'keyName': 'lr_step_size',\n",
      "                                    'maxValue': 50,\n",
      "                                    'minValue': 1,\n",
      "                                    'selectedValues': [10],\n",
      "                                    'valueType': 'int32'},\n",
      "                   'min_delta': {'allowedValues': [1e-05,\n",
      "                                                   0.0001,\n",
      "                                                   0.001,\n",
      "                                                   0.01,\n",
      "                                                   0.1],\n",
      "                                 'anyValue': True,\n",
      "                                 'defaultValue': 0.0001,\n",
      "                                 'hyperparameter': True,\n",
      "                                 'keyName': 'min_delta',\n",
      "                                 'maxValue': 1,\n",
      "                                 'minValue': 1e-05,\n",
      "                                 'selectedValues': [0.0001],\n",
      "                                 'valueType': 'float32'},\n",
      "                   'momentum': {'allowedValues': [0.9,\n",
      "                                                  0.91,\n",
      "                                                  0.92,\n",
      "                                                  0.93,\n",
      "                                                  0.94,\n",
      "                                                  0.95,\n",
      "                                                  0.96,\n",
      "                                                  0.97,\n",
      "                                                  0.98,\n",
      "                                                  0.99,\n",
      "                                                  0.995],\n",
      "                                'anyValue': True,\n",
      "                                'defaultValue': 0.95,\n",
      "                                'hyperparameter': True,\n",
      "                                'keyName': 'momentum',\n",
      "                                'maxValue': 0.995,\n",
      "                                'minValue': 0.8,\n",
      "                                'selectedValues': [0.95],\n",
      "                                'valueType': 'float32'},\n",
      "                   'optimizer': {'allowedValues': ['Adam',\n",
      "                                                   'AdamW',\n",
      "                                                   'RMSprop',\n",
      "                                                   'SGD'],\n",
      "                                 'anyValue': False,\n",
      "                                 'defaultValue': 'AdamW',\n",
      "                                 'hyperparameter': True,\n",
      "                                 'keyName': 'optimizer',\n",
      "                                 'maxValue': 0,\n",
      "                                 'minValue': 0,\n",
      "                                 'selectedValues': ['AdamW'],\n",
      "                                 'valueType': 'string'},\n",
      "                   'patience': {'allowedValues': [5, 10, 15, 20, 25],\n",
      "                                'anyValue': True,\n",
      "                                'defaultValue': 5,\n",
      "                                'hyperparameter': True,\n",
      "                                'keyName': 'patience',\n",
      "                                'maxValue': 50,\n",
      "                                'minValue': 1,\n",
      "                                'selectedValues': [5],\n",
      "                                'valueType': 'int32'},\n",
      "                   'weight_decay': {'allowedValues': [0.0001, 0.0002, 0.001],\n",
      "                                    'anyValue': True,\n",
      "                                    'defaultValue': 0.0001,\n",
      "                                    'hyperparameter': True,\n",
      "                                    'keyName': 'weight_decay',\n",
      "                                    'maxValue': 0.1,\n",
      "                                    'minValue': 0,\n",
      "                                    'selectedValues': [0.0001],\n",
      "                                    'valueType': 'float64'}},\n",
      " 'checkpoint_type': 'predefined',\n",
      " 'is_autoML': False,\n",
      " 'model_checkpoint': 'auto',\n",
      " 'model_config': {'batch': [8],\n",
      "                  'batch_size': [4],\n",
      "                  'epochs': [50],\n",
      "                  'learning_rate': [0.001],\n",
      "                  'lr_gamma': [0.1],\n",
      "                  'lr_min': [1e-05],\n",
      "                  'lr_scheduler': ['StepLR'],\n",
      "                  'lr_step_size': [10],\n",
      "                  'min_delta': [0.0001],\n",
      "                  'momentum': [0.95],\n",
      "                  'optimizer': ['AdamW'],\n",
      "                  'patience': [5],\n",
      "                  'weight_decay': [0.0001]},\n",
      " 'tuning_type': 'default'}\n",
      "--------------------------------\n"
     ]
    }
   ],
   "source": [
    "model_config = train_config['model_config']\n",
    "\n",
    "# Modify the model_config as needed\n",
    "# modifications:\n",
    "model_config['batch'] = [8]\n",
    "model_config['epochs'] = [50]\n",
    "\n",
    "\n",
    "\n",
    "# Repass the modified model_config into the train_config\n",
    "train_config['model_config'] = model_config\n",
    "\n",
    "# Print the updated train_config\n",
    "print(\"-----Updated Model Config------\")\n",
    "pprint.pprint(train_config['model_config'])\n",
    "print(\"--------------------------------\")\n",
    "\n",
    "# Print the updated train_config\n",
    "print(\"-----Updated Train Config------\")\n",
    "pprint.pprint(train_config)\n",
    "print(\"--------------------------------\")"
   ]
  },
  {
   "cell_type": "code",
   "execution_count": 32,
   "metadata": {},
   "outputs": [
    {
     "name": "stdout",
     "output_type": "stream",
     "text": [
      "------------Model added for training----------\n",
      "[{'_id': '6728d756388e36b4e54b5acf',\n",
      "  '_idActionStatus': '6728d7561478c8033c87759a',\n",
      "  '_idDataset': '66b34d94ae5a8a699aec688c',\n",
      "  '_idExperiment': '66b35c3da8a2b1aa0504e1f1',\n",
      "  '_idModelFamily': '000000000000000000000000',\n",
      "  '_idModelInfo': '66952b719bbb09931616d51d',\n",
      "  '_idProject': '6728cfef1478c8033c877557',\n",
      "  '_idUser': '667996abc47fb97dea838b35',\n",
      "  'actionConfig': {'batch_size': {'allowedValues': [1, 2, 4, 8, 16, 32, 64],\n",
      "                                  'anyValue': True,\n",
      "                                  'defaultValue': 4,\n",
      "                                  'hyperparameter': True,\n",
      "                                  'keyName': 'batch_size',\n",
      "                                  'maxValue': 1024,\n",
      "                                  'minValue': 1,\n",
      "                                  'selectedValues': [4],\n",
      "                                  'valueType': 'int32'},\n",
      "                   'epochs': {'allowedValues': [10,\n",
      "                                                20,\n",
      "                                                30,\n",
      "                                                40,\n",
      "                                                50,\n",
      "                                                60,\n",
      "                                                70,\n",
      "                                                80,\n",
      "                                                90,\n",
      "                                                100,\n",
      "                                                125,\n",
      "                                                150,\n",
      "                                                175,\n",
      "                                                200],\n",
      "                              'anyValue': True,\n",
      "                              'defaultValue': 50,\n",
      "                              'hyperparameter': True,\n",
      "                              'keyName': 'epochs',\n",
      "                              'maxValue': 300,\n",
      "                              'minValue': 5,\n",
      "                              'selectedValues': [50],\n",
      "                              'valueType': 'int32'},\n",
      "                   'learning_rate': {'allowedValues': [1e-05,\n",
      "                                                       0.0001,\n",
      "                                                       0.001,\n",
      "                                                       0.01,\n",
      "                                                       0.02,\n",
      "                                                       0.05,\n",
      "                                                       0.1],\n",
      "                                     'anyValue': True,\n",
      "                                     'defaultValue': 0.001,\n",
      "                                     'hyperparameter': True,\n",
      "                                     'keyName': 'learning_rate',\n",
      "                                     'maxValue': 0.5,\n",
      "                                     'minValue': 1e-05,\n",
      "                                     'selectedValues': [0.001],\n",
      "                                     'valueType': 'float32'},\n",
      "                   'lr_gamma': {'allowedValues': [0.1, 0.2, 0.5, 0.9, 0.95],\n",
      "                                'anyValue': True,\n",
      "                                'defaultValue': 0.1,\n",
      "                                'hyperparameter': True,\n",
      "                                'keyName': 'lr_gamma',\n",
      "                                'maxValue': 1,\n",
      "                                'minValue': 0.01,\n",
      "                                'selectedValues': [0.1],\n",
      "                                'valueType': 'float32'},\n",
      "                   'lr_min': {'allowedValues': [1e-05,\n",
      "                                                0.0001,\n",
      "                                                0.001,\n",
      "                                                0.01,\n",
      "                                                0.1],\n",
      "                              'anyValue': True,\n",
      "                              'defaultValue': 1e-05,\n",
      "                              'hyperparameter': True,\n",
      "                              'keyName': 'lr_min',\n",
      "                              'maxValue': 1,\n",
      "                              'minValue': 1e-05,\n",
      "                              'selectedValues': [1e-05],\n",
      "                              'valueType': 'float32'},\n",
      "                   'lr_scheduler': {'allowedValues': ['CosineAnnealingLR',\n",
      "                                                      'ExponentialLR',\n",
      "                                                      'StepLR'],\n",
      "                                    'anyValue': False,\n",
      "                                    'defaultValue': 'StepLR',\n",
      "                                    'hyperparameter': True,\n",
      "                                    'keyName': 'lr_scheduler',\n",
      "                                    'maxValue': 0,\n",
      "                                    'minValue': 0,\n",
      "                                    'selectedValues': ['StepLR'],\n",
      "                                    'valueType': 'string'},\n",
      "                   'lr_step_size': {'allowedValues': [5, 10, 15, 20, 25],\n",
      "                                    'anyValue': True,\n",
      "                                    'defaultValue': 10,\n",
      "                                    'hyperparameter': True,\n",
      "                                    'keyName': 'lr_step_size',\n",
      "                                    'maxValue': 50,\n",
      "                                    'minValue': 1,\n",
      "                                    'selectedValues': [10],\n",
      "                                    'valueType': 'int32'},\n",
      "                   'min_delta': {'allowedValues': [1e-05,\n",
      "                                                   0.0001,\n",
      "                                                   0.001,\n",
      "                                                   0.01,\n",
      "                                                   0.1],\n",
      "                                 'anyValue': True,\n",
      "                                 'defaultValue': 0.0001,\n",
      "                                 'hyperparameter': True,\n",
      "                                 'keyName': 'min_delta',\n",
      "                                 'maxValue': 1,\n",
      "                                 'minValue': 1e-05,\n",
      "                                 'selectedValues': [0.0001],\n",
      "                                 'valueType': 'float32'},\n",
      "                   'momentum': {'allowedValues': [0.9,\n",
      "                                                  0.91,\n",
      "                                                  0.92,\n",
      "                                                  0.93,\n",
      "                                                  0.94,\n",
      "                                                  0.95,\n",
      "                                                  0.96,\n",
      "                                                  0.97,\n",
      "                                                  0.98,\n",
      "                                                  0.99,\n",
      "                                                  0.995],\n",
      "                                'anyValue': True,\n",
      "                                'defaultValue': 0.95,\n",
      "                                'hyperparameter': True,\n",
      "                                'keyName': 'momentum',\n",
      "                                'maxValue': 0.995,\n",
      "                                'minValue': 0.8,\n",
      "                                'selectedValues': [0.95],\n",
      "                                'valueType': 'float32'},\n",
      "                   'optimizer': {'allowedValues': ['Adam',\n",
      "                                                   'AdamW',\n",
      "                                                   'RMSprop',\n",
      "                                                   'SGD'],\n",
      "                                 'anyValue': False,\n",
      "                                 'defaultValue': 'AdamW',\n",
      "                                 'hyperparameter': True,\n",
      "                                 'keyName': 'optimizer',\n",
      "                                 'maxValue': 0,\n",
      "                                 'minValue': 0,\n",
      "                                 'selectedValues': ['AdamW'],\n",
      "                                 'valueType': 'string'},\n",
      "                   'patience': {'allowedValues': [5, 10, 15, 20, 25],\n",
      "                                'anyValue': True,\n",
      "                                'defaultValue': 5,\n",
      "                                'hyperparameter': True,\n",
      "                                'keyName': 'patience',\n",
      "                                'maxValue': 50,\n",
      "                                'minValue': 1,\n",
      "                                'selectedValues': [5],\n",
      "                                'valueType': 'int32'},\n",
      "                   'weight_decay': {'allowedValues': [0.0001, 0.0002, 0.001],\n",
      "                                    'anyValue': True,\n",
      "                                    'defaultValue': 0.0001,\n",
      "                                    'hyperparameter': True,\n",
      "                                    'keyName': 'weight_decay',\n",
      "                                    'maxValue': 0.1,\n",
      "                                    'minValue': 0,\n",
      "                                    'selectedValues': [0.0001],\n",
      "                                    'valueType': 'float64'}},\n",
      "  'autoML': False,\n",
      "  'bestEpoch': -1,\n",
      "  'checkpointType': 'predefined',\n",
      "  'cloudPath': '',\n",
      "  'createdAt': '2024-11-04T14:16:54.346161054Z',\n",
      "  'datasetName': 'tumor_classification_dataset_3',\n",
      "  'datasetVersion': 'v1.0',\n",
      "  'indexToCat': {},\n",
      "  'modelCheckpoint': 'auto',\n",
      "  'modelConfig': {'_idDataset': '66b34d94ae5a8a699aec688c',\n",
      "                  'batch': 8,\n",
      "                  'batch_size': 4,\n",
      "                  'dataset_version': 'v1.0',\n",
      "                  'docker': '285699223019.dkr.ecr.us-west-2.amazonaws.com/pytorch-vision-imagenet:dev',\n",
      "                  'epochs': 50,\n",
      "                  'learning_rate': 0.001,\n",
      "                  'lr_gamma': 0.1,\n",
      "                  'lr_min': 1e-05,\n",
      "                  'lr_scheduler': 'StepLR',\n",
      "                  'lr_step_size': 10,\n",
      "                  'min_delta': 0.0001,\n",
      "                  'model_inputs': ['image'],\n",
      "                  'model_key': 'resnet50',\n",
      "                  'model_name': 'ResNet-50',\n",
      "                  'model_outputs': ['classification'],\n",
      "                  'momentum': 0.95,\n",
      "                  'optimizer': 'AdamW',\n",
      "                  'patience': 5,\n",
      "                  'primary_metric': 'precision',\n",
      "                  'target_runtime': ['ONNX'],\n",
      "                  'weight_decay': 0.0001},\n",
      "  'modelConfigHash': 'c5fa3ddef7fa4df1caf558d9a5869094819db231ee619c5737e262556f632fbc',\n",
      "  'modelInputs': ['image'],\n",
      "  'modelKey': 'resnet50',\n",
      "  'modelName': 'ResNet-50',\n",
      "  'modelOutputs': ['classification'],\n",
      "  'modelTrainName': 'Tumor-Classification-Experiment-1',\n",
      "  'paramsMillions': 23.9,\n",
      "  'primaryMetric': 'precision',\n",
      "  'status': 'queued',\n",
      "  'targetRuntime': ['ONNX'],\n",
      "  'testScore': 0,\n",
      "  'testSplitResult': [],\n",
      "  'trainingFramework': 'PyTorch',\n",
      "  'tuningType': 'default',\n",
      "  'updatedAt': '2024-11-04T14:16:54.346162504Z',\n",
      "  'valScore': 0,\n",
      "  'valSplitResult': []}]\n"
     ]
    }
   ],
   "source": [
    "train_resp , msg , err = experiment_instance.add_models_for_training(train_instance,train_config)\n",
    "print(\"------------Model added for training----------\")\n",
    "pprint.pprint(train_resp)"
   ]
  },
  {
   "cell_type": "code",
   "execution_count": null,
   "metadata": {},
   "outputs": [
    {
     "name": "stdout",
     "output_type": "stream",
     "text": [
      "---------------------\n",
      "Action ID: 6728c5601478c8033c877525\n",
      "Current Status: OK\n",
      "Step Code: MDL_TRN_STRT\n",
      "Action service is : be-model\n",
      "---------------------\n",
      "Model is training. Waiting 10 minutes before checking again.\n"
     ]
    }
   ],
   "source": [
    "import time\n",
    "from matrice.action import Action\n",
    "\n",
    "# Define the action ID and the status you want to check\n",
    "action_id = train_resp[0]['_idActionStatus']\n",
    "success_status = 'SUCCESS'\n",
    "\n",
    "# Function to check the status of the action\n",
    "def check_action_status(S, action_id):\n",
    "    action_instance = Action(S, action_id)\n",
    "    print(\"---------------------\")\n",
    "    print(f\"Action ID: {action_id}\")\n",
    "    print(f\"Current Status: {action_instance.status}\")\n",
    "    print(f\"Step Code: {action_instance.step_code}\")\n",
    "    print(f\"Action service is : {action_instance.service_name}\")\n",
    "    print(\"---------------------\")\n",
    "    return action_instance.status\n",
    "\n",
    "# Loop to check status every 2 minutes until it is 'success'\n",
    "while True:\n",
    "    status = check_action_status(session_instance, action_id)\n",
    "    if status == success_status:\n",
    "        print(\"Action status is 'success'. Model is successfully trained.\")\n",
    "        break\n",
    "    else:\n",
    "        print(\"Model is training. Waiting 10 minutes before checking again.\")\n",
    "        time.sleep(400)  # Wait for 10 minutes (600 seconds)\n"
   ]
  },
  {
   "cell_type": "code",
   "execution_count": null,
   "metadata": {},
   "outputs": [],
   "source": [
    "model_id = train_resp[0]['_id']\n",
    "print(f\"Model ID from response data: {model_id}\")\n",
    "    \n",
    "\n",
    "# Initialize the Model class with the model_id\n",
    "model_instance = Model(session_instance, model_id)\n",
    "print(\"A Model instance has been initialized : \", model_instance)"
   ]
  },
  {
   "cell_type": "code",
   "execution_count": null,
   "metadata": {},
   "outputs": [],
   "source": [
    "# Print the test score, validation score, and best epoch\n",
    "print(f\"Test Score: {model_instance.test_score}\")\n",
    "print(f\"Validation Score: {model_instance.val_score}\")\n",
    "print(f\"Best Epoch: {model_instance.best_epoch}\")"
   ]
  },
  {
   "cell_type": "code",
   "execution_count": null,
   "metadata": {},
   "outputs": [],
   "source": [
    "Vars.set(\"model_train_id\", model_instance.model_id)\n",
    "Vars.set(\"model_train_name\", model_instance.model_train_name)"
   ]
  },
  {
   "cell_type": "code",
   "execution_count": null,
   "metadata": {},
   "outputs": [],
   "source": [
    "model_instance.plot_epochs_losses()"
   ]
  },
  {
   "cell_type": "code",
   "execution_count": null,
   "metadata": {},
   "outputs": [],
   "source": [
    "model_instance.plot_epochs_metrics()"
   ]
  },
  {
   "cell_type": "code",
   "execution_count": null,
   "metadata": {},
   "outputs": [],
   "source": [
    "model_instance.plot_eval_results()"
   ]
  },
  {
   "cell_type": "code",
   "execution_count": null,
   "metadata": {},
   "outputs": [],
   "source": [
    "import os\n",
    "import random\n",
    "import requests\n",
    "from PIL import Image\n",
    "import matplotlib.pyplot as plt\n",
    "import matplotlib.patches as patches\n",
    "\n",
    "\n",
    "# Define the folder path containing the images\n",
    "folder_path = r\"C:\\Users\\pathi\\OneDrive\\Desktop\\matriceai\\matrice_usecases_local\\datasets\\test\"\n",
    "\n",
    "\n",
    "# Get a list of all image files in the folder\n",
    "image_files = [os.path.join(folder_path, f) for f in os.listdir(folder_path) if f.endswith(('.jpg', '.jpeg', '.png'))]\n",
    "\n",
    "# Randomly select 10 images from the folder\n",
    "random_images = random.sample(image_files, 2)\n",
    "\n",
    "print(random_images)\n",
    "# Loop through the selected images and make predictions\n",
    "for image_file in random_images:\n",
    "    # Get the prediction results from the model\n",
    "    result, error, _ = model_instance.get_prediction(image_file)\n",
    "    print(result)\n",
    "    if error:\n",
    "        print(f\"Error: {error}\")\n",
    "        continue\n",
    "    \n",
    "    # Extract the predicted class label and confidence\n",
    "    predicted_class = result[\"category\"]\n",
    "    confidence = result[\"confidence\"]\n",
    "    \n",
    "    # Open the image\n",
    "    image = Image.open(image_file)\n",
    "    \n",
    "    # Create a matplotlib figure and axis\n",
    "    plt.figure(figsize=(10, 10))\n",
    "    fig, ax = plt.subplots(1)\n",
    "    \n",
    "    # Display the image\n",
    "    ax.imshow(image)\n",
    "    \n",
    "    # Add the predicted class label and confidence to the image\n",
    "    plt.text(10, 10, f\"{predicted_class} ({confidence:.2f})\", bbox=dict(facecolor='yellow', alpha=0.5))\n",
    "    \n",
    "    # Display the image with the annotation\n",
    "    plt.show()\n"
   ]
  },
  {
   "cell_type": "code",
   "execution_count": null,
   "metadata": {},
   "outputs": [],
   "source": [
    "model_instance.download_model(file_name=\"model.pt\")"
   ]
  },
  {
   "cell_type": "code",
   "execution_count": null,
   "metadata": {},
   "outputs": [],
   "source": [
    "export_config = train_instance.get_default_export_config(\"ONNX\") # Get the default export config for export format user wants (here ONNX)\n",
    "print(\"Export Config for ONNX:\")\n",
    "pprint.pprint(export_config)"
   ]
  },
  {
   "cell_type": "code",
   "execution_count": null,
   "metadata": {},
   "outputs": [],
   "source": [
    "exported_instance , action_instance = project_instance.create_model_export(model_id,\"ONNX\",export_config)\n",
    "\n",
    "print(\"Model Export class has been initialized :\", exported_instance )   \n",
    "print(\"----------------------------\")\n",
    "print(f\"Export ID: {exported_instance.model_export_id}\")\n",
    "print(f\"Export Name: {exported_instance.model_export_name}\")\n",
    "print(f\"Action ID: {action_instance.action_id}\")\n",
    "print(f\"Action Status: {action_instance.status}\")\n",
    "print(\"----------------------------\")"
   ]
  },
  {
   "cell_type": "code",
   "execution_count": null,
   "metadata": {},
   "outputs": [],
   "source": [
    "Vars.set(\"model_export_id\", exported_instance.model_export_id)\n",
    "Vars.set(\"model_export_name\", exported_instance.model_export_name)"
   ]
  },
  {
   "cell_type": "code",
   "execution_count": null,
   "metadata": {},
   "outputs": [],
   "source": [
    "import time\n",
    "from matrice.action import Action\n",
    "\n",
    "# Define the action ID and the status you want to check\n",
    "action_id = action_instance.action_id\n",
    "success_status = 'SUCCESS'\n",
    "\n",
    "# Function to check the status of the action\n",
    "def check_action_status(S, action_id):\n",
    "    A = Action(S, action_id)\n",
    "    print(\"---------------------\")\n",
    "    print(f\"Action ID: {action_id}\")\n",
    "    print(f\"Current Status: {A.status}\")\n",
    "    print(f\"Step Code: {A.step_code}\")\n",
    "    print(f\"Action service is : {A.service_name}\")\n",
    "    print(\"---------------------\")\n",
    "    return A.status\n",
    "\n",
    "# Loop to check status every 1.5 minutes until it is 'success'\n",
    "while True:\n",
    "    status = check_action_status(session_instance, action_id)\n",
    "    if status == success_status:\n",
    "        print(\"Action status is 'success'. Model is successfully exported.\")\n",
    "        break\n",
    "    else:\n",
    "        print(\"Model is exporting. Waiting 2 minutes before checking again.\")\n",
    "        time.sleep(90)  # Wait for 1.5 minutes (90 seconds)\n"
   ]
  },
  {
   "cell_type": "code",
   "execution_count": null,
   "metadata": {},
   "outputs": [],
   "source": [
    "exported_instance.download_model(file_name=\"model.onnx\")"
   ]
  },
  {
   "cell_type": "code",
   "execution_count": null,
   "metadata": {},
   "outputs": [],
   "source": [
    "deployment , deployment_action = project_instance.create_deployment(\n",
    "    model_id = Vars.get('model_export_id'),  # It can also be model_train_id depending on the model you want to deploy\n",
    "    deployment_name = \"deployment_name\",\n",
    "    shutdown_threshold=20\n",
    ")"
   ]
  },
  {
   "cell_type": "code",
   "execution_count": null,
   "metadata": {},
   "outputs": [],
   "source": [
    "key_resp = deployment.create_auth_key()\n",
    "auth_key = key_resp['key']"
   ]
  },
  {
   "cell_type": "code",
   "execution_count": null,
   "metadata": {},
   "outputs": [],
   "source": [
    "Vars.set(\"deployment_id\", deployment.deployment_id)\n",
    "Vars.set(\"deployment_name\", deployment.deployment_name)\n",
    "Vars.set(\"auth_key\", auth_key)"
   ]
  },
  {
   "cell_type": "code",
   "execution_count": null,
   "metadata": {},
   "outputs": [],
   "source": [
    "import os\n",
    "import random\n",
    "import requests\n",
    "from PIL import Image\n",
    "import matplotlib.pyplot as plt\n",
    "import matplotlib.patches as patches\n",
    "\n",
    "\n",
    "# Define the folder path containing the images\n",
    "folder_path = r\"<path_to_test_folder>\"\n",
    "\n",
    "\n",
    "# Get a list of all image files in the folder\n",
    "image_files = [os.path.join(folder_path, f) for f in os.listdir(folder_path) if f.endswith(('.jpg', '.jpeg', '.png'))]\n",
    "\n",
    "# Randomly select 10 images from the folder\n",
    "random_images = random.sample(image_files, 10)\n",
    "\n",
    "\n",
    "# Loop through the selected images and send the prediction request\n",
    "for image_file in random_images:\n",
    "    \n",
    "    result, error, message = deployment.get_prediction(auth_key,image_file)\n",
    "\n",
    "    if error:\n",
    "        print(f\"Error: {error}\")\n",
    "        continue\n",
    "\n",
    "    # Extract prediction data from the result\n",
    "    predictions = result\n",
    "\n",
    "    # Open the image\n",
    "    image = Image.open(image_file)\n",
    "    plt.figure(figsize=(10, 10))\n",
    "    fig, ax = plt.subplots(1)\n",
    "    ax.imshow(image)\n",
    "\n",
    "    # Draw bounding boxes and labels\n",
    "    for prediction in predictions:\n",
    "        category = prediction[\"category\"]\n",
    "        confidence = prediction[\"confidence\"]\n",
    "        bbox = prediction[\"bounding_box\"]\n",
    "\n",
    "        # Extract the bounding box coordinates\n",
    "        xmin, ymin, xmax, ymax = bbox[\"xmin\"], bbox[\"ymin\"], bbox[\"xmax\"], bbox[\"ymax\"]\n",
    "        width, height = xmax - xmin, ymax - ymin\n",
    "\n",
    "        # Create a Rectangle patch\n",
    "        rect = plt.Rectangle((xmin, ymin), width, height, linewidth=2, edgecolor='r', facecolor='none')\n",
    "        ax.add_patch(rect)\n",
    "        plt.text(xmin, ymin, f\"{category} ({confidence:.2f})\", bbox=dict(facecolor='yellow', alpha=0.5))\n",
    "\n",
    "    plt.show()\n"
   ]
  }
 ],
 "metadata": {
  "kernelspec": {
   "display_name": "base",
   "language": "python",
   "name": "python3"
  },
  "language_info": {
   "codemirror_mode": {
    "name": "ipython",
    "version": 3
   },
   "file_extension": ".py",
   "mimetype": "text/x-python",
   "name": "python",
   "nbconvert_exporter": "python",
   "pygments_lexer": "ipython3",
   "version": "3.11.5"
  }
 },
 "nbformat": 4,
 "nbformat_minor": 2
}
